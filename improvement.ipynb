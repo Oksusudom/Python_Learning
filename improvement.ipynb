{
  "nbformat": 4,
  "nbformat_minor": 0,
  "metadata": {
    "colab": {
      "provenance": [],
      "include_colab_link": true
    },
    "kernelspec": {
      "name": "python3",
      "display_name": "Python 3"
    },
    "language_info": {
      "name": "python"
    }
  },
  "cells": [
    {
      "cell_type": "markdown",
      "metadata": {
        "id": "view-in-github",
        "colab_type": "text"
      },
      "source": [
        "<a href=\"https://colab.research.google.com/github/oksusudom/ML-Creadit-Card-Lead-Prediction/blob/main/improvement.ipynb\" target=\"_parent\"><img src=\"https://colab.research.google.com/assets/colab-badge.svg\" alt=\"Open In Colab\"/></a>"
      ]
    },
    {
      "cell_type": "code",
      "execution_count": 1,
      "metadata": {
        "colab": {
          "base_uri": "https://localhost:8080/"
        },
        "id": "eY58LA4bpnEq",
        "outputId": "146942ea-9486-4512-f9fb-9d7355d4fda4"
      },
      "outputs": [
        {
          "output_type": "stream",
          "name": "stdout",
          "text": [
            "Mounted at /content/drive\n"
          ]
        }
      ],
      "source": [
        "from google.colab import drive\n",
        "drive.mount('/content/drive')"
      ]
    },
    {
      "cell_type": "markdown",
      "source": [
        "# 0. 필요한 패키지 불러오기\n"
      ],
      "metadata": {
        "id": "GKYmYBqg0l4d"
      }
    },
    {
      "cell_type": "code",
      "source": [
        "!pip install category_encoders"
      ],
      "metadata": {
        "id": "2ueNaDyg2uJC",
        "colab": {
          "base_uri": "https://localhost:8080/"
        },
        "outputId": "9cc4a6ac-c097-45de-c848-b5e01a85e9ef"
      },
      "execution_count": 2,
      "outputs": [
        {
          "output_type": "stream",
          "name": "stdout",
          "text": [
            "Looking in indexes: https://pypi.org/simple, https://us-python.pkg.dev/colab-wheels/public/simple/\n",
            "Collecting category_encoders\n",
            "  Downloading category_encoders-2.6.0-py2.py3-none-any.whl (81 kB)\n",
            "\u001b[?25l     \u001b[90m━━━━━━━━━━━━━━━━━━━━━━━━━━━━━━━━━━━━━━━━\u001b[0m \u001b[32m0.0/81.2 KB\u001b[0m \u001b[31m?\u001b[0m eta \u001b[36m-:--:--\u001b[0m\r\u001b[2K     \u001b[90m━━━━━━━━━━━━━━━━━━━━━━━━━━━━━━━━━━━━━━━━\u001b[0m \u001b[32m81.2/81.2 KB\u001b[0m \u001b[31m3.3 MB/s\u001b[0m eta \u001b[36m0:00:00\u001b[0m\n",
            "\u001b[?25hRequirement already satisfied: numpy>=1.14.0 in /usr/local/lib/python3.8/dist-packages (from category_encoders) (1.22.4)\n",
            "Requirement already satisfied: scikit-learn>=0.20.0 in /usr/local/lib/python3.8/dist-packages (from category_encoders) (1.0.2)\n",
            "Requirement already satisfied: statsmodels>=0.9.0 in /usr/local/lib/python3.8/dist-packages (from category_encoders) (0.12.2)\n",
            "Requirement already satisfied: scipy>=1.0.0 in /usr/local/lib/python3.8/dist-packages (from category_encoders) (1.7.3)\n",
            "Requirement already satisfied: patsy>=0.5.1 in /usr/local/lib/python3.8/dist-packages (from category_encoders) (0.5.3)\n",
            "Requirement already satisfied: pandas>=1.0.5 in /usr/local/lib/python3.8/dist-packages (from category_encoders) (1.3.5)\n",
            "Requirement already satisfied: pytz>=2017.3 in /usr/local/lib/python3.8/dist-packages (from pandas>=1.0.5->category_encoders) (2022.7.1)\n",
            "Requirement already satisfied: python-dateutil>=2.7.3 in /usr/local/lib/python3.8/dist-packages (from pandas>=1.0.5->category_encoders) (2.8.2)\n",
            "Requirement already satisfied: six in /usr/local/lib/python3.8/dist-packages (from patsy>=0.5.1->category_encoders) (1.15.0)\n",
            "Requirement already satisfied: threadpoolctl>=2.0.0 in /usr/local/lib/python3.8/dist-packages (from scikit-learn>=0.20.0->category_encoders) (3.1.0)\n",
            "Requirement already satisfied: joblib>=0.11 in /usr/local/lib/python3.8/dist-packages (from scikit-learn>=0.20.0->category_encoders) (1.2.0)\n",
            "Installing collected packages: category_encoders\n",
            "Successfully installed category_encoders-2.6.0\n"
          ]
        }
      ]
    },
    {
      "cell_type": "code",
      "source": [
        "import pandas as pd\n",
        "import numpy as np\n",
        "import seaborn as sns\n",
        "import matplotlib.pyplot as plt\n",
        "from scipy import stats\n",
        "from matplotlib import rcParams\n",
        "\n",
        "from sklearn.model_selection import train_test_split\n",
        "from sklearn.metrics import f1_score, accuracy_score, classification_report, roc_auc_score\n",
        "from category_encoders import OneHotEncoder\n",
        "from sklearn.preprocessing import StandardScaler\n",
        "from sklearn.linear_model import LogisticRegression\n",
        "from sklearn.ensemble import RandomForestClassifier\n",
        "from sklearn.tree import DecisionTreeClassifier\n",
        "from xgboost import XGBClassifier\n",
        "from sklearn.impute import SimpleImputer \n",
        "from sklearn.pipeline import make_pipeline\n",
        "\n",
        "from collections import Counter\n",
        "import warnings\n",
        "warnings.filterwarnings('ignore')"
      ],
      "metadata": {
        "id": "yIKHboalqFt2"
      },
      "execution_count": 1,
      "outputs": []
    },
    {
      "cell_type": "code",
      "source": [
        "# visualization options\n",
        "\n",
        "rcParams[\"figure.figsize\"] = (10,6)\n",
        "rcParams['font.family'] = 'monospace'\n",
        "rcParams['font.style'] = 'normal'\n",
        "rcParams['axes.grid'] = True\n",
        "rcParams['axes.axisbelow'] = True\n",
        "rcParams['grid.linestyle'] = ':'\n",
        "rcParams['grid.linewidth'] = 0.2\n",
        "\n",
        "sns.set_context('poster', font_scale=0.5)"
      ],
      "metadata": {
        "id": "qOZTuHwbejkX"
      },
      "execution_count": 2,
      "outputs": []
    },
    {
      "cell_type": "markdown",
      "source": [
        "# 1. 데이터 불러오기"
      ],
      "metadata": {
        "id": "WaG7Pxq80vPa"
      }
    },
    {
      "cell_type": "code",
      "source": [
        "train_df = pd.read_csv('/content/drive/MyDrive/URCLASS/Section2_Project/credit card/train.csv')\n",
        "test_df = pd.read_csv('/content/drive/MyDrive/URCLASS/Section2_Project/credit card/test.csv')"
      ],
      "metadata": {
        "id": "B0bX1uH_0sBB"
      },
      "execution_count": 3,
      "outputs": []
    },
    {
      "cell_type": "code",
      "source": [
        "train_df"
      ],
      "metadata": {
        "id": "AJbbWDXRrM9W",
        "colab": {
          "base_uri": "https://localhost:8080/",
          "height": 424
        },
        "outputId": "bf3452d6-22d4-44b7-a46d-85446f2c49ca"
      },
      "execution_count": 4,
      "outputs": [
        {
          "output_type": "execute_result",
          "data": {
            "text/plain": [
              "              ID  Gender  Age Region_Code     Occupation Channel_Code  \\\n",
              "0       NNVBBKZB  Female   73       RG268          Other           X3   \n",
              "1       IDD62UNG  Female   30       RG277       Salaried           X1   \n",
              "2       HD3DSEMC  Female   56       RG268  Self_Employed           X3   \n",
              "3       BF3NC7KV    Male   34       RG270       Salaried           X1   \n",
              "4       TEASRWXV  Female   30       RG282       Salaried           X1   \n",
              "...          ...     ...  ...         ...            ...          ...   \n",
              "245720  BPAWWXZN    Male   51       RG284  Self_Employed           X3   \n",
              "245721  HFNB7JY8    Male   27       RG268       Salaried           X1   \n",
              "245722  GEHAUCWT  Female   26       RG281       Salaried           X1   \n",
              "245723  GE7V8SAH  Female   28       RG273       Salaried           X1   \n",
              "245724  BOCZSWLJ    Male   29       RG269       Salaried           X1   \n",
              "\n",
              "        Vintage Credit_Product  Avg_Account_Balance Is_Active  Is_Lead  \n",
              "0            43             No              1045696        No        0  \n",
              "1            32             No               581988        No        0  \n",
              "2            26             No              1484315       Yes        0  \n",
              "3            19             No               470454        No        0  \n",
              "4            33             No               886787        No        0  \n",
              "...         ...            ...                  ...       ...      ...  \n",
              "245720      109            NaN              1925586        No        0  \n",
              "245721       15             No               862952       Yes        0  \n",
              "245722       13             No               670659        No        0  \n",
              "245723       31             No               407504        No        0  \n",
              "245724       21             No              1129276        No        0  \n",
              "\n",
              "[245725 rows x 11 columns]"
            ],
            "text/html": [
              "\n",
              "  <div id=\"df-6b8d1bc0-1fe1-4b42-a988-bf216da56fe6\">\n",
              "    <div class=\"colab-df-container\">\n",
              "      <div>\n",
              "<style scoped>\n",
              "    .dataframe tbody tr th:only-of-type {\n",
              "        vertical-align: middle;\n",
              "    }\n",
              "\n",
              "    .dataframe tbody tr th {\n",
              "        vertical-align: top;\n",
              "    }\n",
              "\n",
              "    .dataframe thead th {\n",
              "        text-align: right;\n",
              "    }\n",
              "</style>\n",
              "<table border=\"1\" class=\"dataframe\">\n",
              "  <thead>\n",
              "    <tr style=\"text-align: right;\">\n",
              "      <th></th>\n",
              "      <th>ID</th>\n",
              "      <th>Gender</th>\n",
              "      <th>Age</th>\n",
              "      <th>Region_Code</th>\n",
              "      <th>Occupation</th>\n",
              "      <th>Channel_Code</th>\n",
              "      <th>Vintage</th>\n",
              "      <th>Credit_Product</th>\n",
              "      <th>Avg_Account_Balance</th>\n",
              "      <th>Is_Active</th>\n",
              "      <th>Is_Lead</th>\n",
              "    </tr>\n",
              "  </thead>\n",
              "  <tbody>\n",
              "    <tr>\n",
              "      <th>0</th>\n",
              "      <td>NNVBBKZB</td>\n",
              "      <td>Female</td>\n",
              "      <td>73</td>\n",
              "      <td>RG268</td>\n",
              "      <td>Other</td>\n",
              "      <td>X3</td>\n",
              "      <td>43</td>\n",
              "      <td>No</td>\n",
              "      <td>1045696</td>\n",
              "      <td>No</td>\n",
              "      <td>0</td>\n",
              "    </tr>\n",
              "    <tr>\n",
              "      <th>1</th>\n",
              "      <td>IDD62UNG</td>\n",
              "      <td>Female</td>\n",
              "      <td>30</td>\n",
              "      <td>RG277</td>\n",
              "      <td>Salaried</td>\n",
              "      <td>X1</td>\n",
              "      <td>32</td>\n",
              "      <td>No</td>\n",
              "      <td>581988</td>\n",
              "      <td>No</td>\n",
              "      <td>0</td>\n",
              "    </tr>\n",
              "    <tr>\n",
              "      <th>2</th>\n",
              "      <td>HD3DSEMC</td>\n",
              "      <td>Female</td>\n",
              "      <td>56</td>\n",
              "      <td>RG268</td>\n",
              "      <td>Self_Employed</td>\n",
              "      <td>X3</td>\n",
              "      <td>26</td>\n",
              "      <td>No</td>\n",
              "      <td>1484315</td>\n",
              "      <td>Yes</td>\n",
              "      <td>0</td>\n",
              "    </tr>\n",
              "    <tr>\n",
              "      <th>3</th>\n",
              "      <td>BF3NC7KV</td>\n",
              "      <td>Male</td>\n",
              "      <td>34</td>\n",
              "      <td>RG270</td>\n",
              "      <td>Salaried</td>\n",
              "      <td>X1</td>\n",
              "      <td>19</td>\n",
              "      <td>No</td>\n",
              "      <td>470454</td>\n",
              "      <td>No</td>\n",
              "      <td>0</td>\n",
              "    </tr>\n",
              "    <tr>\n",
              "      <th>4</th>\n",
              "      <td>TEASRWXV</td>\n",
              "      <td>Female</td>\n",
              "      <td>30</td>\n",
              "      <td>RG282</td>\n",
              "      <td>Salaried</td>\n",
              "      <td>X1</td>\n",
              "      <td>33</td>\n",
              "      <td>No</td>\n",
              "      <td>886787</td>\n",
              "      <td>No</td>\n",
              "      <td>0</td>\n",
              "    </tr>\n",
              "    <tr>\n",
              "      <th>...</th>\n",
              "      <td>...</td>\n",
              "      <td>...</td>\n",
              "      <td>...</td>\n",
              "      <td>...</td>\n",
              "      <td>...</td>\n",
              "      <td>...</td>\n",
              "      <td>...</td>\n",
              "      <td>...</td>\n",
              "      <td>...</td>\n",
              "      <td>...</td>\n",
              "      <td>...</td>\n",
              "    </tr>\n",
              "    <tr>\n",
              "      <th>245720</th>\n",
              "      <td>BPAWWXZN</td>\n",
              "      <td>Male</td>\n",
              "      <td>51</td>\n",
              "      <td>RG284</td>\n",
              "      <td>Self_Employed</td>\n",
              "      <td>X3</td>\n",
              "      <td>109</td>\n",
              "      <td>NaN</td>\n",
              "      <td>1925586</td>\n",
              "      <td>No</td>\n",
              "      <td>0</td>\n",
              "    </tr>\n",
              "    <tr>\n",
              "      <th>245721</th>\n",
              "      <td>HFNB7JY8</td>\n",
              "      <td>Male</td>\n",
              "      <td>27</td>\n",
              "      <td>RG268</td>\n",
              "      <td>Salaried</td>\n",
              "      <td>X1</td>\n",
              "      <td>15</td>\n",
              "      <td>No</td>\n",
              "      <td>862952</td>\n",
              "      <td>Yes</td>\n",
              "      <td>0</td>\n",
              "    </tr>\n",
              "    <tr>\n",
              "      <th>245722</th>\n",
              "      <td>GEHAUCWT</td>\n",
              "      <td>Female</td>\n",
              "      <td>26</td>\n",
              "      <td>RG281</td>\n",
              "      <td>Salaried</td>\n",
              "      <td>X1</td>\n",
              "      <td>13</td>\n",
              "      <td>No</td>\n",
              "      <td>670659</td>\n",
              "      <td>No</td>\n",
              "      <td>0</td>\n",
              "    </tr>\n",
              "    <tr>\n",
              "      <th>245723</th>\n",
              "      <td>GE7V8SAH</td>\n",
              "      <td>Female</td>\n",
              "      <td>28</td>\n",
              "      <td>RG273</td>\n",
              "      <td>Salaried</td>\n",
              "      <td>X1</td>\n",
              "      <td>31</td>\n",
              "      <td>No</td>\n",
              "      <td>407504</td>\n",
              "      <td>No</td>\n",
              "      <td>0</td>\n",
              "    </tr>\n",
              "    <tr>\n",
              "      <th>245724</th>\n",
              "      <td>BOCZSWLJ</td>\n",
              "      <td>Male</td>\n",
              "      <td>29</td>\n",
              "      <td>RG269</td>\n",
              "      <td>Salaried</td>\n",
              "      <td>X1</td>\n",
              "      <td>21</td>\n",
              "      <td>No</td>\n",
              "      <td>1129276</td>\n",
              "      <td>No</td>\n",
              "      <td>0</td>\n",
              "    </tr>\n",
              "  </tbody>\n",
              "</table>\n",
              "<p>245725 rows × 11 columns</p>\n",
              "</div>\n",
              "      <button class=\"colab-df-convert\" onclick=\"convertToInteractive('df-6b8d1bc0-1fe1-4b42-a988-bf216da56fe6')\"\n",
              "              title=\"Convert this dataframe to an interactive table.\"\n",
              "              style=\"display:none;\">\n",
              "        \n",
              "  <svg xmlns=\"http://www.w3.org/2000/svg\" height=\"24px\"viewBox=\"0 0 24 24\"\n",
              "       width=\"24px\">\n",
              "    <path d=\"M0 0h24v24H0V0z\" fill=\"none\"/>\n",
              "    <path d=\"M18.56 5.44l.94 2.06.94-2.06 2.06-.94-2.06-.94-.94-2.06-.94 2.06-2.06.94zm-11 1L8.5 8.5l.94-2.06 2.06-.94-2.06-.94L8.5 2.5l-.94 2.06-2.06.94zm10 10l.94 2.06.94-2.06 2.06-.94-2.06-.94-.94-2.06-.94 2.06-2.06.94z\"/><path d=\"M17.41 7.96l-1.37-1.37c-.4-.4-.92-.59-1.43-.59-.52 0-1.04.2-1.43.59L10.3 9.45l-7.72 7.72c-.78.78-.78 2.05 0 2.83L4 21.41c.39.39.9.59 1.41.59.51 0 1.02-.2 1.41-.59l7.78-7.78 2.81-2.81c.8-.78.8-2.07 0-2.86zM5.41 20L4 18.59l7.72-7.72 1.47 1.35L5.41 20z\"/>\n",
              "  </svg>\n",
              "      </button>\n",
              "      \n",
              "  <style>\n",
              "    .colab-df-container {\n",
              "      display:flex;\n",
              "      flex-wrap:wrap;\n",
              "      gap: 12px;\n",
              "    }\n",
              "\n",
              "    .colab-df-convert {\n",
              "      background-color: #E8F0FE;\n",
              "      border: none;\n",
              "      border-radius: 50%;\n",
              "      cursor: pointer;\n",
              "      display: none;\n",
              "      fill: #1967D2;\n",
              "      height: 32px;\n",
              "      padding: 0 0 0 0;\n",
              "      width: 32px;\n",
              "    }\n",
              "\n",
              "    .colab-df-convert:hover {\n",
              "      background-color: #E2EBFA;\n",
              "      box-shadow: 0px 1px 2px rgba(60, 64, 67, 0.3), 0px 1px 3px 1px rgba(60, 64, 67, 0.15);\n",
              "      fill: #174EA6;\n",
              "    }\n",
              "\n",
              "    [theme=dark] .colab-df-convert {\n",
              "      background-color: #3B4455;\n",
              "      fill: #D2E3FC;\n",
              "    }\n",
              "\n",
              "    [theme=dark] .colab-df-convert:hover {\n",
              "      background-color: #434B5C;\n",
              "      box-shadow: 0px 1px 3px 1px rgba(0, 0, 0, 0.15);\n",
              "      filter: drop-shadow(0px 1px 2px rgba(0, 0, 0, 0.3));\n",
              "      fill: #FFFFFF;\n",
              "    }\n",
              "  </style>\n",
              "\n",
              "      <script>\n",
              "        const buttonEl =\n",
              "          document.querySelector('#df-6b8d1bc0-1fe1-4b42-a988-bf216da56fe6 button.colab-df-convert');\n",
              "        buttonEl.style.display =\n",
              "          google.colab.kernel.accessAllowed ? 'block' : 'none';\n",
              "\n",
              "        async function convertToInteractive(key) {\n",
              "          const element = document.querySelector('#df-6b8d1bc0-1fe1-4b42-a988-bf216da56fe6');\n",
              "          const dataTable =\n",
              "            await google.colab.kernel.invokeFunction('convertToInteractive',\n",
              "                                                     [key], {});\n",
              "          if (!dataTable) return;\n",
              "\n",
              "          const docLinkHtml = 'Like what you see? Visit the ' +\n",
              "            '<a target=\"_blank\" href=https://colab.research.google.com/notebooks/data_table.ipynb>data table notebook</a>'\n",
              "            + ' to learn more about interactive tables.';\n",
              "          element.innerHTML = '';\n",
              "          dataTable['output_type'] = 'display_data';\n",
              "          await google.colab.output.renderOutput(dataTable, element);\n",
              "          const docLink = document.createElement('div');\n",
              "          docLink.innerHTML = docLinkHtml;\n",
              "          element.appendChild(docLink);\n",
              "        }\n",
              "      </script>\n",
              "    </div>\n",
              "  </div>\n",
              "  "
            ]
          },
          "metadata": {},
          "execution_count": 4
        }
      ]
    },
    {
      "cell_type": "code",
      "source": [
        "test_df"
      ],
      "metadata": {
        "id": "RIH0EHOJyiZL",
        "outputId": "cb90a63c-33e7-4910-faaa-116e77d5447a",
        "colab": {
          "base_uri": "https://localhost:8080/",
          "height": 424
        }
      },
      "execution_count": 5,
      "outputs": [
        {
          "output_type": "execute_result",
          "data": {
            "text/plain": [
              "              ID  Gender  Age Region_Code Occupation Channel_Code  Vintage  \\\n",
              "0       VBENBARO    Male   29       RG254      Other           X1       25   \n",
              "1       CCMEWNKY    Male   43       RG268      Other           X2       49   \n",
              "2       VK3KGA9M    Male   31       RG270   Salaried           X1       14   \n",
              "3       TT8RPZVC    Male   29       RG272      Other           X1       33   \n",
              "4       SHQZEYTZ  Female   29       RG270      Other           X1       19   \n",
              "...          ...     ...  ...         ...        ...          ...      ...   \n",
              "105307  DBENJOYI    Male   52       RG268   Salaried           X2       86   \n",
              "105308  CWQ72DWS    Male   55       RG277      Other           X2       86   \n",
              "105309  HDESC8GU    Male   35       RG254   Salaried           X4       15   \n",
              "105310  2PW4SFCA    Male   53       RG254      Other           X3       93   \n",
              "105311  F2NOYPPZ    Male   27       RG256   Salaried           X1       21   \n",
              "\n",
              "       Credit_Product  Avg_Account_Balance Is_Active  \n",
              "0                 Yes               742366        No  \n",
              "1                 NaN               925537        No  \n",
              "2                  No               215949        No  \n",
              "3                  No               868070        No  \n",
              "4                  No               657087        No  \n",
              "...               ...                  ...       ...  \n",
              "105307            Yes              4242558       Yes  \n",
              "105308            Yes              1159153        No  \n",
              "105309             No              1703727        No  \n",
              "105310             No               737178       Yes  \n",
              "105311             No               591565        No  \n",
              "\n",
              "[105312 rows x 10 columns]"
            ],
            "text/html": [
              "\n",
              "  <div id=\"df-6f19d5f4-d385-4957-8ab5-f0333a0ff976\">\n",
              "    <div class=\"colab-df-container\">\n",
              "      <div>\n",
              "<style scoped>\n",
              "    .dataframe tbody tr th:only-of-type {\n",
              "        vertical-align: middle;\n",
              "    }\n",
              "\n",
              "    .dataframe tbody tr th {\n",
              "        vertical-align: top;\n",
              "    }\n",
              "\n",
              "    .dataframe thead th {\n",
              "        text-align: right;\n",
              "    }\n",
              "</style>\n",
              "<table border=\"1\" class=\"dataframe\">\n",
              "  <thead>\n",
              "    <tr style=\"text-align: right;\">\n",
              "      <th></th>\n",
              "      <th>ID</th>\n",
              "      <th>Gender</th>\n",
              "      <th>Age</th>\n",
              "      <th>Region_Code</th>\n",
              "      <th>Occupation</th>\n",
              "      <th>Channel_Code</th>\n",
              "      <th>Vintage</th>\n",
              "      <th>Credit_Product</th>\n",
              "      <th>Avg_Account_Balance</th>\n",
              "      <th>Is_Active</th>\n",
              "    </tr>\n",
              "  </thead>\n",
              "  <tbody>\n",
              "    <tr>\n",
              "      <th>0</th>\n",
              "      <td>VBENBARO</td>\n",
              "      <td>Male</td>\n",
              "      <td>29</td>\n",
              "      <td>RG254</td>\n",
              "      <td>Other</td>\n",
              "      <td>X1</td>\n",
              "      <td>25</td>\n",
              "      <td>Yes</td>\n",
              "      <td>742366</td>\n",
              "      <td>No</td>\n",
              "    </tr>\n",
              "    <tr>\n",
              "      <th>1</th>\n",
              "      <td>CCMEWNKY</td>\n",
              "      <td>Male</td>\n",
              "      <td>43</td>\n",
              "      <td>RG268</td>\n",
              "      <td>Other</td>\n",
              "      <td>X2</td>\n",
              "      <td>49</td>\n",
              "      <td>NaN</td>\n",
              "      <td>925537</td>\n",
              "      <td>No</td>\n",
              "    </tr>\n",
              "    <tr>\n",
              "      <th>2</th>\n",
              "      <td>VK3KGA9M</td>\n",
              "      <td>Male</td>\n",
              "      <td>31</td>\n",
              "      <td>RG270</td>\n",
              "      <td>Salaried</td>\n",
              "      <td>X1</td>\n",
              "      <td>14</td>\n",
              "      <td>No</td>\n",
              "      <td>215949</td>\n",
              "      <td>No</td>\n",
              "    </tr>\n",
              "    <tr>\n",
              "      <th>3</th>\n",
              "      <td>TT8RPZVC</td>\n",
              "      <td>Male</td>\n",
              "      <td>29</td>\n",
              "      <td>RG272</td>\n",
              "      <td>Other</td>\n",
              "      <td>X1</td>\n",
              "      <td>33</td>\n",
              "      <td>No</td>\n",
              "      <td>868070</td>\n",
              "      <td>No</td>\n",
              "    </tr>\n",
              "    <tr>\n",
              "      <th>4</th>\n",
              "      <td>SHQZEYTZ</td>\n",
              "      <td>Female</td>\n",
              "      <td>29</td>\n",
              "      <td>RG270</td>\n",
              "      <td>Other</td>\n",
              "      <td>X1</td>\n",
              "      <td>19</td>\n",
              "      <td>No</td>\n",
              "      <td>657087</td>\n",
              "      <td>No</td>\n",
              "    </tr>\n",
              "    <tr>\n",
              "      <th>...</th>\n",
              "      <td>...</td>\n",
              "      <td>...</td>\n",
              "      <td>...</td>\n",
              "      <td>...</td>\n",
              "      <td>...</td>\n",
              "      <td>...</td>\n",
              "      <td>...</td>\n",
              "      <td>...</td>\n",
              "      <td>...</td>\n",
              "      <td>...</td>\n",
              "    </tr>\n",
              "    <tr>\n",
              "      <th>105307</th>\n",
              "      <td>DBENJOYI</td>\n",
              "      <td>Male</td>\n",
              "      <td>52</td>\n",
              "      <td>RG268</td>\n",
              "      <td>Salaried</td>\n",
              "      <td>X2</td>\n",
              "      <td>86</td>\n",
              "      <td>Yes</td>\n",
              "      <td>4242558</td>\n",
              "      <td>Yes</td>\n",
              "    </tr>\n",
              "    <tr>\n",
              "      <th>105308</th>\n",
              "      <td>CWQ72DWS</td>\n",
              "      <td>Male</td>\n",
              "      <td>55</td>\n",
              "      <td>RG277</td>\n",
              "      <td>Other</td>\n",
              "      <td>X2</td>\n",
              "      <td>86</td>\n",
              "      <td>Yes</td>\n",
              "      <td>1159153</td>\n",
              "      <td>No</td>\n",
              "    </tr>\n",
              "    <tr>\n",
              "      <th>105309</th>\n",
              "      <td>HDESC8GU</td>\n",
              "      <td>Male</td>\n",
              "      <td>35</td>\n",
              "      <td>RG254</td>\n",
              "      <td>Salaried</td>\n",
              "      <td>X4</td>\n",
              "      <td>15</td>\n",
              "      <td>No</td>\n",
              "      <td>1703727</td>\n",
              "      <td>No</td>\n",
              "    </tr>\n",
              "    <tr>\n",
              "      <th>105310</th>\n",
              "      <td>2PW4SFCA</td>\n",
              "      <td>Male</td>\n",
              "      <td>53</td>\n",
              "      <td>RG254</td>\n",
              "      <td>Other</td>\n",
              "      <td>X3</td>\n",
              "      <td>93</td>\n",
              "      <td>No</td>\n",
              "      <td>737178</td>\n",
              "      <td>Yes</td>\n",
              "    </tr>\n",
              "    <tr>\n",
              "      <th>105311</th>\n",
              "      <td>F2NOYPPZ</td>\n",
              "      <td>Male</td>\n",
              "      <td>27</td>\n",
              "      <td>RG256</td>\n",
              "      <td>Salaried</td>\n",
              "      <td>X1</td>\n",
              "      <td>21</td>\n",
              "      <td>No</td>\n",
              "      <td>591565</td>\n",
              "      <td>No</td>\n",
              "    </tr>\n",
              "  </tbody>\n",
              "</table>\n",
              "<p>105312 rows × 10 columns</p>\n",
              "</div>\n",
              "      <button class=\"colab-df-convert\" onclick=\"convertToInteractive('df-6f19d5f4-d385-4957-8ab5-f0333a0ff976')\"\n",
              "              title=\"Convert this dataframe to an interactive table.\"\n",
              "              style=\"display:none;\">\n",
              "        \n",
              "  <svg xmlns=\"http://www.w3.org/2000/svg\" height=\"24px\"viewBox=\"0 0 24 24\"\n",
              "       width=\"24px\">\n",
              "    <path d=\"M0 0h24v24H0V0z\" fill=\"none\"/>\n",
              "    <path d=\"M18.56 5.44l.94 2.06.94-2.06 2.06-.94-2.06-.94-.94-2.06-.94 2.06-2.06.94zm-11 1L8.5 8.5l.94-2.06 2.06-.94-2.06-.94L8.5 2.5l-.94 2.06-2.06.94zm10 10l.94 2.06.94-2.06 2.06-.94-2.06-.94-.94-2.06-.94 2.06-2.06.94z\"/><path d=\"M17.41 7.96l-1.37-1.37c-.4-.4-.92-.59-1.43-.59-.52 0-1.04.2-1.43.59L10.3 9.45l-7.72 7.72c-.78.78-.78 2.05 0 2.83L4 21.41c.39.39.9.59 1.41.59.51 0 1.02-.2 1.41-.59l7.78-7.78 2.81-2.81c.8-.78.8-2.07 0-2.86zM5.41 20L4 18.59l7.72-7.72 1.47 1.35L5.41 20z\"/>\n",
              "  </svg>\n",
              "      </button>\n",
              "      \n",
              "  <style>\n",
              "    .colab-df-container {\n",
              "      display:flex;\n",
              "      flex-wrap:wrap;\n",
              "      gap: 12px;\n",
              "    }\n",
              "\n",
              "    .colab-df-convert {\n",
              "      background-color: #E8F0FE;\n",
              "      border: none;\n",
              "      border-radius: 50%;\n",
              "      cursor: pointer;\n",
              "      display: none;\n",
              "      fill: #1967D2;\n",
              "      height: 32px;\n",
              "      padding: 0 0 0 0;\n",
              "      width: 32px;\n",
              "    }\n",
              "\n",
              "    .colab-df-convert:hover {\n",
              "      background-color: #E2EBFA;\n",
              "      box-shadow: 0px 1px 2px rgba(60, 64, 67, 0.3), 0px 1px 3px 1px rgba(60, 64, 67, 0.15);\n",
              "      fill: #174EA6;\n",
              "    }\n",
              "\n",
              "    [theme=dark] .colab-df-convert {\n",
              "      background-color: #3B4455;\n",
              "      fill: #D2E3FC;\n",
              "    }\n",
              "\n",
              "    [theme=dark] .colab-df-convert:hover {\n",
              "      background-color: #434B5C;\n",
              "      box-shadow: 0px 1px 3px 1px rgba(0, 0, 0, 0.15);\n",
              "      filter: drop-shadow(0px 1px 2px rgba(0, 0, 0, 0.3));\n",
              "      fill: #FFFFFF;\n",
              "    }\n",
              "  </style>\n",
              "\n",
              "      <script>\n",
              "        const buttonEl =\n",
              "          document.querySelector('#df-6f19d5f4-d385-4957-8ab5-f0333a0ff976 button.colab-df-convert');\n",
              "        buttonEl.style.display =\n",
              "          google.colab.kernel.accessAllowed ? 'block' : 'none';\n",
              "\n",
              "        async function convertToInteractive(key) {\n",
              "          const element = document.querySelector('#df-6f19d5f4-d385-4957-8ab5-f0333a0ff976');\n",
              "          const dataTable =\n",
              "            await google.colab.kernel.invokeFunction('convertToInteractive',\n",
              "                                                     [key], {});\n",
              "          if (!dataTable) return;\n",
              "\n",
              "          const docLinkHtml = 'Like what you see? Visit the ' +\n",
              "            '<a target=\"_blank\" href=https://colab.research.google.com/notebooks/data_table.ipynb>data table notebook</a>'\n",
              "            + ' to learn more about interactive tables.';\n",
              "          element.innerHTML = '';\n",
              "          dataTable['output_type'] = 'display_data';\n",
              "          await google.colab.output.renderOutput(dataTable, element);\n",
              "          const docLink = document.createElement('div');\n",
              "          docLink.innerHTML = docLinkHtml;\n",
              "          element.appendChild(docLink);\n",
              "        }\n",
              "      </script>\n",
              "    </div>\n",
              "  </div>\n",
              "  "
            ]
          },
          "metadata": {},
          "execution_count": 5
        }
      ]
    },
    {
      "cell_type": "markdown",
      "source": [
        "#. 2. 변수 분포 확인, 시각화"
      ],
      "metadata": {
        "id": "PpZty7AK00-0"
      }
    },
    {
      "cell_type": "code",
      "source": [
        "# Is_Lead => 0 = No, 1 = Yes\n",
        "target = 'Is_Lead'"
      ],
      "metadata": {
        "id": "UKHwMmbq4e5R"
      },
      "execution_count": 6,
      "outputs": []
    },
    {
      "cell_type": "code",
      "source": [
        "# 타겟 데이터 범주의 비율 확인\n",
        "y_train = train_df[target]\n",
        "y_train.value_counts(normalize=True)"
      ],
      "metadata": {
        "id": "ulokb0B85KWK",
        "outputId": "0411d051-ffd6-467b-f8ce-98d7e4268f5f",
        "colab": {
          "base_uri": "https://localhost:8080/"
        }
      },
      "execution_count": 7,
      "outputs": [
        {
          "output_type": "execute_result",
          "data": {
            "text/plain": [
              "0    0.762792\n",
              "1    0.237208\n",
              "Name: Is_Lead, dtype: float64"
            ]
          },
          "metadata": {},
          "execution_count": 7
        }
      ]
    },
    {
      "cell_type": "code",
      "source": [
        "# Target 데이터 분포 확인\n",
        "\n",
        "sns.countplot(x = y_train);\n",
        "\n",
        "# imbalanced 확인"
      ],
      "metadata": {
        "colab": {
          "base_uri": "https://localhost:8080/",
          "height": 400
        },
        "id": "jVe1BNAhc6NW",
        "outputId": "cd3de95e-cae1-49e8-80ef-b470d2b357f6"
      },
      "execution_count": 8,
      "outputs": [
        {
          "output_type": "display_data",
          "data": {
            "text/plain": [
              "<Figure size 720x432 with 1 Axes>"
            ],
            "image/png": "[encoded data removed]"
          },
          "metadata": {
            "needs_background": "light"
          }
        }
      ]
    },
    {
      "cell_type": "code",
      "source": [
        "# train_df의 Credit_Product에서 결측치 확인 -> 뒤에서 처리\n",
        "train_df.isnull().sum()"
      ],
      "metadata": {
        "colab": {
          "base_uri": "https://localhost:8080/"
        },
        "id": "2dKfpf9Lxu8N",
        "outputId": "57f244cb-3013-49c9-fccf-3bddeeb704fc"
      },
      "execution_count": 9,
      "outputs": [
        {
          "output_type": "execute_result",
          "data": {
            "text/plain": [
              "ID                         0\n",
              "Gender                     0\n",
              "Age                        0\n",
              "Region_Code                0\n",
              "Occupation                 0\n",
              "Channel_Code               0\n",
              "Vintage                    0\n",
              "Credit_Product         29325\n",
              "Avg_Account_Balance        0\n",
              "Is_Active                  0\n",
              "Is_Lead                    0\n",
              "dtype: int64"
            ]
          },
          "metadata": {},
          "execution_count": 9
        }
      ]
    },
    {
      "cell_type": "code",
      "source": [
        "# test_df에도 Credit_Product에 결측치가 있음.\n",
        "test_df.isnull().sum()"
      ],
      "metadata": {
        "colab": {
          "base_uri": "https://localhost:8080/"
        },
        "id": "efnfrHafafp6",
        "outputId": "ff3b53d3-a581-433a-fe08-2ece17c3c965"
      },
      "execution_count": 10,
      "outputs": [
        {
          "output_type": "execute_result",
          "data": {
            "text/plain": [
              "ID                         0\n",
              "Gender                     0\n",
              "Age                        0\n",
              "Region_Code                0\n",
              "Occupation                 0\n",
              "Channel_Code               0\n",
              "Vintage                    0\n",
              "Credit_Product         12522\n",
              "Avg_Account_Balance        0\n",
              "Is_Active                  0\n",
              "dtype: int64"
            ]
          },
          "metadata": {},
          "execution_count": 10
        }
      ]
    },
    {
      "cell_type": "code",
      "source": [
        "# 불필요한 ID column 삭제\n",
        "train_df = train_df.drop(['ID'],axis=1)\n",
        "test_df = test_df.drop(['ID'], axis=1)\n",
        "\n",
        "train_df"
      ],
      "metadata": {
        "colab": {
          "base_uri": "https://localhost:8080/",
          "height": 424
        },
        "id": "RKU8uBI_3ez1",
        "outputId": "ef4ef23a-cc2e-43ef-fcf0-6433755bd4c7"
      },
      "execution_count": 11,
      "outputs": [
        {
          "output_type": "execute_result",
          "data": {
            "text/plain": [
              "        Gender  Age Region_Code     Occupation Channel_Code  Vintage  \\\n",
              "0       Female   73       RG268          Other           X3       43   \n",
              "1       Female   30       RG277       Salaried           X1       32   \n",
              "2       Female   56       RG268  Self_Employed           X3       26   \n",
              "3         Male   34       RG270       Salaried           X1       19   \n",
              "4       Female   30       RG282       Salaried           X1       33   \n",
              "...        ...  ...         ...            ...          ...      ...   \n",
              "245720    Male   51       RG284  Self_Employed           X3      109   \n",
              "245721    Male   27       RG268       Salaried           X1       15   \n",
              "245722  Female   26       RG281       Salaried           X1       13   \n",
              "245723  Female   28       RG273       Salaried           X1       31   \n",
              "245724    Male   29       RG269       Salaried           X1       21   \n",
              "\n",
              "       Credit_Product  Avg_Account_Balance Is_Active  Is_Lead  \n",
              "0                  No              1045696        No        0  \n",
              "1                  No               581988        No        0  \n",
              "2                  No              1484315       Yes        0  \n",
              "3                  No               470454        No        0  \n",
              "4                  No               886787        No        0  \n",
              "...               ...                  ...       ...      ...  \n",
              "245720            NaN              1925586        No        0  \n",
              "245721             No               862952       Yes        0  \n",
              "245722             No               670659        No        0  \n",
              "245723             No               407504        No        0  \n",
              "245724             No              1129276        No        0  \n",
              "\n",
              "[245725 rows x 10 columns]"
            ],
            "text/html": [
              "\n",
              "  <div id=\"df-93359a5b-3fb9-4490-a27d-54ddcd0944f8\">\n",
              "    <div class=\"colab-df-container\">\n",
              "      <div>\n",
              "<style scoped>\n",
              "    .dataframe tbody tr th:only-of-type {\n",
              "        vertical-align: middle;\n",
              "    }\n",
              "\n",
              "    .dataframe tbody tr th {\n",
              "        vertical-align: top;\n",
              "    }\n",
              "\n",
              "    .dataframe thead th {\n",
              "        text-align: right;\n",
              "    }\n",
              "</style>\n",
              "<table border=\"1\" class=\"dataframe\">\n",
              "  <thead>\n",
              "    <tr style=\"text-align: right;\">\n",
              "      <th></th>\n",
              "      <th>Gender</th>\n",
              "      <th>Age</th>\n",
              "      <th>Region_Code</th>\n",
              "      <th>Occupation</th>\n",
              "      <th>Channel_Code</th>\n",
              "      <th>Vintage</th>\n",
              "      <th>Credit_Product</th>\n",
              "      <th>Avg_Account_Balance</th>\n",
              "      <th>Is_Active</th>\n",
              "      <th>Is_Lead</th>\n",
              "    </tr>\n",
              "  </thead>\n",
              "  <tbody>\n",
              "    <tr>\n",
              "      <th>0</th>\n",
              "      <td>Female</td>\n",
              "      <td>73</td>\n",
              "      <td>RG268</td>\n",
              "      <td>Other</td>\n",
              "      <td>X3</td>\n",
              "      <td>43</td>\n",
              "      <td>No</td>\n",
              "      <td>1045696</td>\n",
              "      <td>No</td>\n",
              "      <td>0</td>\n",
              "    </tr>\n",
              "    <tr>\n",
              "      <th>1</th>\n",
              "      <td>Female</td>\n",
              "      <td>30</td>\n",
              "      <td>RG277</td>\n",
              "      <td>Salaried</td>\n",
              "      <td>X1</td>\n",
              "      <td>32</td>\n",
              "      <td>No</td>\n",
              "      <td>581988</td>\n",
              "      <td>No</td>\n",
              "      <td>0</td>\n",
              "    </tr>\n",
              "    <tr>\n",
              "      <th>2</th>\n",
              "      <td>Female</td>\n",
              "      <td>56</td>\n",
              "      <td>RG268</td>\n",
              "      <td>Self_Employed</td>\n",
              "      <td>X3</td>\n",
              "      <td>26</td>\n",
              "      <td>No</td>\n",
              "      <td>1484315</td>\n",
              "      <td>Yes</td>\n",
              "      <td>0</td>\n",
              "    </tr>\n",
              "    <tr>\n",
              "      <th>3</th>\n",
              "      <td>Male</td>\n",
              "      <td>34</td>\n",
              "      <td>RG270</td>\n",
              "      <td>Salaried</td>\n",
              "      <td>X1</td>\n",
              "      <td>19</td>\n",
              "      <td>No</td>\n",
              "      <td>470454</td>\n",
              "      <td>No</td>\n",
              "      <td>0</td>\n",
              "    </tr>\n",
              "    <tr>\n",
              "      <th>4</th>\n",
              "      <td>Female</td>\n",
              "      <td>30</td>\n",
              "      <td>RG282</td>\n",
              "      <td>Salaried</td>\n",
              "      <td>X1</td>\n",
              "      <td>33</td>\n",
              "      <td>No</td>\n",
              "      <td>886787</td>\n",
              "      <td>No</td>\n",
              "      <td>0</td>\n",
              "    </tr>\n",
              "    <tr>\n",
              "      <th>...</th>\n",
              "      <td>...</td>\n",
              "      <td>...</td>\n",
              "      <td>...</td>\n",
              "      <td>...</td>\n",
              "      <td>...</td>\n",
              "      <td>...</td>\n",
              "      <td>...</td>\n",
              "      <td>...</td>\n",
              "      <td>...</td>\n",
              "      <td>...</td>\n",
              "    </tr>\n",
              "    <tr>\n",
              "      <th>245720</th>\n",
              "      <td>Male</td>\n",
              "      <td>51</td>\n",
              "      <td>RG284</td>\n",
              "      <td>Self_Employed</td>\n",
              "      <td>X3</td>\n",
              "      <td>109</td>\n",
              "      <td>NaN</td>\n",
              "      <td>1925586</td>\n",
              "      <td>No</td>\n",
              "      <td>0</td>\n",
              "    </tr>\n",
              "    <tr>\n",
              "      <th>245721</th>\n",
              "      <td>Male</td>\n",
              "      <td>27</td>\n",
              "      <td>RG268</td>\n",
              "      <td>Salaried</td>\n",
              "      <td>X1</td>\n",
              "      <td>15</td>\n",
              "      <td>No</td>\n",
              "      <td>862952</td>\n",
              "      <td>Yes</td>\n",
              "      <td>0</td>\n",
              "    </tr>\n",
              "    <tr>\n",
              "      <th>245722</th>\n",
              "      <td>Female</td>\n",
              "      <td>26</td>\n",
              "      <td>RG281</td>\n",
              "      <td>Salaried</td>\n",
              "      <td>X1</td>\n",
              "      <td>13</td>\n",
              "      <td>No</td>\n",
              "      <td>670659</td>\n",
              "      <td>No</td>\n",
              "      <td>0</td>\n",
              "    </tr>\n",
              "    <tr>\n",
              "      <th>245723</th>\n",
              "      <td>Female</td>\n",
              "      <td>28</td>\n",
              "      <td>RG273</td>\n",
              "      <td>Salaried</td>\n",
              "      <td>X1</td>\n",
              "      <td>31</td>\n",
              "      <td>No</td>\n",
              "      <td>407504</td>\n",
              "      <td>No</td>\n",
              "      <td>0</td>\n",
              "    </tr>\n",
              "    <tr>\n",
              "      <th>245724</th>\n",
              "      <td>Male</td>\n",
              "      <td>29</td>\n",
              "      <td>RG269</td>\n",
              "      <td>Salaried</td>\n",
              "      <td>X1</td>\n",
              "      <td>21</td>\n",
              "      <td>No</td>\n",
              "      <td>1129276</td>\n",
              "      <td>No</td>\n",
              "      <td>0</td>\n",
              "    </tr>\n",
              "  </tbody>\n",
              "</table>\n",
              "<p>245725 rows × 10 columns</p>\n",
              "</div>\n",
              "      <button class=\"colab-df-convert\" onclick=\"convertToInteractive('df-93359a5b-3fb9-4490-a27d-54ddcd0944f8')\"\n",
              "              title=\"Convert this dataframe to an interactive table.\"\n",
              "              style=\"display:none;\">\n",
              "        \n",
              "  <svg xmlns=\"http://www.w3.org/2000/svg\" height=\"24px\"viewBox=\"0 0 24 24\"\n",
              "       width=\"24px\">\n",
              "    <path d=\"M0 0h24v24H0V0z\" fill=\"none\"/>\n",
              "    <path d=\"M18.56 5.44l.94 2.06.94-2.06 2.06-.94-2.06-.94-.94-2.06-.94 2.06-2.06.94zm-11 1L8.5 8.5l.94-2.06 2.06-.94-2.06-.94L8.5 2.5l-.94 2.06-2.06.94zm10 10l.94 2.06.94-2.06 2.06-.94-2.06-.94-.94-2.06-.94 2.06-2.06.94z\"/><path d=\"M17.41 7.96l-1.37-1.37c-.4-.4-.92-.59-1.43-.59-.52 0-1.04.2-1.43.59L10.3 9.45l-7.72 7.72c-.78.78-.78 2.05 0 2.83L4 21.41c.39.39.9.59 1.41.59.51 0 1.02-.2 1.41-.59l7.78-7.78 2.81-2.81c.8-.78.8-2.07 0-2.86zM5.41 20L4 18.59l7.72-7.72 1.47 1.35L5.41 20z\"/>\n",
              "  </svg>\n",
              "      </button>\n",
              "      \n",
              "  <style>\n",
              "    .colab-df-container {\n",
              "      display:flex;\n",
              "      flex-wrap:wrap;\n",
              "      gap: 12px;\n",
              "    }\n",
              "\n",
              "    .colab-df-convert {\n",
              "      background-color: #E8F0FE;\n",
              "      border: none;\n",
              "      border-radius: 50%;\n",
              "      cursor: pointer;\n",
              "      display: none;\n",
              "      fill: #1967D2;\n",
              "      height: 32px;\n",
              "      padding: 0 0 0 0;\n",
              "      width: 32px;\n",
              "    }\n",
              "\n",
              "    .colab-df-convert:hover {\n",
              "      background-color: #E2EBFA;\n",
              "      box-shadow: 0px 1px 2px rgba(60, 64, 67, 0.3), 0px 1px 3px 1px rgba(60, 64, 67, 0.15);\n",
              "      fill: #174EA6;\n",
              "    }\n",
              "\n",
              "    [theme=dark] .colab-df-convert {\n",
              "      background-color: #3B4455;\n",
              "      fill: #D2E3FC;\n",
              "    }\n",
              "\n",
              "    [theme=dark] .colab-df-convert:hover {\n",
              "      background-color: #434B5C;\n",
              "      box-shadow: 0px 1px 3px 1px rgba(0, 0, 0, 0.15);\n",
              "      filter: drop-shadow(0px 1px 2px rgba(0, 0, 0, 0.3));\n",
              "      fill: #FFFFFF;\n",
              "    }\n",
              "  </style>\n",
              "\n",
              "      <script>\n",
              "        const buttonEl =\n",
              "          document.querySelector('#df-93359a5b-3fb9-4490-a27d-54ddcd0944f8 button.colab-df-convert');\n",
              "        buttonEl.style.display =\n",
              "          google.colab.kernel.accessAllowed ? 'block' : 'none';\n",
              "\n",
              "        async function convertToInteractive(key) {\n",
              "          const element = document.querySelector('#df-93359a5b-3fb9-4490-a27d-54ddcd0944f8');\n",
              "          const dataTable =\n",
              "            await google.colab.kernel.invokeFunction('convertToInteractive',\n",
              "                                                     [key], {});\n",
              "          if (!dataTable) return;\n",
              "\n",
              "          const docLinkHtml = 'Like what you see? Visit the ' +\n",
              "            '<a target=\"_blank\" href=https://colab.research.google.com/notebooks/data_table.ipynb>data table notebook</a>'\n",
              "            + ' to learn more about interactive tables.';\n",
              "          element.innerHTML = '';\n",
              "          dataTable['output_type'] = 'display_data';\n",
              "          await google.colab.output.renderOutput(dataTable, element);\n",
              "          const docLink = document.createElement('div');\n",
              "          docLink.innerHTML = docLinkHtml;\n",
              "          element.appendChild(docLink);\n",
              "        }\n",
              "      </script>\n",
              "    </div>\n",
              "  </div>\n",
              "  "
            ]
          },
          "metadata": {},
          "execution_count": 11
        }
      ]
    },
    {
      "cell_type": "code",
      "source": [
        "# dtype 확인\n",
        "train_df.dtypes"
      ],
      "metadata": {
        "id": "ZAaK8Tj0GzDS",
        "outputId": "17f81132-a0d6-4107-c299-fee3ab60902e",
        "colab": {
          "base_uri": "https://localhost:8080/"
        }
      },
      "execution_count": 12,
      "outputs": [
        {
          "output_type": "execute_result",
          "data": {
            "text/plain": [
              "Gender                 object\n",
              "Age                     int64\n",
              "Region_Code            object\n",
              "Occupation             object\n",
              "Channel_Code           object\n",
              "Vintage                 int64\n",
              "Credit_Product         object\n",
              "Avg_Account_Balance     int64\n",
              "Is_Active              object\n",
              "Is_Lead                 int64\n",
              "dtype: object"
            ]
          },
          "metadata": {},
          "execution_count": 12
        }
      ]
    },
    {
      "cell_type": "code",
      "source": [
        "train_df.describe(include='all')"
      ],
      "metadata": {
        "id": "KSzhUJImGP4H",
        "outputId": "579a4f03-dd37-4322-8303-02ac00910c54",
        "colab": {
          "base_uri": "https://localhost:8080/",
          "height": 394
        }
      },
      "execution_count": 13,
      "outputs": [
        {
          "output_type": "execute_result",
          "data": {
            "text/plain": [
              "        Gender            Age Region_Code     Occupation Channel_Code  \\\n",
              "count   245725  245725.000000      245725         245725       245725   \n",
              "unique       2            NaN          35              4            4   \n",
              "top       Male            NaN       RG268  Self_Employed           X1   \n",
              "freq    134197            NaN       35934         100886       103718   \n",
              "mean       NaN      43.856307         NaN            NaN          NaN   \n",
              "std        NaN      14.828672         NaN            NaN          NaN   \n",
              "min        NaN      23.000000         NaN            NaN          NaN   \n",
              "25%        NaN      30.000000         NaN            NaN          NaN   \n",
              "50%        NaN      43.000000         NaN            NaN          NaN   \n",
              "75%        NaN      54.000000         NaN            NaN          NaN   \n",
              "max        NaN      85.000000         NaN            NaN          NaN   \n",
              "\n",
              "              Vintage Credit_Product  Avg_Account_Balance Is_Active  \\\n",
              "count   245725.000000         216400         2.457250e+05    245725   \n",
              "unique            NaN              2                  NaN         2   \n",
              "top               NaN             No                  NaN        No   \n",
              "freq              NaN         144357                  NaN    150290   \n",
              "mean        46.959141            NaN         1.128403e+06       NaN   \n",
              "std         32.353136            NaN         8.529364e+05       NaN   \n",
              "min          7.000000            NaN         2.079000e+04       NaN   \n",
              "25%         20.000000            NaN         6.043100e+05       NaN   \n",
              "50%         32.000000            NaN         8.946010e+05       NaN   \n",
              "75%         73.000000            NaN         1.366666e+06       NaN   \n",
              "max        135.000000            NaN         1.035201e+07       NaN   \n",
              "\n",
              "              Is_Lead  \n",
              "count   245725.000000  \n",
              "unique            NaN  \n",
              "top               NaN  \n",
              "freq              NaN  \n",
              "mean         0.237208  \n",
              "std          0.425372  \n",
              "min          0.000000  \n",
              "25%          0.000000  \n",
              "50%          0.000000  \n",
              "75%          0.000000  \n",
              "max          1.000000  "
            ],
            "text/html": [
              "\n",
              "  <div id=\"df-5df2e8d2-9fcd-4172-87b8-dccfeabef991\">\n",
              "    <div class=\"colab-df-container\">\n",
              "      <div>\n",
              "<style scoped>\n",
              "    .dataframe tbody tr th:only-of-type {\n",
              "        vertical-align: middle;\n",
              "    }\n",
              "\n",
              "    .dataframe tbody tr th {\n",
              "        vertical-align: top;\n",
              "    }\n",
              "\n",
              "    .dataframe thead th {\n",
              "        text-align: right;\n",
              "    }\n",
              "</style>\n",
              "<table border=\"1\" class=\"dataframe\">\n",
              "  <thead>\n",
              "    <tr style=\"text-align: right;\">\n",
              "      <th></th>\n",
              "      <th>Gender</th>\n",
              "      <th>Age</th>\n",
              "      <th>Region_Code</th>\n",
              "      <th>Occupation</th>\n",
              "      <th>Channel_Code</th>\n",
              "      <th>Vintage</th>\n",
              "      <th>Credit_Product</th>\n",
              "      <th>Avg_Account_Balance</th>\n",
              "      <th>Is_Active</th>\n",
              "      <th>Is_Lead</th>\n",
              "    </tr>\n",
              "  </thead>\n",
              "  <tbody>\n",
              "    <tr>\n",
              "      <th>count</th>\n",
              "      <td>245725</td>\n",
              "      <td>245725.000000</td>\n",
              "      <td>245725</td>\n",
              "      <td>245725</td>\n",
              "      <td>245725</td>\n",
              "      <td>245725.000000</td>\n",
              "      <td>216400</td>\n",
              "      <td>2.457250e+05</td>\n",
              "      <td>245725</td>\n",
              "      <td>245725.000000</td>\n",
              "    </tr>\n",
              "    <tr>\n",
              "      <th>unique</th>\n",
              "      <td>2</td>\n",
              "      <td>NaN</td>\n",
              "      <td>35</td>\n",
              "      <td>4</td>\n",
              "      <td>4</td>\n",
              "      <td>NaN</td>\n",
              "      <td>2</td>\n",
              "      <td>NaN</td>\n",
              "      <td>2</td>\n",
              "      <td>NaN</td>\n",
              "    </tr>\n",
              "    <tr>\n",
              "      <th>top</th>\n",
              "      <td>Male</td>\n",
              "      <td>NaN</td>\n",
              "      <td>RG268</td>\n",
              "      <td>Self_Employed</td>\n",
              "      <td>X1</td>\n",
              "      <td>NaN</td>\n",
              "      <td>No</td>\n",
              "      <td>NaN</td>\n",
              "      <td>No</td>\n",
              "      <td>NaN</td>\n",
              "    </tr>\n",
              "    <tr>\n",
              "      <th>freq</th>\n",
              "      <td>134197</td>\n",
              "      <td>NaN</td>\n",
              "      <td>35934</td>\n",
              "      <td>100886</td>\n",
              "      <td>103718</td>\n",
              "      <td>NaN</td>\n",
              "      <td>144357</td>\n",
              "      <td>NaN</td>\n",
              "      <td>150290</td>\n",
              "      <td>NaN</td>\n",
              "    </tr>\n",
              "    <tr>\n",
              "      <th>mean</th>\n",
              "      <td>NaN</td>\n",
              "      <td>43.856307</td>\n",
              "      <td>NaN</td>\n",
              "      <td>NaN</td>\n",
              "      <td>NaN</td>\n",
              "      <td>46.959141</td>\n",
              "      <td>NaN</td>\n",
              "      <td>1.128403e+06</td>\n",
              "      <td>NaN</td>\n",
              "      <td>0.237208</td>\n",
              "    </tr>\n",
              "    <tr>\n",
              "      <th>std</th>\n",
              "      <td>NaN</td>\n",
              "      <td>14.828672</td>\n",
              "      <td>NaN</td>\n",
              "      <td>NaN</td>\n",
              "      <td>NaN</td>\n",
              "      <td>32.353136</td>\n",
              "      <td>NaN</td>\n",
              "      <td>8.529364e+05</td>\n",
              "      <td>NaN</td>\n",
              "      <td>0.425372</td>\n",
              "    </tr>\n",
              "    <tr>\n",
              "      <th>min</th>\n",
              "      <td>NaN</td>\n",
              "      <td>23.000000</td>\n",
              "      <td>NaN</td>\n",
              "      <td>NaN</td>\n",
              "      <td>NaN</td>\n",
              "      <td>7.000000</td>\n",
              "      <td>NaN</td>\n",
              "      <td>2.079000e+04</td>\n",
              "      <td>NaN</td>\n",
              "      <td>0.000000</td>\n",
              "    </tr>\n",
              "    <tr>\n",
              "      <th>25%</th>\n",
              "      <td>NaN</td>\n",
              "      <td>30.000000</td>\n",
              "      <td>NaN</td>\n",
              "      <td>NaN</td>\n",
              "      <td>NaN</td>\n",
              "      <td>20.000000</td>\n",
              "      <td>NaN</td>\n",
              "      <td>6.043100e+05</td>\n",
              "      <td>NaN</td>\n",
              "      <td>0.000000</td>\n",
              "    </tr>\n",
              "    <tr>\n",
              "      <th>50%</th>\n",
              "      <td>NaN</td>\n",
              "      <td>43.000000</td>\n",
              "      <td>NaN</td>\n",
              "      <td>NaN</td>\n",
              "      <td>NaN</td>\n",
              "      <td>32.000000</td>\n",
              "      <td>NaN</td>\n",
              "      <td>8.946010e+05</td>\n",
              "      <td>NaN</td>\n",
              "      <td>0.000000</td>\n",
              "    </tr>\n",
              "    <tr>\n",
              "      <th>75%</th>\n",
              "      <td>NaN</td>\n",
              "      <td>54.000000</td>\n",
              "      <td>NaN</td>\n",
              "      <td>NaN</td>\n",
              "      <td>NaN</td>\n",
              "      <td>73.000000</td>\n",
              "      <td>NaN</td>\n",
              "      <td>1.366666e+06</td>\n",
              "      <td>NaN</td>\n",
              "      <td>0.000000</td>\n",
              "    </tr>\n",
              "    <tr>\n",
              "      <th>max</th>\n",
              "      <td>NaN</td>\n",
              "      <td>85.000000</td>\n",
              "      <td>NaN</td>\n",
              "      <td>NaN</td>\n",
              "      <td>NaN</td>\n",
              "      <td>135.000000</td>\n",
              "      <td>NaN</td>\n",
              "      <td>1.035201e+07</td>\n",
              "      <td>NaN</td>\n",
              "      <td>1.000000</td>\n",
              "    </tr>\n",
              "  </tbody>\n",
              "</table>\n",
              "</div>\n",
              "      <button class=\"colab-df-convert\" onclick=\"convertToInteractive('df-5df2e8d2-9fcd-4172-87b8-dccfeabef991')\"\n",
              "              title=\"Convert this dataframe to an interactive table.\"\n",
              "              style=\"display:none;\">\n",
              "        \n",
              "  <svg xmlns=\"http://www.w3.org/2000/svg\" height=\"24px\"viewBox=\"0 0 24 24\"\n",
              "       width=\"24px\">\n",
              "    <path d=\"M0 0h24v24H0V0z\" fill=\"none\"/>\n",
              "    <path d=\"M18.56 5.44l.94 2.06.94-2.06 2.06-.94-2.06-.94-.94-2.06-.94 2.06-2.06.94zm-11 1L8.5 8.5l.94-2.06 2.06-.94-2.06-.94L8.5 2.5l-.94 2.06-2.06.94zm10 10l.94 2.06.94-2.06 2.06-.94-2.06-.94-.94-2.06-.94 2.06-2.06.94z\"/><path d=\"M17.41 7.96l-1.37-1.37c-.4-.4-.92-.59-1.43-.59-.52 0-1.04.2-1.43.59L10.3 9.45l-7.72 7.72c-.78.78-.78 2.05 0 2.83L4 21.41c.39.39.9.59 1.41.59.51 0 1.02-.2 1.41-.59l7.78-7.78 2.81-2.81c.8-.78.8-2.07 0-2.86zM5.41 20L4 18.59l7.72-7.72 1.47 1.35L5.41 20z\"/>\n",
              "  </svg>\n",
              "      </button>\n",
              "      \n",
              "  <style>\n",
              "    .colab-df-container {\n",
              "      display:flex;\n",
              "      flex-wrap:wrap;\n",
              "      gap: 12px;\n",
              "    }\n",
              "\n",
              "    .colab-df-convert {\n",
              "      background-color: #E8F0FE;\n",
              "      border: none;\n",
              "      border-radius: 50%;\n",
              "      cursor: pointer;\n",
              "      display: none;\n",
              "      fill: #1967D2;\n",
              "      height: 32px;\n",
              "      padding: 0 0 0 0;\n",
              "      width: 32px;\n",
              "    }\n",
              "\n",
              "    .colab-df-convert:hover {\n",
              "      background-color: #E2EBFA;\n",
              "      box-shadow: 0px 1px 2px rgba(60, 64, 67, 0.3), 0px 1px 3px 1px rgba(60, 64, 67, 0.15);\n",
              "      fill: #174EA6;\n",
              "    }\n",
              "\n",
              "    [theme=dark] .colab-df-convert {\n",
              "      background-color: #3B4455;\n",
              "      fill: #D2E3FC;\n",
              "    }\n",
              "\n",
              "    [theme=dark] .colab-df-convert:hover {\n",
              "      background-color: #434B5C;\n",
              "      box-shadow: 0px 1px 3px 1px rgba(0, 0, 0, 0.15);\n",
              "      filter: drop-shadow(0px 1px 2px rgba(0, 0, 0, 0.3));\n",
              "      fill: #FFFFFF;\n",
              "    }\n",
              "  </style>\n",
              "\n",
              "      <script>\n",
              "        const buttonEl =\n",
              "          document.querySelector('#df-5df2e8d2-9fcd-4172-87b8-dccfeabef991 button.colab-df-convert');\n",
              "        buttonEl.style.display =\n",
              "          google.colab.kernel.accessAllowed ? 'block' : 'none';\n",
              "\n",
              "        async function convertToInteractive(key) {\n",
              "          const element = document.querySelector('#df-5df2e8d2-9fcd-4172-87b8-dccfeabef991');\n",
              "          const dataTable =\n",
              "            await google.colab.kernel.invokeFunction('convertToInteractive',\n",
              "                                                     [key], {});\n",
              "          if (!dataTable) return;\n",
              "\n",
              "          const docLinkHtml = 'Like what you see? Visit the ' +\n",
              "            '<a target=\"_blank\" href=https://colab.research.google.com/notebooks/data_table.ipynb>data table notebook</a>'\n",
              "            + ' to learn more about interactive tables.';\n",
              "          element.innerHTML = '';\n",
              "          dataTable['output_type'] = 'display_data';\n",
              "          await google.colab.output.renderOutput(dataTable, element);\n",
              "          const docLink = document.createElement('div');\n",
              "          docLink.innerHTML = docLinkHtml;\n",
              "          element.appendChild(docLink);\n",
              "        }\n",
              "      </script>\n",
              "    </div>\n",
              "  </div>\n",
              "  "
            ]
          },
          "metadata": {},
          "execution_count": 13
        }
      ]
    },
    {
      "cell_type": "markdown",
      "source": [
        "Region_Code의 cardinality가 35로 높은 편이다."
      ],
      "metadata": {
        "id": "5fGRnO87vHAX"
      }
    },
    {
      "cell_type": "markdown",
      "source": [
        "## Numerical Features 분포 확인\n",
        "\n",
        "Age, Vintage, Avg_Account_Balance"
      ],
      "metadata": {
        "id": "G1JZ1HTzhbAp"
      }
    },
    {
      "cell_type": "code",
      "source": [
        "# Target 특성에 따른 Age 분포\n",
        "sns.histplot(data = train_df, x = train_df['Age'], hue = \"Is_Lead\", kde = True);"
      ],
      "metadata": {
        "colab": {
          "base_uri": "https://localhost:8080/",
          "height": 400
        },
        "id": "oH_-ppvirVBf",
        "outputId": "36f73d3f-2eab-4e5e-95bd-1b445e1ca082"
      },
      "execution_count": 14,
      "outputs": [
        {
          "output_type": "display_data",
          "data": {
            "text/plain": [
              "<Figure size 720x432 with 1 Axes>"
            ],
            "image/png": "[encoded data removed]"
          },
          "metadata": {
            "needs_background": "light"
          }
        }
      ]
    },
    {
      "cell_type": "code",
      "source": [
        "sns.boxplot(x=\"Is_Lead\",  y=\"Age\", data=train_df)\n",
        "\n",
        "plt.xlabel('Is_Lead')\n",
        "plt.ylabel('Age');"
      ],
      "metadata": {
        "colab": {
          "base_uri": "https://localhost:8080/",
          "height": 400
        },
        "id": "oge0j9qNCIOU",
        "outputId": "b50b8612-430e-4a9f-88b2-9eb3e330cac8"
      },
      "execution_count": 15,
      "outputs": [
        {
          "output_type": "display_data",
          "data": {
            "text/plain": [
              "<Figure size 720x432 with 1 Axes>"
            ],
            "image/png": "[encoded data removed]"
          },
          "metadata": {
            "needs_background": "light"
          }
        }
      ]
    },
    {
      "cell_type": "markdown",
      "source": [
        "- 전체 이용고객 중 20 중반에서 30 중반의 고객이 다수를 차지했다.\n",
        "- 그 다음으로는 40대 중반에서 50대 중반 고객의 수가 많다.\n",
        "- 40대 중반 ~ 50대 중반 고객은 다른 나이대에 비해 제안에 관심있는 비율이 높다.\n",
        "\n",
        "-> 4050 연령층의 과반수 이상이 제안에 관심있음."
      ],
      "metadata": {
        "id": "mb7_pQZ3gYzy"
      }
    },
    {
      "cell_type": "code",
      "source": [
        "# Target 특성에 따른 Vintage 분포\n",
        "sns.histplot(data = train_df, x = train_df['Vintage'], hue = \"Is_Lead\", kde = True);"
      ],
      "metadata": {
        "colab": {
          "base_uri": "https://localhost:8080/",
          "height": 400
        },
        "id": "QfYGGrZCs8DG",
        "outputId": "8b9ad8c3-aa26-484d-84ad-c810493ac905"
      },
      "execution_count": 16,
      "outputs": [
        {
          "output_type": "display_data",
          "data": {
            "text/plain": [
              "<Figure size 720x432 with 1 Axes>"
            ],
            "image/png": "[encoded data removed]"
          },
          "metadata": {
            "needs_background": "light"
          }
        }
      ]
    },
    {
      "cell_type": "code",
      "source": [
        "sns.boxplot(x=\"Is_Lead\",  y=\"Vintage\", data=train_df)\n",
        "\n",
        "plt.xlabel('Is_Lead')\n",
        "plt.ylabel('Vintage');"
      ],
      "metadata": {
        "colab": {
          "base_uri": "https://localhost:8080/",
          "height": 400
        },
        "id": "fTF95a59CxPQ",
        "outputId": "b1066f3f-dad2-489d-aac1-6b8b8e49079d"
      },
      "execution_count": 17,
      "outputs": [
        {
          "output_type": "display_data",
          "data": {
            "text/plain": [
              "<Figure size 720x432 with 1 Axes>"
            ],
            "image/png": "[encoded data removed]"
          },
          "metadata": {
            "needs_background": "light"
          }
        }
      ]
    },
    {
      "cell_type": "markdown",
      "source": [
        "- Vintage가 80~100인 고객은 제안에 대부분 관심을 갖고 있다.\n",
        "- Vintage가 40~60 차 고객의 제안 관심도는 가장 낮았다.\n",
        "\n",
        "- Vintage가 비교적 높은 고객들이 관심있어하는 제안이다.\n",
        " -> Vintage가 40~60인 고객들의 관심도가 낮은 이유를 확인할 필요가 있다."
      ],
      "metadata": {
        "id": "zRsnUPmDhOiC"
      }
    },
    {
      "cell_type": "code",
      "source": [
        "# Target 특성에 따른 Avg_Account_Balance 분포\n",
        "sns.histplot(data = train_df, x = train_df['Avg_Account_Balance'], kde = True, hue = 'Is_Lead', multiple = 'stack');"
      ],
      "metadata": {
        "colab": {
          "base_uri": "https://localhost:8080/",
          "height": 400
        },
        "id": "m1LVOo-VfUws",
        "outputId": "cd2fd136-3ea7-49e0-89d1-8bfcd246f275"
      },
      "execution_count": 18,
      "outputs": [
        {
          "output_type": "display_data",
          "data": {
            "text/plain": [
              "<Figure size 720x432 with 1 Axes>"
            ],
            "image/png": "[encoded data removed]"
          },
          "metadata": {
            "needs_background": "light"
          }
        }
      ]
    },
    {
      "cell_type": "code",
      "source": [
        "sns.boxplot(x=\"Is_Lead\",  y=\"Avg_Account_Balance\", data=train_df)\n",
        "\n",
        "plt.xlabel('Is_Lead')\n",
        "plt.ylabel('Avg_Account_Balance');"
      ],
      "metadata": {
        "colab": {
          "base_uri": "https://localhost:8080/",
          "height": 411
        },
        "id": "F5h5_5L7DGPu",
        "outputId": "3a926be7-475f-49a5-920b-8c07f824de47"
      },
      "execution_count": 19,
      "outputs": [
        {
          "output_type": "display_data",
          "data": {
            "text/plain": [
              "<Figure size 720x432 with 1 Axes>"
            ],
            "image/png": "[encoded data removed]"
          },
          "metadata": {
            "needs_background": "light"
          }
        }
      ]
    },
    {
      "cell_type": "markdown",
      "source": [
        "- Avg_Account_Balance는 제안에 관심이 있는 고객과 없는 고객이 비슷한 분포를 보였다."
      ],
      "metadata": {
        "id": "H5oTyzddh1do"
      }
    },
    {
      "cell_type": "code",
      "source": [
        "print(np.mean(train_df[train_df['Is_Lead'] == 1]['Avg_Account_Balance']))\n",
        "print(np.mean(train_df[train_df['Is_Lead'] == 0]['Avg_Account_Balance']))"
      ],
      "metadata": {
        "colab": {
          "base_uri": "https://localhost:8080/"
        },
        "id": "WXdPQyMAmqhA",
        "outputId": "e0a0e3c6-118f-4fcc-d856-c69ff5b95d69"
      },
      "execution_count": 20,
      "outputs": [
        {
          "output_type": "stream",
          "name": "stdout",
          "text": [
            "1210034.0418954159\n",
            "1103018.015461195\n"
          ]
        }
      ]
    },
    {
      "cell_type": "markdown",
      "source": [
        "# 상관관계 확인\n",
        "\n",
        "Numerical features 간 상관관계"
      ],
      "metadata": {
        "id": "mLuqWkho8peK"
      }
    },
    {
      "cell_type": "code",
      "source": [
        "# Numerical features 간 상관관계 heatmap\n",
        "\n",
        "corr = train_df.corr()\n",
        "\n",
        "mask=np.zeros_like(corr,dtype=np.bool)\n",
        "mask[np.triu_indices_from(mask)]=True\n",
        "plt.title('Numerical features correlation')\n",
        "sns.heatmap(corr,mask=mask, annot=True);"
      ],
      "metadata": {
        "colab": {
          "base_uri": "https://localhost:8080/",
          "height": 399
        },
        "id": "kDNgEHS7yZb4",
        "outputId": "3fab2d45-385a-435b-875e-9db7e4a0e4f0"
      },
      "execution_count": 52,
      "outputs": [
        {
          "output_type": "display_data",
          "data": {
            "text/plain": [
              "<Figure size 720x432 with 2 Axes>"
            ],
            "image/png": "[encoded data removed]"
          },
          "metadata": {
            "needs_background": "light"
          }
        }
      ]
    },
    {
      "cell_type": "markdown",
      "source": [
        "##Categorical Features 분포 확인\n",
        "\n",
        "Gender, Region Code, Occupation, Channel Code, Credit Product, Is_Active"
      ],
      "metadata": {
        "id": "CDBRAFHYFEry"
      }
    },
    {
      "cell_type": "code",
      "source": [
        "# Gender\n",
        "\n",
        "fig, ax = plt.subplots(1, 2, figsize=(18,7)) \n",
        "# subplot : 한 화면에서 여러 그래프를 나눠서 출력하는 기능 / plt.subplots((행 ,열, 그래프의 크기(가로, 세로)))\n",
        "train_df['Gender'].value_counts().plot.pie(autopct='%1.1f%%',ax=ax[0])\n",
        "# pd.Series.value_counts() : 유일한 값 별로 개수 세기 / .pie (explode = 두 조각간의 거리, autopct = 각 범주가 데이터에서 차지하는 비율, shadow = 그림자, startangle = pie의 시작각도)\n",
        "ax[0].set_title('Gender') # 파이 그래프 이름\n",
        "ax[0].set_ylabel('') # 파이 그래프\n",
        " \n",
        "sns.countplot('Gender', data=train_df, hue = 'Is_Lead', ax=ax[1])# countplot : 각 카테고리 값별로 데이터가 얼마나 있는지 표시 / countplot(x='column_name', data=dataframe)\n",
        "ax[1].set_title('Gender by Is_Lead')\n",
        "plt.show() # 막대 그래프"
      ],
      "metadata": {
        "colab": {
          "base_uri": "https://localhost:8080/",
          "height": 470
        },
        "id": "ZlPKKXIsFu2I",
        "outputId": "805e7847-f942-4e47-f995-dd3ead96f229"
      },
      "execution_count": 21,
      "outputs": [
        {
          "output_type": "display_data",
          "data": {
            "text/plain": [
              "<Figure size 1296x504 with 2 Axes>"
            ],
            "image/png": "[encoded data removed]"
          },
          "metadata": {
            "needs_background": "light"
          }
        }
      ]
    },
    {
      "cell_type": "code",
      "source": [
        "# Male의 Is_Lead가 1인 비율 26.51%\n",
        "train_df[train_df['Gender'] == 'Male']['Is_Lead'].value_counts(normalize=True) * 100"
      ],
      "metadata": {
        "colab": {
          "base_uri": "https://localhost:8080/"
        },
        "id": "duXrbl8N8g8Q",
        "outputId": "cfd5b7d2-f3e5-4f55-b986-8aa688ad0029"
      },
      "execution_count": 22,
      "outputs": [
        {
          "output_type": "execute_result",
          "data": {
            "text/plain": [
              "0    73.484504\n",
              "1    26.515496\n",
              "Name: Is_Lead, dtype: float64"
            ]
          },
          "metadata": {},
          "execution_count": 22
        }
      ]
    },
    {
      "cell_type": "code",
      "source": [
        "# Female의 Is_Lead가 1인 비율 20.35%\n",
        "train_df[train_df['Gender'] == 'Female']['Is_Lead'].value_counts(normalize=True) * 100"
      ],
      "metadata": {
        "colab": {
          "base_uri": "https://localhost:8080/"
        },
        "id": "GTgmCClE8RFS",
        "outputId": "cf6f3e3f-d096-4ac0-ae0c-143220399797"
      },
      "execution_count": 23,
      "outputs": [
        {
          "output_type": "execute_result",
          "data": {
            "text/plain": [
              "0    79.641884\n",
              "1    20.358116\n",
              "Name: Is_Lead, dtype: float64"
            ]
          },
          "metadata": {},
          "execution_count": 23
        }
      ]
    },
    {
      "cell_type": "markdown",
      "source": [
        "- 남성의 제안 관심 비율 26.51%\n",
        "\n",
        "- 여성의 제안 관심 비율 20.35%\n",
        "\n",
        "성별에 따른 제안 관심은 큰 차이가 없다."
      ],
      "metadata": {
        "id": "oARpndG07-Mx"
      }
    },
    {
      "cell_type": "code",
      "source": [
        "# Region_Code\n",
        "\n",
        "plt.figure(figsize = (30,8))\n",
        "sns.countplot('Region_Code', data=train_df, hue = 'Is_Lead')# countplot : 각 카테고리 값별로 데이터가 얼마나 있는지 표시 / countplot(x='column_name', data=dataframe)\n",
        "ax[0].set_title('Region_Code by Is_Lead')\n",
        "plt.show() # 막대 그래프"
      ],
      "metadata": {
        "colab": {
          "base_uri": "https://localhost:8080/",
          "height": 508
        },
        "id": "yoc87ff_SfrT",
        "outputId": "3c245c0a-847b-4dad-8468-e149e2808bdc"
      },
      "execution_count": 24,
      "outputs": [
        {
          "output_type": "display_data",
          "data": {
            "text/plain": [
              "<Figure size 2160x576 with 1 Axes>"
            ],
            "image/png": "[encoded data removed]"
          },
          "metadata": {
            "needs_background": "light"
          }
        }
      ]
    },
    {
      "cell_type": "code",
      "source": [
        "train_df[train_df['Region_Code'] == 'RG268']['Is_Lead'].value_counts(normalize=True) * 100"
      ],
      "metadata": {
        "colab": {
          "base_uri": "https://localhost:8080/"
        },
        "id": "wHL97WNTOS6g",
        "outputId": "fb28268e-28e2-47df-a9fa-1b133742cae1"
      },
      "execution_count": 25,
      "outputs": [
        {
          "output_type": "execute_result",
          "data": {
            "text/plain": [
              "0    70.020037\n",
              "1    29.979963\n",
              "Name: Is_Lead, dtype: float64"
            ]
          },
          "metadata": {},
          "execution_count": 25
        }
      ]
    },
    {
      "cell_type": "code",
      "source": [
        "train_df[train_df['Region_Code'] == 'RG283']['Is_Lead'].value_counts(normalize=True) * 100"
      ],
      "metadata": {
        "colab": {
          "base_uri": "https://localhost:8080/"
        },
        "id": "krb-QLn1ObEF",
        "outputId": "260015c8-24d9-4e58-a051-3b8e29002fb6"
      },
      "execution_count": 26,
      "outputs": [
        {
          "output_type": "execute_result",
          "data": {
            "text/plain": [
              "0    69.795349\n",
              "1    30.204651\n",
              "Name: Is_Lead, dtype: float64"
            ]
          },
          "metadata": {},
          "execution_count": 26
        }
      ]
    },
    {
      "cell_type": "code",
      "source": [
        "train_df[train_df['Region_Code'] == 'RG284']['Is_Lead'].value_counts(normalize=True) * 100"
      ],
      "metadata": {
        "colab": {
          "base_uri": "https://localhost:8080/"
        },
        "id": "ifhcfTdgOjCG",
        "outputId": "49932f6f-43cd-4bc4-a042-c9cf1dfb9bd4"
      },
      "execution_count": 27,
      "outputs": [
        {
          "output_type": "execute_result",
          "data": {
            "text/plain": [
              "0    69.89648\n",
              "1    30.10352\n",
              "Name: Is_Lead, dtype: float64"
            ]
          },
          "metadata": {},
          "execution_count": 27
        }
      ]
    },
    {
      "cell_type": "code",
      "source": [
        "train_df.groupby(['Region_Code', 'Is_Lead']).size().unstack(fill_value=0)"
      ],
      "metadata": {
        "colab": {
          "base_uri": "https://localhost:8080/",
          "height": 1000
        },
        "id": "Zu_9QTxRX8QE",
        "outputId": "c581e31f-4d1d-4165-8fd9-7621200abb3e"
      },
      "execution_count": 28,
      "outputs": [
        {
          "output_type": "execute_result",
          "data": {
            "text/plain": [
              "Is_Lead          0      1\n",
              "Region_Code              \n",
              "RG250         2103    393\n",
              "RG251         4569   1381\n",
              "RG252         3694    592\n",
              "RG253         1377    481\n",
              "RG254        21127   5713\n",
              "RG255         1549    469\n",
              "RG256         2446    401\n",
              "RG257         4931   1170\n",
              "RG258         1521    430\n",
              "RG259         2085    501\n",
              "RG260         2516    594\n",
              "RG261         6351   1282\n",
              "RG262         1465    323\n",
              "RG263         2869    818\n",
              "RG264         2410    383\n",
              "RG265         1146    400\n",
              "RG266         1358    220\n",
              "RG267         1274    223\n",
              "RG268        25161  10773\n",
              "RG269         6120   1743\n",
              "RG270         6606   1114\n",
              "RG271         1281    261\n",
              "RG272         4097   1155\n",
              "RG273         3428   1069\n",
              "RG274         4414    872\n",
              "RG275         2702    543\n",
              "RG276         1996    768\n",
              "RG277         9851   2975\n",
              "RG278         1422    400\n",
              "RG279         3079    897\n",
              "RG280         9766   3009\n",
              "RG281         3979   1114\n",
              "RG282         4709   1120\n",
              "RG283        20531   8885\n",
              "RG284        13504   5816"
            ],
            "text/html": [
              "\n",
              "  <div id=\"df-c004c1f1-4c21-44a7-90b0-3e63bf60419b\">\n",
              "    <div class=\"colab-df-container\">\n",
              "      <div>\n",
              "<style scoped>\n",
              "    .dataframe tbody tr th:only-of-type {\n",
              "        vertical-align: middle;\n",
              "    }\n",
              "\n",
              "    .dataframe tbody tr th {\n",
              "        vertical-align: top;\n",
              "    }\n",
              "\n",
              "    .dataframe thead th {\n",
              "        text-align: right;\n",
              "    }\n",
              "</style>\n",
              "<table border=\"1\" class=\"dataframe\">\n",
              "  <thead>\n",
              "    <tr style=\"text-align: right;\">\n",
              "      <th>Is_Lead</th>\n",
              "      <th>0</th>\n",
              "      <th>1</th>\n",
              "    </tr>\n",
              "    <tr>\n",
              "      <th>Region_Code</th>\n",
              "      <th></th>\n",
              "      <th></th>\n",
              "    </tr>\n",
              "  </thead>\n",
              "  <tbody>\n",
              "    <tr>\n",
              "      <th>RG250</th>\n",
              "      <td>2103</td>\n",
              "      <td>393</td>\n",
              "    </tr>\n",
              "    <tr>\n",
              "      <th>RG251</th>\n",
              "      <td>4569</td>\n",
              "      <td>1381</td>\n",
              "    </tr>\n",
              "    <tr>\n",
              "      <th>RG252</th>\n",
              "      <td>3694</td>\n",
              "      <td>592</td>\n",
              "    </tr>\n",
              "    <tr>\n",
              "      <th>RG253</th>\n",
              "      <td>1377</td>\n",
              "      <td>481</td>\n",
              "    </tr>\n",
              "    <tr>\n",
              "      <th>RG254</th>\n",
              "      <td>21127</td>\n",
              "      <td>5713</td>\n",
              "    </tr>\n",
              "    <tr>\n",
              "      <th>RG255</th>\n",
              "      <td>1549</td>\n",
              "      <td>469</td>\n",
              "    </tr>\n",
              "    <tr>\n",
              "      <th>RG256</th>\n",
              "      <td>2446</td>\n",
              "      <td>401</td>\n",
              "    </tr>\n",
              "    <tr>\n",
              "      <th>RG257</th>\n",
              "      <td>4931</td>\n",
              "      <td>1170</td>\n",
              "    </tr>\n",
              "    <tr>\n",
              "      <th>RG258</th>\n",
              "      <td>1521</td>\n",
              "      <td>430</td>\n",
              "    </tr>\n",
              "    <tr>\n",
              "      <th>RG259</th>\n",
              "      <td>2085</td>\n",
              "      <td>501</td>\n",
              "    </tr>\n",
              "    <tr>\n",
              "      <th>RG260</th>\n",
              "      <td>2516</td>\n",
              "      <td>594</td>\n",
              "    </tr>\n",
              "    <tr>\n",
              "      <th>RG261</th>\n",
              "      <td>6351</td>\n",
              "      <td>1282</td>\n",
              "    </tr>\n",
              "    <tr>\n",
              "      <th>RG262</th>\n",
              "      <td>1465</td>\n",
              "      <td>323</td>\n",
              "    </tr>\n",
              "    <tr>\n",
              "      <th>RG263</th>\n",
              "      <td>2869</td>\n",
              "      <td>818</td>\n",
              "    </tr>\n",
              "    <tr>\n",
              "      <th>RG264</th>\n",
              "      <td>2410</td>\n",
              "      <td>383</td>\n",
              "    </tr>\n",
              "    <tr>\n",
              "      <th>RG265</th>\n",
              "      <td>1146</td>\n",
              "      <td>400</td>\n",
              "    </tr>\n",
              "    <tr>\n",
              "      <th>RG266</th>\n",
              "      <td>1358</td>\n",
              "      <td>220</td>\n",
              "    </tr>\n",
              "    <tr>\n",
              "      <th>RG267</th>\n",
              "      <td>1274</td>\n",
              "      <td>223</td>\n",
              "    </tr>\n",
              "    <tr>\n",
              "      <th>RG268</th>\n",
              "      <td>25161</td>\n",
              "      <td>10773</td>\n",
              "    </tr>\n",
              "    <tr>\n",
              "      <th>RG269</th>\n",
              "      <td>6120</td>\n",
              "      <td>1743</td>\n",
              "    </tr>\n",
              "    <tr>\n",
              "      <th>RG270</th>\n",
              "      <td>6606</td>\n",
              "      <td>1114</td>\n",
              "    </tr>\n",
              "    <tr>\n",
              "      <th>RG271</th>\n",
              "      <td>1281</td>\n",
              "      <td>261</td>\n",
              "    </tr>\n",
              "    <tr>\n",
              "      <th>RG272</th>\n",
              "      <td>4097</td>\n",
              "      <td>1155</td>\n",
              "    </tr>\n",
              "    <tr>\n",
              "      <th>RG273</th>\n",
              "      <td>3428</td>\n",
              "      <td>1069</td>\n",
              "    </tr>\n",
              "    <tr>\n",
              "      <th>RG274</th>\n",
              "      <td>4414</td>\n",
              "      <td>872</td>\n",
              "    </tr>\n",
              "    <tr>\n",
              "      <th>RG275</th>\n",
              "      <td>2702</td>\n",
              "      <td>543</td>\n",
              "    </tr>\n",
              "    <tr>\n",
              "      <th>RG276</th>\n",
              "      <td>1996</td>\n",
              "      <td>768</td>\n",
              "    </tr>\n",
              "    <tr>\n",
              "      <th>RG277</th>\n",
              "      <td>9851</td>\n",
              "      <td>2975</td>\n",
              "    </tr>\n",
              "    <tr>\n",
              "      <th>RG278</th>\n",
              "      <td>1422</td>\n",
              "      <td>400</td>\n",
              "    </tr>\n",
              "    <tr>\n",
              "      <th>RG279</th>\n",
              "      <td>3079</td>\n",
              "      <td>897</td>\n",
              "    </tr>\n",
              "    <tr>\n",
              "      <th>RG280</th>\n",
              "      <td>9766</td>\n",
              "      <td>3009</td>\n",
              "    </tr>\n",
              "    <tr>\n",
              "      <th>RG281</th>\n",
              "      <td>3979</td>\n",
              "      <td>1114</td>\n",
              "    </tr>\n",
              "    <tr>\n",
              "      <th>RG282</th>\n",
              "      <td>4709</td>\n",
              "      <td>1120</td>\n",
              "    </tr>\n",
              "    <tr>\n",
              "      <th>RG283</th>\n",
              "      <td>20531</td>\n",
              "      <td>8885</td>\n",
              "    </tr>\n",
              "    <tr>\n",
              "      <th>RG284</th>\n",
              "      <td>13504</td>\n",
              "      <td>5816</td>\n",
              "    </tr>\n",
              "  </tbody>\n",
              "</table>\n",
              "</div>\n",
              "      <button class=\"colab-df-convert\" onclick=\"convertToInteractive('df-c004c1f1-4c21-44a7-90b0-3e63bf60419b')\"\n",
              "              title=\"Convert this dataframe to an interactive table.\"\n",
              "              style=\"display:none;\">\n",
              "        \n",
              "  <svg xmlns=\"http://www.w3.org/2000/svg\" height=\"24px\"viewBox=\"0 0 24 24\"\n",
              "       width=\"24px\">\n",
              "    <path d=\"M0 0h24v24H0V0z\" fill=\"none\"/>\n",
              "    <path d=\"M18.56 5.44l.94 2.06.94-2.06 2.06-.94-2.06-.94-.94-2.06-.94 2.06-2.06.94zm-11 1L8.5 8.5l.94-2.06 2.06-.94-2.06-.94L8.5 2.5l-.94 2.06-2.06.94zm10 10l.94 2.06.94-2.06 2.06-.94-2.06-.94-.94-2.06-.94 2.06-2.06.94z\"/><path d=\"M17.41 7.96l-1.37-1.37c-.4-.4-.92-.59-1.43-.59-.52 0-1.04.2-1.43.59L10.3 9.45l-7.72 7.72c-.78.78-.78 2.05 0 2.83L4 21.41c.39.39.9.59 1.41.59.51 0 1.02-.2 1.41-.59l7.78-7.78 2.81-2.81c.8-.78.8-2.07 0-2.86zM5.41 20L4 18.59l7.72-7.72 1.47 1.35L5.41 20z\"/>\n",
              "  </svg>\n",
              "      </button>\n",
              "      \n",
              "  <style>\n",
              "    .colab-df-container {\n",
              "      display:flex;\n",
              "      flex-wrap:wrap;\n",
              "      gap: 12px;\n",
              "    }\n",
              "\n",
              "    .colab-df-convert {\n",
              "      background-color: #E8F0FE;\n",
              "      border: none;\n",
              "      border-radius: 50%;\n",
              "      cursor: pointer;\n",
              "      display: none;\n",
              "      fill: #1967D2;\n",
              "      height: 32px;\n",
              "      padding: 0 0 0 0;\n",
              "      width: 32px;\n",
              "    }\n",
              "\n",
              "    .colab-df-convert:hover {\n",
              "      background-color: #E2EBFA;\n",
              "      box-shadow: 0px 1px 2px rgba(60, 64, 67, 0.3), 0px 1px 3px 1px rgba(60, 64, 67, 0.15);\n",
              "      fill: #174EA6;\n",
              "    }\n",
              "\n",
              "    [theme=dark] .colab-df-convert {\n",
              "      background-color: #3B4455;\n",
              "      fill: #D2E3FC;\n",
              "    }\n",
              "\n",
              "    [theme=dark] .colab-df-convert:hover {\n",
              "      background-color: #434B5C;\n",
              "      box-shadow: 0px 1px 3px 1px rgba(0, 0, 0, 0.15);\n",
              "      filter: drop-shadow(0px 1px 2px rgba(0, 0, 0, 0.3));\n",
              "      fill: #FFFFFF;\n",
              "    }\n",
              "  </style>\n",
              "\n",
              "      <script>\n",
              "        const buttonEl =\n",
              "          document.querySelector('#df-c004c1f1-4c21-44a7-90b0-3e63bf60419b button.colab-df-convert');\n",
              "        buttonEl.style.display =\n",
              "          google.colab.kernel.accessAllowed ? 'block' : 'none';\n",
              "\n",
              "        async function convertToInteractive(key) {\n",
              "          const element = document.querySelector('#df-c004c1f1-4c21-44a7-90b0-3e63bf60419b');\n",
              "          const dataTable =\n",
              "            await google.colab.kernel.invokeFunction('convertToInteractive',\n",
              "                                                     [key], {});\n",
              "          if (!dataTable) return;\n",
              "\n",
              "          const docLinkHtml = 'Like what you see? Visit the ' +\n",
              "            '<a target=\"_blank\" href=https://colab.research.google.com/notebooks/data_table.ipynb>data table notebook</a>'\n",
              "            + ' to learn more about interactive tables.';\n",
              "          element.innerHTML = '';\n",
              "          dataTable['output_type'] = 'display_data';\n",
              "          await google.colab.output.renderOutput(dataTable, element);\n",
              "          const docLink = document.createElement('div');\n",
              "          docLink.innerHTML = docLinkHtml;\n",
              "          element.appendChild(docLink);\n",
              "        }\n",
              "      </script>\n",
              "    </div>\n",
              "  </div>\n",
              "  "
            ]
          },
          "metadata": {},
          "execution_count": 28
        }
      ]
    },
    {
      "cell_type": "code",
      "source": [
        "region_groups = train_df.groupby('Region_Code')\n",
        "\n",
        "region_groups.mean()['Is_Lead'].sort_values(ascending=False)"
      ],
      "metadata": {
        "colab": {
          "base_uri": "https://localhost:8080/"
        },
        "id": "QNSv33rjX1Gt",
        "outputId": "2b85335a-4b1f-41ff-cb07-733b7a04735d"
      },
      "execution_count": 29,
      "outputs": [
        {
          "output_type": "execute_result",
          "data": {
            "text/plain": [
              "Region_Code\n",
              "RG283    0.302047\n",
              "RG284    0.301035\n",
              "RG268    0.299800\n",
              "RG276    0.277858\n",
              "RG253    0.258881\n",
              "RG265    0.258732\n",
              "RG273    0.237714\n",
              "RG280    0.235538\n",
              "RG255    0.232408\n",
              "RG251    0.232101\n",
              "RG277    0.231951\n",
              "RG279    0.225604\n",
              "RG263    0.221861\n",
              "RG269    0.221671\n",
              "RG258    0.220400\n",
              "RG272    0.219916\n",
              "RG278    0.219539\n",
              "RG281    0.218732\n",
              "RG254    0.212854\n",
              "RG259    0.193735\n",
              "RG282    0.192143\n",
              "RG257    0.191772\n",
              "RG260    0.190997\n",
              "RG262    0.180649\n",
              "RG271    0.169261\n",
              "RG261    0.167955\n",
              "RG275    0.167334\n",
              "RG274    0.164964\n",
              "RG250    0.157452\n",
              "RG267    0.148965\n",
              "RG270    0.144301\n",
              "RG256    0.140850\n",
              "RG266    0.139417\n",
              "RG252    0.138124\n",
              "RG264    0.137129\n",
              "Name: Is_Lead, dtype: float64"
            ]
          },
          "metadata": {},
          "execution_count": 29
        }
      ]
    },
    {
      "cell_type": "code",
      "source": [
        "region_groups.mean()['Is_Lead'].sort_values(ascending=False).plot.bar();"
      ],
      "metadata": {
        "colab": {
          "base_uri": "https://localhost:8080/",
          "height": 423
        },
        "id": "V7FArSYhj5zs",
        "outputId": "8ecff731-9fad-4e5b-c7e2-c08ab6fc5fc0"
      },
      "execution_count": 30,
      "outputs": [
        {
          "output_type": "display_data",
          "data": {
            "text/plain": [
              "<Figure size 720x432 with 1 Axes>"
            ],
            "image/png": "[encoded data removed]"
          },
          "metadata": {
            "needs_background": "light"
          }
        }
      ]
    },
    {
      "cell_type": "markdown",
      "source": [
        "- Region Code 중 Is_Lead가 '1'인 고객 비율이 높은 곳은 다른 곳과 어떤 차이가 있는지 확인해봐야한다.\n",
        "- High cardinality를 띄기 때문에 인코딩 시 주의할 것\n"
      ],
      "metadata": {
        "id": "SCCYSelF_Sjd"
      }
    },
    {
      "cell_type": "code",
      "source": [
        "# Occupation\n",
        "\n",
        "plt.subplots(figsize= (15, 7))\n",
        "sns.countplot(x = 'Occupation', hue='Is_Lead', data=train_df);"
      ],
      "metadata": {
        "colab": {
          "base_uri": "https://localhost:8080/",
          "height": 455
        },
        "id": "mt6sq6iIiTnz",
        "outputId": "33d5d795-c6c3-46ec-d73f-8c029bcf8703"
      },
      "execution_count": 31,
      "outputs": [
        {
          "output_type": "display_data",
          "data": {
            "text/plain": [
              "<Figure size 1080x504 with 1 Axes>"
            ],
            "image/png": "[encoded data removed]"
          },
          "metadata": {
            "needs_background": "light"
          }
        }
      ]
    },
    {
      "cell_type": "code",
      "source": [
        "# Other \n",
        "train_df[train_df['Occupation'] == 'Other']['Is_Lead'].value_counts(normalize=True) * 100"
      ],
      "metadata": {
        "colab": {
          "base_uri": "https://localhost:8080/"
        },
        "id": "Z1qb6buB_0_h",
        "outputId": "fd33b644-8255-4625-d049-d95e94643dd8"
      },
      "execution_count": 32,
      "outputs": [
        {
          "output_type": "execute_result",
          "data": {
            "text/plain": [
              "0    75.504824\n",
              "1    24.495176\n",
              "Name: Is_Lead, dtype: float64"
            ]
          },
          "metadata": {},
          "execution_count": 32
        }
      ]
    },
    {
      "cell_type": "code",
      "source": [
        "# Salaried\n",
        "train_df[train_df['Occupation'] == 'Salaried']['Is_Lead'].value_counts(normalize=True) * 100"
      ],
      "metadata": {
        "colab": {
          "base_uri": "https://localhost:8080/"
        },
        "id": "HDxF8NCE_8PF",
        "outputId": "c2b34d96-6814-4b27-bde6-183fe6bce915"
      },
      "execution_count": 33,
      "outputs": [
        {
          "output_type": "execute_result",
          "data": {
            "text/plain": [
              "0    84.033112\n",
              "1    15.966888\n",
              "Name: Is_Lead, dtype: float64"
            ]
          },
          "metadata": {},
          "execution_count": 33
        }
      ]
    },
    {
      "cell_type": "code",
      "source": [
        "# Self_Employed\n",
        "train_df[train_df['Occupation'] == 'Self_Employed']['Is_Lead'].value_counts(normalize=True) * 100"
      ],
      "metadata": {
        "colab": {
          "base_uri": "https://localhost:8080/"
        },
        "id": "7UQmcC4fAAJ4",
        "outputId": "ca06ce2e-05ab-4f65-eb56-6f981a6ab5cc"
      },
      "execution_count": 34,
      "outputs": [
        {
          "output_type": "execute_result",
          "data": {
            "text/plain": [
              "0    72.403505\n",
              "1    27.596495\n",
              "Name: Is_Lead, dtype: float64"
            ]
          },
          "metadata": {},
          "execution_count": 34
        }
      ]
    },
    {
      "cell_type": "code",
      "source": [
        "# Entrepreneur\n",
        "train_df[train_df['Occupation'] == 'Entrepreneur']['Is_Lead'].value_counts(normalize=True) * 100"
      ],
      "metadata": {
        "colab": {
          "base_uri": "https://localhost:8080/"
        },
        "id": "13wR2Q6UAFba",
        "outputId": "b03bf5c7-90a1-472b-9d94-3e1cf7c65e10"
      },
      "execution_count": 35,
      "outputs": [
        {
          "output_type": "execute_result",
          "data": {
            "text/plain": [
              "1    66.066742\n",
              "0    33.933258\n",
              "Name: Is_Lead, dtype: float64"
            ]
          },
          "metadata": {},
          "execution_count": 35
        }
      ]
    },
    {
      "cell_type": "markdown",
      "source": [
        " Occupation 중\n",
        "\n",
        " - 'Other'의 제안 관심 비율 24.49%\n",
        "\n",
        " - 'Salaried'의 제안 관심 비율 15.96%\n",
        "\n",
        " - 'Self_Employed'의 제안 관심 비율 27.59%\n",
        "\n",
        " - 'Entrepreneur'의 제안 관심 비율 66.06%\n",
        "\n",
        "\n",
        " Entrepreneur의 66%가 제안에 관심이 많다. 하지만 절대 수가 적기 때문에 전체 비율에서 미치는 영향은 낮다.\n",
        " 그 다음으로는 Self_Employed와 Other가 비슷한 비율을 보였고, Salaried의 관심 비율은 낮았다.\n",
        "\n",
        " 사업가의 관심이 높은 제안이다."
      ],
      "metadata": {
        "id": "r_FkBj_WL6zD"
      }
    },
    {
      "cell_type": "code",
      "source": [
        "# Channel_Code\n",
        "\n",
        "plt.subplots(figsize= (15, 7))\n",
        "sns.countplot(x = 'Channel_Code', hue='Is_Lead', data=train_df);"
      ],
      "metadata": {
        "id": "6shWP9AOjO3r",
        "colab": {
          "base_uri": "https://localhost:8080/",
          "height": 454
        },
        "outputId": "181e1b36-ee32-464f-8a64-679945ac76d2"
      },
      "execution_count": 36,
      "outputs": [
        {
          "output_type": "display_data",
          "data": {
            "text/plain": [
              "<Figure size 1080x504 with 1 Axes>"
            ],
            "image/png": "[encoded data removed]"
          },
          "metadata": {
            "needs_background": "light"
          }
        }
      ]
    },
    {
      "cell_type": "code",
      "source": [
        "train_df[train_df['Channel_Code'] == 'X1']['Is_Lead'].value_counts(normalize=True) * 100"
      ],
      "metadata": {
        "colab": {
          "base_uri": "https://localhost:8080/"
        },
        "id": "cNUOwZ3g-DXV",
        "outputId": "6dedd642-8b21-4243-a107-0e5e9014e08d"
      },
      "execution_count": 37,
      "outputs": [
        {
          "output_type": "execute_result",
          "data": {
            "text/plain": [
              "0    90.857903\n",
              "1     9.142097\n",
              "Name: Is_Lead, dtype: float64"
            ]
          },
          "metadata": {},
          "execution_count": 37
        }
      ]
    },
    {
      "cell_type": "code",
      "source": [
        "train_df[train_df['Channel_Code'] == 'X2']['Is_Lead'].value_counts(normalize=True) * 100"
      ],
      "metadata": {
        "colab": {
          "base_uri": "https://localhost:8080/"
        },
        "id": "_WfVm1Sn-O4o",
        "outputId": "7debf59c-7436-437d-80c3-5891fbcac4ee"
      },
      "execution_count": 38,
      "outputs": [
        {
          "output_type": "execute_result",
          "data": {
            "text/plain": [
              "0    67.210525\n",
              "1    32.789475\n",
              "Name: Is_Lead, dtype: float64"
            ]
          },
          "metadata": {},
          "execution_count": 38
        }
      ]
    },
    {
      "cell_type": "code",
      "source": [
        "train_df[train_df['Channel_Code'] == 'X3']['Is_Lead'].value_counts(normalize=True) * 100"
      ],
      "metadata": {
        "colab": {
          "base_uri": "https://localhost:8080/"
        },
        "id": "jin4wdxn-XFG",
        "outputId": "43dd0d44-b7a5-4cd0-bf2c-6aadc3e08a4f"
      },
      "execution_count": 39,
      "outputs": [
        {
          "output_type": "execute_result",
          "data": {
            "text/plain": [
              "0    63.297532\n",
              "1    36.702468\n",
              "Name: Is_Lead, dtype: float64"
            ]
          },
          "metadata": {},
          "execution_count": 39
        }
      ]
    },
    {
      "cell_type": "code",
      "source": [
        "train_df[train_df['Channel_Code'] == 'X4']['Is_Lead'].value_counts(normalize=True) * 100"
      ],
      "metadata": {
        "colab": {
          "base_uri": "https://localhost:8080/"
        },
        "id": "X5Y6LKT--Zp0",
        "outputId": "89b6e09b-6d2a-4af7-cccb-8215e86c120e"
      },
      "execution_count": 40,
      "outputs": [
        {
          "output_type": "execute_result",
          "data": {
            "text/plain": [
              "0    75.219968\n",
              "1    24.780032\n",
              "Name: Is_Lead, dtype: float64"
            ]
          },
          "metadata": {},
          "execution_count": 40
        }
      ]
    },
    {
      "cell_type": "markdown",
      "source": [
        " - X2, X3의 제안 관심 비율은 각각 32.78%, 36,70%로 나왔다.\n",
        " - X1의 관심 비율이 상대적으로 낮다."
      ],
      "metadata": {
        "id": "vynj6dAakS-L"
      }
    },
    {
      "cell_type": "code",
      "source": [
        "# Credit_Product\n",
        "sns.countplot('Credit_Product', data=train_df, hue = 'Is_Lead');"
      ],
      "metadata": {
        "colab": {
          "base_uri": "https://localhost:8080/",
          "height": 403
        },
        "id": "xBLG7eQK1xki",
        "outputId": "d207671d-9c76-46de-855b-8bc7e4b190a2"
      },
      "execution_count": 41,
      "outputs": [
        {
          "output_type": "display_data",
          "data": {
            "text/plain": [
              "<Figure size 720x432 with 1 Axes>"
            ],
            "image/png": "[encoded data removed]"
          },
          "metadata": {
            "needs_background": "light"
          }
        }
      ]
    },
    {
      "cell_type": "code",
      "source": [
        "train_df[train_df['Credit_Product'] == 'Yes']['Is_Lead'].value_counts(normalize=True) * 100"
      ],
      "metadata": {
        "colab": {
          "base_uri": "https://localhost:8080/"
        },
        "id": "Cl1tG8bW-wP0",
        "outputId": "9450a5ed-80be-44c2-992f-65907402393f"
      },
      "execution_count": 42,
      "outputs": [
        {
          "output_type": "execute_result",
          "data": {
            "text/plain": [
              "0    68.504921\n",
              "1    31.495079\n",
              "Name: Is_Lead, dtype: float64"
            ]
          },
          "metadata": {},
          "execution_count": 42
        }
      ]
    },
    {
      "cell_type": "code",
      "source": [
        "train_df[train_df['Credit_Product'] == 'No']['Is_Lead'].value_counts(normalize=True) * 100"
      ],
      "metadata": {
        "colab": {
          "base_uri": "https://localhost:8080/"
        },
        "id": "Xf9O5xxz-3Zd",
        "outputId": "94adf67d-47a5-4032-9264-4dfa442cc6cb"
      },
      "execution_count": 43,
      "outputs": [
        {
          "output_type": "execute_result",
          "data": {
            "text/plain": [
              "0    92.64116\n",
              "1     7.35884\n",
              "Name: Is_Lead, dtype: float64"
            ]
          },
          "metadata": {},
          "execution_count": 43
        }
      ]
    },
    {
      "cell_type": "markdown",
      "source": [
        "* 이용 중인 'Credit_Product'가 있는 고객의 제안 관심 비율은 31.49%\n",
        "* 이용 중인 'Credit_Product'가 없는 고객의 제안 관심 비율은 7.35%"
      ],
      "metadata": {
        "id": "yQvIExYLlSQd"
      }
    },
    {
      "cell_type": "code",
      "source": [
        "# Is_Active\n",
        "sns.countplot('Is_Active', data=train_df, hue = 'Is_Lead');"
      ],
      "metadata": {
        "colab": {
          "base_uri": "https://localhost:8080/",
          "height": 400
        },
        "id": "9f6C2euy2T2V",
        "outputId": "718caf7c-4368-4fa2-d238-f3476d72411e"
      },
      "execution_count": 44,
      "outputs": [
        {
          "output_type": "display_data",
          "data": {
            "text/plain": [
              "<Figure size 720x432 with 1 Axes>"
            ],
            "image/png": "[encoded data removed]"
          },
          "metadata": {
            "needs_background": "light"
          }
        }
      ]
    },
    {
      "cell_type": "code",
      "source": [
        "train_df[train_df['Is_Active'] == 'Yes']['Is_Lead'].value_counts(normalize=True) * 100"
      ],
      "metadata": {
        "colab": {
          "base_uri": "https://localhost:8080/"
        },
        "id": "pwH5O5gj_jIs",
        "outputId": "545c9360-5b05-4e8e-b901-55545b16fd78"
      },
      "execution_count": 45,
      "outputs": [
        {
          "output_type": "execute_result",
          "data": {
            "text/plain": [
              "0    71.703254\n",
              "1    28.296746\n",
              "Name: Is_Lead, dtype: float64"
            ]
          },
          "metadata": {},
          "execution_count": 45
        }
      ]
    },
    {
      "cell_type": "code",
      "source": [
        "train_df[train_df['Is_Active'] == 'No']['Is_Lead'].value_counts(normalize=True) * 100"
      ],
      "metadata": {
        "colab": {
          "base_uri": "https://localhost:8080/"
        },
        "id": "a-HtAWK5_rvn",
        "outputId": "f63433ed-3f12-47f9-8118-d24317d7687d"
      },
      "execution_count": 46,
      "outputs": [
        {
          "output_type": "execute_result",
          "data": {
            "text/plain": [
              "0    79.184909\n",
              "1    20.815091\n",
              "Name: Is_Lead, dtype: float64"
            ]
          },
          "metadata": {},
          "execution_count": 46
        }
      ]
    },
    {
      "cell_type": "markdown",
      "source": [
        "* 'Is_Active'가 Yes인 고객 중 제안 관심 비율은 28.29%\n",
        "* 'Is_Active'가 No인 고객 중 제안 관심 비율은 20.81%"
      ],
      "metadata": {
        "id": "LeDEQBRl6zRf"
      }
    },
    {
      "cell_type": "markdown",
      "source": [
        "## 이상치(Outlier) 제거\n",
        "\n",
        "Numerical features의 이상치 제거\n",
        "\n",
        "분석과 모델학습에 영향을 줄 수 있는 이상치를 제거한다."
      ],
      "metadata": {
        "id": "uB4TEWTcPbQ6"
      }
    },
    {
      "cell_type": "code",
      "source": [
        "Q1 = train_df[['Age','Vintage','Avg_Account_Balance']].quantile(q=0.25)\n",
        "Q3 = train_df[['Age','Vintage','Avg_Account_Balance']].quantile(q=0.75)\n",
        "\n",
        "print(Q1)\n",
        "print(Q3)"
      ],
      "metadata": {
        "colab": {
          "base_uri": "https://localhost:8080/"
        },
        "id": "_9vMDYDzODXY",
        "outputId": "6335a05f-c9da-4372-e819-2468ad76e800"
      },
      "execution_count": 47,
      "outputs": [
        {
          "output_type": "stream",
          "name": "stdout",
          "text": [
            "Age                        30.0\n",
            "Vintage                    20.0\n",
            "Avg_Account_Balance    604310.0\n",
            "Name: 0.25, dtype: float64\n",
            "Age                         54.0\n",
            "Vintage                     73.0\n",
            "Avg_Account_Balance    1366666.0\n",
            "Name: 0.75, dtype: float64\n"
          ]
        }
      ]
    },
    {
      "cell_type": "code",
      "source": [
        "IQR = Q3 - Q1\n",
        "\n",
        "IQR_df = train_df[(train_df['Age'] < (Q1['Age']-1.5*IQR['Age'])) | (train_df['Age'] > (Q3['Age']+1.5*IQR['Age']))]\n",
        "IQR_df = train_df[(train_df['Vintage'] < (Q1['Vintage']-1.5*IQR['Vintage'])) | (train_df['Vintage'] > (Q3['Vintage']+1.5*IQR['Vintage']))]\n",
        "IQR_df = train_df[(train_df['Avg_Account_Balance'] < (Q1['Avg_Account_Balance']-1.5*IQR['Avg_Account_Balance'])) | (train_df['Avg_Account_Balance'] > (Q3['Avg_Account_Balance']+1.5*IQR['Avg_Account_Balance']))]\n",
        "\n",
        "print(IQR_df)\n"
      ],
      "metadata": {
        "colab": {
          "base_uri": "https://localhost:8080/"
        },
        "id": "OOzYXh5XQXQN",
        "outputId": "e6f7c4bf-8485-4611-b839-15602d126a64"
      },
      "execution_count": 48,
      "outputs": [
        {
          "output_type": "stream",
          "name": "stdout",
          "text": [
            "        Gender  Age Region_Code     Occupation Channel_Code  Vintage  \\\n",
            "35      Female   29       RG284       Salaried           X1       26   \n",
            "71        Male   27       RG254       Salaried           X1       13   \n",
            "113     Female   27       RG268       Salaried           X1       21   \n",
            "184     Female   74       RG268          Other           X3       33   \n",
            "205       Male   33       RG268          Other           X1       25   \n",
            "...        ...  ...         ...            ...          ...      ...   \n",
            "245638    Male   48       RG283  Self_Employed           X2       31   \n",
            "245653    Male   46       RG257  Self_Employed           X1       26   \n",
            "245661  Female   30       RG276       Salaried           X1       15   \n",
            "245676    Male   35       RG253  Self_Employed           X2       61   \n",
            "245701    Male   32       RG277       Salaried           X1       13   \n",
            "\n",
            "       Credit_Product  Avg_Account_Balance Is_Active  Is_Lead  \n",
            "35                 No              2521592        No        0  \n",
            "71                 No              2824468        No        0  \n",
            "113                No              6278683       Yes        0  \n",
            "184                No              5878049       Yes        0  \n",
            "205                No              2952343        No        0  \n",
            "...               ...                  ...       ...      ...  \n",
            "245638             No              5396737        No        0  \n",
            "245653            Yes              6900312        No        1  \n",
            "245661             No              3566719       Yes        0  \n",
            "245676             No              2769973       Yes        0  \n",
            "245701            Yes              9491986        No        0  \n",
            "\n",
            "[14612 rows x 10 columns]\n"
          ]
        }
      ]
    },
    {
      "cell_type": "code",
      "source": [
        "train_df = train_df.drop(IQR_df.index, axis = 0)\n",
        "\n",
        "print(train_df)"
      ],
      "metadata": {
        "colab": {
          "base_uri": "https://localhost:8080/"
        },
        "id": "oH8jk1dvU4Mb",
        "outputId": "a1b77057-b51b-4301-83b7-ce7ef3ee6274"
      },
      "execution_count": 49,
      "outputs": [
        {
          "output_type": "stream",
          "name": "stdout",
          "text": [
            "        Gender  Age Region_Code     Occupation Channel_Code  Vintage  \\\n",
            "0       Female   73       RG268          Other           X3       43   \n",
            "1       Female   30       RG277       Salaried           X1       32   \n",
            "2       Female   56       RG268  Self_Employed           X3       26   \n",
            "3         Male   34       RG270       Salaried           X1       19   \n",
            "4       Female   30       RG282       Salaried           X1       33   \n",
            "...        ...  ...         ...            ...          ...      ...   \n",
            "245720    Male   51       RG284  Self_Employed           X3      109   \n",
            "245721    Male   27       RG268       Salaried           X1       15   \n",
            "245722  Female   26       RG281       Salaried           X1       13   \n",
            "245723  Female   28       RG273       Salaried           X1       31   \n",
            "245724    Male   29       RG269       Salaried           X1       21   \n",
            "\n",
            "       Credit_Product  Avg_Account_Balance Is_Active  Is_Lead  \n",
            "0                  No              1045696        No        0  \n",
            "1                  No               581988        No        0  \n",
            "2                  No              1484315       Yes        0  \n",
            "3                  No               470454        No        0  \n",
            "4                  No               886787        No        0  \n",
            "...               ...                  ...       ...      ...  \n",
            "245720            NaN              1925586        No        0  \n",
            "245721             No               862952       Yes        0  \n",
            "245722             No               670659        No        0  \n",
            "245723             No               407504        No        0  \n",
            "245724             No              1129276        No        0  \n",
            "\n",
            "[231113 rows x 10 columns]\n"
          ]
        }
      ]
    },
    {
      "cell_type": "markdown",
      "source": [
        "### 범주형 데이터인 Credit_Product의 결측치 처리"
      ],
      "metadata": {
        "id": "IGU9D0Jx8x2x"
      }
    },
    {
      "cell_type": "code",
      "source": [
        "# https://www.analyticsvidhya.com/blog/2021/04/how-to-handle-missing-values-of-categorical-variables/ \n",
        "# 결측값을 가장 빈번한 값으로 대체하여 진행\n",
        "train_df['Credit_Product'].value_counts()"
      ],
      "metadata": {
        "id": "GAq2y0YW8xlh",
        "outputId": "8faa4ed5-82c0-454d-e283-065631f8c59e",
        "colab": {
          "base_uri": "https://localhost:8080/"
        }
      },
      "execution_count": 50,
      "outputs": [
        {
          "output_type": "execute_result",
          "data": {
            "text/plain": [
              "No     136445\n",
              "Yes     67344\n",
              "Name: Credit_Product, dtype: int64"
            ]
          },
          "metadata": {},
          "execution_count": 50
        }
      ]
    },
    {
      "cell_type": "code",
      "source": [
        "train_df = train_df.fillna(train_df.mode().iloc[0])\n",
        "train_df['Credit_Product'].value_counts()"
      ],
      "metadata": {
        "id": "1tAlL2aT9QV6",
        "outputId": "b0e7002d-43a9-49c5-815c-d97c3b6f4d6d",
        "colab": {
          "base_uri": "https://localhost:8080/"
        }
      },
      "execution_count": 51,
      "outputs": [
        {
          "output_type": "execute_result",
          "data": {
            "text/plain": [
              "No     163769\n",
              "Yes     67344\n",
              "Name: Credit_Product, dtype: int64"
            ]
          },
          "metadata": {},
          "execution_count": 51
        }
      ]
    },
    {
      "cell_type": "markdown",
      "source": [
        "cardinality가 높은 Region_Code feature를 삭제하고 진행하거나 LGBM 모델 사용"
      ],
      "metadata": {
        "id": "Cr5Y9QNsJdXc"
      }
    },
    {
      "cell_type": "markdown",
      "source": [
        "# 가설 검정 진행"
      ],
      "metadata": {
        "id": "NwiKltxLdi6O"
      }
    },
    {
      "cell_type": "markdown",
      "source": [
        "### train_df를 train, validation 데이터로 나누기기"
      ],
      "metadata": {
        "id": "I0xrcC9m4wNd"
      }
    },
    {
      "cell_type": "code",
      "source": [
        "# stratify => 계층적 데이터 추출 옵션 (분류 모델에서 추천!) 여러 층으로 분할후 각 층별로 렌덤 데이터 추출, 원래 데이터의 분포와 유사하게 데이터 추출\n",
        "train, val = train_test_split(train_df, train_size=0.80, test_size=0.20,\n",
        "                              stratify = train_df['Is_Lead'], random_state=42)"
      ],
      "metadata": {
        "id": "TF6Fv7SY0nRs"
      },
      "execution_count": 14,
      "outputs": []
    },
    {
      "cell_type": "code",
      "source": [
        "train.shape, val.shape"
      ],
      "metadata": {
        "id": "9RrvwKPVuldS",
        "outputId": "c292e7ea-d5e0-48e4-c37e-250f65f4c75a",
        "colab": {
          "base_uri": "https://localhost:8080/"
        }
      },
      "execution_count": 15,
      "outputs": [
        {
          "output_type": "execute_result",
          "data": {
            "text/plain": [
              "((196580, 10), (49145, 10))"
            ]
          },
          "metadata": {},
          "execution_count": 15
        }
      ]
    },
    {
      "cell_type": "code",
      "source": [
        "# 데이터에서 타겟과 특성 분리\n",
        "features = train.drop(columns=[target]).columns\n",
        "\n",
        "# train/val/test 데이터를 특성과 타겟으로 분리\n",
        "\n",
        "X_train = train[features]\n",
        "y_train = train[target]\n",
        "X_val = val[features]\n",
        "y_val = val[target]\n",
        "X_test = test_df[features]"
      ],
      "metadata": {
        "id": "sKkijjfO1INC"
      },
      "execution_count": 16,
      "outputs": []
    },
    {
      "cell_type": "code",
      "source": [
        "# 분류문제의 기준모델 \n",
        "from sklearn.metrics import accuracy_score\n",
        "\n",
        "major = y_train.mode()[0]\n",
        "\n",
        "# 타겟 샘플 수 만큼 0이 담긴 리스트를 만들어 기준모델로 예측\n",
        "pred = [major] * len(y_train)\n",
        "val_pred = [major] * len(y_val)\n",
        "\n",
        "print(\"training_accuracy_score: \", accuracy_score(y_train, pred))\n",
        "print(\"validation_accuracy_score: \", accuracy_score(y_val, val_pred))"
      ],
      "metadata": {
        "id": "kk-zzlBb5nNx",
        "outputId": "36640952-896b-4215-d920-128323b71fc9",
        "colab": {
          "base_uri": "https://localhost:8080/"
        }
      },
      "execution_count": 17,
      "outputs": [
        {
          "output_type": "stream",
          "name": "stdout",
          "text": [
            "training_accuracy_score:  0.7627937735273171\n",
            "validation_accuracy_score:  0.7627835995523451\n"
          ]
        }
      ]
    },
    {
      "cell_type": "markdown",
      "source": [
        "# ML Model Test"
      ],
      "metadata": {
        "id": "5hwfzO0TPAeE"
      }
    },
    {
      "cell_type": "markdown",
      "source": [
        "## 파이프라인"
      ],
      "metadata": {
        "id": "tD11P0WA3Pwy"
      }
    },
    {
      "cell_type": "code",
      "source": [
        "lr = make_pipeline(\n",
        "    OneHotEncoder(),\n",
        "    StandardScaler(),\n",
        "    LogisticRegression(n_jobs=-1)\n",
        ")\n",
        "\n",
        "lr.fit(X_train, y_train)\n",
        "\n",
        "print('훈련세트 정확도', lr.score(X_train, y_train))\n",
        "print('검증세트 정확도', lr.score(X_val, y_val))\n",
        "\n",
        "y_pred = lr.predict(X_test)"
      ],
      "metadata": {
        "id": "sZ2BY81U4-Q_",
        "outputId": "7ef0cf7d-8453-4ed6-d772-489b9f92b849",
        "colab": {
          "base_uri": "https://localhost:8080/"
        }
      },
      "execution_count": 19,
      "outputs": [
        {
          "output_type": "stream",
          "name": "stdout",
          "text": [
            "훈련세트 정확도 0.7764319869773121\n",
            "검증세트 정확도 0.7760504629158612\n"
          ]
        }
      ]
    },
    {
      "cell_type": "code",
      "source": [
        "model_lr = lr.named_steps['logisticregression']\n",
        "enc = lr.named_steps['onehotencoder']\n",
        "encoded_columns = enc.transform(X_val).columns\n",
        "coefficients = pd.Series(model_lr.coef_[0], encoded_columns)\n",
        "plt.figure(figsize=(10,30))\n",
        "coefficients.sort_values().plot.barh();"
      ],
      "metadata": {
        "id": "E57xhbnF3ip5",
        "outputId": "a1a5645e-4771-4fbc-a97b-e80d6afa5719",
        "colab": {
          "base_uri": "https://localhost:8080/",
          "height": 1000
        }
      },
      "execution_count": 26,
      "outputs": [
        {
          "output_type": "display_data",
          "data": {
            "text/plain": [
              "<Figure size 720x2160 with 1 Axes>"
            ],
            "image/png": "[encoded data removed]"
          },
          "metadata": {
            "needs_background": "light"
          }
        }
      ]
    },
    {
      "cell_type": "code",
      "source": [
        "# 과적합 발생\n",
        "# dtc = make_pipeline(\n",
        "#     OneHotEncoder(use_cat_names=True),\n",
        "#     StandardScaler(),\n",
        "#     DecisionTreeClassifier(random_state=42, criterion='entropy')\n",
        "# )\n",
        "                                                                                                                                                                                \n",
        "# dtc.fit(X_train, y_train)\n",
        "# print('훈련 정확도: ', dtc.score(X_train, y_train))\n",
        "# print('검증 정확도: ', dtc.score(X_val, y_val))"
      ],
      "metadata": {
        "colab": {
          "base_uri": "https://localhost:8080/"
        },
        "id": "k-fcZmXHflYX",
        "outputId": "bec6c811-577b-4d7d-9fa5-7bab2c5afce2"
      },
      "execution_count": 14,
      "outputs": [
        {
          "output_type": "stream",
          "name": "stdout",
          "text": [
            "훈련 정확도:  0.999994913012514\n",
            "검증 정확도:  0.7134194729880965\n"
          ]
        }
      ]
    },
    {
      "cell_type": "code",
      "source": [
        "dtc = make_pipeline(\n",
        "    OneHotEncoder(use_cat_names=True),\n",
        "    StandardScaler(),\n",
        "    DecisionTreeClassifier(min_samples_leaf=10, random_state=42)\n",
        ")\n",
        "\n",
        "dtc.fit(X_train, y_train)\n",
        "print('훈련 정확도: ', dtc.score(X_train, y_train))\n",
        "print('검증 정확도: ', dtc.score(X_val, y_val))"
      ],
      "metadata": {
        "colab": {
          "base_uri": "https://localhost:8080/"
        },
        "id": "1ppxwA7yglQT",
        "outputId": "4bf2cd3a-32ed-46ee-8d0a-4fafd74e49bc"
      },
      "execution_count": 23,
      "outputs": [
        {
          "output_type": "stream",
          "name": "stdout",
          "text": [
            "훈련 정확도:  0.8384983212941296\n",
            "검증 정확도:  0.7616441143554787\n"
          ]
        }
      ]
    },
    {
      "cell_type": "code",
      "source": [
        "dtc = make_pipeline(\n",
        "    OneHotEncoder(use_cat_names=True),\n",
        "    StandardScaler(),\n",
        "    DecisionTreeClassifier(max_depth=6, random_state=42)\n",
        ")\n",
        "\n",
        "dtc.fit(X_train, y_train)\n",
        "print('훈련 정확도: ', dtc.score(X_train, y_train))\n",
        "print('검증 정확도: ', dtc.score(X_val, y_val))"
      ],
      "metadata": {
        "colab": {
          "base_uri": "https://localhost:8080/"
        },
        "id": "1uHMb9M5g5ED",
        "outputId": "c910ad6b-6a54-4ed9-f9a8-3417b5d382d5"
      },
      "execution_count": 24,
      "outputs": [
        {
          "output_type": "stream",
          "name": "stdout",
          "text": [
            "훈련 정확도:  0.7868348763862041\n",
            "검증 정확도:  0.784454166242751\n"
          ]
        }
      ]
    },
    {
      "cell_type": "code",
      "source": [
        "model_dtc = dtc.named_steps['decisiontreeclassifier']\n",
        "\n",
        "importances = pd.Series(model_dtc.feature_importances_, encoded_columns)\n",
        "plt.figure(figsize=(10,30))\n",
        "importances.sort_values().plot.barh();"
      ],
      "metadata": {
        "colab": {
          "base_uri": "https://localhost:8080/",
          "height": 1000
        },
        "id": "f04mQ5QHmzF1",
        "outputId": "8cfaffb4-b6fe-45d5-f6cd-7b2ee537a10a"
      },
      "execution_count": 27,
      "outputs": [
        {
          "output_type": "display_data",
          "data": {
            "text/plain": [
              "<Figure size 720x2160 with 1 Axes>"
            ],
            "image/png": "[encoded data removed]"
          },
          "metadata": {
            "needs_background": "light"
          }
        }
      ]
    },
    {
      "cell_type": "code",
      "source": [
        "rf = make_pipeline(\n",
        "    OneHotEncoder(use_cat_names=True), \n",
        "    StandardScaler(), \n",
        "    RandomForestClassifier(n_jobs=-1, random_state=42, oob_score=True)\n",
        ")\n",
        "\n",
        "rf.fit(X_train, y_train)\n",
        "print('검증 정확도: ', rf.score(X_val, y_val))"
      ],
      "metadata": {
        "colab": {
          "base_uri": "https://localhost:8080/"
        },
        "id": "8CfgegknuL4R",
        "outputId": "fb9683af-aaad-41a7-a9e7-2edbb28aafc3"
      },
      "execution_count": 30,
      "outputs": [
        {
          "output_type": "stream",
          "name": "stdout",
          "text": [
            "검증 정확도:  0.7750534133686031\n"
          ]
        }
      ]
    },
    {
      "cell_type": "markdown",
      "source": [
        "### Categorical data 상관 관계 확인"
      ],
      "metadata": {
        "id": "R2FEDkiUHtmb"
      }
    },
    {
      "cell_type": "markdown",
      "source": [
        "Target feature 와의 상관관계"
      ],
      "metadata": {
        "id": "og0yEIYd0oMG"
      }
    },
    {
      "cell_type": "code",
      "source": [
        "plt.figure(figsize = (40,6))\n",
        "sns.countplot(x = target_Vintage);"
      ],
      "metadata": {
        "colab": {
          "base_uri": "https://localhost:8080/",
          "height": 209
        },
        "id": "IybwsIaBj7t0",
        "outputId": "8d5809ef-0200-4c88-fd68-b39743f87e05"
      },
      "execution_count": null,
      "outputs": [
        {
          "output_type": "error",
          "ename": "NameError",
          "evalue": "ignored",
          "traceback": [
            "\u001b[0;31m---------------------------------------------------------------------------\u001b[0m",
            "\u001b[0;31mNameError\u001b[0m                                 Traceback (most recent call last)",
            "\u001b[0;32m<ipython-input-48-651de9f5f2cb>\u001b[0m in \u001b[0;36m<module>\u001b[0;34m\u001b[0m\n\u001b[1;32m      1\u001b[0m \u001b[0mplt\u001b[0m\u001b[0;34m.\u001b[0m\u001b[0mfigure\u001b[0m\u001b[0;34m(\u001b[0m\u001b[0mfigsize\u001b[0m \u001b[0;34m=\u001b[0m \u001b[0;34m(\u001b[0m\u001b[0;36m40\u001b[0m\u001b[0;34m,\u001b[0m\u001b[0;36m6\u001b[0m\u001b[0;34m)\u001b[0m\u001b[0;34m)\u001b[0m\u001b[0;34m\u001b[0m\u001b[0;34m\u001b[0m\u001b[0m\n\u001b[0;32m----> 2\u001b[0;31m \u001b[0msns\u001b[0m\u001b[0;34m.\u001b[0m\u001b[0mcountplot\u001b[0m\u001b[0;34m(\u001b[0m\u001b[0mx\u001b[0m \u001b[0;34m=\u001b[0m \u001b[0mtarget_Vintage\u001b[0m\u001b[0;34m)\u001b[0m\u001b[0;34m;\u001b[0m\u001b[0;34m\u001b[0m\u001b[0;34m\u001b[0m\u001b[0m\n\u001b[0m",
            "\u001b[0;31mNameError\u001b[0m: name 'target_Vintage' is not defined"
          ]
        },
        {
          "output_type": "display_data",
          "data": {
            "text/plain": [
              "<Figure size 2880x432 with 0 Axes>"
            ]
          },
          "metadata": {}
        }
      ]
    },
    {
      "cell_type": "code",
      "source": [
        "non_target_Vintage = df[df['Is_Lead'] == 0]['Vintage']\n",
        "non_target_Vintage"
      ],
      "metadata": {
        "colab": {
          "base_uri": "https://localhost:8080/"
        },
        "id": "VV4aqORytbZe",
        "outputId": "c9350e48-dff1-4ab1-cef0-09d12863ae31"
      },
      "execution_count": null,
      "outputs": [
        {
          "output_type": "execute_result",
          "data": {
            "text/plain": [
              "0         43\n",
              "1         32\n",
              "2         26\n",
              "3         19\n",
              "4         33\n",
              "          ..\n",
              "245719    13\n",
              "245721    15\n",
              "245722    13\n",
              "245723    31\n",
              "245724    21\n",
              "Name: Vintage, Length: 183087, dtype: int64"
            ]
          },
          "metadata": {},
          "execution_count": 13
        }
      ]
    },
    {
      "cell_type": "code",
      "source": [
        "plt.figure(figsize = (40,6))\n",
        "sns.countplot(x= non_target_Vintage);"
      ],
      "metadata": {
        "id": "W6ysw_zAlUab"
      },
      "execution_count": null,
      "outputs": []
    },
    {
      "cell_type": "code",
      "source": [
        "bins = np.linspace(df.Vintage.min(), df.Vintage.max(), 35)\n",
        "plot1 = sns.FacetGrid(df, col = \"Is_Lead\", palette = 'Set1', col_wrap=2, size = 7)\n",
        "plot1.map(plt.hist, 'Vintage', bins=bins, ec='k')\n",
        "\n",
        "plot1.add_legend()\n",
        "plt.show();"
      ],
      "metadata": {
        "id": "YvhzIaoK_C3r"
      },
      "execution_count": null,
      "outputs": []
    },
    {
      "cell_type": "code",
      "source": [
        "# 두 그룹의 비율이 큰 차이가 나지 않기 때문에 그룹의 분산이 차이가 나지 않는다고 판단.\n",
        "print(np.var(target_Vintage))\n",
        "\n",
        "print(np.var(non_target_Vintage))"
      ],
      "metadata": {
        "colab": {
          "base_uri": "https://localhost:8080/"
        },
        "id": "qBRel3XgrHjB",
        "outputId": "de744048-5098-4684-8a1e-b186ab687d09"
      },
      "execution_count": null,
      "outputs": [
        {
          "output_type": "stream",
          "name": "stdout",
          "text": [
            "1193.689012866215\n",
            "878.2364622836806\n"
          ]
        }
      ]
    },
    {
      "cell_type": "code",
      "source": [
        "stats.ttest_ind(target_Vintage, non_target_Vintage)"
      ],
      "metadata": {
        "colab": {
          "base_uri": "https://localhost:8080/"
        },
        "id": "puwDXLjctfmQ",
        "outputId": "44e58a0e-5322-4b04-862a-9262ff0983b7"
      },
      "execution_count": null,
      "outputs": [
        {
          "output_type": "execute_result",
          "data": {
            "text/plain": [
              "Ttest_indResult(statistic=106.79317277167486, pvalue=0.0)"
            ]
          },
          "metadata": {},
          "execution_count": 17
        }
      ]
    },
    {
      "cell_type": "markdown",
      "source": [
        "H0 => µ1 = µ2\n",
        "\n",
        "귀무가설 : 관심있는 고객들의 평균 Vintag는 관심없는 고객의 평균 Vintage와 차이가 없을 것이다.\n",
        "\n",
        "HA => µ1 ≠µ2 \n",
        "\n",
        "대안가설 : 관심있는 고객들의 평균 Vintage가 관심없는 고객의 평균 Vintage보다 유의미하게 높을 것이다.\n",
        "\n",
        "신뢰도 95%\n",
        "\n",
        "p-value가 0.05보다 낮기 때문에 귀무가설을 기각하고 대안가설을 채택한다."
      ],
      "metadata": {
        "id": "7juR34fXr_Sc"
      }
    },
    {
      "cell_type": "markdown",
      "source": [
        "-----\n",
        "가설2\n",
        "\n",
        "관심있는 고객들의 평균 'Avg_Account_Balance'가 관심없는 고객들의 평균  'Avg_Account_Balance'보다 유의미하게 낮을 것이다."
      ],
      "metadata": {
        "id": "KgDku5Nw66lk"
      }
    },
    {
      "cell_type": "code",
      "source": [
        "target_AAB = df[df['Is_Lead'] == 1]['Avg_Account_Balance']\n",
        "target_AAB"
      ],
      "metadata": {
        "colab": {
          "base_uri": "https://localhost:8080/"
        },
        "id": "SVh3UKvK65mq",
        "outputId": "64f41594-e6fd-4e74-9de4-03db72cafafa"
      },
      "execution_count": null,
      "outputs": [
        {
          "output_type": "execute_result",
          "data": {
            "text/plain": [
              "16        2282502\n",
              "17        2384692\n",
              "20        1001650\n",
              "29        1056910\n",
              "34        1684182\n",
              "           ...   \n",
              "245690     766548\n",
              "245693    1122023\n",
              "245697     551203\n",
              "245709     608110\n",
              "245713     898170\n",
              "Name: Avg_Account_Balance, Length: 33313, dtype: int64"
            ]
          },
          "metadata": {},
          "execution_count": 18
        }
      ]
    },
    {
      "cell_type": "code",
      "source": [
        "non_target_AAB = df[df['Is_Lead'] == 0]['Avg_Account_Balance']\n",
        "non_target_AAB"
      ],
      "metadata": {
        "colab": {
          "base_uri": "https://localhost:8080/"
        },
        "id": "MAVaR_jb7T-k",
        "outputId": "f88e2cf5-62d8-414c-f87c-26d07ae1a354"
      },
      "execution_count": null,
      "outputs": [
        {
          "output_type": "execute_result",
          "data": {
            "text/plain": [
              "0         1045696\n",
              "1          581988\n",
              "2         1484315\n",
              "3          470454\n",
              "4          886787\n",
              "           ...   \n",
              "245719     354665\n",
              "245721     862952\n",
              "245722     670659\n",
              "245723     407504\n",
              "245724    1129276\n",
              "Name: Avg_Account_Balance, Length: 183087, dtype: int64"
            ]
          },
          "metadata": {},
          "execution_count": 19
        }
      ]
    },
    {
      "cell_type": "code",
      "source": [
        "bins2 = np.linspace(df.Avg_Account_Balance.min(), df.Avg_Account_Balance.max(), 100)\n",
        "plot2 = sns.FacetGrid(df, col = \"Is_Lead\", palette = 'Set1', col_wrap=2, size = 7)\n",
        "plot2.map(plt.hist, 'Avg_Account_Balance', bins=bins2, ec='k')\n",
        "\n",
        "plot2.add_legend()\n",
        "plt.show();"
      ],
      "metadata": {
        "id": "v7zcHoQ4KW5Y"
      },
      "execution_count": null,
      "outputs": []
    },
    {
      "cell_type": "code",
      "source": [
        "df['Avg_Account_Balance_log10'] = np.log10(df['Avg_Account_Balance'])\n",
        "\n",
        "sns.histplot(df['Avg_Account_Balance_log10'], kde = True);\n",
        "sns.histplot(df[df['Is_Lead'] == 1]['Avg_Account_Balance_log10'], kde = True, color=\"red\");\n",
        "sns.histplot(df[df['Is_Lead'] == 0]['Avg_Account_Balance_log10'], kde = True, color=\"green\");"
      ],
      "metadata": {
        "id": "xyioaOCOm-Hz"
      },
      "execution_count": null,
      "outputs": []
    },
    {
      "cell_type": "code",
      "source": [
        "print(np.var(target_AAB))\n",
        "\n",
        "print(np.var(non_target_AAB))"
      ],
      "metadata": {
        "colab": {
          "base_uri": "https://localhost:8080/"
        },
        "id": "ti1KQVwetHe6",
        "outputId": "70d2b22d-6c4b-420e-cd62-f3e49232b451"
      },
      "execution_count": null,
      "outputs": [
        {
          "output_type": "stream",
          "name": "stdout",
          "text": [
            "753058638202.9728\n",
            "715425557057.6074\n"
          ]
        }
      ]
    },
    {
      "cell_type": "code",
      "source": [
        "stats.ttest_ind(target_AAB, non_target_AAB)"
      ],
      "metadata": {
        "colab": {
          "base_uri": "https://localhost:8080/"
        },
        "id": "vmHUL_o37aHy",
        "outputId": "c5df07f4-0b45-4d7d-c77b-80fff46a6e8f"
      },
      "execution_count": null,
      "outputs": [
        {
          "output_type": "execute_result",
          "data": {
            "text/plain": [
              "Ttest_indResult(statistic=19.803560224508875, pvalue=3.3154586350694674e-87)"
            ]
          },
          "metadata": {},
          "execution_count": 23
        }
      ]
    },
    {
      "cell_type": "markdown",
      "source": [
        "H0 => µ1 = µ2\n",
        "\n",
        "귀무가설 : 관심있는 고객들의 평균 Avg_Account_Balance는 관심없는 고객의 평균 Avg_Account_Balance와 차이가 없을 것이다.\n",
        "\n",
        "HA => µ1 ≠µ2 \n",
        "\n",
        "대안가설 : 관심있는 고객들의 평균 Avg_Account_Balance가 관심없는 고객의 평균 Avg_Account_Balance보다 유의미하게 높을 것이다.\n",
        "\n",
        "신뢰도 95%\n",
        "\n",
        "p-value가 0.05보다 낮기 때문에 귀무가설을 기각하고 대안가설을 채택한다."
      ],
      "metadata": {
        "id": "3HcW9NCZ7Ou_"
      }
    },
    {
      "cell_type": "markdown",
      "source": [
        "가설 3\n",
        "\n",
        "특정 'Occupation'이 추천 신용카드에 관심있을 가능성이 유의미하게 높을 것이다."
      ],
      "metadata": {
        "id": "zi3T2T9Q7uEq"
      }
    },
    {
      "cell_type": "code",
      "source": [
        "target_customers[target_customers['Occupation'] == 'Other']"
      ],
      "metadata": {
        "colab": {
          "base_uri": "https://localhost:8080/",
          "height": 487
        },
        "id": "t_Fo3wbbhDUV",
        "outputId": "11758c0e-97f9-44de-ea6b-33f456bd0c17"
      },
      "execution_count": null,
      "outputs": [
        {
          "output_type": "execute_result",
          "data": {
            "text/plain": [
              "              ID  Gender  Age Region_Code Occupation Channel_Code  Vintage  \\\n",
              "16      CNGSPYWS  Female   46       RG268      Other           X3       97   \n",
              "17      VH7NBNNQ  Female   59       RG283      Other           X3       15   \n",
              "34      FXPTJYP7    Male   67       RG268      Other           X1       87   \n",
              "53      JLHDNBUG    Male   60       RG268      Other           X3      104   \n",
              "212     COJX7JA2    Male   50       RG254      Other           X3       45   \n",
              "...          ...     ...  ...         ...        ...          ...      ...   \n",
              "245538  GXCOCBZG    Male   56       RG283      Other           X3       14   \n",
              "245594  FQNSJGQT  Female   54       RG268      Other           X1       87   \n",
              "245622  XCAGPM7X    Male   67       RG277      Other           X3      110   \n",
              "245637  NNVMXGU7    Male   69       RG268      Other           X2       33   \n",
              "245693  NUTSCAQY  Female   52       RG273      Other           X3       74   \n",
              "\n",
              "       Credit_Product  Avg_Account_Balance Is_Active  Is_Lead  \n",
              "16                Yes              2282502        No        1  \n",
              "17                Yes              2384692        No        1  \n",
              "34                Yes              1684182        No        1  \n",
              "53                Yes              1681503        No        1  \n",
              "212                No              2019160       Yes        1  \n",
              "...               ...                  ...       ...      ...  \n",
              "245538            Yes              1251963        No        1  \n",
              "245594             No              1338017        No        1  \n",
              "245622            Yes               603838        No        1  \n",
              "245637            Yes               529781        No        1  \n",
              "245693            Yes              1122023       Yes        1  \n",
              "\n",
              "[9416 rows x 11 columns]"
            ],
            "text/html": [
              "\n",
              "  <div id=\"df-3e56b525-1f07-4cae-b319-e142f907c209\">\n",
              "    <div class=\"colab-df-container\">\n",
              "      <div>\n",
              "<style scoped>\n",
              "    .dataframe tbody tr th:only-of-type {\n",
              "        vertical-align: middle;\n",
              "    }\n",
              "\n",
              "    .dataframe tbody tr th {\n",
              "        vertical-align: top;\n",
              "    }\n",
              "\n",
              "    .dataframe thead th {\n",
              "        text-align: right;\n",
              "    }\n",
              "</style>\n",
              "<table border=\"1\" class=\"dataframe\">\n",
              "  <thead>\n",
              "    <tr style=\"text-align: right;\">\n",
              "      <th></th>\n",
              "      <th>ID</th>\n",
              "      <th>Gender</th>\n",
              "      <th>Age</th>\n",
              "      <th>Region_Code</th>\n",
              "      <th>Occupation</th>\n",
              "      <th>Channel_Code</th>\n",
              "      <th>Vintage</th>\n",
              "      <th>Credit_Product</th>\n",
              "      <th>Avg_Account_Balance</th>\n",
              "      <th>Is_Active</th>\n",
              "      <th>Is_Lead</th>\n",
              "    </tr>\n",
              "  </thead>\n",
              "  <tbody>\n",
              "    <tr>\n",
              "      <th>16</th>\n",
              "      <td>CNGSPYWS</td>\n",
              "      <td>Female</td>\n",
              "      <td>46</td>\n",
              "      <td>RG268</td>\n",
              "      <td>Other</td>\n",
              "      <td>X3</td>\n",
              "      <td>97</td>\n",
              "      <td>Yes</td>\n",
              "      <td>2282502</td>\n",
              "      <td>No</td>\n",
              "      <td>1</td>\n",
              "    </tr>\n",
              "    <tr>\n",
              "      <th>17</th>\n",
              "      <td>VH7NBNNQ</td>\n",
              "      <td>Female</td>\n",
              "      <td>59</td>\n",
              "      <td>RG283</td>\n",
              "      <td>Other</td>\n",
              "      <td>X3</td>\n",
              "      <td>15</td>\n",
              "      <td>Yes</td>\n",
              "      <td>2384692</td>\n",
              "      <td>No</td>\n",
              "      <td>1</td>\n",
              "    </tr>\n",
              "    <tr>\n",
              "      <th>34</th>\n",
              "      <td>FXPTJYP7</td>\n",
              "      <td>Male</td>\n",
              "      <td>67</td>\n",
              "      <td>RG268</td>\n",
              "      <td>Other</td>\n",
              "      <td>X1</td>\n",
              "      <td>87</td>\n",
              "      <td>Yes</td>\n",
              "      <td>1684182</td>\n",
              "      <td>No</td>\n",
              "      <td>1</td>\n",
              "    </tr>\n",
              "    <tr>\n",
              "      <th>53</th>\n",
              "      <td>JLHDNBUG</td>\n",
              "      <td>Male</td>\n",
              "      <td>60</td>\n",
              "      <td>RG268</td>\n",
              "      <td>Other</td>\n",
              "      <td>X3</td>\n",
              "      <td>104</td>\n",
              "      <td>Yes</td>\n",
              "      <td>1681503</td>\n",
              "      <td>No</td>\n",
              "      <td>1</td>\n",
              "    </tr>\n",
              "    <tr>\n",
              "      <th>212</th>\n",
              "      <td>COJX7JA2</td>\n",
              "      <td>Male</td>\n",
              "      <td>50</td>\n",
              "      <td>RG254</td>\n",
              "      <td>Other</td>\n",
              "      <td>X3</td>\n",
              "      <td>45</td>\n",
              "      <td>No</td>\n",
              "      <td>2019160</td>\n",
              "      <td>Yes</td>\n",
              "      <td>1</td>\n",
              "    </tr>\n",
              "    <tr>\n",
              "      <th>...</th>\n",
              "      <td>...</td>\n",
              "      <td>...</td>\n",
              "      <td>...</td>\n",
              "      <td>...</td>\n",
              "      <td>...</td>\n",
              "      <td>...</td>\n",
              "      <td>...</td>\n",
              "      <td>...</td>\n",
              "      <td>...</td>\n",
              "      <td>...</td>\n",
              "      <td>...</td>\n",
              "    </tr>\n",
              "    <tr>\n",
              "      <th>245538</th>\n",
              "      <td>GXCOCBZG</td>\n",
              "      <td>Male</td>\n",
              "      <td>56</td>\n",
              "      <td>RG283</td>\n",
              "      <td>Other</td>\n",
              "      <td>X3</td>\n",
              "      <td>14</td>\n",
              "      <td>Yes</td>\n",
              "      <td>1251963</td>\n",
              "      <td>No</td>\n",
              "      <td>1</td>\n",
              "    </tr>\n",
              "    <tr>\n",
              "      <th>245594</th>\n",
              "      <td>FQNSJGQT</td>\n",
              "      <td>Female</td>\n",
              "      <td>54</td>\n",
              "      <td>RG268</td>\n",
              "      <td>Other</td>\n",
              "      <td>X1</td>\n",
              "      <td>87</td>\n",
              "      <td>No</td>\n",
              "      <td>1338017</td>\n",
              "      <td>No</td>\n",
              "      <td>1</td>\n",
              "    </tr>\n",
              "    <tr>\n",
              "      <th>245622</th>\n",
              "      <td>XCAGPM7X</td>\n",
              "      <td>Male</td>\n",
              "      <td>67</td>\n",
              "      <td>RG277</td>\n",
              "      <td>Other</td>\n",
              "      <td>X3</td>\n",
              "      <td>110</td>\n",
              "      <td>Yes</td>\n",
              "      <td>603838</td>\n",
              "      <td>No</td>\n",
              "      <td>1</td>\n",
              "    </tr>\n",
              "    <tr>\n",
              "      <th>245637</th>\n",
              "      <td>NNVMXGU7</td>\n",
              "      <td>Male</td>\n",
              "      <td>69</td>\n",
              "      <td>RG268</td>\n",
              "      <td>Other</td>\n",
              "      <td>X2</td>\n",
              "      <td>33</td>\n",
              "      <td>Yes</td>\n",
              "      <td>529781</td>\n",
              "      <td>No</td>\n",
              "      <td>1</td>\n",
              "    </tr>\n",
              "    <tr>\n",
              "      <th>245693</th>\n",
              "      <td>NUTSCAQY</td>\n",
              "      <td>Female</td>\n",
              "      <td>52</td>\n",
              "      <td>RG273</td>\n",
              "      <td>Other</td>\n",
              "      <td>X3</td>\n",
              "      <td>74</td>\n",
              "      <td>Yes</td>\n",
              "      <td>1122023</td>\n",
              "      <td>Yes</td>\n",
              "      <td>1</td>\n",
              "    </tr>\n",
              "  </tbody>\n",
              "</table>\n",
              "<p>9416 rows × 11 columns</p>\n",
              "</div>\n",
              "      <button class=\"colab-df-convert\" onclick=\"convertToInteractive('df-3e56b525-1f07-4cae-b319-e142f907c209')\"\n",
              "              title=\"Convert this dataframe to an interactive table.\"\n",
              "              style=\"display:none;\">\n",
              "        \n",
              "  <svg xmlns=\"http://www.w3.org/2000/svg\" height=\"24px\"viewBox=\"0 0 24 24\"\n",
              "       width=\"24px\">\n",
              "    <path d=\"M0 0h24v24H0V0z\" fill=\"none\"/>\n",
              "    <path d=\"M18.56 5.44l.94 2.06.94-2.06 2.06-.94-2.06-.94-.94-2.06-.94 2.06-2.06.94zm-11 1L8.5 8.5l.94-2.06 2.06-.94-2.06-.94L8.5 2.5l-.94 2.06-2.06.94zm10 10l.94 2.06.94-2.06 2.06-.94-2.06-.94-.94-2.06-.94 2.06-2.06.94z\"/><path d=\"M17.41 7.96l-1.37-1.37c-.4-.4-.92-.59-1.43-.59-.52 0-1.04.2-1.43.59L10.3 9.45l-7.72 7.72c-.78.78-.78 2.05 0 2.83L4 21.41c.39.39.9.59 1.41.59.51 0 1.02-.2 1.41-.59l7.78-7.78 2.81-2.81c.8-.78.8-2.07 0-2.86zM5.41 20L4 18.59l7.72-7.72 1.47 1.35L5.41 20z\"/>\n",
              "  </svg>\n",
              "      </button>\n",
              "      \n",
              "  <style>\n",
              "    .colab-df-container {\n",
              "      display:flex;\n",
              "      flex-wrap:wrap;\n",
              "      gap: 12px;\n",
              "    }\n",
              "\n",
              "    .colab-df-convert {\n",
              "      background-color: #E8F0FE;\n",
              "      border: none;\n",
              "      border-radius: 50%;\n",
              "      cursor: pointer;\n",
              "      display: none;\n",
              "      fill: #1967D2;\n",
              "      height: 32px;\n",
              "      padding: 0 0 0 0;\n",
              "      width: 32px;\n",
              "    }\n",
              "\n",
              "    .colab-df-convert:hover {\n",
              "      background-color: #E2EBFA;\n",
              "      box-shadow: 0px 1px 2px rgba(60, 64, 67, 0.3), 0px 1px 3px 1px rgba(60, 64, 67, 0.15);\n",
              "      fill: #174EA6;\n",
              "    }\n",
              "\n",
              "    [theme=dark] .colab-df-convert {\n",
              "      background-color: #3B4455;\n",
              "      fill: #D2E3FC;\n",
              "    }\n",
              "\n",
              "    [theme=dark] .colab-df-convert:hover {\n",
              "      background-color: #434B5C;\n",
              "      box-shadow: 0px 1px 3px 1px rgba(0, 0, 0, 0.15);\n",
              "      filter: drop-shadow(0px 1px 2px rgba(0, 0, 0, 0.3));\n",
              "      fill: #FFFFFF;\n",
              "    }\n",
              "  </style>\n",
              "\n",
              "      <script>\n",
              "        const buttonEl =\n",
              "          document.querySelector('#df-3e56b525-1f07-4cae-b319-e142f907c209 button.colab-df-convert');\n",
              "        buttonEl.style.display =\n",
              "          google.colab.kernel.accessAllowed ? 'block' : 'none';\n",
              "\n",
              "        async function convertToInteractive(key) {\n",
              "          const element = document.querySelector('#df-3e56b525-1f07-4cae-b319-e142f907c209');\n",
              "          const dataTable =\n",
              "            await google.colab.kernel.invokeFunction('convertToInteractive',\n",
              "                                                     [key], {});\n",
              "          if (!dataTable) return;\n",
              "\n",
              "          const docLinkHtml = 'Like what you see? Visit the ' +\n",
              "            '<a target=\"_blank\" href=https://colab.research.google.com/notebooks/data_table.ipynb>data table notebook</a>'\n",
              "            + ' to learn more about interactive tables.';\n",
              "          element.innerHTML = '';\n",
              "          dataTable['output_type'] = 'display_data';\n",
              "          await google.colab.output.renderOutput(dataTable, element);\n",
              "          const docLink = document.createElement('div');\n",
              "          docLink.innerHTML = docLinkHtml;\n",
              "          element.appendChild(docLink);\n",
              "        }\n",
              "      </script>\n",
              "    </div>\n",
              "  </div>\n",
              "  "
            ]
          },
          "metadata": {},
          "execution_count": 44
        }
      ]
    },
    {
      "cell_type": "code",
      "source": [
        "target_Occupation = df[df['Is_Lead'] == 1]['Occupation']\n",
        "target_Occupation"
      ],
      "metadata": {
        "colab": {
          "base_uri": "https://localhost:8080/"
        },
        "id": "GqE4ZUlidsQe",
        "outputId": "c3f5e72e-c407-42a6-cd5e-965431798873"
      },
      "execution_count": null,
      "outputs": [
        {
          "output_type": "execute_result",
          "data": {
            "text/plain": [
              "16                Other\n",
              "17                Other\n",
              "20        Self_Employed\n",
              "29        Self_Employed\n",
              "34                Other\n",
              "              ...      \n",
              "245690    Self_Employed\n",
              "245693            Other\n",
              "245697         Salaried\n",
              "245709    Self_Employed\n",
              "245713    Self_Employed\n",
              "Name: Occupation, Length: 33313, dtype: object"
            ]
          },
          "metadata": {},
          "execution_count": 35
        }
      ]
    },
    {
      "cell_type": "code",
      "source": [
        "non_tareget_Occupation = df[df['Is_Lead'] == 0]['Occupation']\n",
        "non_tareget_Occupation"
      ],
      "metadata": {
        "colab": {
          "base_uri": "https://localhost:8080/"
        },
        "id": "Q5ivq-ixemG2",
        "outputId": "8095c44b-5210-4496-ffa7-17afa2c47d74"
      },
      "execution_count": null,
      "outputs": [
        {
          "output_type": "execute_result",
          "data": {
            "text/plain": [
              "0                 Other\n",
              "1              Salaried\n",
              "2         Self_Employed\n",
              "3              Salaried\n",
              "4              Salaried\n",
              "              ...      \n",
              "245719         Salaried\n",
              "245721         Salaried\n",
              "245722         Salaried\n",
              "245723         Salaried\n",
              "245724         Salaried\n",
              "Name: Occupation, Length: 183087, dtype: object"
            ]
          },
          "metadata": {},
          "execution_count": 37
        }
      ]
    },
    {
      "cell_type": "code",
      "source": [
        "plt.subplots(figsize= (15, 7))\n",
        "sns.countplot(x = 'Occupation', hue='Is_Lead', data=df);"
      ],
      "metadata": {
        "id": "dyA6HqpL7tXw"
      },
      "execution_count": null,
      "outputs": []
    },
    {
      "cell_type": "code",
      "source": [],
      "metadata": {
        "colab": {
          "base_uri": "https://localhost:8080/"
        },
        "id": "Lim7npFWdp_l",
        "outputId": "214f79ef-f7ea-46c6-a3aa-2b29284b34e6"
      },
      "execution_count": null,
      "outputs": [
        {
          "output_type": "execute_result",
          "data": {
            "text/plain": [
              "16            Other\n",
              "17            Other\n",
              "20    Self_Employed\n",
              "29    Self_Employed\n",
              "34            Other\n",
              "Name: Occupation, dtype: object"
            ]
          },
          "metadata": {},
          "execution_count": 40
        }
      ]
    }
  ]
}
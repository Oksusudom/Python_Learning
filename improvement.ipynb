{
  "nbformat": 4,
  "nbformat_minor": 0,
  "metadata": {
    "colab": {
      "provenance": [],
      "include_colab_link": true
    },
    "kernelspec": {
      "name": "python3",
      "display_name": "Python 3"
    },
    "language_info": {
      "name": "python"
    }
  },
  "cells": [
    {
      "cell_type": "markdown",
      "metadata": {
        "id": "view-in-github",
        "colab_type": "text"
      },
      "source": [
        "<a href=\"https://colab.research.google.com/github/oksusudom/ML-Creadit-Card-Lead-Prediction/blob/main/improvement.ipynb\" target=\"_parent\"><img src=\"https://colab.research.google.com/assets/colab-badge.svg\" alt=\"Open In Colab\"/></a>"
      ]
    },
    {
      "cell_type": "code",
      "execution_count": 7,
      "metadata": {
        "colab": {
          "base_uri": "https://localhost:8080/"
        },
        "id": "eY58LA4bpnEq",
        "outputId": "0621223e-86f6-456f-bfd5-01e4ca9fefa6"
      },
      "outputs": [
        {
          "output_type": "stream",
          "name": "stdout",
          "text": [
            "Mounted at /content/drive\n"
          ]
        }
      ],
      "source": [
        "from google.colab import drive\n",
        "drive.mount('/content/drive')"
      ]
    },
    {
      "cell_type": "markdown",
      "source": [
        "# 필요한 패키지 불러오기\n"
      ],
      "metadata": {
        "id": "GKYmYBqg0l4d"
      }
    },
    {
      "cell_type": "code",
      "source": [
        "!pip install category_encoders"
      ],
      "metadata": {
        "id": "2ueNaDyg2uJC",
        "colab": {
          "base_uri": "https://localhost:8080/"
        },
        "outputId": "d4aef588-c582-483d-d9f1-05a18cbb4797"
      },
      "execution_count": 2,
      "outputs": [
        {
          "output_type": "stream",
          "name": "stdout",
          "text": [
            "Looking in indexes: https://pypi.org/simple, https://us-python.pkg.dev/colab-wheels/public/simple/\n",
            "Collecting category_encoders\n",
            "  Downloading category_encoders-2.6.0-py2.py3-none-any.whl (81 kB)\n",
            "\u001b[2K     \u001b[90m━━━━━━━━━━━━━━━━━━━━━━━━━━━━━━━━━━━━━━━━\u001b[0m \u001b[32m81.2/81.2 KB\u001b[0m \u001b[31m3.8 MB/s\u001b[0m eta \u001b[36m0:00:00\u001b[0m\n",
            "\u001b[?25hRequirement already satisfied: scipy>=1.0.0 in /usr/local/lib/python3.8/dist-packages (from category_encoders) (1.10.1)\n",
            "Requirement already satisfied: pandas>=1.0.5 in /usr/local/lib/python3.8/dist-packages (from category_encoders) (1.3.5)\n",
            "Requirement already satisfied: statsmodels>=0.9.0 in /usr/local/lib/python3.8/dist-packages (from category_encoders) (0.13.5)\n",
            "Requirement already satisfied: patsy>=0.5.1 in /usr/local/lib/python3.8/dist-packages (from category_encoders) (0.5.3)\n",
            "Requirement already satisfied: scikit-learn>=0.20.0 in /usr/local/lib/python3.8/dist-packages (from category_encoders) (1.2.1)\n",
            "Requirement already satisfied: numpy>=1.14.0 in /usr/local/lib/python3.8/dist-packages (from category_encoders) (1.22.4)\n",
            "Requirement already satisfied: python-dateutil>=2.7.3 in /usr/local/lib/python3.8/dist-packages (from pandas>=1.0.5->category_encoders) (2.8.2)\n",
            "Requirement already satisfied: pytz>=2017.3 in /usr/local/lib/python3.8/dist-packages (from pandas>=1.0.5->category_encoders) (2022.7.1)\n",
            "Requirement already satisfied: six in /usr/local/lib/python3.8/dist-packages (from patsy>=0.5.1->category_encoders) (1.15.0)\n",
            "Requirement already satisfied: joblib>=1.1.1 in /usr/local/lib/python3.8/dist-packages (from scikit-learn>=0.20.0->category_encoders) (1.2.0)\n",
            "Requirement already satisfied: threadpoolctl>=2.0.0 in /usr/local/lib/python3.8/dist-packages (from scikit-learn>=0.20.0->category_encoders) (3.1.0)\n",
            "Requirement already satisfied: packaging>=21.3 in /usr/local/lib/python3.8/dist-packages (from statsmodels>=0.9.0->category_encoders) (23.0)\n",
            "Installing collected packages: category_encoders\n",
            "Successfully installed category_encoders-2.6.0\n"
          ]
        }
      ]
    },
    {
      "cell_type": "code",
      "source": [
        "import pandas as pd\n",
        "import numpy as np\n",
        "import seaborn as sns\n",
        "import matplotlib.pyplot as plt\n",
        "from scipy import stats\n",
        "from matplotlib import rcParams\n",
        "\n",
        "from sklearn.model_selection import train_test_split\n",
        "from sklearn.metrics import f1_score, accuracy_score, classification_report, roc_auc_score\n",
        "from category_encoders import OneHotEncoder, OrdinalEncoder\n",
        "from sklearn.preprocessing import StandardScaler\n",
        "from sklearn.linear_model import LogisticRegression\n",
        "from sklearn.ensemble import RandomForestClassifier\n",
        "from sklearn.tree import DecisionTreeClassifier\n",
        "from xgboost import XGBClassifier\n",
        "from sklearn.impute import SimpleImputer \n",
        "from sklearn.pipeline import make_pipeline\n",
        "\n",
        "from collections import Counter\n",
        "import warnings\n",
        "warnings.filterwarnings('ignore')"
      ],
      "metadata": {
        "id": "yIKHboalqFt2"
      },
      "execution_count": 23,
      "outputs": []
    },
    {
      "cell_type": "code",
      "source": [
        "# visualization options\n",
        "\n",
        "rcParams[\"figure.figsize\"] = (10,6)\n",
        "rcParams['font.family'] = 'monospace'\n",
        "rcParams['font.style'] = 'normal'\n",
        "rcParams['axes.grid'] = True\n",
        "rcParams['axes.axisbelow'] = True\n",
        "rcParams['grid.linestyle'] = ':'\n",
        "rcParams['grid.linewidth'] = 0.2\n",
        "\n",
        "sns.set_context('poster', font_scale=0.5)"
      ],
      "metadata": {
        "id": "qOZTuHwbejkX"
      },
      "execution_count": 2,
      "outputs": []
    },
    {
      "cell_type": "markdown",
      "source": [
        "# 데이터 불러오기"
      ],
      "metadata": {
        "id": "WaG7Pxq80vPa"
      }
    },
    {
      "cell_type": "code",
      "source": [
        "train_df = pd.read_csv('/content/drive/MyDrive/URCLASS/Section2_Project/credit card/train.csv')\n",
        "test_df = pd.read_csv('/content/drive/MyDrive/URCLASS/Section2_Project/credit card/test.csv')"
      ],
      "metadata": {
        "id": "B0bX1uH_0sBB"
      },
      "execution_count": 3,
      "outputs": []
    },
    {
      "cell_type": "code",
      "source": [
        "train_df"
      ],
      "metadata": {
        "id": "AJbbWDXRrM9W",
        "colab": {
          "base_uri": "https://localhost:8080/",
          "height": 424
        },
        "outputId": "e0453f4a-96e7-46a0-9f0d-a2615a277d6f"
      },
      "execution_count": 4,
      "outputs": [
        {
          "output_type": "execute_result",
          "data": {
            "text/plain": [
              "              ID  Gender  Age Region_Code     Occupation Channel_Code  \\\n",
              "0       NNVBBKZB  Female   73       RG268          Other           X3   \n",
              "1       IDD62UNG  Female   30       RG277       Salaried           X1   \n",
              "2       HD3DSEMC  Female   56       RG268  Self_Employed           X3   \n",
              "3       BF3NC7KV    Male   34       RG270       Salaried           X1   \n",
              "4       TEASRWXV  Female   30       RG282       Salaried           X1   \n",
              "...          ...     ...  ...         ...            ...          ...   \n",
              "245720  BPAWWXZN    Male   51       RG284  Self_Employed           X3   \n",
              "245721  HFNB7JY8    Male   27       RG268       Salaried           X1   \n",
              "245722  GEHAUCWT  Female   26       RG281       Salaried           X1   \n",
              "245723  GE7V8SAH  Female   28       RG273       Salaried           X1   \n",
              "245724  BOCZSWLJ    Male   29       RG269       Salaried           X1   \n",
              "\n",
              "        Vintage Credit_Product  Avg_Account_Balance Is_Active  Is_Lead  \n",
              "0            43             No              1045696        No        0  \n",
              "1            32             No               581988        No        0  \n",
              "2            26             No              1484315       Yes        0  \n",
              "3            19             No               470454        No        0  \n",
              "4            33             No               886787        No        0  \n",
              "...         ...            ...                  ...       ...      ...  \n",
              "245720      109            NaN              1925586        No        0  \n",
              "245721       15             No               862952       Yes        0  \n",
              "245722       13             No               670659        No        0  \n",
              "245723       31             No               407504        No        0  \n",
              "245724       21             No              1129276        No        0  \n",
              "\n",
              "[245725 rows x 11 columns]"
            ],
            "text/html": [
              "\n",
              "  <div id=\"df-0a98c760-b771-4e65-8f15-c7d3057a9bb2\">\n",
              "    <div class=\"colab-df-container\">\n",
              "      <div>\n",
              "<style scoped>\n",
              "    .dataframe tbody tr th:only-of-type {\n",
              "        vertical-align: middle;\n",
              "    }\n",
              "\n",
              "    .dataframe tbody tr th {\n",
              "        vertical-align: top;\n",
              "    }\n",
              "\n",
              "    .dataframe thead th {\n",
              "        text-align: right;\n",
              "    }\n",
              "</style>\n",
              "<table border=\"1\" class=\"dataframe\">\n",
              "  <thead>\n",
              "    <tr style=\"text-align: right;\">\n",
              "      <th></th>\n",
              "      <th>ID</th>\n",
              "      <th>Gender</th>\n",
              "      <th>Age</th>\n",
              "      <th>Region_Code</th>\n",
              "      <th>Occupation</th>\n",
              "      <th>Channel_Code</th>\n",
              "      <th>Vintage</th>\n",
              "      <th>Credit_Product</th>\n",
              "      <th>Avg_Account_Balance</th>\n",
              "      <th>Is_Active</th>\n",
              "      <th>Is_Lead</th>\n",
              "    </tr>\n",
              "  </thead>\n",
              "  <tbody>\n",
              "    <tr>\n",
              "      <th>0</th>\n",
              "      <td>NNVBBKZB</td>\n",
              "      <td>Female</td>\n",
              "      <td>73</td>\n",
              "      <td>RG268</td>\n",
              "      <td>Other</td>\n",
              "      <td>X3</td>\n",
              "      <td>43</td>\n",
              "      <td>No</td>\n",
              "      <td>1045696</td>\n",
              "      <td>No</td>\n",
              "      <td>0</td>\n",
              "    </tr>\n",
              "    <tr>\n",
              "      <th>1</th>\n",
              "      <td>IDD62UNG</td>\n",
              "      <td>Female</td>\n",
              "      <td>30</td>\n",
              "      <td>RG277</td>\n",
              "      <td>Salaried</td>\n",
              "      <td>X1</td>\n",
              "      <td>32</td>\n",
              "      <td>No</td>\n",
              "      <td>581988</td>\n",
              "      <td>No</td>\n",
              "      <td>0</td>\n",
              "    </tr>\n",
              "    <tr>\n",
              "      <th>2</th>\n",
              "      <td>HD3DSEMC</td>\n",
              "      <td>Female</td>\n",
              "      <td>56</td>\n",
              "      <td>RG268</td>\n",
              "      <td>Self_Employed</td>\n",
              "      <td>X3</td>\n",
              "      <td>26</td>\n",
              "      <td>No</td>\n",
              "      <td>1484315</td>\n",
              "      <td>Yes</td>\n",
              "      <td>0</td>\n",
              "    </tr>\n",
              "    <tr>\n",
              "      <th>3</th>\n",
              "      <td>BF3NC7KV</td>\n",
              "      <td>Male</td>\n",
              "      <td>34</td>\n",
              "      <td>RG270</td>\n",
              "      <td>Salaried</td>\n",
              "      <td>X1</td>\n",
              "      <td>19</td>\n",
              "      <td>No</td>\n",
              "      <td>470454</td>\n",
              "      <td>No</td>\n",
              "      <td>0</td>\n",
              "    </tr>\n",
              "    <tr>\n",
              "      <th>4</th>\n",
              "      <td>TEASRWXV</td>\n",
              "      <td>Female</td>\n",
              "      <td>30</td>\n",
              "      <td>RG282</td>\n",
              "      <td>Salaried</td>\n",
              "      <td>X1</td>\n",
              "      <td>33</td>\n",
              "      <td>No</td>\n",
              "      <td>886787</td>\n",
              "      <td>No</td>\n",
              "      <td>0</td>\n",
              "    </tr>\n",
              "    <tr>\n",
              "      <th>...</th>\n",
              "      <td>...</td>\n",
              "      <td>...</td>\n",
              "      <td>...</td>\n",
              "      <td>...</td>\n",
              "      <td>...</td>\n",
              "      <td>...</td>\n",
              "      <td>...</td>\n",
              "      <td>...</td>\n",
              "      <td>...</td>\n",
              "      <td>...</td>\n",
              "      <td>...</td>\n",
              "    </tr>\n",
              "    <tr>\n",
              "      <th>245720</th>\n",
              "      <td>BPAWWXZN</td>\n",
              "      <td>Male</td>\n",
              "      <td>51</td>\n",
              "      <td>RG284</td>\n",
              "      <td>Self_Employed</td>\n",
              "      <td>X3</td>\n",
              "      <td>109</td>\n",
              "      <td>NaN</td>\n",
              "      <td>1925586</td>\n",
              "      <td>No</td>\n",
              "      <td>0</td>\n",
              "    </tr>\n",
              "    <tr>\n",
              "      <th>245721</th>\n",
              "      <td>HFNB7JY8</td>\n",
              "      <td>Male</td>\n",
              "      <td>27</td>\n",
              "      <td>RG268</td>\n",
              "      <td>Salaried</td>\n",
              "      <td>X1</td>\n",
              "      <td>15</td>\n",
              "      <td>No</td>\n",
              "      <td>862952</td>\n",
              "      <td>Yes</td>\n",
              "      <td>0</td>\n",
              "    </tr>\n",
              "    <tr>\n",
              "      <th>245722</th>\n",
              "      <td>GEHAUCWT</td>\n",
              "      <td>Female</td>\n",
              "      <td>26</td>\n",
              "      <td>RG281</td>\n",
              "      <td>Salaried</td>\n",
              "      <td>X1</td>\n",
              "      <td>13</td>\n",
              "      <td>No</td>\n",
              "      <td>670659</td>\n",
              "      <td>No</td>\n",
              "      <td>0</td>\n",
              "    </tr>\n",
              "    <tr>\n",
              "      <th>245723</th>\n",
              "      <td>GE7V8SAH</td>\n",
              "      <td>Female</td>\n",
              "      <td>28</td>\n",
              "      <td>RG273</td>\n",
              "      <td>Salaried</td>\n",
              "      <td>X1</td>\n",
              "      <td>31</td>\n",
              "      <td>No</td>\n",
              "      <td>407504</td>\n",
              "      <td>No</td>\n",
              "      <td>0</td>\n",
              "    </tr>\n",
              "    <tr>\n",
              "      <th>245724</th>\n",
              "      <td>BOCZSWLJ</td>\n",
              "      <td>Male</td>\n",
              "      <td>29</td>\n",
              "      <td>RG269</td>\n",
              "      <td>Salaried</td>\n",
              "      <td>X1</td>\n",
              "      <td>21</td>\n",
              "      <td>No</td>\n",
              "      <td>1129276</td>\n",
              "      <td>No</td>\n",
              "      <td>0</td>\n",
              "    </tr>\n",
              "  </tbody>\n",
              "</table>\n",
              "<p>245725 rows × 11 columns</p>\n",
              "</div>\n",
              "      <button class=\"colab-df-convert\" onclick=\"convertToInteractive('df-0a98c760-b771-4e65-8f15-c7d3057a9bb2')\"\n",
              "              title=\"Convert this dataframe to an interactive table.\"\n",
              "              style=\"display:none;\">\n",
              "        \n",
              "  <svg xmlns=\"http://www.w3.org/2000/svg\" height=\"24px\"viewBox=\"0 0 24 24\"\n",
              "       width=\"24px\">\n",
              "    <path d=\"M0 0h24v24H0V0z\" fill=\"none\"/>\n",
              "    <path d=\"M18.56 5.44l.94 2.06.94-2.06 2.06-.94-2.06-.94-.94-2.06-.94 2.06-2.06.94zm-11 1L8.5 8.5l.94-2.06 2.06-.94-2.06-.94L8.5 2.5l-.94 2.06-2.06.94zm10 10l.94 2.06.94-2.06 2.06-.94-2.06-.94-.94-2.06-.94 2.06-2.06.94z\"/><path d=\"M17.41 7.96l-1.37-1.37c-.4-.4-.92-.59-1.43-.59-.52 0-1.04.2-1.43.59L10.3 9.45l-7.72 7.72c-.78.78-.78 2.05 0 2.83L4 21.41c.39.39.9.59 1.41.59.51 0 1.02-.2 1.41-.59l7.78-7.78 2.81-2.81c.8-.78.8-2.07 0-2.86zM5.41 20L4 18.59l7.72-7.72 1.47 1.35L5.41 20z\"/>\n",
              "  </svg>\n",
              "      </button>\n",
              "      \n",
              "  <style>\n",
              "    .colab-df-container {\n",
              "      display:flex;\n",
              "      flex-wrap:wrap;\n",
              "      gap: 12px;\n",
              "    }\n",
              "\n",
              "    .colab-df-convert {\n",
              "      background-color: #E8F0FE;\n",
              "      border: none;\n",
              "      border-radius: 50%;\n",
              "      cursor: pointer;\n",
              "      display: none;\n",
              "      fill: #1967D2;\n",
              "      height: 32px;\n",
              "      padding: 0 0 0 0;\n",
              "      width: 32px;\n",
              "    }\n",
              "\n",
              "    .colab-df-convert:hover {\n",
              "      background-color: #E2EBFA;\n",
              "      box-shadow: 0px 1px 2px rgba(60, 64, 67, 0.3), 0px 1px 3px 1px rgba(60, 64, 67, 0.15);\n",
              "      fill: #174EA6;\n",
              "    }\n",
              "\n",
              "    [theme=dark] .colab-df-convert {\n",
              "      background-color: #3B4455;\n",
              "      fill: #D2E3FC;\n",
              "    }\n",
              "\n",
              "    [theme=dark] .colab-df-convert:hover {\n",
              "      background-color: #434B5C;\n",
              "      box-shadow: 0px 1px 3px 1px rgba(0, 0, 0, 0.15);\n",
              "      filter: drop-shadow(0px 1px 2px rgba(0, 0, 0, 0.3));\n",
              "      fill: #FFFFFF;\n",
              "    }\n",
              "  </style>\n",
              "\n",
              "      <script>\n",
              "        const buttonEl =\n",
              "          document.querySelector('#df-0a98c760-b771-4e65-8f15-c7d3057a9bb2 button.colab-df-convert');\n",
              "        buttonEl.style.display =\n",
              "          google.colab.kernel.accessAllowed ? 'block' : 'none';\n",
              "\n",
              "        async function convertToInteractive(key) {\n",
              "          const element = document.querySelector('#df-0a98c760-b771-4e65-8f15-c7d3057a9bb2');\n",
              "          const dataTable =\n",
              "            await google.colab.kernel.invokeFunction('convertToInteractive',\n",
              "                                                     [key], {});\n",
              "          if (!dataTable) return;\n",
              "\n",
              "          const docLinkHtml = 'Like what you see? Visit the ' +\n",
              "            '<a target=\"_blank\" href=https://colab.research.google.com/notebooks/data_table.ipynb>data table notebook</a>'\n",
              "            + ' to learn more about interactive tables.';\n",
              "          element.innerHTML = '';\n",
              "          dataTable['output_type'] = 'display_data';\n",
              "          await google.colab.output.renderOutput(dataTable, element);\n",
              "          const docLink = document.createElement('div');\n",
              "          docLink.innerHTML = docLinkHtml;\n",
              "          element.appendChild(docLink);\n",
              "        }\n",
              "      </script>\n",
              "    </div>\n",
              "  </div>\n",
              "  "
            ]
          },
          "metadata": {},
          "execution_count": 4
        }
      ]
    },
    {
      "cell_type": "code",
      "source": [
        "test_df"
      ],
      "metadata": {
        "id": "RIH0EHOJyiZL",
        "outputId": "0d91f800-9d62-4d13-ff1a-0cf5d6c2c86d",
        "colab": {
          "base_uri": "https://localhost:8080/",
          "height": 424
        }
      },
      "execution_count": 5,
      "outputs": [
        {
          "output_type": "execute_result",
          "data": {
            "text/plain": [
              "              ID  Gender  Age Region_Code Occupation Channel_Code  Vintage  \\\n",
              "0       VBENBARO    Male   29       RG254      Other           X1       25   \n",
              "1       CCMEWNKY    Male   43       RG268      Other           X2       49   \n",
              "2       VK3KGA9M    Male   31       RG270   Salaried           X1       14   \n",
              "3       TT8RPZVC    Male   29       RG272      Other           X1       33   \n",
              "4       SHQZEYTZ  Female   29       RG270      Other           X1       19   \n",
              "...          ...     ...  ...         ...        ...          ...      ...   \n",
              "105307  DBENJOYI    Male   52       RG268   Salaried           X2       86   \n",
              "105308  CWQ72DWS    Male   55       RG277      Other           X2       86   \n",
              "105309  HDESC8GU    Male   35       RG254   Salaried           X4       15   \n",
              "105310  2PW4SFCA    Male   53       RG254      Other           X3       93   \n",
              "105311  F2NOYPPZ    Male   27       RG256   Salaried           X1       21   \n",
              "\n",
              "       Credit_Product  Avg_Account_Balance Is_Active  \n",
              "0                 Yes               742366        No  \n",
              "1                 NaN               925537        No  \n",
              "2                  No               215949        No  \n",
              "3                  No               868070        No  \n",
              "4                  No               657087        No  \n",
              "...               ...                  ...       ...  \n",
              "105307            Yes              4242558       Yes  \n",
              "105308            Yes              1159153        No  \n",
              "105309             No              1703727        No  \n",
              "105310             No               737178       Yes  \n",
              "105311             No               591565        No  \n",
              "\n",
              "[105312 rows x 10 columns]"
            ],
            "text/html": [
              "\n",
              "  <div id=\"df-09db3c0f-4aab-43cc-80fc-6d8c0fb2889e\">\n",
              "    <div class=\"colab-df-container\">\n",
              "      <div>\n",
              "<style scoped>\n",
              "    .dataframe tbody tr th:only-of-type {\n",
              "        vertical-align: middle;\n",
              "    }\n",
              "\n",
              "    .dataframe tbody tr th {\n",
              "        vertical-align: top;\n",
              "    }\n",
              "\n",
              "    .dataframe thead th {\n",
              "        text-align: right;\n",
              "    }\n",
              "</style>\n",
              "<table border=\"1\" class=\"dataframe\">\n",
              "  <thead>\n",
              "    <tr style=\"text-align: right;\">\n",
              "      <th></th>\n",
              "      <th>ID</th>\n",
              "      <th>Gender</th>\n",
              "      <th>Age</th>\n",
              "      <th>Region_Code</th>\n",
              "      <th>Occupation</th>\n",
              "      <th>Channel_Code</th>\n",
              "      <th>Vintage</th>\n",
              "      <th>Credit_Product</th>\n",
              "      <th>Avg_Account_Balance</th>\n",
              "      <th>Is_Active</th>\n",
              "    </tr>\n",
              "  </thead>\n",
              "  <tbody>\n",
              "    <tr>\n",
              "      <th>0</th>\n",
              "      <td>VBENBARO</td>\n",
              "      <td>Male</td>\n",
              "      <td>29</td>\n",
              "      <td>RG254</td>\n",
              "      <td>Other</td>\n",
              "      <td>X1</td>\n",
              "      <td>25</td>\n",
              "      <td>Yes</td>\n",
              "      <td>742366</td>\n",
              "      <td>No</td>\n",
              "    </tr>\n",
              "    <tr>\n",
              "      <th>1</th>\n",
              "      <td>CCMEWNKY</td>\n",
              "      <td>Male</td>\n",
              "      <td>43</td>\n",
              "      <td>RG268</td>\n",
              "      <td>Other</td>\n",
              "      <td>X2</td>\n",
              "      <td>49</td>\n",
              "      <td>NaN</td>\n",
              "      <td>925537</td>\n",
              "      <td>No</td>\n",
              "    </tr>\n",
              "    <tr>\n",
              "      <th>2</th>\n",
              "      <td>VK3KGA9M</td>\n",
              "      <td>Male</td>\n",
              "      <td>31</td>\n",
              "      <td>RG270</td>\n",
              "      <td>Salaried</td>\n",
              "      <td>X1</td>\n",
              "      <td>14</td>\n",
              "      <td>No</td>\n",
              "      <td>215949</td>\n",
              "      <td>No</td>\n",
              "    </tr>\n",
              "    <tr>\n",
              "      <th>3</th>\n",
              "      <td>TT8RPZVC</td>\n",
              "      <td>Male</td>\n",
              "      <td>29</td>\n",
              "      <td>RG272</td>\n",
              "      <td>Other</td>\n",
              "      <td>X1</td>\n",
              "      <td>33</td>\n",
              "      <td>No</td>\n",
              "      <td>868070</td>\n",
              "      <td>No</td>\n",
              "    </tr>\n",
              "    <tr>\n",
              "      <th>4</th>\n",
              "      <td>SHQZEYTZ</td>\n",
              "      <td>Female</td>\n",
              "      <td>29</td>\n",
              "      <td>RG270</td>\n",
              "      <td>Other</td>\n",
              "      <td>X1</td>\n",
              "      <td>19</td>\n",
              "      <td>No</td>\n",
              "      <td>657087</td>\n",
              "      <td>No</td>\n",
              "    </tr>\n",
              "    <tr>\n",
              "      <th>...</th>\n",
              "      <td>...</td>\n",
              "      <td>...</td>\n",
              "      <td>...</td>\n",
              "      <td>...</td>\n",
              "      <td>...</td>\n",
              "      <td>...</td>\n",
              "      <td>...</td>\n",
              "      <td>...</td>\n",
              "      <td>...</td>\n",
              "      <td>...</td>\n",
              "    </tr>\n",
              "    <tr>\n",
              "      <th>105307</th>\n",
              "      <td>DBENJOYI</td>\n",
              "      <td>Male</td>\n",
              "      <td>52</td>\n",
              "      <td>RG268</td>\n",
              "      <td>Salaried</td>\n",
              "      <td>X2</td>\n",
              "      <td>86</td>\n",
              "      <td>Yes</td>\n",
              "      <td>4242558</td>\n",
              "      <td>Yes</td>\n",
              "    </tr>\n",
              "    <tr>\n",
              "      <th>105308</th>\n",
              "      <td>CWQ72DWS</td>\n",
              "      <td>Male</td>\n",
              "      <td>55</td>\n",
              "      <td>RG277</td>\n",
              "      <td>Other</td>\n",
              "      <td>X2</td>\n",
              "      <td>86</td>\n",
              "      <td>Yes</td>\n",
              "      <td>1159153</td>\n",
              "      <td>No</td>\n",
              "    </tr>\n",
              "    <tr>\n",
              "      <th>105309</th>\n",
              "      <td>HDESC8GU</td>\n",
              "      <td>Male</td>\n",
              "      <td>35</td>\n",
              "      <td>RG254</td>\n",
              "      <td>Salaried</td>\n",
              "      <td>X4</td>\n",
              "      <td>15</td>\n",
              "      <td>No</td>\n",
              "      <td>1703727</td>\n",
              "      <td>No</td>\n",
              "    </tr>\n",
              "    <tr>\n",
              "      <th>105310</th>\n",
              "      <td>2PW4SFCA</td>\n",
              "      <td>Male</td>\n",
              "      <td>53</td>\n",
              "      <td>RG254</td>\n",
              "      <td>Other</td>\n",
              "      <td>X3</td>\n",
              "      <td>93</td>\n",
              "      <td>No</td>\n",
              "      <td>737178</td>\n",
              "      <td>Yes</td>\n",
              "    </tr>\n",
              "    <tr>\n",
              "      <th>105311</th>\n",
              "      <td>F2NOYPPZ</td>\n",
              "      <td>Male</td>\n",
              "      <td>27</td>\n",
              "      <td>RG256</td>\n",
              "      <td>Salaried</td>\n",
              "      <td>X1</td>\n",
              "      <td>21</td>\n",
              "      <td>No</td>\n",
              "      <td>591565</td>\n",
              "      <td>No</td>\n",
              "    </tr>\n",
              "  </tbody>\n",
              "</table>\n",
              "<p>105312 rows × 10 columns</p>\n",
              "</div>\n",
              "      <button class=\"colab-df-convert\" onclick=\"convertToInteractive('df-09db3c0f-4aab-43cc-80fc-6d8c0fb2889e')\"\n",
              "              title=\"Convert this dataframe to an interactive table.\"\n",
              "              style=\"display:none;\">\n",
              "        \n",
              "  <svg xmlns=\"http://www.w3.org/2000/svg\" height=\"24px\"viewBox=\"0 0 24 24\"\n",
              "       width=\"24px\">\n",
              "    <path d=\"M0 0h24v24H0V0z\" fill=\"none\"/>\n",
              "    <path d=\"M18.56 5.44l.94 2.06.94-2.06 2.06-.94-2.06-.94-.94-2.06-.94 2.06-2.06.94zm-11 1L8.5 8.5l.94-2.06 2.06-.94-2.06-.94L8.5 2.5l-.94 2.06-2.06.94zm10 10l.94 2.06.94-2.06 2.06-.94-2.06-.94-.94-2.06-.94 2.06-2.06.94z\"/><path d=\"M17.41 7.96l-1.37-1.37c-.4-.4-.92-.59-1.43-.59-.52 0-1.04.2-1.43.59L10.3 9.45l-7.72 7.72c-.78.78-.78 2.05 0 2.83L4 21.41c.39.39.9.59 1.41.59.51 0 1.02-.2 1.41-.59l7.78-7.78 2.81-2.81c.8-.78.8-2.07 0-2.86zM5.41 20L4 18.59l7.72-7.72 1.47 1.35L5.41 20z\"/>\n",
              "  </svg>\n",
              "      </button>\n",
              "      \n",
              "  <style>\n",
              "    .colab-df-container {\n",
              "      display:flex;\n",
              "      flex-wrap:wrap;\n",
              "      gap: 12px;\n",
              "    }\n",
              "\n",
              "    .colab-df-convert {\n",
              "      background-color: #E8F0FE;\n",
              "      border: none;\n",
              "      border-radius: 50%;\n",
              "      cursor: pointer;\n",
              "      display: none;\n",
              "      fill: #1967D2;\n",
              "      height: 32px;\n",
              "      padding: 0 0 0 0;\n",
              "      width: 32px;\n",
              "    }\n",
              "\n",
              "    .colab-df-convert:hover {\n",
              "      background-color: #E2EBFA;\n",
              "      box-shadow: 0px 1px 2px rgba(60, 64, 67, 0.3), 0px 1px 3px 1px rgba(60, 64, 67, 0.15);\n",
              "      fill: #174EA6;\n",
              "    }\n",
              "\n",
              "    [theme=dark] .colab-df-convert {\n",
              "      background-color: #3B4455;\n",
              "      fill: #D2E3FC;\n",
              "    }\n",
              "\n",
              "    [theme=dark] .colab-df-convert:hover {\n",
              "      background-color: #434B5C;\n",
              "      box-shadow: 0px 1px 3px 1px rgba(0, 0, 0, 0.15);\n",
              "      filter: drop-shadow(0px 1px 2px rgba(0, 0, 0, 0.3));\n",
              "      fill: #FFFFFF;\n",
              "    }\n",
              "  </style>\n",
              "\n",
              "      <script>\n",
              "        const buttonEl =\n",
              "          document.querySelector('#df-09db3c0f-4aab-43cc-80fc-6d8c0fb2889e button.colab-df-convert');\n",
              "        buttonEl.style.display =\n",
              "          google.colab.kernel.accessAllowed ? 'block' : 'none';\n",
              "\n",
              "        async function convertToInteractive(key) {\n",
              "          const element = document.querySelector('#df-09db3c0f-4aab-43cc-80fc-6d8c0fb2889e');\n",
              "          const dataTable =\n",
              "            await google.colab.kernel.invokeFunction('convertToInteractive',\n",
              "                                                     [key], {});\n",
              "          if (!dataTable) return;\n",
              "\n",
              "          const docLinkHtml = 'Like what you see? Visit the ' +\n",
              "            '<a target=\"_blank\" href=https://colab.research.google.com/notebooks/data_table.ipynb>data table notebook</a>'\n",
              "            + ' to learn more about interactive tables.';\n",
              "          element.innerHTML = '';\n",
              "          dataTable['output_type'] = 'display_data';\n",
              "          await google.colab.output.renderOutput(dataTable, element);\n",
              "          const docLink = document.createElement('div');\n",
              "          docLink.innerHTML = docLinkHtml;\n",
              "          element.appendChild(docLink);\n",
              "        }\n",
              "      </script>\n",
              "    </div>\n",
              "  </div>\n",
              "  "
            ]
          },
          "metadata": {},
          "execution_count": 5
        }
      ]
    },
    {
      "cell_type": "markdown",
      "source": [
        "# 변수 분포 확인, 시각화"
      ],
      "metadata": {
        "id": "PpZty7AK00-0"
      }
    },
    {
      "cell_type": "code",
      "source": [
        "# Is_Lead => 0 = No, 1 = Yes\n",
        "target = 'Is_Lead'"
      ],
      "metadata": {
        "id": "UKHwMmbq4e5R"
      },
      "execution_count": 4,
      "outputs": []
    },
    {
      "cell_type": "code",
      "source": [
        "# 타겟 데이터 범주의 비율 확인\n",
        "y_train = train_df[target]\n",
        "y_train.value_counts(normalize=True)"
      ],
      "metadata": {
        "id": "ulokb0B85KWK",
        "outputId": "705a688f-38d1-4001-acec-2dd4c1231b22",
        "colab": {
          "base_uri": "https://localhost:8080/"
        }
      },
      "execution_count": 5,
      "outputs": [
        {
          "output_type": "execute_result",
          "data": {
            "text/plain": [
              "0    0.762792\n",
              "1    0.237208\n",
              "Name: Is_Lead, dtype: float64"
            ]
          },
          "metadata": {},
          "execution_count": 5
        }
      ]
    },
    {
      "cell_type": "code",
      "source": [
        "# Target 데이터 분포 확인\n",
        "\n",
        "sns.countplot(x = y_train);\n",
        "\n",
        "# imbalanced 확인"
      ],
      "metadata": {
        "colab": {
          "base_uri": "https://localhost:8080/",
          "height": 400
        },
        "id": "jVe1BNAhc6NW",
        "outputId": "54b27da7-7baa-482b-ab3b-50af3ee9df2a"
      },
      "execution_count": 8,
      "outputs": [
        {
          "output_type": "display_data",
          "data": {
            "text/plain": [
              "<Figure size 720x432 with 1 Axes>"
            ],
            "image/png": "[encoded data removed]"
          },
          "metadata": {
            "needs_background": "light"
          }
        }
      ]
    },
    {
      "cell_type": "code",
      "source": [
        "# train_df의 Credit_Product에서 결측치 확인"
      ],
      "metadata": {
        "colab": {
          "base_uri": "https://localhost:8080/"
        },
        "id": "2dKfpf9Lxu8N",
        "outputId": "9ed8457a-19ba-4241-a7f7-208fe660e826"
      },
      "execution_count": 11,
      "outputs": [
        {
          "output_type": "execute_result",
          "data": {
            "text/plain": [
              "ID                         0\n",
              "Gender                     0\n",
              "Age                        0\n",
              "Region_Code                0\n",
              "Occupation                 0\n",
              "Channel_Code               0\n",
              "Vintage                    0\n",
              "Credit_Product         29325\n",
              "Avg_Account_Balance        0\n",
              "Is_Active                  0\n",
              "Is_Lead                    0\n",
              "dtype: int64"
            ]
          },
          "metadata": {},
          "execution_count": 11
        }
      ]
    },
    {
      "cell_type": "code",
      "source": [
        "# test_df에도 Credit_Product에 결측치가 있음.\n",
        "test_df.isnull().sum()"
      ],
      "metadata": {
        "colab": {
          "base_uri": "https://localhost:8080/"
        },
        "id": "efnfrHafafp6",
        "outputId": "797398b7-94e5-4bec-a017-1a7fcda0e11c"
      },
      "execution_count": 12,
      "outputs": [
        {
          "output_type": "execute_result",
          "data": {
            "text/plain": [
              "ID                         0\n",
              "Gender                     0\n",
              "Age                        0\n",
              "Region_Code                0\n",
              "Occupation                 0\n",
              "Channel_Code               0\n",
              "Vintage                    0\n",
              "Credit_Product         12522\n",
              "Avg_Account_Balance        0\n",
              "Is_Active                  0\n",
              "dtype: int64"
            ]
          },
          "metadata": {},
          "execution_count": 12
        }
      ]
    },
    {
      "cell_type": "code",
      "source": [
        "# 불필요한 ID column 삭제\n",
        "train_df = train_df.drop(['ID'],axis=1)\n",
        "test_df = test_df.drop(['ID'], axis=1)\n",
        "\n",
        "train_df"
      ],
      "metadata": {
        "colab": {
          "base_uri": "https://localhost:8080/",
          "height": 424
        },
        "id": "RKU8uBI_3ez1",
        "outputId": "6aceab28-7072-49ca-df7d-96b3ecdc44ff"
      },
      "execution_count": 6,
      "outputs": [
        {
          "output_type": "execute_result",
          "data": {
            "text/plain": [
              "        Gender  Age Region_Code     Occupation Channel_Code  Vintage  \\\n",
              "0       Female   73       RG268          Other           X3       43   \n",
              "1       Female   30       RG277       Salaried           X1       32   \n",
              "2       Female   56       RG268  Self_Employed           X3       26   \n",
              "3         Male   34       RG270       Salaried           X1       19   \n",
              "4       Female   30       RG282       Salaried           X1       33   \n",
              "...        ...  ...         ...            ...          ...      ...   \n",
              "245720    Male   51       RG284  Self_Employed           X3      109   \n",
              "245721    Male   27       RG268       Salaried           X1       15   \n",
              "245722  Female   26       RG281       Salaried           X1       13   \n",
              "245723  Female   28       RG273       Salaried           X1       31   \n",
              "245724    Male   29       RG269       Salaried           X1       21   \n",
              "\n",
              "       Credit_Product  Avg_Account_Balance Is_Active  Is_Lead  \n",
              "0                  No              1045696        No        0  \n",
              "1                  No               581988        No        0  \n",
              "2                  No              1484315       Yes        0  \n",
              "3                  No               470454        No        0  \n",
              "4                  No               886787        No        0  \n",
              "...               ...                  ...       ...      ...  \n",
              "245720            NaN              1925586        No        0  \n",
              "245721             No               862952       Yes        0  \n",
              "245722             No               670659        No        0  \n",
              "245723             No               407504        No        0  \n",
              "245724             No              1129276        No        0  \n",
              "\n",
              "[245725 rows x 10 columns]"
            ],
            "text/html": [
              "\n",
              "  <div id=\"df-d6852962-16cd-49ea-a7a0-caa1f41614d5\">\n",
              "    <div class=\"colab-df-container\">\n",
              "      <div>\n",
              "<style scoped>\n",
              "    .dataframe tbody tr th:only-of-type {\n",
              "        vertical-align: middle;\n",
              "    }\n",
              "\n",
              "    .dataframe tbody tr th {\n",
              "        vertical-align: top;\n",
              "    }\n",
              "\n",
              "    .dataframe thead th {\n",
              "        text-align: right;\n",
              "    }\n",
              "</style>\n",
              "<table border=\"1\" class=\"dataframe\">\n",
              "  <thead>\n",
              "    <tr style=\"text-align: right;\">\n",
              "      <th></th>\n",
              "      <th>Gender</th>\n",
              "      <th>Age</th>\n",
              "      <th>Region_Code</th>\n",
              "      <th>Occupation</th>\n",
              "      <th>Channel_Code</th>\n",
              "      <th>Vintage</th>\n",
              "      <th>Credit_Product</th>\n",
              "      <th>Avg_Account_Balance</th>\n",
              "      <th>Is_Active</th>\n",
              "      <th>Is_Lead</th>\n",
              "    </tr>\n",
              "  </thead>\n",
              "  <tbody>\n",
              "    <tr>\n",
              "      <th>0</th>\n",
              "      <td>Female</td>\n",
              "      <td>73</td>\n",
              "      <td>RG268</td>\n",
              "      <td>Other</td>\n",
              "      <td>X3</td>\n",
              "      <td>43</td>\n",
              "      <td>No</td>\n",
              "      <td>1045696</td>\n",
              "      <td>No</td>\n",
              "      <td>0</td>\n",
              "    </tr>\n",
              "    <tr>\n",
              "      <th>1</th>\n",
              "      <td>Female</td>\n",
              "      <td>30</td>\n",
              "      <td>RG277</td>\n",
              "      <td>Salaried</td>\n",
              "      <td>X1</td>\n",
              "      <td>32</td>\n",
              "      <td>No</td>\n",
              "      <td>581988</td>\n",
              "      <td>No</td>\n",
              "      <td>0</td>\n",
              "    </tr>\n",
              "    <tr>\n",
              "      <th>2</th>\n",
              "      <td>Female</td>\n",
              "      <td>56</td>\n",
              "      <td>RG268</td>\n",
              "      <td>Self_Employed</td>\n",
              "      <td>X3</td>\n",
              "      <td>26</td>\n",
              "      <td>No</td>\n",
              "      <td>1484315</td>\n",
              "      <td>Yes</td>\n",
              "      <td>0</td>\n",
              "    </tr>\n",
              "    <tr>\n",
              "      <th>3</th>\n",
              "      <td>Male</td>\n",
              "      <td>34</td>\n",
              "      <td>RG270</td>\n",
              "      <td>Salaried</td>\n",
              "      <td>X1</td>\n",
              "      <td>19</td>\n",
              "      <td>No</td>\n",
              "      <td>470454</td>\n",
              "      <td>No</td>\n",
              "      <td>0</td>\n",
              "    </tr>\n",
              "    <tr>\n",
              "      <th>4</th>\n",
              "      <td>Female</td>\n",
              "      <td>30</td>\n",
              "      <td>RG282</td>\n",
              "      <td>Salaried</td>\n",
              "      <td>X1</td>\n",
              "      <td>33</td>\n",
              "      <td>No</td>\n",
              "      <td>886787</td>\n",
              "      <td>No</td>\n",
              "      <td>0</td>\n",
              "    </tr>\n",
              "    <tr>\n",
              "      <th>...</th>\n",
              "      <td>...</td>\n",
              "      <td>...</td>\n",
              "      <td>...</td>\n",
              "      <td>...</td>\n",
              "      <td>...</td>\n",
              "      <td>...</td>\n",
              "      <td>...</td>\n",
              "      <td>...</td>\n",
              "      <td>...</td>\n",
              "      <td>...</td>\n",
              "    </tr>\n",
              "    <tr>\n",
              "      <th>245720</th>\n",
              "      <td>Male</td>\n",
              "      <td>51</td>\n",
              "      <td>RG284</td>\n",
              "      <td>Self_Employed</td>\n",
              "      <td>X3</td>\n",
              "      <td>109</td>\n",
              "      <td>NaN</td>\n",
              "      <td>1925586</td>\n",
              "      <td>No</td>\n",
              "      <td>0</td>\n",
              "    </tr>\n",
              "    <tr>\n",
              "      <th>245721</th>\n",
              "      <td>Male</td>\n",
              "      <td>27</td>\n",
              "      <td>RG268</td>\n",
              "      <td>Salaried</td>\n",
              "      <td>X1</td>\n",
              "      <td>15</td>\n",
              "      <td>No</td>\n",
              "      <td>862952</td>\n",
              "      <td>Yes</td>\n",
              "      <td>0</td>\n",
              "    </tr>\n",
              "    <tr>\n",
              "      <th>245722</th>\n",
              "      <td>Female</td>\n",
              "      <td>26</td>\n",
              "      <td>RG281</td>\n",
              "      <td>Salaried</td>\n",
              "      <td>X1</td>\n",
              "      <td>13</td>\n",
              "      <td>No</td>\n",
              "      <td>670659</td>\n",
              "      <td>No</td>\n",
              "      <td>0</td>\n",
              "    </tr>\n",
              "    <tr>\n",
              "      <th>245723</th>\n",
              "      <td>Female</td>\n",
              "      <td>28</td>\n",
              "      <td>RG273</td>\n",
              "      <td>Salaried</td>\n",
              "      <td>X1</td>\n",
              "      <td>31</td>\n",
              "      <td>No</td>\n",
              "      <td>407504</td>\n",
              "      <td>No</td>\n",
              "      <td>0</td>\n",
              "    </tr>\n",
              "    <tr>\n",
              "      <th>245724</th>\n",
              "      <td>Male</td>\n",
              "      <td>29</td>\n",
              "      <td>RG269</td>\n",
              "      <td>Salaried</td>\n",
              "      <td>X1</td>\n",
              "      <td>21</td>\n",
              "      <td>No</td>\n",
              "      <td>1129276</td>\n",
              "      <td>No</td>\n",
              "      <td>0</td>\n",
              "    </tr>\n",
              "  </tbody>\n",
              "</table>\n",
              "<p>245725 rows × 10 columns</p>\n",
              "</div>\n",
              "      <button class=\"colab-df-convert\" onclick=\"convertToInteractive('df-d6852962-16cd-49ea-a7a0-caa1f41614d5')\"\n",
              "              title=\"Convert this dataframe to an interactive table.\"\n",
              "              style=\"display:none;\">\n",
              "        \n",
              "  <svg xmlns=\"http://www.w3.org/2000/svg\" height=\"24px\"viewBox=\"0 0 24 24\"\n",
              "       width=\"24px\">\n",
              "    <path d=\"M0 0h24v24H0V0z\" fill=\"none\"/>\n",
              "    <path d=\"M18.56 5.44l.94 2.06.94-2.06 2.06-.94-2.06-.94-.94-2.06-.94 2.06-2.06.94zm-11 1L8.5 8.5l.94-2.06 2.06-.94-2.06-.94L8.5 2.5l-.94 2.06-2.06.94zm10 10l.94 2.06.94-2.06 2.06-.94-2.06-.94-.94-2.06-.94 2.06-2.06.94z\"/><path d=\"M17.41 7.96l-1.37-1.37c-.4-.4-.92-.59-1.43-.59-.52 0-1.04.2-1.43.59L10.3 9.45l-7.72 7.72c-.78.78-.78 2.05 0 2.83L4 21.41c.39.39.9.59 1.41.59.51 0 1.02-.2 1.41-.59l7.78-7.78 2.81-2.81c.8-.78.8-2.07 0-2.86zM5.41 20L4 18.59l7.72-7.72 1.47 1.35L5.41 20z\"/>\n",
              "  </svg>\n",
              "      </button>\n",
              "      \n",
              "  <style>\n",
              "    .colab-df-container {\n",
              "      display:flex;\n",
              "      flex-wrap:wrap;\n",
              "      gap: 12px;\n",
              "    }\n",
              "\n",
              "    .colab-df-convert {\n",
              "      background-color: #E8F0FE;\n",
              "      border: none;\n",
              "      border-radius: 50%;\n",
              "      cursor: pointer;\n",
              "      display: none;\n",
              "      fill: #1967D2;\n",
              "      height: 32px;\n",
              "      padding: 0 0 0 0;\n",
              "      width: 32px;\n",
              "    }\n",
              "\n",
              "    .colab-df-convert:hover {\n",
              "      background-color: #E2EBFA;\n",
              "      box-shadow: 0px 1px 2px rgba(60, 64, 67, 0.3), 0px 1px 3px 1px rgba(60, 64, 67, 0.15);\n",
              "      fill: #174EA6;\n",
              "    }\n",
              "\n",
              "    [theme=dark] .colab-df-convert {\n",
              "      background-color: #3B4455;\n",
              "      fill: #D2E3FC;\n",
              "    }\n",
              "\n",
              "    [theme=dark] .colab-df-convert:hover {\n",
              "      background-color: #434B5C;\n",
              "      box-shadow: 0px 1px 3px 1px rgba(0, 0, 0, 0.15);\n",
              "      filter: drop-shadow(0px 1px 2px rgba(0, 0, 0, 0.3));\n",
              "      fill: #FFFFFF;\n",
              "    }\n",
              "  </style>\n",
              "\n",
              "      <script>\n",
              "        const buttonEl =\n",
              "          document.querySelector('#df-d6852962-16cd-49ea-a7a0-caa1f41614d5 button.colab-df-convert');\n",
              "        buttonEl.style.display =\n",
              "          google.colab.kernel.accessAllowed ? 'block' : 'none';\n",
              "\n",
              "        async function convertToInteractive(key) {\n",
              "          const element = document.querySelector('#df-d6852962-16cd-49ea-a7a0-caa1f41614d5');\n",
              "          const dataTable =\n",
              "            await google.colab.kernel.invokeFunction('convertToInteractive',\n",
              "                                                     [key], {});\n",
              "          if (!dataTable) return;\n",
              "\n",
              "          const docLinkHtml = 'Like what you see? Visit the ' +\n",
              "            '<a target=\"_blank\" href=https://colab.research.google.com/notebooks/data_table.ipynb>data table notebook</a>'\n",
              "            + ' to learn more about interactive tables.';\n",
              "          element.innerHTML = '';\n",
              "          dataTable['output_type'] = 'display_data';\n",
              "          await google.colab.output.renderOutput(dataTable, element);\n",
              "          const docLink = document.createElement('div');\n",
              "          docLink.innerHTML = docLinkHtml;\n",
              "          element.appendChild(docLink);\n",
              "        }\n",
              "      </script>\n",
              "    </div>\n",
              "  </div>\n",
              "  "
            ]
          },
          "metadata": {},
          "execution_count": 6
        }
      ]
    },
    {
      "cell_type": "code",
      "source": [
        "# dtype 확인\n",
        "train_df.dtypes"
      ],
      "metadata": {
        "id": "ZAaK8Tj0GzDS",
        "outputId": "43f07c82-d8d5-4c34-9dbe-bc230cfda5dc",
        "colab": {
          "base_uri": "https://localhost:8080/"
        }
      },
      "execution_count": 14,
      "outputs": [
        {
          "output_type": "execute_result",
          "data": {
            "text/plain": [
              "Gender                 object\n",
              "Age                     int64\n",
              "Region_Code            object\n",
              "Occupation             object\n",
              "Channel_Code           object\n",
              "Vintage                 int64\n",
              "Credit_Product         object\n",
              "Avg_Account_Balance     int64\n",
              "Is_Active              object\n",
              "Is_Lead                 int64\n",
              "dtype: object"
            ]
          },
          "metadata": {},
          "execution_count": 14
        }
      ]
    },
    {
      "cell_type": "code",
      "source": [
        "train_df.describe(include='all')"
      ],
      "metadata": {
        "id": "KSzhUJImGP4H",
        "outputId": "c239c6ce-bbc5-4efc-bf9a-23612cb74ae4",
        "colab": {
          "base_uri": "https://localhost:8080/",
          "height": 438
        }
      },
      "execution_count": 15,
      "outputs": [
        {
          "output_type": "execute_result",
          "data": {
            "text/plain": [
              "        Gender            Age Region_Code     Occupation Channel_Code  \\\n",
              "count   245725  245725.000000      245725         245725       245725   \n",
              "unique       2            NaN          35              4            4   \n",
              "top       Male            NaN       RG268  Self_Employed           X1   \n",
              "freq    134197            NaN       35934         100886       103718   \n",
              "mean       NaN      43.856307         NaN            NaN          NaN   \n",
              "std        NaN      14.828672         NaN            NaN          NaN   \n",
              "min        NaN      23.000000         NaN            NaN          NaN   \n",
              "25%        NaN      30.000000         NaN            NaN          NaN   \n",
              "50%        NaN      43.000000         NaN            NaN          NaN   \n",
              "75%        NaN      54.000000         NaN            NaN          NaN   \n",
              "max        NaN      85.000000         NaN            NaN          NaN   \n",
              "\n",
              "              Vintage Credit_Product  Avg_Account_Balance Is_Active  \\\n",
              "count   245725.000000         216400         2.457250e+05    245725   \n",
              "unique            NaN              2                  NaN         2   \n",
              "top               NaN             No                  NaN        No   \n",
              "freq              NaN         144357                  NaN    150290   \n",
              "mean        46.959141            NaN         1.128403e+06       NaN   \n",
              "std         32.353136            NaN         8.529364e+05       NaN   \n",
              "min          7.000000            NaN         2.079000e+04       NaN   \n",
              "25%         20.000000            NaN         6.043100e+05       NaN   \n",
              "50%         32.000000            NaN         8.946010e+05       NaN   \n",
              "75%         73.000000            NaN         1.366666e+06       NaN   \n",
              "max        135.000000            NaN         1.035201e+07       NaN   \n",
              "\n",
              "              Is_Lead  \n",
              "count   245725.000000  \n",
              "unique            NaN  \n",
              "top               NaN  \n",
              "freq              NaN  \n",
              "mean         0.237208  \n",
              "std          0.425372  \n",
              "min          0.000000  \n",
              "25%          0.000000  \n",
              "50%          0.000000  \n",
              "75%          0.000000  \n",
              "max          1.000000  "
            ],
            "text/html": [
              "\n",
              "  <div id=\"df-da0ae466-7a7a-43b8-9c8d-024dbc90020a\">\n",
              "    <div class=\"colab-df-container\">\n",
              "      <div>\n",
              "<style scoped>\n",
              "    .dataframe tbody tr th:only-of-type {\n",
              "        vertical-align: middle;\n",
              "    }\n",
              "\n",
              "    .dataframe tbody tr th {\n",
              "        vertical-align: top;\n",
              "    }\n",
              "\n",
              "    .dataframe thead th {\n",
              "        text-align: right;\n",
              "    }\n",
              "</style>\n",
              "<table border=\"1\" class=\"dataframe\">\n",
              "  <thead>\n",
              "    <tr style=\"text-align: right;\">\n",
              "      <th></th>\n",
              "      <th>Gender</th>\n",
              "      <th>Age</th>\n",
              "      <th>Region_Code</th>\n",
              "      <th>Occupation</th>\n",
              "      <th>Channel_Code</th>\n",
              "      <th>Vintage</th>\n",
              "      <th>Credit_Product</th>\n",
              "      <th>Avg_Account_Balance</th>\n",
              "      <th>Is_Active</th>\n",
              "      <th>Is_Lead</th>\n",
              "    </tr>\n",
              "  </thead>\n",
              "  <tbody>\n",
              "    <tr>\n",
              "      <th>count</th>\n",
              "      <td>245725</td>\n",
              "      <td>245725.000000</td>\n",
              "      <td>245725</td>\n",
              "      <td>245725</td>\n",
              "      <td>245725</td>\n",
              "      <td>245725.000000</td>\n",
              "      <td>216400</td>\n",
              "      <td>2.457250e+05</td>\n",
              "      <td>245725</td>\n",
              "      <td>245725.000000</td>\n",
              "    </tr>\n",
              "    <tr>\n",
              "      <th>unique</th>\n",
              "      <td>2</td>\n",
              "      <td>NaN</td>\n",
              "      <td>35</td>\n",
              "      <td>4</td>\n",
              "      <td>4</td>\n",
              "      <td>NaN</td>\n",
              "      <td>2</td>\n",
              "      <td>NaN</td>\n",
              "      <td>2</td>\n",
              "      <td>NaN</td>\n",
              "    </tr>\n",
              "    <tr>\n",
              "      <th>top</th>\n",
              "      <td>Male</td>\n",
              "      <td>NaN</td>\n",
              "      <td>RG268</td>\n",
              "      <td>Self_Employed</td>\n",
              "      <td>X1</td>\n",
              "      <td>NaN</td>\n",
              "      <td>No</td>\n",
              "      <td>NaN</td>\n",
              "      <td>No</td>\n",
              "      <td>NaN</td>\n",
              "    </tr>\n",
              "    <tr>\n",
              "      <th>freq</th>\n",
              "      <td>134197</td>\n",
              "      <td>NaN</td>\n",
              "      <td>35934</td>\n",
              "      <td>100886</td>\n",
              "      <td>103718</td>\n",
              "      <td>NaN</td>\n",
              "      <td>144357</td>\n",
              "      <td>NaN</td>\n",
              "      <td>150290</td>\n",
              "      <td>NaN</td>\n",
              "    </tr>\n",
              "    <tr>\n",
              "      <th>mean</th>\n",
              "      <td>NaN</td>\n",
              "      <td>43.856307</td>\n",
              "      <td>NaN</td>\n",
              "      <td>NaN</td>\n",
              "      <td>NaN</td>\n",
              "      <td>46.959141</td>\n",
              "      <td>NaN</td>\n",
              "      <td>1.128403e+06</td>\n",
              "      <td>NaN</td>\n",
              "      <td>0.237208</td>\n",
              "    </tr>\n",
              "    <tr>\n",
              "      <th>std</th>\n",
              "      <td>NaN</td>\n",
              "      <td>14.828672</td>\n",
              "      <td>NaN</td>\n",
              "      <td>NaN</td>\n",
              "      <td>NaN</td>\n",
              "      <td>32.353136</td>\n",
              "      <td>NaN</td>\n",
              "      <td>8.529364e+05</td>\n",
              "      <td>NaN</td>\n",
              "      <td>0.425372</td>\n",
              "    </tr>\n",
              "    <tr>\n",
              "      <th>min</th>\n",
              "      <td>NaN</td>\n",
              "      <td>23.000000</td>\n",
              "      <td>NaN</td>\n",
              "      <td>NaN</td>\n",
              "      <td>NaN</td>\n",
              "      <td>7.000000</td>\n",
              "      <td>NaN</td>\n",
              "      <td>2.079000e+04</td>\n",
              "      <td>NaN</td>\n",
              "      <td>0.000000</td>\n",
              "    </tr>\n",
              "    <tr>\n",
              "      <th>25%</th>\n",
              "      <td>NaN</td>\n",
              "      <td>30.000000</td>\n",
              "      <td>NaN</td>\n",
              "      <td>NaN</td>\n",
              "      <td>NaN</td>\n",
              "      <td>20.000000</td>\n",
              "      <td>NaN</td>\n",
              "      <td>6.043100e+05</td>\n",
              "      <td>NaN</td>\n",
              "      <td>0.000000</td>\n",
              "    </tr>\n",
              "    <tr>\n",
              "      <th>50%</th>\n",
              "      <td>NaN</td>\n",
              "      <td>43.000000</td>\n",
              "      <td>NaN</td>\n",
              "      <td>NaN</td>\n",
              "      <td>NaN</td>\n",
              "      <td>32.000000</td>\n",
              "      <td>NaN</td>\n",
              "      <td>8.946010e+05</td>\n",
              "      <td>NaN</td>\n",
              "      <td>0.000000</td>\n",
              "    </tr>\n",
              "    <tr>\n",
              "      <th>75%</th>\n",
              "      <td>NaN</td>\n",
              "      <td>54.000000</td>\n",
              "      <td>NaN</td>\n",
              "      <td>NaN</td>\n",
              "      <td>NaN</td>\n",
              "      <td>73.000000</td>\n",
              "      <td>NaN</td>\n",
              "      <td>1.366666e+06</td>\n",
              "      <td>NaN</td>\n",
              "      <td>0.000000</td>\n",
              "    </tr>\n",
              "    <tr>\n",
              "      <th>max</th>\n",
              "      <td>NaN</td>\n",
              "      <td>85.000000</td>\n",
              "      <td>NaN</td>\n",
              "      <td>NaN</td>\n",
              "      <td>NaN</td>\n",
              "      <td>135.000000</td>\n",
              "      <td>NaN</td>\n",
              "      <td>1.035201e+07</td>\n",
              "      <td>NaN</td>\n",
              "      <td>1.000000</td>\n",
              "    </tr>\n",
              "  </tbody>\n",
              "</table>\n",
              "</div>\n",
              "      <button class=\"colab-df-convert\" onclick=\"convertToInteractive('df-da0ae466-7a7a-43b8-9c8d-024dbc90020a')\"\n",
              "              title=\"Convert this dataframe to an interactive table.\"\n",
              "              style=\"display:none;\">\n",
              "        \n",
              "  <svg xmlns=\"http://www.w3.org/2000/svg\" height=\"24px\"viewBox=\"0 0 24 24\"\n",
              "       width=\"24px\">\n",
              "    <path d=\"M0 0h24v24H0V0z\" fill=\"none\"/>\n",
              "    <path d=\"M18.56 5.44l.94 2.06.94-2.06 2.06-.94-2.06-.94-.94-2.06-.94 2.06-2.06.94zm-11 1L8.5 8.5l.94-2.06 2.06-.94-2.06-.94L8.5 2.5l-.94 2.06-2.06.94zm10 10l.94 2.06.94-2.06 2.06-.94-2.06-.94-.94-2.06-.94 2.06-2.06.94z\"/><path d=\"M17.41 7.96l-1.37-1.37c-.4-.4-.92-.59-1.43-.59-.52 0-1.04.2-1.43.59L10.3 9.45l-7.72 7.72c-.78.78-.78 2.05 0 2.83L4 21.41c.39.39.9.59 1.41.59.51 0 1.02-.2 1.41-.59l7.78-7.78 2.81-2.81c.8-.78.8-2.07 0-2.86zM5.41 20L4 18.59l7.72-7.72 1.47 1.35L5.41 20z\"/>\n",
              "  </svg>\n",
              "      </button>\n",
              "      \n",
              "  <style>\n",
              "    .colab-df-container {\n",
              "      display:flex;\n",
              "      flex-wrap:wrap;\n",
              "      gap: 12px;\n",
              "    }\n",
              "\n",
              "    .colab-df-convert {\n",
              "      background-color: #E8F0FE;\n",
              "      border: none;\n",
              "      border-radius: 50%;\n",
              "      cursor: pointer;\n",
              "      display: none;\n",
              "      fill: #1967D2;\n",
              "      height: 32px;\n",
              "      padding: 0 0 0 0;\n",
              "      width: 32px;\n",
              "    }\n",
              "\n",
              "    .colab-df-convert:hover {\n",
              "      background-color: #E2EBFA;\n",
              "      box-shadow: 0px 1px 2px rgba(60, 64, 67, 0.3), 0px 1px 3px 1px rgba(60, 64, 67, 0.15);\n",
              "      fill: #174EA6;\n",
              "    }\n",
              "\n",
              "    [theme=dark] .colab-df-convert {\n",
              "      background-color: #3B4455;\n",
              "      fill: #D2E3FC;\n",
              "    }\n",
              "\n",
              "    [theme=dark] .colab-df-convert:hover {\n",
              "      background-color: #434B5C;\n",
              "      box-shadow: 0px 1px 3px 1px rgba(0, 0, 0, 0.15);\n",
              "      filter: drop-shadow(0px 1px 2px rgba(0, 0, 0, 0.3));\n",
              "      fill: #FFFFFF;\n",
              "    }\n",
              "  </style>\n",
              "\n",
              "      <script>\n",
              "        const buttonEl =\n",
              "          document.querySelector('#df-da0ae466-7a7a-43b8-9c8d-024dbc90020a button.colab-df-convert');\n",
              "        buttonEl.style.display =\n",
              "          google.colab.kernel.accessAllowed ? 'block' : 'none';\n",
              "\n",
              "        async function convertToInteractive(key) {\n",
              "          const element = document.querySelector('#df-da0ae466-7a7a-43b8-9c8d-024dbc90020a');\n",
              "          const dataTable =\n",
              "            await google.colab.kernel.invokeFunction('convertToInteractive',\n",
              "                                                     [key], {});\n",
              "          if (!dataTable) return;\n",
              "\n",
              "          const docLinkHtml = 'Like what you see? Visit the ' +\n",
              "            '<a target=\"_blank\" href=https://colab.research.google.com/notebooks/data_table.ipynb>data table notebook</a>'\n",
              "            + ' to learn more about interactive tables.';\n",
              "          element.innerHTML = '';\n",
              "          dataTable['output_type'] = 'display_data';\n",
              "          await google.colab.output.renderOutput(dataTable, element);\n",
              "          const docLink = document.createElement('div');\n",
              "          docLink.innerHTML = docLinkHtml;\n",
              "          element.appendChild(docLink);\n",
              "        }\n",
              "      </script>\n",
              "    </div>\n",
              "  </div>\n",
              "  "
            ]
          },
          "metadata": {},
          "execution_count": 15
        }
      ]
    },
    {
      "cell_type": "markdown",
      "source": [
        "Region_Code의 cardinality가 35로 높은 편이다."
      ],
      "metadata": {
        "id": "5fGRnO87vHAX"
      }
    },
    {
      "cell_type": "markdown",
      "source": [
        "## Numerical Features 분포 확인\n",
        "\n",
        "Age, Vintage, Avg_Account_Balance"
      ],
      "metadata": {
        "id": "G1JZ1HTzhbAp"
      }
    },
    {
      "cell_type": "markdown",
      "source": [
        "### Age"
      ],
      "metadata": {
        "id": "dqmZ-k-QfXO4"
      }
    },
    {
      "cell_type": "code",
      "source": [
        "# Target 특성에 따른 Age 분포\n",
        "sns.histplot(data = train_df, x = train_df['Age'], hue = \"Is_Lead\", kde = True);"
      ],
      "metadata": {
        "colab": {
          "base_uri": "https://localhost:8080/",
          "height": 400
        },
        "id": "oH_-ppvirVBf",
        "outputId": "dc038b06-2540-4e47-91ea-7fa2adc836f7"
      },
      "execution_count": 16,
      "outputs": [
        {
          "output_type": "display_data",
          "data": {
            "text/plain": [
              "<Figure size 720x432 with 1 Axes>"
            ],
            "image/png": "[encoded data removed]"
          },
          "metadata": {
            "needs_background": "light"
          }
        }
      ]
    },
    {
      "cell_type": "code",
      "source": [
        "sns.boxplot(x=\"Is_Lead\",  y=\"Age\", data=train_df)\n",
        "\n",
        "plt.xlabel('Is_Lead')\n",
        "plt.ylabel('Age');"
      ],
      "metadata": {
        "colab": {
          "base_uri": "https://localhost:8080/",
          "height": 400
        },
        "id": "oge0j9qNCIOU",
        "outputId": "0bb89f38-b47f-44e1-e4b6-70ca1c0ac1f8"
      },
      "execution_count": 17,
      "outputs": [
        {
          "output_type": "display_data",
          "data": {
            "text/plain": [
              "<Figure size 720x432 with 1 Axes>"
            ],
            "image/png": "[encoded data removed]"
          },
          "metadata": {
            "needs_background": "light"
          }
        }
      ]
    },
    {
      "cell_type": "code",
      "source": [
        "train_df['Age'].describe()"
      ],
      "metadata": {
        "colab": {
          "base_uri": "https://localhost:8080/"
        },
        "id": "KZ2pF08ZCN5y",
        "outputId": "000e7dd0-7ccb-4a27-c02d-415d387034d2"
      },
      "execution_count": 18,
      "outputs": [
        {
          "output_type": "execute_result",
          "data": {
            "text/plain": [
              "count    245725.000000\n",
              "mean         43.856307\n",
              "std          14.828672\n",
              "min          23.000000\n",
              "25%          30.000000\n",
              "50%          43.000000\n",
              "75%          54.000000\n",
              "max          85.000000\n",
              "Name: Age, dtype: float64"
            ]
          },
          "metadata": {},
          "execution_count": 18
        }
      ]
    },
    {
      "cell_type": "code",
      "source": [
        "print('\\nIs_Lead = 0\\n',train_df[train_df['Is_Lead'] == 0]['Age'].describe())\n",
        "\n",
        "print('\\nIs_Lead = 1\\n',train_df[train_df['Is_Lead'] == 1]['Age'].describe())"
      ],
      "metadata": {
        "colab": {
          "base_uri": "https://localhost:8080/"
        },
        "id": "tUD42mEvFrsZ",
        "outputId": "e6f3bd00-fdfa-4a22-88a8-ce491bdb0c3d"
      },
      "execution_count": 19,
      "outputs": [
        {
          "output_type": "stream",
          "name": "stdout",
          "text": [
            "\n",
            "Is_Lead = 0\n",
            " count    187437.000000\n",
            "mean         41.947662\n",
            "std          14.875771\n",
            "min          23.000000\n",
            "25%          29.000000\n",
            "50%          38.000000\n",
            "75%          52.000000\n",
            "max          85.000000\n",
            "Name: Age, dtype: float64\n",
            "\n",
            "Is_Lead = 1\n",
            " count    58288.000000\n",
            "mean        49.993944\n",
            "std         12.884419\n",
            "min         24.000000\n",
            "25%         42.000000\n",
            "50%         49.000000\n",
            "75%         57.000000\n",
            "max         85.000000\n",
            "Name: Age, dtype: float64\n"
          ]
        }
      ]
    },
    {
      "cell_type": "code",
      "source": [
        "# Age를 10살 단위로 구간 설정 Age_band \n",
        "train_df.loc[train_df['Age'] <= 29, 'Age_band'] = '''20's'''\n",
        "train_df.loc[(train_df['Age'] > 29) & (train_df['Age'] <= 39), 'Age_band'] = '''30's'''\n",
        "train_df.loc[(train_df['Age'] > 39) & (train_df['Age'] <= 49), 'Age_band'] = '''40's'''\n",
        "train_df.loc[(train_df['Age'] > 49) & (train_df['Age'] <= 59), 'Age_band'] = '''50's'''\n",
        "train_df.loc[(train_df['Age'] > 59) & (train_df['Age'] <= 69), 'Age_band'] = '''60's'''\n",
        "train_df.loc[(train_df['Age'] > 69) & (train_df['Age'] <= 79), 'Age_band'] = '''70's'''\n",
        "train_df.loc[(train_df['Age'] > 79) & (train_df['Age'] <= 89), 'Age_band'] = '''80's'''"
      ],
      "metadata": {
        "id": "LpI-TudbZGxz"
      },
      "execution_count": 10,
      "outputs": []
    },
    {
      "cell_type": "code",
      "source": [
        "# 연령대별 분포 확인\n",
        "train_df.Age_band.value_counts().to_frame().style.background_gradient(cmap='summer')"
      ],
      "metadata": {
        "colab": {
          "base_uri": "https://localhost:8080/",
          "height": 269
        },
        "id": "SYuJMxtLbf3S",
        "outputId": "de808308-3bfb-4eda-9fc4-7babba2fb6fe"
      },
      "execution_count": 9,
      "outputs": [
        {
          "output_type": "execute_result",
          "data": {
            "text/plain": [
              "<pandas.io.formats.style.Styler at 0x7fdd9e243ca0>"
            ],
            "text/html": [
              "<style type=\"text/css\">\n",
              "#T_7596d_row0_col0 {\n",
              "  background-color: #ffff66;\n",
              "  color: #000000;\n",
              "}\n",
              "#T_7596d_row1_col0 {\n",
              "  background-color: #e8f366;\n",
              "  color: #000000;\n",
              "}\n",
              "#T_7596d_row2_col0 {\n",
              "  background-color: #e4f266;\n",
              "  color: #000000;\n",
              "}\n",
              "#T_7596d_row3_col0 {\n",
              "  background-color: #d0e866;\n",
              "  color: #000000;\n",
              "}\n",
              "#T_7596d_row4_col0 {\n",
              "  background-color: #52a866;\n",
              "  color: #f1f1f1;\n",
              "}\n",
              "#T_7596d_row5_col0 {\n",
              "  background-color: #249266;\n",
              "  color: #f1f1f1;\n",
              "}\n",
              "#T_7596d_row6_col0 {\n",
              "  background-color: #008066;\n",
              "  color: #f1f1f1;\n",
              "}\n",
              "</style>\n",
              "<table id=\"T_7596d_\" class=\"dataframe\">\n",
              "  <thead>\n",
              "    <tr>\n",
              "      <th class=\"blank level0\" >&nbsp;</th>\n",
              "      <th class=\"col_heading level0 col0\" >Age_band</th>\n",
              "    </tr>\n",
              "  </thead>\n",
              "  <tbody>\n",
              "    <tr>\n",
              "      <th id=\"T_7596d_level0_row0\" class=\"row_heading level0 row0\" >20's</th>\n",
              "      <td id=\"T_7596d_row0_col0\" class=\"data row0 col0\" >57074</td>\n",
              "    </tr>\n",
              "    <tr>\n",
              "      <th id=\"T_7596d_level0_row1\" class=\"row_heading level0 row1\" >30's</th>\n",
              "      <td id=\"T_7596d_row1_col0\" class=\"data row1 col0\" >52291</td>\n",
              "    </tr>\n",
              "    <tr>\n",
              "      <th id=\"T_7596d_level0_row2\" class=\"row_heading level0 row2\" >40's</th>\n",
              "      <td id=\"T_7596d_row2_col0\" class=\"data row2 col0\" >51331</td>\n",
              "    </tr>\n",
              "    <tr>\n",
              "      <th id=\"T_7596d_level0_row3\" class=\"row_heading level0 row3\" >50's</th>\n",
              "      <td id=\"T_7596d_row3_col0\" class=\"data row3 col0\" >47315</td>\n",
              "    </tr>\n",
              "    <tr>\n",
              "      <th id=\"T_7596d_level0_row4\" class=\"row_heading level0 row4\" >60's</th>\n",
              "      <td id=\"T_7596d_row4_col0\" class=\"data row4 col0\" >21387</td>\n",
              "    </tr>\n",
              "    <tr>\n",
              "      <th id=\"T_7596d_level0_row5\" class=\"row_heading level0 row5\" >70's</th>\n",
              "      <td id=\"T_7596d_row5_col0\" class=\"data row5 col0\" >11896</td>\n",
              "    </tr>\n",
              "    <tr>\n",
              "      <th id=\"T_7596d_level0_row6\" class=\"row_heading level0 row6\" >80's</th>\n",
              "      <td id=\"T_7596d_row6_col0\" class=\"data row6 col0\" >4431</td>\n",
              "    </tr>\n",
              "  </tbody>\n",
              "</table>\n"
            ]
          },
          "metadata": {},
          "execution_count": 9
        }
      ]
    },
    {
      "cell_type": "code",
      "source": [
        "# 연령대별 Target 분포 시각화\n",
        "plt.figure(figsize = (30,8))\n",
        "sns.countplot('Age_band', data=train_df, hue = 'Is_Lead', order = train_df['Age_band'].value_counts().index)\n",
        "plt.show()"
      ],
      "metadata": {
        "colab": {
          "base_uri": "https://localhost:8080/",
          "height": 341
        },
        "id": "EN0xby4_cX2p",
        "outputId": "993a3ea5-aafb-4d5a-c6e6-3e0d24486b42"
      },
      "execution_count": 10,
      "outputs": [
        {
          "output_type": "display_data",
          "data": {
            "text/plain": [
              "<Figure size 2160x576 with 1 Axes>"
            ],
            "image/png": "[encoded data removed]"
          },
          "metadata": {
            "needs_background": "light"
          }
        }
      ]
    },
    {
      "cell_type": "markdown",
      "source": [
        "- 40대 ~ 60대 고객은 다른 나이대에 비해 제안에 관심있는 비율이 높다.\n",
        "\n",
        "-> 4050 연령층에서 상대적으로 높은 관심있음."
      ],
      "metadata": {
        "id": "mb7_pQZ3gYzy"
      }
    },
    {
      "cell_type": "markdown",
      "source": [
        "### Vintage"
      ],
      "metadata": {
        "id": "_NqnaHKHfWAa"
      }
    },
    {
      "cell_type": "code",
      "source": [
        "# Target 특성에 따른 Vintage 분포\n",
        "sns.histplot(data = train_df, x = train_df['Vintage'], hue = \"Is_Lead\", kde = True);"
      ],
      "metadata": {
        "colab": {
          "base_uri": "https://localhost:8080/",
          "height": 400
        },
        "id": "QfYGGrZCs8DG",
        "outputId": "8f2efc92-8bda-44c8-c89e-e375226ece43"
      },
      "execution_count": 11,
      "outputs": [
        {
          "output_type": "display_data",
          "data": {
            "text/plain": [
              "<Figure size 720x432 with 1 Axes>"
            ],
            "image/png": "[encoded data removed]"
          },
          "metadata": {
            "needs_background": "light"
          }
        }
      ]
    },
    {
      "cell_type": "code",
      "source": [
        "sns.boxplot(x=\"Is_Lead\",  y=\"Vintage\", data=train_df)\n",
        "\n",
        "plt.xlabel('Is_Lead')\n",
        "plt.ylabel('Vintage');"
      ],
      "metadata": {
        "colab": {
          "base_uri": "https://localhost:8080/",
          "height": 400
        },
        "id": "fTF95a59CxPQ",
        "outputId": "35cd6d6e-dc87-4e96-f79d-494921ae29f4"
      },
      "execution_count": 12,
      "outputs": [
        {
          "output_type": "display_data",
          "data": {
            "text/plain": [
              "<Figure size 720x432 with 1 Axes>"
            ],
            "image/png": "[encoded data removed]"
          },
          "metadata": {
            "needs_background": "light"
          }
        }
      ]
    },
    {
      "cell_type": "code",
      "source": [
        "train_df['Vintage'].describe()"
      ],
      "metadata": {
        "colab": {
          "base_uri": "https://localhost:8080/"
        },
        "id": "CboqmcnVfgxP",
        "outputId": "158c9433-0dfb-4c03-d70e-42219ddb4c98"
      },
      "execution_count": 30,
      "outputs": [
        {
          "output_type": "execute_result",
          "data": {
            "text/plain": [
              "count    245725.000000\n",
              "mean         46.959141\n",
              "std          32.353136\n",
              "min           7.000000\n",
              "25%          20.000000\n",
              "50%          32.000000\n",
              "75%          73.000000\n",
              "max         135.000000\n",
              "Name: Vintage, dtype: float64"
            ]
          },
          "metadata": {},
          "execution_count": 30
        }
      ]
    },
    {
      "cell_type": "code",
      "source": [
        "print('\\nIs_Lead = 0\\n',train_df[train_df['Is_Lead'] == 0]['Vintage'].describe())\n",
        "\n",
        "print('\\nIs_Lead = 1\\n',train_df[train_df['Is_Lead'] == 1]['Vintage'].describe())"
      ],
      "metadata": {
        "colab": {
          "base_uri": "https://localhost:8080/"
        },
        "id": "jmGbS3tQfjNq",
        "outputId": "35e749cb-ab7a-4a09-ff3c-da2405348200"
      },
      "execution_count": 31,
      "outputs": [
        {
          "output_type": "stream",
          "name": "stdout",
          "text": [
            "\n",
            "Is_Lead = 0\n",
            " count    187437.000000\n",
            "mean         41.913923\n",
            "std          29.990435\n",
            "min           7.000000\n",
            "25%          20.000000\n",
            "50%          31.000000\n",
            "75%          61.000000\n",
            "max         135.000000\n",
            "Name: Vintage, dtype: float64\n",
            "\n",
            "Is_Lead = 1\n",
            " count    58288.000000\n",
            "mean        63.183074\n",
            "std         34.283297\n",
            "min          7.000000\n",
            "25%         27.000000\n",
            "50%         69.000000\n",
            "75%         92.000000\n",
            "max        135.000000\n",
            "Name: Vintage, dtype: float64\n"
          ]
        }
      ]
    },
    {
      "cell_type": "code",
      "source": [
        "# Vintage를 20 단위로 구간 설정 Vintage_band \n",
        "train_df.loc[train_df['Vintage'] <= 19, 'Vintage_band'] = '''0~19m'''\n",
        "train_df.loc[(train_df['Vintage'] > 19) & (train_df['Vintage'] <= 39), 'Vintage_band'] = '''20m~39m'''\n",
        "train_df.loc[(train_df['Vintage'] > 39) & (train_df['Vintage'] <= 59), 'Vintage_band'] = '''40~59m'''\n",
        "train_df.loc[(train_df['Vintage'] > 59) & (train_df['Vintage'] <= 79), 'Vintage_band'] = '''60~79m'''\n",
        "train_df.loc[(train_df['Vintage'] > 79) & (train_df['Vintage'] <= 99), 'Vintage_band'] = '''80~99m'''\n",
        "train_df.loc[(train_df['Vintage'] > 99) & (train_df['Vintage'] <= 119), 'Vintage_band'] = '''100~119m'''\n",
        "train_df.loc[(train_df['Vintage'] > 119) & (train_df['Vintage'] <= 139), 'Vintage_band'] = '''120~139m'''"
      ],
      "metadata": {
        "id": "WVnXQQmphDJp"
      },
      "execution_count": 11,
      "outputs": []
    },
    {
      "cell_type": "code",
      "source": [
        "# Vintage 구간별 분포 확인\n",
        "train_df.Vintage_band.value_counts().to_frame().style.background_gradient(cmap='summer')"
      ],
      "metadata": {
        "colab": {
          "base_uri": "https://localhost:8080/",
          "height": 269
        },
        "id": "TccZGq7emLHO",
        "outputId": "d7982096-fafd-458d-b414-b673f4fda38a"
      },
      "execution_count": 14,
      "outputs": [
        {
          "output_type": "execute_result",
          "data": {
            "text/plain": [
              "<pandas.io.formats.style.Styler at 0x7fdd9e0d0d00>"
            ],
            "text/html": [
              "<style type=\"text/css\">\n",
              "#T_8b1e0_row0_col0 {\n",
              "  background-color: #ffff66;\n",
              "  color: #000000;\n",
              "}\n",
              "#T_8b1e0_row1_col0 {\n",
              "  background-color: #86c266;\n",
              "  color: #000000;\n",
              "}\n",
              "#T_8b1e0_row2_col0 {\n",
              "  background-color: #56ab66;\n",
              "  color: #f1f1f1;\n",
              "}\n",
              "#T_8b1e0_row3_col0 {\n",
              "  background-color: #41a066;\n",
              "  color: #f1f1f1;\n",
              "}\n",
              "#T_8b1e0_row4_col0 {\n",
              "  background-color: #2f9766;\n",
              "  color: #f1f1f1;\n",
              "}\n",
              "#T_8b1e0_row5_col0 {\n",
              "  background-color: #1e8e66;\n",
              "  color: #f1f1f1;\n",
              "}\n",
              "#T_8b1e0_row6_col0 {\n",
              "  background-color: #008066;\n",
              "  color: #f1f1f1;\n",
              "}\n",
              "</style>\n",
              "<table id=\"T_8b1e0_\" class=\"dataframe\">\n",
              "  <thead>\n",
              "    <tr>\n",
              "      <th class=\"blank level0\" >&nbsp;</th>\n",
              "      <th class=\"col_heading level0 col0\" >Vintage_band</th>\n",
              "    </tr>\n",
              "  </thead>\n",
              "  <tbody>\n",
              "    <tr>\n",
              "      <th id=\"T_8b1e0_level0_row0\" class=\"row_heading level0 row0\" >20m~39m</th>\n",
              "      <td id=\"T_8b1e0_row0_col0\" class=\"data row0 col0\" >92659</td>\n",
              "    </tr>\n",
              "    <tr>\n",
              "      <th id=\"T_8b1e0_level0_row1\" class=\"row_heading level0 row1\" >0~19m</th>\n",
              "      <td id=\"T_8b1e0_row1_col0\" class=\"data row1 col0\" >50964</td>\n",
              "    </tr>\n",
              "    <tr>\n",
              "      <th id=\"T_8b1e0_level0_row2\" class=\"row_heading level0 row2\" >80~99m</th>\n",
              "      <td id=\"T_8b1e0_row2_col0\" class=\"data row2 col0\" >34186</td>\n",
              "    </tr>\n",
              "    <tr>\n",
              "      <th id=\"T_8b1e0_level0_row3\" class=\"row_heading level0 row3\" >60~79m</th>\n",
              "      <td id=\"T_8b1e0_row3_col0\" class=\"data row3 col0\" >27221</td>\n",
              "    </tr>\n",
              "    <tr>\n",
              "      <th id=\"T_8b1e0_level0_row4\" class=\"row_heading level0 row4\" >40~59m</th>\n",
              "      <td id=\"T_8b1e0_row4_col0\" class=\"data row4 col0\" >20987</td>\n",
              "    </tr>\n",
              "    <tr>\n",
              "      <th id=\"T_8b1e0_level0_row5\" class=\"row_heading level0 row5\" >100~119m</th>\n",
              "      <td id=\"T_8b1e0_row5_col0\" class=\"data row5 col0\" >15135</td>\n",
              "    </tr>\n",
              "    <tr>\n",
              "      <th id=\"T_8b1e0_level0_row6\" class=\"row_heading level0 row6\" >120~139m</th>\n",
              "      <td id=\"T_8b1e0_row6_col0\" class=\"data row6 col0\" >4573</td>\n",
              "    </tr>\n",
              "  </tbody>\n",
              "</table>\n"
            ]
          },
          "metadata": {},
          "execution_count": 14
        }
      ]
    },
    {
      "cell_type": "code",
      "source": [
        "plt.figure(figsize = (30,8))\n",
        "sns.countplot('Vintage_band', data=train_df, hue = 'Is_Lead', order = train_df['Vintage_band'].value_counts().index)\n",
        "plt.show()"
      ],
      "metadata": {
        "colab": {
          "base_uri": "https://localhost:8080/",
          "height": 341
        },
        "id": "Rvoi1aKbmR2y",
        "outputId": "5304b6e0-96db-406d-8ea6-d0bdaca170dc"
      },
      "execution_count": 15,
      "outputs": [
        {
          "output_type": "display_data",
          "data": {
            "text/plain": [
              "<Figure size 2160x576 with 1 Axes>"
            ],
            "image/png": "[encoded data removed]"
          },
          "metadata": {
            "needs_background": "light"
          }
        }
      ]
    },
    {
      "cell_type": "markdown",
      "source": [
        "- Vintage가 80~99인 고객의 절반 정도는 제안에 관심을 갖고 있다.\n",
        "\n",
        "- Vintage가 비교적 높은 고객들이 관심있어하는 제안이다.\n",
        " -> Vintage가 작은 고객들의 관심도가 낮은 이유를 확인할 필요가 있다."
      ],
      "metadata": {
        "id": "zRsnUPmDhOiC"
      }
    },
    {
      "cell_type": "markdown",
      "source": [
        "### Avg_Account_Balance"
      ],
      "metadata": {
        "id": "Xw16cYEkm9MV"
      }
    },
    {
      "cell_type": "code",
      "source": [
        "# Target 특성에 따른 Avg_Account_Balance 분포\n",
        "sns.histplot(data = train_df, x = train_df['Avg_Account_Balance'], kde = True, hue = 'Is_Lead', multiple = 'stack');"
      ],
      "metadata": {
        "colab": {
          "base_uri": "https://localhost:8080/",
          "height": 400
        },
        "id": "m1LVOo-VfUws",
        "outputId": "a894e4db-da42-457d-a501-161f3b7edf27"
      },
      "execution_count": 16,
      "outputs": [
        {
          "output_type": "display_data",
          "data": {
            "text/plain": [
              "<Figure size 720x432 with 1 Axes>"
            ],
            "image/png": "[encoded data removed]"
          },
          "metadata": {
            "needs_background": "light"
          }
        }
      ]
    },
    {
      "cell_type": "code",
      "source": [
        "sns.boxplot(x=\"Is_Lead\",  y=\"Avg_Account_Balance\", data=train_df)\n",
        "\n",
        "plt.xlabel('Is_Lead')\n",
        "plt.ylabel('Avg_Account_Balance');"
      ],
      "metadata": {
        "colab": {
          "base_uri": "https://localhost:8080/",
          "height": 411
        },
        "id": "F5h5_5L7DGPu",
        "outputId": "3d409acc-f84e-4152-eeee-c5f91ed64d79"
      },
      "execution_count": 17,
      "outputs": [
        {
          "output_type": "display_data",
          "data": {
            "text/plain": [
              "<Figure size 720x432 with 1 Axes>"
            ],
            "image/png": "[encoded data removed]"
          },
          "metadata": {
            "needs_background": "light"
          }
        }
      ]
    },
    {
      "cell_type": "code",
      "source": [
        "# Avg_Account_Balance가 정규성을 띄는지 확인\n",
        "\n",
        "# 귀무가설 : 해당 연속형 데이터 분포는 정규분포이다.\n",
        "# 대립가설 : 해당 연속형 데이터 분포는 정규분포를 띄지 않을 것이다.\n",
        "stats.normaltest(train_df['Avg_Account_Balance'])"
      ],
      "metadata": {
        "colab": {
          "base_uri": "https://localhost:8080/"
        },
        "id": "rr9GNNelfD9l",
        "outputId": "a328d501-8475-491c-8203-277ee6c6952c"
      },
      "execution_count": 12,
      "outputs": [
        {
          "output_type": "execute_result",
          "data": {
            "text/plain": [
              "NormaltestResult(statistic=160848.7268200238, pvalue=0.0)"
            ]
          },
          "metadata": {},
          "execution_count": 12
        }
      ]
    },
    {
      "cell_type": "markdown",
      "source": [
        "P.value 0.0 < 0.05 (귀무가설 기각, 대립가설 참)\n",
        "\n",
        "Avg_Account_Balance는 정규분포를 띄지 않는다.\n",
        "해당 데이터 정규화 진행."
      ],
      "metadata": {
        "id": "wTY5jbLtf51C"
      }
    },
    {
      "cell_type": "code",
      "source": [
        "# Avg_Account_Balance 정규화\n",
        "train_df['Avg_Account_Balance_log10'] = np.log10(train_df['Avg_Account_Balance'])\n",
        "\n",
        "sns.histplot(data = train_df, x = train_df['Avg_Account_Balance_log10'], kde = True, hue = 'Is_Lead', multiple = 'stack');"
      ],
      "metadata": {
        "colab": {
          "base_uri": "https://localhost:8080/",
          "height": 400
        },
        "id": "6Wxb4sO3g-1-",
        "outputId": "1c0584c6-d29f-442e-f192-084b2a8dd3dd"
      },
      "execution_count": 13,
      "outputs": [
        {
          "output_type": "display_data",
          "data": {
            "text/plain": [
              "<Figure size 720x432 with 1 Axes>"
            ],
            "image/png": "[encoded data removed]"
          },
          "metadata": {
            "needs_background": "light"
          }
        }
      ]
    },
    {
      "cell_type": "markdown",
      "source": [
        "Is_Lead에 따른 Avg_Account_Balance의 평균이 유의미한 차이 있는지\n",
        "\n",
        "시각화 자료만으로는 정확한 확인이 어렵기 때문에 가설검정 진행.\n",
        "\n",
        "- 귀무가설 : 타겟에 따른 계좌잔고의 평균 차이가 없을 것이다.\n",
        "- 대립가설 : 타겟에 따른 계좌잔고의 평균 차이가 있을 것이다.\n",
        "\n",
        "- 유의 수준 : 0.05\n",
        "    - p.value > 0.05 : 귀무가설 참\n",
        "    - p.value < 0.05 : 대립가설 참\n",
        "\n",
        "\n",
        "Levene test를 통해 두 집단이 등분산성을 보이는지 확인\n",
        "\n",
        "X 범주형 / Y 연속형 데이터로\n",
        "Two Sample T Test 실시\n",
        "\n"
      ],
      "metadata": {
        "id": "m2A4TYLodI7W"
      }
    },
    {
      "cell_type": "code",
      "source": [
        "# 두 집단이 서로 등분산성을 보이는지 우선 확인 -> Levene test\n",
        "\n",
        "cond1 = train_df['Is_Lead'] == 0\n",
        "\n",
        "train_df_no = train_df.loc[cond1]\n",
        "train_df_yes = train_df.loc[~cond1].dropna()"
      ],
      "metadata": {
        "id": "VfeCRRKmkZ1a"
      },
      "execution_count": 14,
      "outputs": []
    },
    {
      "cell_type": "code",
      "source": [
        "# 두 집단의 등분산 검정\n",
        "# 귀무 가설 : Is_Lead가 0인 그룹과 1인 그룹의 Avg_Account_Balance_log10 값의 분산의 차이가 없다.\n",
        "# 대립 가설 : Is_Lead가 0인 그룹과 1인 그룹의 Avg_Account_Balance_log10 값의 분산의 차이가 있다.\n",
        "\n",
        "stats.levene(train_df_no['Avg_Account_Balance_log10'], train_df_yes['Avg_Account_Balance_log10'])"
      ],
      "metadata": {
        "colab": {
          "base_uri": "https://localhost:8080/"
        },
        "id": "l48ZmzKSmCBL",
        "outputId": "1574d691-42e3-40d8-8baf-2266e3b495cb"
      },
      "execution_count": 15,
      "outputs": [
        {
          "output_type": "execute_result",
          "data": {
            "text/plain": [
              "LeveneResult(statistic=5.860845370210417, pvalue=0.015482157752798823)"
            ]
          },
          "metadata": {},
          "execution_count": 15
        }
      ]
    },
    {
      "cell_type": "markdown",
      "source": [
        "p.value < 0.05 (귀무가설 기각, 대립가설 참)\n",
        "Is_Lead가 0인 그룹과 1인 그룹의 Avg_Account_Balance_log10 값의 분산의 차이가 있다."
      ],
      "metadata": {
        "id": "zjGR7r-FpV8b"
      }
    },
    {
      "cell_type": "code",
      "source": [
        "# var 분산\n",
        "print(train_df_no['Avg_Account_Balance_log10'].var())\n",
        "print(train_df_yes['Avg_Account_Balance_log10'].var())"
      ],
      "metadata": {
        "colab": {
          "base_uri": "https://localhost:8080/"
        },
        "id": "dh9GTdP2jPKf",
        "outputId": "a76f3c68-d6f5-45e8-dc0f-65a6a00480c9"
      },
      "execution_count": 16,
      "outputs": [
        {
          "output_type": "stream",
          "name": "stdout",
          "text": [
            "0.07287767627413184\n",
            "0.070234802645208\n"
          ]
        }
      ]
    },
    {
      "cell_type": "code",
      "source": [
        "# Two T test (두 집단의 평균 검정)\n",
        "\n",
        "stats.ttest_ind(train_df_no['Avg_Account_Balance_log10'], train_df_yes['Avg_Account_Balance_log10'])"
      ],
      "metadata": {
        "colab": {
          "base_uri": "https://localhost:8080/"
        },
        "id": "Muoon-t8qn1f",
        "outputId": "dbc0a0bd-7415-452d-a281-d9337a1f9326"
      },
      "execution_count": 17,
      "outputs": [
        {
          "output_type": "execute_result",
          "data": {
            "text/plain": [
              "Ttest_indResult(statistic=-25.89306904002245, pvalue=1.3268402877287253e-147)"
            ]
          },
          "metadata": {},
          "execution_count": 17
        }
      ]
    },
    {
      "cell_type": "markdown",
      "source": [
        "p.value < 0.05 (귀무가설 기각, 대립가설 참)\n",
        "\n",
        "타겟에 따른 계좌잔고의 평균 차이가 있다."
      ],
      "metadata": {
        "id": "IQKVs6Zc5Mmk"
      }
    },
    {
      "cell_type": "code",
      "source": [
        "print(train_df_no['Avg_Account_Balance'].mean())\n",
        "print(train_df_yes['Avg_Account_Balance'].mean())"
      ],
      "metadata": {
        "colab": {
          "base_uri": "https://localhost:8080/"
        },
        "id": "mW8guRbZ5rc8",
        "outputId": "a387593d-82fc-48e0-edfb-d1f03f2b2b8f"
      },
      "execution_count": 18,
      "outputs": [
        {
          "output_type": "stream",
          "name": "stdout",
          "text": [
            "1103018.015461195\n",
            "1199842.5510461382\n"
          ]
        }
      ]
    },
    {
      "cell_type": "code",
      "source": [
        "print(train_df_no['Avg_Account_Balance_log10'].mean())\n",
        "print(train_df_yes['Avg_Account_Balance_log10'].mean())"
      ],
      "metadata": {
        "colab": {
          "base_uri": "https://localhost:8080/"
        },
        "id": "MnluizLe5gcJ",
        "outputId": "2349a1cd-bc2e-4ecd-ba21-2201fba77ccb"
      },
      "execution_count": 19,
      "outputs": [
        {
          "output_type": "stream",
          "name": "stdout",
          "text": [
            "5.953348336558465\n",
            "5.994796472829405\n"
          ]
        }
      ]
    },
    {
      "cell_type": "markdown",
      "source": [
        "- 제안에 관심이 있는 고객과 없는 고객의 계좌 잔고의 차이가 있으며, 제안에 관심 있는 고객의 계좌 잔고 평균이 근소하게 높았다."
      ],
      "metadata": {
        "id": "H5oTyzddh1do"
      }
    },
    {
      "cell_type": "markdown",
      "source": [
        "# 상관관계 확인\n",
        "\n",
        "Numerical features 간 상관관계"
      ],
      "metadata": {
        "id": "mLuqWkho8peK"
      }
    },
    {
      "cell_type": "code",
      "source": [
        "# Numerical features 간 상관관계 heatmap\n",
        "\n",
        "corr = train_df.corr()\n",
        "\n",
        "mask=np.zeros_like(corr,dtype=np.bool)\n",
        "mask[np.triu_indices_from(mask)]=True\n",
        "plt.title('Numerical features correlation')\n",
        "sns.heatmap(corr,mask=mask, annot=True);"
      ],
      "metadata": {
        "colab": {
          "base_uri": "https://localhost:8080/",
          "height": 554
        },
        "id": "kDNgEHS7yZb4",
        "outputId": "eec854b0-4c5f-4793-a89e-f233b2fe302a"
      },
      "execution_count": 20,
      "outputs": [
        {
          "output_type": "display_data",
          "data": {
            "text/plain": [
              "<Figure size 720x432 with 2 Axes>"
            ],
            "image/png": "[encoded data removed]"
          },
          "metadata": {
            "needs_background": "light"
          }
        }
      ]
    },
    {
      "cell_type": "markdown",
      "source": [
        "Vintage와 Age는 0.63의 상관계수를 나타내며 뚜렷한 양적 선형관계를 가진다."
      ],
      "metadata": {
        "id": "59mGkf4Vymqd"
      }
    },
    {
      "cell_type": "markdown",
      "source": [
        "##Categorical Features 분포 확인\n",
        "\n",
        "Gender, Region Code, Occupation, Channel Code, Credit Product, Is_Active"
      ],
      "metadata": {
        "id": "CDBRAFHYFEry"
      }
    },
    {
      "cell_type": "code",
      "source": [
        "# Gender\n",
        "\n",
        "fig, ax = plt.subplots(1, 2, figsize=(18,7)) \n",
        "# subplot : 한 화면에서 여러 그래프를 나눠서 출력하는 기능 / plt.subplots((행 ,열, 그래프의 크기(가로, 세로)))\n",
        "train_df['Gender'].value_counts().plot.pie(autopct='%1.1f%%',ax=ax[0])\n",
        "# pd.Series.value_counts() : 유일한 값 별로 개수 세기 / .pie (explode = 두 조각간의 거리, autopct = 각 범주가 데이터에서 차지하는 비율, shadow = 그림자, startangle = pie의 시작각도)\n",
        "ax[0].set_title('Gender') # 파이 그래프 이름\n",
        "ax[0].set_ylabel('') # 파이 그래프\n",
        " \n",
        "sns.countplot('Gender', data=train_df, hue = 'Is_Lead', ax=ax[1])# countplot : 각 카테고리 값별로 데이터가 얼마나 있는지 표시 / countplot(x='column_name', data=dataframe)\n",
        "ax[1].set_title('Gender by Is_Lead')\n",
        "plt.show() # 막대 그래프"
      ],
      "metadata": {
        "colab": {
          "base_uri": "https://localhost:8080/",
          "height": 470
        },
        "id": "ZlPKKXIsFu2I",
        "outputId": "d63ee770-e4fc-4f54-fe10-0705eb4c3d67"
      },
      "execution_count": 30,
      "outputs": [
        {
          "output_type": "display_data",
          "data": {
            "text/plain": [
              "<Figure size 1296x504 with 2 Axes>"
            ],
            "image/png": "[encoded data removed]"
          },
          "metadata": {
            "needs_background": "light"
          }
        }
      ]
    },
    {
      "cell_type": "code",
      "source": [
        "# Male의 Is_Lead가 1인 비율 26.51%\n",
        "train_df[train_df['Gender'] == 'Male']['Is_Lead'].value_counts(normalize=True) * 100"
      ],
      "metadata": {
        "colab": {
          "base_uri": "https://localhost:8080/"
        },
        "id": "duXrbl8N8g8Q",
        "outputId": "77c5770c-c653-4a32-9930-ffcf45eb5282"
      },
      "execution_count": 31,
      "outputs": [
        {
          "output_type": "execute_result",
          "data": {
            "text/plain": [
              "0    73.484504\n",
              "1    26.515496\n",
              "Name: Is_Lead, dtype: float64"
            ]
          },
          "metadata": {},
          "execution_count": 31
        }
      ]
    },
    {
      "cell_type": "code",
      "source": [
        "# Female의 Is_Lead가 1인 비율 20.35%\n",
        "train_df[train_df['Gender'] == 'Female']['Is_Lead'].value_counts(normalize=True) * 100"
      ],
      "metadata": {
        "colab": {
          "base_uri": "https://localhost:8080/"
        },
        "id": "GTgmCClE8RFS",
        "outputId": "4e59050d-d1c7-4bbc-c7a1-59f7b9b1a1f7"
      },
      "execution_count": 32,
      "outputs": [
        {
          "output_type": "execute_result",
          "data": {
            "text/plain": [
              "0    79.641884\n",
              "1    20.358116\n",
              "Name: Is_Lead, dtype: float64"
            ]
          },
          "metadata": {},
          "execution_count": 32
        }
      ]
    },
    {
      "cell_type": "markdown",
      "source": [
        "- 남성의 제안 관심 비율 26.51%\n",
        "\n",
        "- 여성의 제안 관심 비율 20.35%\n",
        "\n",
        "성별에 따른 제안 관심은 큰 차이가 없다."
      ],
      "metadata": {
        "id": "oARpndG07-Mx"
      }
    },
    {
      "cell_type": "code",
      "source": [
        "# Region_Code\n",
        "\n",
        "plt.figure(figsize = (30,8))\n",
        "sns.countplot('Region_Code', data=train_df, hue = 'Is_Lead')# countplot : 각 카테고리 값별로 데이터가 얼마나 있는지 표시 / countplot(x='column_name', data=dataframe)\n",
        "ax[0].set_title('Region_Code by Is_Lead')\n",
        "plt.show() # 막대 그래프"
      ],
      "metadata": {
        "colab": {
          "base_uri": "https://localhost:8080/",
          "height": 341
        },
        "id": "yoc87ff_SfrT",
        "outputId": "1b17977e-3967-4fae-ef1a-27682500e70e"
      },
      "execution_count": 33,
      "outputs": [
        {
          "output_type": "display_data",
          "data": {
            "text/plain": [
              "<Figure size 2160x576 with 1 Axes>"
            ],
            "image/png": "[encoded data removed]"
          },
          "metadata": {
            "needs_background": "light"
          }
        }
      ]
    },
    {
      "cell_type": "code",
      "source": [
        "train_df[train_df['Region_Code'] == 'RG268']['Is_Lead'].value_counts(normalize=True) * 100"
      ],
      "metadata": {
        "colab": {
          "base_uri": "https://localhost:8080/"
        },
        "id": "wHL97WNTOS6g",
        "outputId": "8ba66bfb-f08b-41a2-89a5-5c13108e53ea"
      },
      "execution_count": 34,
      "outputs": [
        {
          "output_type": "execute_result",
          "data": {
            "text/plain": [
              "0    70.020037\n",
              "1    29.979963\n",
              "Name: Is_Lead, dtype: float64"
            ]
          },
          "metadata": {},
          "execution_count": 34
        }
      ]
    },
    {
      "cell_type": "code",
      "source": [
        "train_df[train_df['Region_Code'] == 'RG283']['Is_Lead'].value_counts(normalize=True) * 100"
      ],
      "metadata": {
        "colab": {
          "base_uri": "https://localhost:8080/"
        },
        "id": "krb-QLn1ObEF",
        "outputId": "7a8bbaa8-1132-4b55-ca47-f64216aba328"
      },
      "execution_count": 35,
      "outputs": [
        {
          "output_type": "execute_result",
          "data": {
            "text/plain": [
              "0    69.795349\n",
              "1    30.204651\n",
              "Name: Is_Lead, dtype: float64"
            ]
          },
          "metadata": {},
          "execution_count": 35
        }
      ]
    },
    {
      "cell_type": "code",
      "source": [
        "train_df[train_df['Region_Code'] == 'RG284']['Is_Lead'].value_counts(normalize=True) * 100"
      ],
      "metadata": {
        "colab": {
          "base_uri": "https://localhost:8080/"
        },
        "id": "ifhcfTdgOjCG",
        "outputId": "b1426eef-b11b-45dc-88e1-4ba443016ad3"
      },
      "execution_count": 36,
      "outputs": [
        {
          "output_type": "execute_result",
          "data": {
            "text/plain": [
              "0    69.89648\n",
              "1    30.10352\n",
              "Name: Is_Lead, dtype: float64"
            ]
          },
          "metadata": {},
          "execution_count": 36
        }
      ]
    },
    {
      "cell_type": "code",
      "source": [
        "train_df.groupby(['Region_Code', 'Is_Lead']).size().unstack(fill_value=0)"
      ],
      "metadata": {
        "colab": {
          "base_uri": "https://localhost:8080/",
          "height": 1000
        },
        "id": "Zu_9QTxRX8QE",
        "outputId": "b7e3cc47-adc7-4e0b-8b23-50e1c6bac93d"
      },
      "execution_count": 37,
      "outputs": [
        {
          "output_type": "execute_result",
          "data": {
            "text/plain": [
              "Is_Lead          0      1\n",
              "Region_Code              \n",
              "RG250         2103    393\n",
              "RG251         4569   1381\n",
              "RG252         3694    592\n",
              "RG253         1377    481\n",
              "RG254        21127   5713\n",
              "RG255         1549    469\n",
              "RG256         2446    401\n",
              "RG257         4931   1170\n",
              "RG258         1521    430\n",
              "RG259         2085    501\n",
              "RG260         2516    594\n",
              "RG261         6351   1282\n",
              "RG262         1465    323\n",
              "RG263         2869    818\n",
              "RG264         2410    383\n",
              "RG265         1146    400\n",
              "RG266         1358    220\n",
              "RG267         1274    223\n",
              "RG268        25161  10773\n",
              "RG269         6120   1743\n",
              "RG270         6606   1114\n",
              "RG271         1281    261\n",
              "RG272         4097   1155\n",
              "RG273         3428   1069\n",
              "RG274         4414    872\n",
              "RG275         2702    543\n",
              "RG276         1996    768\n",
              "RG277         9851   2975\n",
              "RG278         1422    400\n",
              "RG279         3079    897\n",
              "RG280         9766   3009\n",
              "RG281         3979   1114\n",
              "RG282         4709   1120\n",
              "RG283        20531   8885\n",
              "RG284        13504   5816"
            ],
            "text/html": [
              "\n",
              "  <div id=\"df-db9512fa-7f93-4444-ad87-d10c3322b95c\">\n",
              "    <div class=\"colab-df-container\">\n",
              "      <div>\n",
              "<style scoped>\n",
              "    .dataframe tbody tr th:only-of-type {\n",
              "        vertical-align: middle;\n",
              "    }\n",
              "\n",
              "    .dataframe tbody tr th {\n",
              "        vertical-align: top;\n",
              "    }\n",
              "\n",
              "    .dataframe thead th {\n",
              "        text-align: right;\n",
              "    }\n",
              "</style>\n",
              "<table border=\"1\" class=\"dataframe\">\n",
              "  <thead>\n",
              "    <tr style=\"text-align: right;\">\n",
              "      <th>Is_Lead</th>\n",
              "      <th>0</th>\n",
              "      <th>1</th>\n",
              "    </tr>\n",
              "    <tr>\n",
              "      <th>Region_Code</th>\n",
              "      <th></th>\n",
              "      <th></th>\n",
              "    </tr>\n",
              "  </thead>\n",
              "  <tbody>\n",
              "    <tr>\n",
              "      <th>RG250</th>\n",
              "      <td>2103</td>\n",
              "      <td>393</td>\n",
              "    </tr>\n",
              "    <tr>\n",
              "      <th>RG251</th>\n",
              "      <td>4569</td>\n",
              "      <td>1381</td>\n",
              "    </tr>\n",
              "    <tr>\n",
              "      <th>RG252</th>\n",
              "      <td>3694</td>\n",
              "      <td>592</td>\n",
              "    </tr>\n",
              "    <tr>\n",
              "      <th>RG253</th>\n",
              "      <td>1377</td>\n",
              "      <td>481</td>\n",
              "    </tr>\n",
              "    <tr>\n",
              "      <th>RG254</th>\n",
              "      <td>21127</td>\n",
              "      <td>5713</td>\n",
              "    </tr>\n",
              "    <tr>\n",
              "      <th>RG255</th>\n",
              "      <td>1549</td>\n",
              "      <td>469</td>\n",
              "    </tr>\n",
              "    <tr>\n",
              "      <th>RG256</th>\n",
              "      <td>2446</td>\n",
              "      <td>401</td>\n",
              "    </tr>\n",
              "    <tr>\n",
              "      <th>RG257</th>\n",
              "      <td>4931</td>\n",
              "      <td>1170</td>\n",
              "    </tr>\n",
              "    <tr>\n",
              "      <th>RG258</th>\n",
              "      <td>1521</td>\n",
              "      <td>430</td>\n",
              "    </tr>\n",
              "    <tr>\n",
              "      <th>RG259</th>\n",
              "      <td>2085</td>\n",
              "      <td>501</td>\n",
              "    </tr>\n",
              "    <tr>\n",
              "      <th>RG260</th>\n",
              "      <td>2516</td>\n",
              "      <td>594</td>\n",
              "    </tr>\n",
              "    <tr>\n",
              "      <th>RG261</th>\n",
              "      <td>6351</td>\n",
              "      <td>1282</td>\n",
              "    </tr>\n",
              "    <tr>\n",
              "      <th>RG262</th>\n",
              "      <td>1465</td>\n",
              "      <td>323</td>\n",
              "    </tr>\n",
              "    <tr>\n",
              "      <th>RG263</th>\n",
              "      <td>2869</td>\n",
              "      <td>818</td>\n",
              "    </tr>\n",
              "    <tr>\n",
              "      <th>RG264</th>\n",
              "      <td>2410</td>\n",
              "      <td>383</td>\n",
              "    </tr>\n",
              "    <tr>\n",
              "      <th>RG265</th>\n",
              "      <td>1146</td>\n",
              "      <td>400</td>\n",
              "    </tr>\n",
              "    <tr>\n",
              "      <th>RG266</th>\n",
              "      <td>1358</td>\n",
              "      <td>220</td>\n",
              "    </tr>\n",
              "    <tr>\n",
              "      <th>RG267</th>\n",
              "      <td>1274</td>\n",
              "      <td>223</td>\n",
              "    </tr>\n",
              "    <tr>\n",
              "      <th>RG268</th>\n",
              "      <td>25161</td>\n",
              "      <td>10773</td>\n",
              "    </tr>\n",
              "    <tr>\n",
              "      <th>RG269</th>\n",
              "      <td>6120</td>\n",
              "      <td>1743</td>\n",
              "    </tr>\n",
              "    <tr>\n",
              "      <th>RG270</th>\n",
              "      <td>6606</td>\n",
              "      <td>1114</td>\n",
              "    </tr>\n",
              "    <tr>\n",
              "      <th>RG271</th>\n",
              "      <td>1281</td>\n",
              "      <td>261</td>\n",
              "    </tr>\n",
              "    <tr>\n",
              "      <th>RG272</th>\n",
              "      <td>4097</td>\n",
              "      <td>1155</td>\n",
              "    </tr>\n",
              "    <tr>\n",
              "      <th>RG273</th>\n",
              "      <td>3428</td>\n",
              "      <td>1069</td>\n",
              "    </tr>\n",
              "    <tr>\n",
              "      <th>RG274</th>\n",
              "      <td>4414</td>\n",
              "      <td>872</td>\n",
              "    </tr>\n",
              "    <tr>\n",
              "      <th>RG275</th>\n",
              "      <td>2702</td>\n",
              "      <td>543</td>\n",
              "    </tr>\n",
              "    <tr>\n",
              "      <th>RG276</th>\n",
              "      <td>1996</td>\n",
              "      <td>768</td>\n",
              "    </tr>\n",
              "    <tr>\n",
              "      <th>RG277</th>\n",
              "      <td>9851</td>\n",
              "      <td>2975</td>\n",
              "    </tr>\n",
              "    <tr>\n",
              "      <th>RG278</th>\n",
              "      <td>1422</td>\n",
              "      <td>400</td>\n",
              "    </tr>\n",
              "    <tr>\n",
              "      <th>RG279</th>\n",
              "      <td>3079</td>\n",
              "      <td>897</td>\n",
              "    </tr>\n",
              "    <tr>\n",
              "      <th>RG280</th>\n",
              "      <td>9766</td>\n",
              "      <td>3009</td>\n",
              "    </tr>\n",
              "    <tr>\n",
              "      <th>RG281</th>\n",
              "      <td>3979</td>\n",
              "      <td>1114</td>\n",
              "    </tr>\n",
              "    <tr>\n",
              "      <th>RG282</th>\n",
              "      <td>4709</td>\n",
              "      <td>1120</td>\n",
              "    </tr>\n",
              "    <tr>\n",
              "      <th>RG283</th>\n",
              "      <td>20531</td>\n",
              "      <td>8885</td>\n",
              "    </tr>\n",
              "    <tr>\n",
              "      <th>RG284</th>\n",
              "      <td>13504</td>\n",
              "      <td>5816</td>\n",
              "    </tr>\n",
              "  </tbody>\n",
              "</table>\n",
              "</div>\n",
              "      <button class=\"colab-df-convert\" onclick=\"convertToInteractive('df-db9512fa-7f93-4444-ad87-d10c3322b95c')\"\n",
              "              title=\"Convert this dataframe to an interactive table.\"\n",
              "              style=\"display:none;\">\n",
              "        \n",
              "  <svg xmlns=\"http://www.w3.org/2000/svg\" height=\"24px\"viewBox=\"0 0 24 24\"\n",
              "       width=\"24px\">\n",
              "    <path d=\"M0 0h24v24H0V0z\" fill=\"none\"/>\n",
              "    <path d=\"M18.56 5.44l.94 2.06.94-2.06 2.06-.94-2.06-.94-.94-2.06-.94 2.06-2.06.94zm-11 1L8.5 8.5l.94-2.06 2.06-.94-2.06-.94L8.5 2.5l-.94 2.06-2.06.94zm10 10l.94 2.06.94-2.06 2.06-.94-2.06-.94-.94-2.06-.94 2.06-2.06.94z\"/><path d=\"M17.41 7.96l-1.37-1.37c-.4-.4-.92-.59-1.43-.59-.52 0-1.04.2-1.43.59L10.3 9.45l-7.72 7.72c-.78.78-.78 2.05 0 2.83L4 21.41c.39.39.9.59 1.41.59.51 0 1.02-.2 1.41-.59l7.78-7.78 2.81-2.81c.8-.78.8-2.07 0-2.86zM5.41 20L4 18.59l7.72-7.72 1.47 1.35L5.41 20z\"/>\n",
              "  </svg>\n",
              "      </button>\n",
              "      \n",
              "  <style>\n",
              "    .colab-df-container {\n",
              "      display:flex;\n",
              "      flex-wrap:wrap;\n",
              "      gap: 12px;\n",
              "    }\n",
              "\n",
              "    .colab-df-convert {\n",
              "      background-color: #E8F0FE;\n",
              "      border: none;\n",
              "      border-radius: 50%;\n",
              "      cursor: pointer;\n",
              "      display: none;\n",
              "      fill: #1967D2;\n",
              "      height: 32px;\n",
              "      padding: 0 0 0 0;\n",
              "      width: 32px;\n",
              "    }\n",
              "\n",
              "    .colab-df-convert:hover {\n",
              "      background-color: #E2EBFA;\n",
              "      box-shadow: 0px 1px 2px rgba(60, 64, 67, 0.3), 0px 1px 3px 1px rgba(60, 64, 67, 0.15);\n",
              "      fill: #174EA6;\n",
              "    }\n",
              "\n",
              "    [theme=dark] .colab-df-convert {\n",
              "      background-color: #3B4455;\n",
              "      fill: #D2E3FC;\n",
              "    }\n",
              "\n",
              "    [theme=dark] .colab-df-convert:hover {\n",
              "      background-color: #434B5C;\n",
              "      box-shadow: 0px 1px 3px 1px rgba(0, 0, 0, 0.15);\n",
              "      filter: drop-shadow(0px 1px 2px rgba(0, 0, 0, 0.3));\n",
              "      fill: #FFFFFF;\n",
              "    }\n",
              "  </style>\n",
              "\n",
              "      <script>\n",
              "        const buttonEl =\n",
              "          document.querySelector('#df-db9512fa-7f93-4444-ad87-d10c3322b95c button.colab-df-convert');\n",
              "        buttonEl.style.display =\n",
              "          google.colab.kernel.accessAllowed ? 'block' : 'none';\n",
              "\n",
              "        async function convertToInteractive(key) {\n",
              "          const element = document.querySelector('#df-db9512fa-7f93-4444-ad87-d10c3322b95c');\n",
              "          const dataTable =\n",
              "            await google.colab.kernel.invokeFunction('convertToInteractive',\n",
              "                                                     [key], {});\n",
              "          if (!dataTable) return;\n",
              "\n",
              "          const docLinkHtml = 'Like what you see? Visit the ' +\n",
              "            '<a target=\"_blank\" href=https://colab.research.google.com/notebooks/data_table.ipynb>data table notebook</a>'\n",
              "            + ' to learn more about interactive tables.';\n",
              "          element.innerHTML = '';\n",
              "          dataTable['output_type'] = 'display_data';\n",
              "          await google.colab.output.renderOutput(dataTable, element);\n",
              "          const docLink = document.createElement('div');\n",
              "          docLink.innerHTML = docLinkHtml;\n",
              "          element.appendChild(docLink);\n",
              "        }\n",
              "      </script>\n",
              "    </div>\n",
              "  </div>\n",
              "  "
            ]
          },
          "metadata": {},
          "execution_count": 37
        }
      ]
    },
    {
      "cell_type": "code",
      "source": [
        "region_groups = train_df.groupby('Region_Code')\n",
        "\n",
        "region_groups.mean()['Is_Lead'].sort_values(ascending=False)"
      ],
      "metadata": {
        "colab": {
          "base_uri": "https://localhost:8080/"
        },
        "id": "QNSv33rjX1Gt",
        "outputId": "3c23e8e7-ed52-4198-f6ac-f5ba2c801db0"
      },
      "execution_count": 38,
      "outputs": [
        {
          "output_type": "execute_result",
          "data": {
            "text/plain": [
              "Region_Code\n",
              "RG283    0.302047\n",
              "RG284    0.301035\n",
              "RG268    0.299800\n",
              "RG276    0.277858\n",
              "RG253    0.258881\n",
              "RG265    0.258732\n",
              "RG273    0.237714\n",
              "RG280    0.235538\n",
              "RG255    0.232408\n",
              "RG251    0.232101\n",
              "RG277    0.231951\n",
              "RG279    0.225604\n",
              "RG263    0.221861\n",
              "RG269    0.221671\n",
              "RG258    0.220400\n",
              "RG272    0.219916\n",
              "RG278    0.219539\n",
              "RG281    0.218732\n",
              "RG254    0.212854\n",
              "RG259    0.193735\n",
              "RG282    0.192143\n",
              "RG257    0.191772\n",
              "RG260    0.190997\n",
              "RG262    0.180649\n",
              "RG271    0.169261\n",
              "RG261    0.167955\n",
              "RG275    0.167334\n",
              "RG274    0.164964\n",
              "RG250    0.157452\n",
              "RG267    0.148965\n",
              "RG270    0.144301\n",
              "RG256    0.140850\n",
              "RG266    0.139417\n",
              "RG252    0.138124\n",
              "RG264    0.137129\n",
              "Name: Is_Lead, dtype: float64"
            ]
          },
          "metadata": {},
          "execution_count": 38
        }
      ]
    },
    {
      "cell_type": "code",
      "source": [
        "region_groups.mean()['Is_Lead'].sort_values(ascending=False).plot.bar();"
      ],
      "metadata": {
        "colab": {
          "base_uri": "https://localhost:8080/",
          "height": 423
        },
        "id": "V7FArSYhj5zs",
        "outputId": "924bf4b6-84ba-48d7-bcdf-fd6785903f01"
      },
      "execution_count": 39,
      "outputs": [
        {
          "output_type": "display_data",
          "data": {
            "text/plain": [
              "<Figure size 720x432 with 1 Axes>"
            ],
            "image/png": "[encoded data removed]"
          },
          "metadata": {
            "needs_background": "light"
          }
        }
      ]
    },
    {
      "cell_type": "markdown",
      "source": [
        "- Region Code 중 Is_Lead가 '1'인 고객 비율이 높은 곳은 다른 곳과 어떤 차이가 있는지 확인해봐야한다.\n",
        "- High cardinality를 띄기 때문에 인코딩 시 주의할 것\n"
      ],
      "metadata": {
        "id": "SCCYSelF_Sjd"
      }
    },
    {
      "cell_type": "code",
      "source": [
        "# Occupation\n",
        "\n",
        "plt.subplots(figsize= (15, 7))\n",
        "sns.countplot(x = 'Occupation', hue='Is_Lead', data=train_df);"
      ],
      "metadata": {
        "colab": {
          "base_uri": "https://localhost:8080/",
          "height": 455
        },
        "id": "mt6sq6iIiTnz",
        "outputId": "861501c1-9016-4f49-d502-1a88c24098f9"
      },
      "execution_count": 40,
      "outputs": [
        {
          "output_type": "display_data",
          "data": {
            "text/plain": [
              "<Figure size 1080x504 with 1 Axes>"
            ],
            "image/png": "[encoded data removed]"
          },
          "metadata": {
            "needs_background": "light"
          }
        }
      ]
    },
    {
      "cell_type": "code",
      "source": [
        "# Other \n",
        "train_df[train_df['Occupation'] == 'Other']['Is_Lead'].value_counts(normalize=True) * 100"
      ],
      "metadata": {
        "colab": {
          "base_uri": "https://localhost:8080/"
        },
        "id": "Z1qb6buB_0_h",
        "outputId": "c5114db0-5e34-4fb6-9dd3-e3e9273653ce"
      },
      "execution_count": 41,
      "outputs": [
        {
          "output_type": "execute_result",
          "data": {
            "text/plain": [
              "0    75.504824\n",
              "1    24.495176\n",
              "Name: Is_Lead, dtype: float64"
            ]
          },
          "metadata": {},
          "execution_count": 41
        }
      ]
    },
    {
      "cell_type": "code",
      "source": [
        "# Salaried\n",
        "train_df[train_df['Occupation'] == 'Salaried']['Is_Lead'].value_counts(normalize=True) * 100"
      ],
      "metadata": {
        "colab": {
          "base_uri": "https://localhost:8080/"
        },
        "id": "HDxF8NCE_8PF",
        "outputId": "f8773a02-55eb-43b0-bfd0-c1e6ff40dfe9"
      },
      "execution_count": 42,
      "outputs": [
        {
          "output_type": "execute_result",
          "data": {
            "text/plain": [
              "0    84.033112\n",
              "1    15.966888\n",
              "Name: Is_Lead, dtype: float64"
            ]
          },
          "metadata": {},
          "execution_count": 42
        }
      ]
    },
    {
      "cell_type": "code",
      "source": [
        "# Self_Employed\n",
        "train_df[train_df['Occupation'] == 'Self_Employed']['Is_Lead'].value_counts(normalize=True) * 100"
      ],
      "metadata": {
        "colab": {
          "base_uri": "https://localhost:8080/"
        },
        "id": "7UQmcC4fAAJ4",
        "outputId": "0f77fb2f-b0be-46ab-c1d0-ff019a9dced4"
      },
      "execution_count": 43,
      "outputs": [
        {
          "output_type": "execute_result",
          "data": {
            "text/plain": [
              "0    72.403505\n",
              "1    27.596495\n",
              "Name: Is_Lead, dtype: float64"
            ]
          },
          "metadata": {},
          "execution_count": 43
        }
      ]
    },
    {
      "cell_type": "code",
      "source": [
        "# Entrepreneur\n",
        "train_df[train_df['Occupation'] == 'Entrepreneur']['Is_Lead'].value_counts(normalize=True) * 100"
      ],
      "metadata": {
        "colab": {
          "base_uri": "https://localhost:8080/"
        },
        "id": "13wR2Q6UAFba",
        "outputId": "f57d52c6-56a2-4149-de84-26daffd73c7b"
      },
      "execution_count": 44,
      "outputs": [
        {
          "output_type": "execute_result",
          "data": {
            "text/plain": [
              "1    66.066742\n",
              "0    33.933258\n",
              "Name: Is_Lead, dtype: float64"
            ]
          },
          "metadata": {},
          "execution_count": 44
        }
      ]
    },
    {
      "cell_type": "markdown",
      "source": [
        " Occupation 중\n",
        "\n",
        " - 'Other'의 제안 관심 비율 24.49%\n",
        "\n",
        " - 'Salaried'의 제안 관심 비율 15.96%\n",
        "\n",
        " - 'Self_Employed'의 제안 관심 비율 27.59%\n",
        "\n",
        " - 'Entrepreneur'의 제안 관심 비율 66.06%\n",
        "\n",
        "\n",
        " Entrepreneur의 66%가 제안에 관심이 많다. 하지만 절대 수가 적기 때문에 전체 비율에서 미치는 영향은 낮다.\n",
        " 그 다음으로는 Self_Employed와 Other가 비슷한 비율을 보였고, Salaried의 관심 비율은 낮았다.\n",
        "\n",
        " 사업가의 관심이 높은 제안이다."
      ],
      "metadata": {
        "id": "r_FkBj_WL6zD"
      }
    },
    {
      "cell_type": "code",
      "source": [
        "# Channel_Code\n",
        "\n",
        "plt.subplots(figsize= (15, 7))\n",
        "sns.countplot(x = 'Channel_Code', hue='Is_Lead', data=train_df);"
      ],
      "metadata": {
        "id": "6shWP9AOjO3r",
        "colab": {
          "base_uri": "https://localhost:8080/",
          "height": 454
        },
        "outputId": "0be863fd-7d1d-46ba-a9c0-f388b7178a9a"
      },
      "execution_count": 45,
      "outputs": [
        {
          "output_type": "display_data",
          "data": {
            "text/plain": [
              "<Figure size 1080x504 with 1 Axes>"
            ],
            "image/png": "[encoded data removed]"
          },
          "metadata": {
            "needs_background": "light"
          }
        }
      ]
    },
    {
      "cell_type": "code",
      "source": [
        "train_df[train_df['Channel_Code'] == 'X1']['Is_Lead'].value_counts(normalize=True) * 100"
      ],
      "metadata": {
        "colab": {
          "base_uri": "https://localhost:8080/"
        },
        "id": "cNUOwZ3g-DXV",
        "outputId": "0a5e9f9d-57f8-489c-d251-280f9e9635ce"
      },
      "execution_count": 46,
      "outputs": [
        {
          "output_type": "execute_result",
          "data": {
            "text/plain": [
              "0    90.857903\n",
              "1     9.142097\n",
              "Name: Is_Lead, dtype: float64"
            ]
          },
          "metadata": {},
          "execution_count": 46
        }
      ]
    },
    {
      "cell_type": "code",
      "source": [
        "train_df[train_df['Channel_Code'] == 'X2']['Is_Lead'].value_counts(normalize=True) * 100"
      ],
      "metadata": {
        "colab": {
          "base_uri": "https://localhost:8080/"
        },
        "id": "_WfVm1Sn-O4o",
        "outputId": "ad74c214-f96e-4661-b681-9de019fbad6a"
      },
      "execution_count": 47,
      "outputs": [
        {
          "output_type": "execute_result",
          "data": {
            "text/plain": [
              "0    67.210525\n",
              "1    32.789475\n",
              "Name: Is_Lead, dtype: float64"
            ]
          },
          "metadata": {},
          "execution_count": 47
        }
      ]
    },
    {
      "cell_type": "code",
      "source": [
        "train_df[train_df['Channel_Code'] == 'X3']['Is_Lead'].value_counts(normalize=True) * 100"
      ],
      "metadata": {
        "colab": {
          "base_uri": "https://localhost:8080/"
        },
        "id": "jin4wdxn-XFG",
        "outputId": "c81ac7b5-e674-485f-cd31-7b7c1d9140b5"
      },
      "execution_count": 48,
      "outputs": [
        {
          "output_type": "execute_result",
          "data": {
            "text/plain": [
              "0    63.297532\n",
              "1    36.702468\n",
              "Name: Is_Lead, dtype: float64"
            ]
          },
          "metadata": {},
          "execution_count": 48
        }
      ]
    },
    {
      "cell_type": "code",
      "source": [
        "train_df[train_df['Channel_Code'] == 'X4']['Is_Lead'].value_counts(normalize=True) * 100"
      ],
      "metadata": {
        "colab": {
          "base_uri": "https://localhost:8080/"
        },
        "id": "X5Y6LKT--Zp0",
        "outputId": "be146e4b-75d1-4087-c43e-ee600e3b47b8"
      },
      "execution_count": 49,
      "outputs": [
        {
          "output_type": "execute_result",
          "data": {
            "text/plain": [
              "0    75.219968\n",
              "1    24.780032\n",
              "Name: Is_Lead, dtype: float64"
            ]
          },
          "metadata": {},
          "execution_count": 49
        }
      ]
    },
    {
      "cell_type": "markdown",
      "source": [
        " - X2, X3의 제안 관심 비율은 각각 32.78%, 36,70%로 나왔다.\n",
        " - X1의 관심 비율이 상대적으로 낮다."
      ],
      "metadata": {
        "id": "vynj6dAakS-L"
      }
    },
    {
      "cell_type": "code",
      "source": [
        "# Credit_Product\n",
        "sns.countplot('Credit_Product', data=train_df, hue = 'Is_Lead');"
      ],
      "metadata": {
        "colab": {
          "base_uri": "https://localhost:8080/",
          "height": 403
        },
        "id": "xBLG7eQK1xki",
        "outputId": "9111b78c-8430-4a3a-efbb-0855fee31f4b"
      },
      "execution_count": 50,
      "outputs": [
        {
          "output_type": "display_data",
          "data": {
            "text/plain": [
              "<Figure size 720x432 with 1 Axes>"
            ],
            "image/png": "[encoded data removed]"
          },
          "metadata": {
            "needs_background": "light"
          }
        }
      ]
    },
    {
      "cell_type": "code",
      "source": [
        "train_df[train_df['Credit_Product'] == 'Yes']['Is_Lead'].value_counts(normalize=True) * 100"
      ],
      "metadata": {
        "colab": {
          "base_uri": "https://localhost:8080/"
        },
        "id": "Cl1tG8bW-wP0",
        "outputId": "e0be3fa8-8fdd-4730-cd1f-7811b6df86df"
      },
      "execution_count": 51,
      "outputs": [
        {
          "output_type": "execute_result",
          "data": {
            "text/plain": [
              "0    68.504921\n",
              "1    31.495079\n",
              "Name: Is_Lead, dtype: float64"
            ]
          },
          "metadata": {},
          "execution_count": 51
        }
      ]
    },
    {
      "cell_type": "code",
      "source": [
        "train_df[train_df['Credit_Product'] == 'No']['Is_Lead'].value_counts(normalize=True) * 100"
      ],
      "metadata": {
        "colab": {
          "base_uri": "https://localhost:8080/"
        },
        "id": "Xf9O5xxz-3Zd",
        "outputId": "f0fe7cbd-cef5-4da2-d774-2779a41c85c8"
      },
      "execution_count": 52,
      "outputs": [
        {
          "output_type": "execute_result",
          "data": {
            "text/plain": [
              "0    92.64116\n",
              "1     7.35884\n",
              "Name: Is_Lead, dtype: float64"
            ]
          },
          "metadata": {},
          "execution_count": 52
        }
      ]
    },
    {
      "cell_type": "markdown",
      "source": [
        "* 이용 중인 'Credit_Product'가 있는 고객의 제안 관심 비율은 31.49%\n",
        "* 이용 중인 'Credit_Product'가 없는 고객의 제안 관심 비율은 7.35%"
      ],
      "metadata": {
        "id": "yQvIExYLlSQd"
      }
    },
    {
      "cell_type": "code",
      "source": [
        "# Is_Active\n",
        "sns.countplot('Is_Active', data=train_df, hue = 'Is_Lead');"
      ],
      "metadata": {
        "colab": {
          "base_uri": "https://localhost:8080/",
          "height": 400
        },
        "id": "9f6C2euy2T2V",
        "outputId": "5c4d88b0-bbc3-495d-da60-d66c83969028"
      },
      "execution_count": 53,
      "outputs": [
        {
          "output_type": "display_data",
          "data": {
            "text/plain": [
              "<Figure size 720x432 with 1 Axes>"
            ],
            "image/png": "[encoded data removed]"
          },
          "metadata": {
            "needs_background": "light"
          }
        }
      ]
    },
    {
      "cell_type": "code",
      "source": [
        "train_df[train_df['Is_Active'] == 'Yes']['Is_Lead'].value_counts(normalize=True) * 100"
      ],
      "metadata": {
        "colab": {
          "base_uri": "https://localhost:8080/"
        },
        "id": "pwH5O5gj_jIs",
        "outputId": "62475295-b8cb-4807-9573-fd6daf1c6b2b"
      },
      "execution_count": 54,
      "outputs": [
        {
          "output_type": "execute_result",
          "data": {
            "text/plain": [
              "0    71.703254\n",
              "1    28.296746\n",
              "Name: Is_Lead, dtype: float64"
            ]
          },
          "metadata": {},
          "execution_count": 54
        }
      ]
    },
    {
      "cell_type": "code",
      "source": [
        "train_df[train_df['Is_Active'] == 'No']['Is_Lead'].value_counts(normalize=True) * 100"
      ],
      "metadata": {
        "colab": {
          "base_uri": "https://localhost:8080/"
        },
        "id": "a-HtAWK5_rvn",
        "outputId": "58e88b5f-599d-4004-c0ce-fad926fad1c8"
      },
      "execution_count": 55,
      "outputs": [
        {
          "output_type": "execute_result",
          "data": {
            "text/plain": [
              "0    79.184909\n",
              "1    20.815091\n",
              "Name: Is_Lead, dtype: float64"
            ]
          },
          "metadata": {},
          "execution_count": 55
        }
      ]
    },
    {
      "cell_type": "markdown",
      "source": [
        "* 'Is_Active'가 Yes인 고객 중 제안 관심 비율은 28.29%\n",
        "* 'Is_Active'가 No인 고객 중 제안 관심 비율은 20.81%"
      ],
      "metadata": {
        "id": "LeDEQBRl6zRf"
      }
    },
    {
      "cell_type": "markdown",
      "source": [
        "## 이상치(Outlier) 제거\n",
        "\n",
        "Numerical features의 이상치 제거\n",
        "\n",
        "분석과 모델학습에 영향을 줄 수 있는 이상치 제거"
      ],
      "metadata": {
        "id": "uB4TEWTcPbQ6"
      }
    },
    {
      "cell_type": "code",
      "source": [
        "Q1 = train_df[['Age','Vintage','Avg_Account_Balance']].quantile(q=0.25)\n",
        "Q3 = train_df[['Age','Vintage','Avg_Account_Balance']].quantile(q=0.75)\n",
        "\n",
        "print(Q1)\n",
        "print(Q3)"
      ],
      "metadata": {
        "colab": {
          "base_uri": "https://localhost:8080/"
        },
        "id": "_9vMDYDzODXY",
        "outputId": "ecbee3f9-18f2-4563-9571-d68e9f9d67a7"
      },
      "execution_count": 7,
      "outputs": [
        {
          "output_type": "stream",
          "name": "stdout",
          "text": [
            "Age                        30.0\n",
            "Vintage                    20.0\n",
            "Avg_Account_Balance    604310.0\n",
            "Name: 0.25, dtype: float64\n",
            "Age                         54.0\n",
            "Vintage                     73.0\n",
            "Avg_Account_Balance    1366666.0\n",
            "Name: 0.75, dtype: float64\n"
          ]
        }
      ]
    },
    {
      "cell_type": "code",
      "source": [
        "IQR = Q3 - Q1\n",
        "\n",
        "IQR_df = train_df[(train_df['Age'] < (Q1['Age']-1.5*IQR['Age'])) | (train_df['Age'] > (Q3['Age']+1.5*IQR['Age']))]\n",
        "IQR_df = train_df[(train_df['Vintage'] < (Q1['Vintage']-1.5*IQR['Vintage'])) | (train_df['Vintage'] > (Q3['Vintage']+1.5*IQR['Vintage']))]\n",
        "IQR_df = train_df[(train_df['Avg_Account_Balance'] < (Q1['Avg_Account_Balance']-1.5*IQR['Avg_Account_Balance'])) | (train_df['Avg_Account_Balance'] > (Q3['Avg_Account_Balance']+1.5*IQR['Avg_Account_Balance']))]\n",
        "\n",
        "print(IQR_df)\n"
      ],
      "metadata": {
        "colab": {
          "base_uri": "https://localhost:8080/"
        },
        "id": "OOzYXh5XQXQN",
        "outputId": "94a905fc-119f-4d18-d858-b177b75feb5f"
      },
      "execution_count": 8,
      "outputs": [
        {
          "output_type": "stream",
          "name": "stdout",
          "text": [
            "        Gender  Age Region_Code     Occupation Channel_Code  Vintage  \\\n",
            "35      Female   29       RG284       Salaried           X1       26   \n",
            "71        Male   27       RG254       Salaried           X1       13   \n",
            "113     Female   27       RG268       Salaried           X1       21   \n",
            "184     Female   74       RG268          Other           X3       33   \n",
            "205       Male   33       RG268          Other           X1       25   \n",
            "...        ...  ...         ...            ...          ...      ...   \n",
            "245638    Male   48       RG283  Self_Employed           X2       31   \n",
            "245653    Male   46       RG257  Self_Employed           X1       26   \n",
            "245661  Female   30       RG276       Salaried           X1       15   \n",
            "245676    Male   35       RG253  Self_Employed           X2       61   \n",
            "245701    Male   32       RG277       Salaried           X1       13   \n",
            "\n",
            "       Credit_Product  Avg_Account_Balance Is_Active  Is_Lead  \n",
            "35                 No              2521592        No        0  \n",
            "71                 No              2824468        No        0  \n",
            "113                No              6278683       Yes        0  \n",
            "184                No              5878049       Yes        0  \n",
            "205                No              2952343        No        0  \n",
            "...               ...                  ...       ...      ...  \n",
            "245638             No              5396737        No        0  \n",
            "245653            Yes              6900312        No        1  \n",
            "245661             No              3566719       Yes        0  \n",
            "245676             No              2769973       Yes        0  \n",
            "245701            Yes              9491986        No        0  \n",
            "\n",
            "[14612 rows x 10 columns]\n"
          ]
        }
      ]
    },
    {
      "cell_type": "code",
      "source": [
        "train_df = train_df.drop(IQR_df.index, axis = 0)\n",
        "\n",
        "print(train_df)"
      ],
      "metadata": {
        "colab": {
          "base_uri": "https://localhost:8080/"
        },
        "id": "oH8jk1dvU4Mb",
        "outputId": "c1c4d586-783d-4623-9359-8972a4cef7cc"
      },
      "execution_count": 9,
      "outputs": [
        {
          "output_type": "stream",
          "name": "stdout",
          "text": [
            "        Gender  Age Region_Code     Occupation Channel_Code  Vintage  \\\n",
            "0       Female   73       RG268          Other           X3       43   \n",
            "1       Female   30       RG277       Salaried           X1       32   \n",
            "2       Female   56       RG268  Self_Employed           X3       26   \n",
            "3         Male   34       RG270       Salaried           X1       19   \n",
            "4       Female   30       RG282       Salaried           X1       33   \n",
            "...        ...  ...         ...            ...          ...      ...   \n",
            "245720    Male   51       RG284  Self_Employed           X3      109   \n",
            "245721    Male   27       RG268       Salaried           X1       15   \n",
            "245722  Female   26       RG281       Salaried           X1       13   \n",
            "245723  Female   28       RG273       Salaried           X1       31   \n",
            "245724    Male   29       RG269       Salaried           X1       21   \n",
            "\n",
            "       Credit_Product  Avg_Account_Balance Is_Active  Is_Lead  \n",
            "0                  No              1045696        No        0  \n",
            "1                  No               581988        No        0  \n",
            "2                  No              1484315       Yes        0  \n",
            "3                  No               470454        No        0  \n",
            "4                  No               886787        No        0  \n",
            "...               ...                  ...       ...      ...  \n",
            "245720            NaN              1925586        No        0  \n",
            "245721             No               862952       Yes        0  \n",
            "245722             No               670659        No        0  \n",
            "245723             No               407504        No        0  \n",
            "245724             No              1129276        No        0  \n",
            "\n",
            "[231113 rows x 10 columns]\n"
          ]
        }
      ]
    },
    {
      "cell_type": "markdown",
      "source": [
        "### 범주형 데이터인 Credit_Product의 결측치 처리"
      ],
      "metadata": {
        "id": "IGU9D0Jx8x2x"
      }
    },
    {
      "cell_type": "code",
      "source": [
        "# https://www.analyticsvidhya.com/blog/2021/04/how-to-handle-missing-values-of-categorical-variables/ \n",
        "# 결측값을 가장 빈번한 값으로 대체하여 진행\n",
        "train_df['Credit_Product'].value_counts()"
      ],
      "metadata": {
        "id": "GAq2y0YW8xlh",
        "outputId": "a263c3e8-edf8-47d3-b26a-1a20ea060221",
        "colab": {
          "base_uri": "https://localhost:8080/"
        }
      },
      "execution_count": 24,
      "outputs": [
        {
          "output_type": "execute_result",
          "data": {
            "text/plain": [
              "No     136445\n",
              "Yes     67344\n",
              "Name: Credit_Product, dtype: int64"
            ]
          },
          "metadata": {},
          "execution_count": 24
        }
      ]
    },
    {
      "cell_type": "code",
      "source": [
        "train_df = train_df.fillna(train_df.mode().iloc[0])\n",
        "train_df['Credit_Product'].value_counts()"
      ],
      "metadata": {
        "id": "1tAlL2aT9QV6",
        "outputId": "d09500f5-acee-4eb3-c574-bb963293a85e",
        "colab": {
          "base_uri": "https://localhost:8080/"
        }
      },
      "execution_count": 10,
      "outputs": [
        {
          "output_type": "execute_result",
          "data": {
            "text/plain": [
              "No     163769\n",
              "Yes     67344\n",
              "Name: Credit_Product, dtype: int64"
            ]
          },
          "metadata": {},
          "execution_count": 10
        }
      ]
    },
    {
      "cell_type": "markdown",
      "source": [
        "### train_df를 train, validation 데이터로 나누기기"
      ],
      "metadata": {
        "id": "I0xrcC9m4wNd"
      }
    },
    {
      "cell_type": "code",
      "source": [
        "# stratify => 계층적 데이터 추출 옵션 (분류 모델에서 추천!) 여러 층으로 분할후 각 층별로 렌덤 데이터 추출, 원래 데이터의 분포와 유사하게 데이터 추출\n",
        "train, val = train_test_split(train_df, train_size=0.80, test_size=0.20,\n",
        "                              stratify = train_df['Is_Lead'], random_state=42)"
      ],
      "metadata": {
        "id": "TF6Fv7SY0nRs"
      },
      "execution_count": 11,
      "outputs": []
    },
    {
      "cell_type": "code",
      "source": [
        "train.shape, val.shape, test_df.shape"
      ],
      "metadata": {
        "id": "9RrvwKPVuldS",
        "outputId": "b1734b27-ef6f-48cd-ae44-76a28ac5194d",
        "colab": {
          "base_uri": "https://localhost:8080/"
        }
      },
      "execution_count": 13,
      "outputs": [
        {
          "output_type": "execute_result",
          "data": {
            "text/plain": [
              "((184890, 10), (46223, 10), (105312, 9))"
            ]
          },
          "metadata": {},
          "execution_count": 13
        }
      ]
    },
    {
      "cell_type": "code",
      "source": [
        "# 분류문제의 기준모델 \n",
        "major = y_train.mode()[0]\n",
        "\n",
        "# 타겟 샘플 수 만큼 0이 담긴 리스트를 만들어 기준모델로 예측\n",
        "y_pred = [major] * len(y_train)\n",
        "\n",
        "print(\"training_accuracy_score: \", accuracy_score(y_train, y_pred))"
      ],
      "metadata": {
        "id": "kk-zzlBb5nNx",
        "outputId": "b092421d-c6a0-461d-d5fb-aaae176795ab",
        "colab": {
          "base_uri": "https://localhost:8080/"
        }
      },
      "execution_count": 14,
      "outputs": [
        {
          "output_type": "stream",
          "name": "stdout",
          "text": [
            "training_accuracy_score:  0.7627917387323228\n"
          ]
        }
      ]
    },
    {
      "cell_type": "code",
      "source": [
        "y_val = val[target]\n",
        "y_pred = [major] * len(y_val)\n",
        "\n",
        "print(\"validation_accuracy_score: \", accuracy_score(y_val, y_pred))"
      ],
      "metadata": {
        "colab": {
          "base_uri": "https://localhost:8080/"
        },
        "id": "ucFrPSrxQ8CF",
        "outputId": "a890c496-e5c5-4584-c290-497dc7b5011f"
      },
      "execution_count": 15,
      "outputs": [
        {
          "output_type": "stream",
          "name": "stdout",
          "text": [
            "validation_accuracy_score:  0.7649654933691019\n"
          ]
        }
      ]
    },
    {
      "cell_type": "code",
      "source": [
        "# 모델 학습에 사용할 특성\n",
        "# cardinality가 높은 Region_Code와 분석에 사용했던 Age_band, Vintage_band, Avg_Account_Balance_log10 는 사용하지 않고 학습\n",
        "features = ['Gender', 'Age', 'Occupation', 'Channel_Code', 'Vintage', 'Credit_Product', 'Avg_Account_Balance', 'Is_Active']\n",
        "\n",
        "# train/val/test 데이터를 특성과 타겟으로 분리\n",
        "\n",
        "X_train = train[features]\n",
        "y_train = train[target]\n",
        "X_val = val[features]\n",
        "y_val = val[target]\n",
        "X_test = test_df[features]"
      ],
      "metadata": {
        "id": "sKkijjfO1INC"
      },
      "execution_count": 20,
      "outputs": []
    },
    {
      "cell_type": "markdown",
      "source": [
        "# ML Model Test"
      ],
      "metadata": {
        "id": "5hwfzO0TPAeE"
      }
    },
    {
      "cell_type": "markdown",
      "source": [
        "## 파이프라인"
      ],
      "metadata": {
        "id": "tD11P0WA3Pwy"
      }
    },
    {
      "cell_type": "markdown",
      "source": [
        "### LogisticRegression"
      ],
      "metadata": {
        "id": "cbkf3YEBi99s"
      }
    },
    {
      "cell_type": "code",
      "source": [
        "lr = make_pipeline(\n",
        "    OneHotEncoder(use_cat_names=True),\n",
        "    StandardScaler(),\n",
        "    LogisticRegression(random_state=42)\n",
        ")\n",
        "\n",
        "lr.fit(X_train, y_train)\n",
        "\n",
        "print('훈련 정확도:', lr.score(X_train, y_train))\n",
        "print('검증 정확도:', lr.score(X_val, y_val))\n",
        "\n",
        "y_pred = lr.predict(X_test)"
      ],
      "metadata": {
        "id": "sZ2BY81U4-Q_",
        "outputId": "3658b4c2-234d-4b47-dedc-1588c0565a98",
        "colab": {
          "base_uri": "https://localhost:8080/"
        }
      },
      "execution_count": 17,
      "outputs": [
        {
          "output_type": "stream",
          "name": "stdout",
          "text": [
            "train accuracy: 0.777570447292985\n",
            "validation accuracy: 0.7779244099257945\n"
          ]
        }
      ]
    },
    {
      "cell_type": "code",
      "source": [
        "# 상관계수 확인\n",
        "\n",
        "model_lr = lr.named_steps['logisticregression']\n",
        "enc = lr.named_steps['onehotencoder']\n",
        "encoded_columns = enc.transform(X_val).columns\n",
        "coefficients = pd.Series(model_lr.coef_[0], encoded_columns)\n",
        "plt.figure(figsize=(10,10))\n",
        "coefficients.sort_values().plot.barh();"
      ],
      "metadata": {
        "id": "E57xhbnF3ip5",
        "outputId": "81024f3d-b03d-4575-bcc1-c896a65b7330",
        "colab": {
          "base_uri": "https://localhost:8080/",
          "height": 600
        }
      },
      "execution_count": 19,
      "outputs": [
        {
          "output_type": "display_data",
          "data": {
            "text/plain": [
              "<Figure size 720x720 with 1 Axes>"
            ],
            "image/png": "[encoded data removed]"
          },
          "metadata": {
            "needs_background": "light"
          }
        }
      ]
    },
    {
      "cell_type": "markdown",
      "source": [
        "### DecisionTreeClassifier"
      ],
      "metadata": {
        "id": "_qm5MgG9jDep"
      }
    },
    {
      "cell_type": "code",
      "source": [
        "# #과적합 발생\n",
        "# dtc = make_pipeline(\n",
        "#     OneHotEncoder(use_cat_names=True),\n",
        "#     StandardScaler(),\n",
        "#     DecisionTreeClassifier(random_state=42, criterion='entropy')\n",
        "# )\n",
        "                                                                                                                                                                                \n",
        "# dtc.fit(X_train, y_train)\n",
        "# print('훈련 정확도: ', dtc.score(X_train, y_train))\n",
        "# print('검증 정확도: ', dtc.score(X_val, y_val))"
      ],
      "metadata": {
        "colab": {
          "base_uri": "https://localhost:8080/"
        },
        "id": "k-fcZmXHflYX",
        "outputId": "e779a362-e9c8-4952-ce0a-19fc8ba6325e"
      },
      "execution_count": 53,
      "outputs": [
        {
          "output_type": "stream",
          "name": "stdout",
          "text": [
            "훈련 정확도:  0.9999567310292606\n",
            "검증 정확도:  0.7177379226791857\n"
          ]
        }
      ]
    },
    {
      "cell_type": "code",
      "source": [
        "dtc = make_pipeline(\n",
        "    OneHotEncoder(use_cat_names=True),\n",
        "    DecisionTreeClassifier(max_depth=6, min_samples_leaf=10, random_state=42)\n",
        ")\n",
        "\n",
        "dtc.fit(X_train, y_train)\n",
        "\n",
        "print('훈련 정확도: ', dtc.score(X_train, y_train))\n",
        "print('검증 정확도: ', dtc.score(X_val, y_val))"
      ],
      "metadata": {
        "colab": {
          "base_uri": "https://localhost:8080/"
        },
        "id": "1ppxwA7yglQT",
        "outputId": "71161533-a1ee-42a3-bf6f-f08724dfb009"
      },
      "execution_count": 21,
      "outputs": [
        {
          "output_type": "stream",
          "name": "stdout",
          "text": [
            "훈련 정확도:  0.7880523554545946\n",
            "검증 정확도:  0.7887631698505073\n"
          ]
        }
      ]
    },
    {
      "cell_type": "code",
      "source": [
        "# feature importance\n",
        "\n",
        "model_dtc = dtc.named_steps['decisiontreeclassifier']\n",
        "\n",
        "importances = pd.Series(model_dtc.feature_importances_, encoded_columns)\n",
        "plt.figure(figsize=(10,15))\n",
        "importances.sort_values().plot.barh();"
      ],
      "metadata": {
        "colab": {
          "base_uri": "https://localhost:8080/",
          "height": 872
        },
        "id": "f04mQ5QHmzF1",
        "outputId": "cf4f2d98-ec9a-4181-bb39-8c41cf945250"
      },
      "execution_count": 22,
      "outputs": [
        {
          "output_type": "display_data",
          "data": {
            "text/plain": [
              "<Figure size 720x1080 with 1 Axes>"
            ],
            "image/png": "[encoded data removed]"
          },
          "metadata": {
            "needs_background": "light"
          }
        }
      ]
    },
    {
      "cell_type": "markdown",
      "source": [
        "### RandomForestClassifier"
      ],
      "metadata": {
        "id": "_Qm58jRujd9s"
      }
    },
    {
      "cell_type": "code",
      "source": [
        "rf = make_pipeline(\n",
        "    OrdinalEncoder(), \n",
        "    RandomForestClassifier(n_jobs=-1, random_state=42, oob_score=True)\n",
        ")\n",
        "\n",
        "rf.fit(X_train, y_train)\n",
        "\n",
        "print('훈련 정확도: ', rf.score(X_train, y_train))\n",
        "print('검증 정확도: ', rf.score(X_val, y_val))"
      ],
      "metadata": {
        "colab": {
          "base_uri": "https://localhost:8080/"
        },
        "id": "8CfgegknuL4R",
        "outputId": "39bf365b-44df-43a9-e490-5d886f39b16f"
      },
      "execution_count": 24,
      "outputs": [
        {
          "output_type": "stream",
          "name": "stdout",
          "text": [
            "훈련 정확도:  0.9999026448158365\n",
            "검증 정확도:  0.7645977110962076\n"
          ]
        }
      ]
    },
    {
      "cell_type": "markdown",
      "source": [
        "### Categorical data 상관 관계 확인"
      ],
      "metadata": {
        "id": "R2FEDkiUHtmb"
      }
    },
    {
      "cell_type": "markdown",
      "source": [
        "Target feature 와의 상관관계"
      ],
      "metadata": {
        "id": "og0yEIYd0oMG"
      }
    },
    {
      "cell_type": "code",
      "source": [
        "plt.figure(figsize = (40,6))\n",
        "sns.countplot(x = target_Vintage);"
      ],
      "metadata": {
        "colab": {
          "base_uri": "https://localhost:8080/",
          "height": 209
        },
        "id": "IybwsIaBj7t0",
        "outputId": "8d5809ef-0200-4c88-fd68-b39743f87e05"
      },
      "execution_count": null,
      "outputs": [
        {
          "output_type": "error",
          "ename": "NameError",
          "evalue": "ignored",
          "traceback": [
            "\u001b[0;31m---------------------------------------------------------------------------\u001b[0m",
            "\u001b[0;31mNameError\u001b[0m                                 Traceback (most recent call last)",
            "\u001b[0;32m<ipython-input-48-651de9f5f2cb>\u001b[0m in \u001b[0;36m<module>\u001b[0;34m\u001b[0m\n\u001b[1;32m      1\u001b[0m \u001b[0mplt\u001b[0m\u001b[0;34m.\u001b[0m\u001b[0mfigure\u001b[0m\u001b[0;34m(\u001b[0m\u001b[0mfigsize\u001b[0m \u001b[0;34m=\u001b[0m \u001b[0;34m(\u001b[0m\u001b[0;36m40\u001b[0m\u001b[0;34m,\u001b[0m\u001b[0;36m6\u001b[0m\u001b[0;34m)\u001b[0m\u001b[0;34m)\u001b[0m\u001b[0;34m\u001b[0m\u001b[0;34m\u001b[0m\u001b[0m\n\u001b[0;32m----> 2\u001b[0;31m \u001b[0msns\u001b[0m\u001b[0;34m.\u001b[0m\u001b[0mcountplot\u001b[0m\u001b[0;34m(\u001b[0m\u001b[0mx\u001b[0m \u001b[0;34m=\u001b[0m \u001b[0mtarget_Vintage\u001b[0m\u001b[0;34m)\u001b[0m\u001b[0;34m;\u001b[0m\u001b[0;34m\u001b[0m\u001b[0;34m\u001b[0m\u001b[0m\n\u001b[0m",
            "\u001b[0;31mNameError\u001b[0m: name 'target_Vintage' is not defined"
          ]
        },
        {
          "output_type": "display_data",
          "data": {
            "text/plain": [
              "<Figure size 2880x432 with 0 Axes>"
            ]
          },
          "metadata": {}
        }
      ]
    },
    {
      "cell_type": "code",
      "source": [
        "non_target_Vintage = df[df['Is_Lead'] == 0]['Vintage']\n",
        "non_target_Vintage"
      ],
      "metadata": {
        "colab": {
          "base_uri": "https://localhost:8080/"
        },
        "id": "VV4aqORytbZe",
        "outputId": "c9350e48-dff1-4ab1-cef0-09d12863ae31"
      },
      "execution_count": null,
      "outputs": [
        {
          "output_type": "execute_result",
          "data": {
            "text/plain": [
              "0         43\n",
              "1         32\n",
              "2         26\n",
              "3         19\n",
              "4         33\n",
              "          ..\n",
              "245719    13\n",
              "245721    15\n",
              "245722    13\n",
              "245723    31\n",
              "245724    21\n",
              "Name: Vintage, Length: 183087, dtype: int64"
            ]
          },
          "metadata": {},
          "execution_count": 13
        }
      ]
    },
    {
      "cell_type": "code",
      "source": [
        "plt.figure(figsize = (40,6))\n",
        "sns.countplot(x= non_target_Vintage);"
      ],
      "metadata": {
        "id": "W6ysw_zAlUab"
      },
      "execution_count": null,
      "outputs": []
    },
    {
      "cell_type": "code",
      "source": [
        "bins = np.linspace(df.Vintage.min(), df.Vintage.max(), 35)\n",
        "plot1 = sns.FacetGrid(df, col = \"Is_Lead\", palette = 'Set1', col_wrap=2, size = 7)\n",
        "plot1.map(plt.hist, 'Vintage', bins=bins, ec='k')\n",
        "\n",
        "plot1.add_legend()\n",
        "plt.show();"
      ],
      "metadata": {
        "id": "YvhzIaoK_C3r"
      },
      "execution_count": null,
      "outputs": []
    },
    {
      "cell_type": "code",
      "source": [
        "# 두 그룹의 비율이 큰 차이가 나지 않기 때문에 그룹의 분산이 차이가 나지 않는다고 판단.\n",
        "print(np.var(target_Vintage))\n",
        "\n",
        "print(np.var(non_target_Vintage))"
      ],
      "metadata": {
        "colab": {
          "base_uri": "https://localhost:8080/"
        },
        "id": "qBRel3XgrHjB",
        "outputId": "de744048-5098-4684-8a1e-b186ab687d09"
      },
      "execution_count": null,
      "outputs": [
        {
          "output_type": "stream",
          "name": "stdout",
          "text": [
            "1193.689012866215\n",
            "878.2364622836806\n"
          ]
        }
      ]
    },
    {
      "cell_type": "code",
      "source": [
        "stats.ttest_ind(target_Vintage, non_target_Vintage)"
      ],
      "metadata": {
        "colab": {
          "base_uri": "https://localhost:8080/"
        },
        "id": "puwDXLjctfmQ",
        "outputId": "44e58a0e-5322-4b04-862a-9262ff0983b7"
      },
      "execution_count": null,
      "outputs": [
        {
          "output_type": "execute_result",
          "data": {
            "text/plain": [
              "Ttest_indResult(statistic=106.79317277167486, pvalue=0.0)"
            ]
          },
          "metadata": {},
          "execution_count": 17
        }
      ]
    },
    {
      "cell_type": "markdown",
      "source": [
        "H0 => µ1 = µ2\n",
        "\n",
        "귀무가설 : 관심있는 고객들의 평균 Vintag는 관심없는 고객의 평균 Vintage와 차이가 없을 것이다.\n",
        "\n",
        "HA => µ1 ≠µ2 \n",
        "\n",
        "대안가설 : 관심있는 고객들의 평균 Vintage가 관심없는 고객의 평균 Vintage보다 유의미하게 높을 것이다.\n",
        "\n",
        "신뢰도 95%\n",
        "\n",
        "p-value가 0.05보다 낮기 때문에 귀무가설을 기각하고 대안가설을 채택한다."
      ],
      "metadata": {
        "id": "7juR34fXr_Sc"
      }
    },
    {
      "cell_type": "markdown",
      "source": [
        "-----\n",
        "가설2\n",
        "\n",
        "관심있는 고객들의 평균 'Avg_Account_Balance'가 관심없는 고객들의 평균  'Avg_Account_Balance'보다 유의미하게 낮을 것이다."
      ],
      "metadata": {
        "id": "KgDku5Nw66lk"
      }
    },
    {
      "cell_type": "code",
      "source": [
        "target_AAB = df[df['Is_Lead'] == 1]['Avg_Account_Balance']\n",
        "target_AAB"
      ],
      "metadata": {
        "colab": {
          "base_uri": "https://localhost:8080/"
        },
        "id": "SVh3UKvK65mq",
        "outputId": "64f41594-e6fd-4e74-9de4-03db72cafafa"
      },
      "execution_count": null,
      "outputs": [
        {
          "output_type": "execute_result",
          "data": {
            "text/plain": [
              "16        2282502\n",
              "17        2384692\n",
              "20        1001650\n",
              "29        1056910\n",
              "34        1684182\n",
              "           ...   \n",
              "245690     766548\n",
              "245693    1122023\n",
              "245697     551203\n",
              "245709     608110\n",
              "245713     898170\n",
              "Name: Avg_Account_Balance, Length: 33313, dtype: int64"
            ]
          },
          "metadata": {},
          "execution_count": 18
        }
      ]
    },
    {
      "cell_type": "code",
      "source": [
        "non_target_AAB = df[df['Is_Lead'] == 0]['Avg_Account_Balance']\n",
        "non_target_AAB"
      ],
      "metadata": {
        "colab": {
          "base_uri": "https://localhost:8080/"
        },
        "id": "MAVaR_jb7T-k",
        "outputId": "f88e2cf5-62d8-414c-f87c-26d07ae1a354"
      },
      "execution_count": null,
      "outputs": [
        {
          "output_type": "execute_result",
          "data": {
            "text/plain": [
              "0         1045696\n",
              "1          581988\n",
              "2         1484315\n",
              "3          470454\n",
              "4          886787\n",
              "           ...   \n",
              "245719     354665\n",
              "245721     862952\n",
              "245722     670659\n",
              "245723     407504\n",
              "245724    1129276\n",
              "Name: Avg_Account_Balance, Length: 183087, dtype: int64"
            ]
          },
          "metadata": {},
          "execution_count": 19
        }
      ]
    },
    {
      "cell_type": "code",
      "source": [
        "bins2 = np.linspace(df.Avg_Account_Balance.min(), df.Avg_Account_Balance.max(), 100)\n",
        "plot2 = sns.FacetGrid(df, col = \"Is_Lead\", palette = 'Set1', col_wrap=2, size = 7)\n",
        "plot2.map(plt.hist, 'Avg_Account_Balance', bins=bins2, ec='k')\n",
        "\n",
        "plot2.add_legend()\n",
        "plt.show();"
      ],
      "metadata": {
        "id": "v7zcHoQ4KW5Y"
      },
      "execution_count": null,
      "outputs": []
    },
    {
      "cell_type": "code",
      "source": [
        "df['Avg_Account_Balance_log10'] = np.log10(df['Avg_Account_Balance'])\n",
        "\n",
        "sns.histplot(df['Avg_Account_Balance_log10'], kde = True);\n",
        "sns.histplot(df[df['Is_Lead'] == 1]['Avg_Account_Balance_log10'], kde = True, color=\"red\");\n",
        "sns.histplot(df[df['Is_Lead'] == 0]['Avg_Account_Balance_log10'], kde = True, color=\"green\");"
      ],
      "metadata": {
        "id": "xyioaOCOm-Hz"
      },
      "execution_count": null,
      "outputs": []
    },
    {
      "cell_type": "code",
      "source": [
        "print(np.var(target_AAB))\n",
        "\n",
        "print(np.var(non_target_AAB))"
      ],
      "metadata": {
        "colab": {
          "base_uri": "https://localhost:8080/"
        },
        "id": "ti1KQVwetHe6",
        "outputId": "70d2b22d-6c4b-420e-cd62-f3e49232b451"
      },
      "execution_count": null,
      "outputs": [
        {
          "output_type": "stream",
          "name": "stdout",
          "text": [
            "753058638202.9728\n",
            "715425557057.6074\n"
          ]
        }
      ]
    },
    {
      "cell_type": "code",
      "source": [
        "stats.ttest_ind(target_AAB, non_target_AAB)"
      ],
      "metadata": {
        "colab": {
          "base_uri": "https://localhost:8080/"
        },
        "id": "vmHUL_o37aHy",
        "outputId": "c5df07f4-0b45-4d7d-c77b-80fff46a6e8f"
      },
      "execution_count": null,
      "outputs": [
        {
          "output_type": "execute_result",
          "data": {
            "text/plain": [
              "Ttest_indResult(statistic=19.803560224508875, pvalue=3.3154586350694674e-87)"
            ]
          },
          "metadata": {},
          "execution_count": 23
        }
      ]
    },
    {
      "cell_type": "markdown",
      "source": [
        "H0 => µ1 = µ2\n",
        "\n",
        "귀무가설 : 관심있는 고객들의 평균 Avg_Account_Balance는 관심없는 고객의 평균 Avg_Account_Balance와 차이가 없을 것이다.\n",
        "\n",
        "HA => µ1 ≠µ2 \n",
        "\n",
        "대안가설 : 관심있는 고객들의 평균 Avg_Account_Balance가 관심없는 고객의 평균 Avg_Account_Balance보다 유의미하게 높을 것이다.\n",
        "\n",
        "신뢰도 95%\n",
        "\n",
        "p-value가 0.05보다 낮기 때문에 귀무가설을 기각하고 대안가설을 채택한다."
      ],
      "metadata": {
        "id": "3HcW9NCZ7Ou_"
      }
    },
    {
      "cell_type": "markdown",
      "source": [
        "가설 3\n",
        "\n",
        "특정 'Occupation'이 추천 신용카드에 관심있을 가능성이 유의미하게 높을 것이다."
      ],
      "metadata": {
        "id": "zi3T2T9Q7uEq"
      }
    },
    {
      "cell_type": "code",
      "source": [
        "target_customers[target_customers['Occupation'] == 'Other']"
      ],
      "metadata": {
        "colab": {
          "base_uri": "https://localhost:8080/",
          "height": 487
        },
        "id": "t_Fo3wbbhDUV",
        "outputId": "11758c0e-97f9-44de-ea6b-33f456bd0c17"
      },
      "execution_count": null,
      "outputs": [
        {
          "output_type": "execute_result",
          "data": {
            "text/plain": [
              "              ID  Gender  Age Region_Code Occupation Channel_Code  Vintage  \\\n",
              "16      CNGSPYWS  Female   46       RG268      Other           X3       97   \n",
              "17      VH7NBNNQ  Female   59       RG283      Other           X3       15   \n",
              "34      FXPTJYP7    Male   67       RG268      Other           X1       87   \n",
              "53      JLHDNBUG    Male   60       RG268      Other           X3      104   \n",
              "212     COJX7JA2    Male   50       RG254      Other           X3       45   \n",
              "...          ...     ...  ...         ...        ...          ...      ...   \n",
              "245538  GXCOCBZG    Male   56       RG283      Other           X3       14   \n",
              "245594  FQNSJGQT  Female   54       RG268      Other           X1       87   \n",
              "245622  XCAGPM7X    Male   67       RG277      Other           X3      110   \n",
              "245637  NNVMXGU7    Male   69       RG268      Other           X2       33   \n",
              "245693  NUTSCAQY  Female   52       RG273      Other           X3       74   \n",
              "\n",
              "       Credit_Product  Avg_Account_Balance Is_Active  Is_Lead  \n",
              "16                Yes              2282502        No        1  \n",
              "17                Yes              2384692        No        1  \n",
              "34                Yes              1684182        No        1  \n",
              "53                Yes              1681503        No        1  \n",
              "212                No              2019160       Yes        1  \n",
              "...               ...                  ...       ...      ...  \n",
              "245538            Yes              1251963        No        1  \n",
              "245594             No              1338017        No        1  \n",
              "245622            Yes               603838        No        1  \n",
              "245637            Yes               529781        No        1  \n",
              "245693            Yes              1122023       Yes        1  \n",
              "\n",
              "[9416 rows x 11 columns]"
            ],
            "text/html": [
              "\n",
              "  <div id=\"df-3e56b525-1f07-4cae-b319-e142f907c209\">\n",
              "    <div class=\"colab-df-container\">\n",
              "      <div>\n",
              "<style scoped>\n",
              "    .dataframe tbody tr th:only-of-type {\n",
              "        vertical-align: middle;\n",
              "    }\n",
              "\n",
              "    .dataframe tbody tr th {\n",
              "        vertical-align: top;\n",
              "    }\n",
              "\n",
              "    .dataframe thead th {\n",
              "        text-align: right;\n",
              "    }\n",
              "</style>\n",
              "<table border=\"1\" class=\"dataframe\">\n",
              "  <thead>\n",
              "    <tr style=\"text-align: right;\">\n",
              "      <th></th>\n",
              "      <th>ID</th>\n",
              "      <th>Gender</th>\n",
              "      <th>Age</th>\n",
              "      <th>Region_Code</th>\n",
              "      <th>Occupation</th>\n",
              "      <th>Channel_Code</th>\n",
              "      <th>Vintage</th>\n",
              "      <th>Credit_Product</th>\n",
              "      <th>Avg_Account_Balance</th>\n",
              "      <th>Is_Active</th>\n",
              "      <th>Is_Lead</th>\n",
              "    </tr>\n",
              "  </thead>\n",
              "  <tbody>\n",
              "    <tr>\n",
              "      <th>16</th>\n",
              "      <td>CNGSPYWS</td>\n",
              "      <td>Female</td>\n",
              "      <td>46</td>\n",
              "      <td>RG268</td>\n",
              "      <td>Other</td>\n",
              "      <td>X3</td>\n",
              "      <td>97</td>\n",
              "      <td>Yes</td>\n",
              "      <td>2282502</td>\n",
              "      <td>No</td>\n",
              "      <td>1</td>\n",
              "    </tr>\n",
              "    <tr>\n",
              "      <th>17</th>\n",
              "      <td>VH7NBNNQ</td>\n",
              "      <td>Female</td>\n",
              "      <td>59</td>\n",
              "      <td>RG283</td>\n",
              "      <td>Other</td>\n",
              "      <td>X3</td>\n",
              "      <td>15</td>\n",
              "      <td>Yes</td>\n",
              "      <td>2384692</td>\n",
              "      <td>No</td>\n",
              "      <td>1</td>\n",
              "    </tr>\n",
              "    <tr>\n",
              "      <th>34</th>\n",
              "      <td>FXPTJYP7</td>\n",
              "      <td>Male</td>\n",
              "      <td>67</td>\n",
              "      <td>RG268</td>\n",
              "      <td>Other</td>\n",
              "      <td>X1</td>\n",
              "      <td>87</td>\n",
              "      <td>Yes</td>\n",
              "      <td>1684182</td>\n",
              "      <td>No</td>\n",
              "      <td>1</td>\n",
              "    </tr>\n",
              "    <tr>\n",
              "      <th>53</th>\n",
              "      <td>JLHDNBUG</td>\n",
              "      <td>Male</td>\n",
              "      <td>60</td>\n",
              "      <td>RG268</td>\n",
              "      <td>Other</td>\n",
              "      <td>X3</td>\n",
              "      <td>104</td>\n",
              "      <td>Yes</td>\n",
              "      <td>1681503</td>\n",
              "      <td>No</td>\n",
              "      <td>1</td>\n",
              "    </tr>\n",
              "    <tr>\n",
              "      <th>212</th>\n",
              "      <td>COJX7JA2</td>\n",
              "      <td>Male</td>\n",
              "      <td>50</td>\n",
              "      <td>RG254</td>\n",
              "      <td>Other</td>\n",
              "      <td>X3</td>\n",
              "      <td>45</td>\n",
              "      <td>No</td>\n",
              "      <td>2019160</td>\n",
              "      <td>Yes</td>\n",
              "      <td>1</td>\n",
              "    </tr>\n",
              "    <tr>\n",
              "      <th>...</th>\n",
              "      <td>...</td>\n",
              "      <td>...</td>\n",
              "      <td>...</td>\n",
              "      <td>...</td>\n",
              "      <td>...</td>\n",
              "      <td>...</td>\n",
              "      <td>...</td>\n",
              "      <td>...</td>\n",
              "      <td>...</td>\n",
              "      <td>...</td>\n",
              "      <td>...</td>\n",
              "    </tr>\n",
              "    <tr>\n",
              "      <th>245538</th>\n",
              "      <td>GXCOCBZG</td>\n",
              "      <td>Male</td>\n",
              "      <td>56</td>\n",
              "      <td>RG283</td>\n",
              "      <td>Other</td>\n",
              "      <td>X3</td>\n",
              "      <td>14</td>\n",
              "      <td>Yes</td>\n",
              "      <td>1251963</td>\n",
              "      <td>No</td>\n",
              "      <td>1</td>\n",
              "    </tr>\n",
              "    <tr>\n",
              "      <th>245594</th>\n",
              "      <td>FQNSJGQT</td>\n",
              "      <td>Female</td>\n",
              "      <td>54</td>\n",
              "      <td>RG268</td>\n",
              "      <td>Other</td>\n",
              "      <td>X1</td>\n",
              "      <td>87</td>\n",
              "      <td>No</td>\n",
              "      <td>1338017</td>\n",
              "      <td>No</td>\n",
              "      <td>1</td>\n",
              "    </tr>\n",
              "    <tr>\n",
              "      <th>245622</th>\n",
              "      <td>XCAGPM7X</td>\n",
              "      <td>Male</td>\n",
              "      <td>67</td>\n",
              "      <td>RG277</td>\n",
              "      <td>Other</td>\n",
              "      <td>X3</td>\n",
              "      <td>110</td>\n",
              "      <td>Yes</td>\n",
              "      <td>603838</td>\n",
              "      <td>No</td>\n",
              "      <td>1</td>\n",
              "    </tr>\n",
              "    <tr>\n",
              "      <th>245637</th>\n",
              "      <td>NNVMXGU7</td>\n",
              "      <td>Male</td>\n",
              "      <td>69</td>\n",
              "      <td>RG268</td>\n",
              "      <td>Other</td>\n",
              "      <td>X2</td>\n",
              "      <td>33</td>\n",
              "      <td>Yes</td>\n",
              "      <td>529781</td>\n",
              "      <td>No</td>\n",
              "      <td>1</td>\n",
              "    </tr>\n",
              "    <tr>\n",
              "      <th>245693</th>\n",
              "      <td>NUTSCAQY</td>\n",
              "      <td>Female</td>\n",
              "      <td>52</td>\n",
              "      <td>RG273</td>\n",
              "      <td>Other</td>\n",
              "      <td>X3</td>\n",
              "      <td>74</td>\n",
              "      <td>Yes</td>\n",
              "      <td>1122023</td>\n",
              "      <td>Yes</td>\n",
              "      <td>1</td>\n",
              "    </tr>\n",
              "  </tbody>\n",
              "</table>\n",
              "<p>9416 rows × 11 columns</p>\n",
              "</div>\n",
              "      <button class=\"colab-df-convert\" onclick=\"convertToInteractive('df-3e56b525-1f07-4cae-b319-e142f907c209')\"\n",
              "              title=\"Convert this dataframe to an interactive table.\"\n",
              "              style=\"display:none;\">\n",
              "        \n",
              "  <svg xmlns=\"http://www.w3.org/2000/svg\" height=\"24px\"viewBox=\"0 0 24 24\"\n",
              "       width=\"24px\">\n",
              "    <path d=\"M0 0h24v24H0V0z\" fill=\"none\"/>\n",
              "    <path d=\"M18.56 5.44l.94 2.06.94-2.06 2.06-.94-2.06-.94-.94-2.06-.94 2.06-2.06.94zm-11 1L8.5 8.5l.94-2.06 2.06-.94-2.06-.94L8.5 2.5l-.94 2.06-2.06.94zm10 10l.94 2.06.94-2.06 2.06-.94-2.06-.94-.94-2.06-.94 2.06-2.06.94z\"/><path d=\"M17.41 7.96l-1.37-1.37c-.4-.4-.92-.59-1.43-.59-.52 0-1.04.2-1.43.59L10.3 9.45l-7.72 7.72c-.78.78-.78 2.05 0 2.83L4 21.41c.39.39.9.59 1.41.59.51 0 1.02-.2 1.41-.59l7.78-7.78 2.81-2.81c.8-.78.8-2.07 0-2.86zM5.41 20L4 18.59l7.72-7.72 1.47 1.35L5.41 20z\"/>\n",
              "  </svg>\n",
              "      </button>\n",
              "      \n",
              "  <style>\n",
              "    .colab-df-container {\n",
              "      display:flex;\n",
              "      flex-wrap:wrap;\n",
              "      gap: 12px;\n",
              "    }\n",
              "\n",
              "    .colab-df-convert {\n",
              "      background-color: #E8F0FE;\n",
              "      border: none;\n",
              "      border-radius: 50%;\n",
              "      cursor: pointer;\n",
              "      display: none;\n",
              "      fill: #1967D2;\n",
              "      height: 32px;\n",
              "      padding: 0 0 0 0;\n",
              "      width: 32px;\n",
              "    }\n",
              "\n",
              "    .colab-df-convert:hover {\n",
              "      background-color: #E2EBFA;\n",
              "      box-shadow: 0px 1px 2px rgba(60, 64, 67, 0.3), 0px 1px 3px 1px rgba(60, 64, 67, 0.15);\n",
              "      fill: #174EA6;\n",
              "    }\n",
              "\n",
              "    [theme=dark] .colab-df-convert {\n",
              "      background-color: #3B4455;\n",
              "      fill: #D2E3FC;\n",
              "    }\n",
              "\n",
              "    [theme=dark] .colab-df-convert:hover {\n",
              "      background-color: #434B5C;\n",
              "      box-shadow: 0px 1px 3px 1px rgba(0, 0, 0, 0.15);\n",
              "      filter: drop-shadow(0px 1px 2px rgba(0, 0, 0, 0.3));\n",
              "      fill: #FFFFFF;\n",
              "    }\n",
              "  </style>\n",
              "\n",
              "      <script>\n",
              "        const buttonEl =\n",
              "          document.querySelector('#df-3e56b525-1f07-4cae-b319-e142f907c209 button.colab-df-convert');\n",
              "        buttonEl.style.display =\n",
              "          google.colab.kernel.accessAllowed ? 'block' : 'none';\n",
              "\n",
              "        async function convertToInteractive(key) {\n",
              "          const element = document.querySelector('#df-3e56b525-1f07-4cae-b319-e142f907c209');\n",
              "          const dataTable =\n",
              "            await google.colab.kernel.invokeFunction('convertToInteractive',\n",
              "                                                     [key], {});\n",
              "          if (!dataTable) return;\n",
              "\n",
              "          const docLinkHtml = 'Like what you see? Visit the ' +\n",
              "            '<a target=\"_blank\" href=https://colab.research.google.com/notebooks/data_table.ipynb>data table notebook</a>'\n",
              "            + ' to learn more about interactive tables.';\n",
              "          element.innerHTML = '';\n",
              "          dataTable['output_type'] = 'display_data';\n",
              "          await google.colab.output.renderOutput(dataTable, element);\n",
              "          const docLink = document.createElement('div');\n",
              "          docLink.innerHTML = docLinkHtml;\n",
              "          element.appendChild(docLink);\n",
              "        }\n",
              "      </script>\n",
              "    </div>\n",
              "  </div>\n",
              "  "
            ]
          },
          "metadata": {},
          "execution_count": 44
        }
      ]
    },
    {
      "cell_type": "code",
      "source": [
        "target_Occupation = df[df['Is_Lead'] == 1]['Occupation']\n",
        "target_Occupation"
      ],
      "metadata": {
        "colab": {
          "base_uri": "https://localhost:8080/"
        },
        "id": "GqE4ZUlidsQe",
        "outputId": "c3f5e72e-c407-42a6-cd5e-965431798873"
      },
      "execution_count": null,
      "outputs": [
        {
          "output_type": "execute_result",
          "data": {
            "text/plain": [
              "16                Other\n",
              "17                Other\n",
              "20        Self_Employed\n",
              "29        Self_Employed\n",
              "34                Other\n",
              "              ...      \n",
              "245690    Self_Employed\n",
              "245693            Other\n",
              "245697         Salaried\n",
              "245709    Self_Employed\n",
              "245713    Self_Employed\n",
              "Name: Occupation, Length: 33313, dtype: object"
            ]
          },
          "metadata": {},
          "execution_count": 35
        }
      ]
    },
    {
      "cell_type": "code",
      "source": [
        "non_tareget_Occupation = df[df['Is_Lead'] == 0]['Occupation']\n",
        "non_tareget_Occupation"
      ],
      "metadata": {
        "colab": {
          "base_uri": "https://localhost:8080/"
        },
        "id": "Q5ivq-ixemG2",
        "outputId": "8095c44b-5210-4496-ffa7-17afa2c47d74"
      },
      "execution_count": null,
      "outputs": [
        {
          "output_type": "execute_result",
          "data": {
            "text/plain": [
              "0                 Other\n",
              "1              Salaried\n",
              "2         Self_Employed\n",
              "3              Salaried\n",
              "4              Salaried\n",
              "              ...      \n",
              "245719         Salaried\n",
              "245721         Salaried\n",
              "245722         Salaried\n",
              "245723         Salaried\n",
              "245724         Salaried\n",
              "Name: Occupation, Length: 183087, dtype: object"
            ]
          },
          "metadata": {},
          "execution_count": 37
        }
      ]
    },
    {
      "cell_type": "code",
      "source": [
        "plt.subplots(figsize= (15, 7))\n",
        "sns.countplot(x = 'Occupation', hue='Is_Lead', data=df);"
      ],
      "metadata": {
        "id": "dyA6HqpL7tXw"
      },
      "execution_count": null,
      "outputs": []
    },
    {
      "cell_type": "code",
      "source": [],
      "metadata": {
        "colab": {
          "base_uri": "https://localhost:8080/"
        },
        "id": "Lim7npFWdp_l",
        "outputId": "214f79ef-f7ea-46c6-a3aa-2b29284b34e6"
      },
      "execution_count": null,
      "outputs": [
        {
          "output_type": "execute_result",
          "data": {
            "text/plain": [
              "16            Other\n",
              "17            Other\n",
              "20    Self_Employed\n",
              "29    Self_Employed\n",
              "34            Other\n",
              "Name: Occupation, dtype: object"
            ]
          },
          "metadata": {},
          "execution_count": 40
        }
      ]
    }
  ]
}
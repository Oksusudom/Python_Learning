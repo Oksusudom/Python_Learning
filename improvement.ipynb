{
  "nbformat": 4,
  "nbformat_minor": 0,
  "metadata": {
    "colab": {
      "provenance": [],
      "include_colab_link": true
    },
    "kernelspec": {
      "name": "python3",
      "display_name": "Python 3"
    },
    "language_info": {
      "name": "python"
    }
  },
  "cells": [
    {
      "cell_type": "markdown",
      "metadata": {
        "id": "view-in-github",
        "colab_type": "text"
      },
      "source": [
        "<a href=\"https://colab.research.google.com/github/oksusudom/ML-Creadit-Card-Lead-Prediction/blob/main/improvement.ipynb\" target=\"_parent\"><img src=\"https://colab.research.google.com/assets/colab-badge.svg\" alt=\"Open In Colab\"/></a>"
      ]
    },
    {
      "cell_type": "code",
      "execution_count": 1,
      "metadata": {
        "colab": {
          "base_uri": "https://localhost:8080/"
        },
        "id": "eY58LA4bpnEq",
        "outputId": "563a1bda-3614-41f5-ea64-bc69d983d66a"
      },
      "outputs": [
        {
          "output_type": "stream",
          "name": "stdout",
          "text": [
            "Mounted at /content/drive\n"
          ]
        }
      ],
      "source": [
        "from google.colab import drive\n",
        "drive.mount('/content/drive')"
      ]
    },
    {
      "cell_type": "code",
      "source": [
        "!pip install category_encoders"
      ],
      "metadata": {
        "id": "2ueNaDyg2uJC"
      },
      "execution_count": null,
      "outputs": []
    },
    {
      "cell_type": "code",
      "source": [
        "import pandas as pd\n",
        "import numpy as np\n",
        "import seaborn as sns\n",
        "import matplotlib.pyplot as plt\n",
        "from scipy import stats\n",
        "from matplotlib import rcParams\n",
        "\n",
        "from sklearn.model_selection import train_test_split\n",
        "from sklearn.metrics import f1_score, accuracy_score, classification_report, roc_auc_score\n",
        "from category_encoders import OneHotEncoder\n",
        "from sklearn.preprocessing import StandardScaler\n",
        "from sklearn.linear_model import LogisticRegression\n",
        "from sklearn.ensemble import RandomForestClassifier\n",
        "from sklearn.tree import DecisionTreeClassifier\n",
        "from xgboost import XGBClassifier\n",
        "from sklearn.impute import SimpleImputer \n",
        "from sklearn.pipeline import make_pipeline\n",
        "\n",
        "from collections import Counter\n",
        "import warnings\n",
        "warnings.filterwarnings('ignore')"
      ],
      "metadata": {
        "id": "yIKHboalqFt2"
      },
      "execution_count": 19,
      "outputs": []
    },
    {
      "cell_type": "code",
      "source": [
        "# visualization options\n",
        "\n",
        "rcParams[\"figure.figsize\"] = (10,6)\n",
        "rcParams['font.family'] = 'monospace'\n",
        "rcParams['font.style'] = 'normal'\n",
        "rcParams['axes.grid'] = True\n",
        "rcParams['axes.axisbelow'] = True\n",
        "rcParams['grid.linestyle'] = ':'\n",
        "rcParams['grid.linewidth'] = 0.2\n",
        "\n",
        "sns.set_context('poster', font_scale=0.5)"
      ],
      "metadata": {
        "id": "qOZTuHwbejkX"
      },
      "execution_count": 5,
      "outputs": []
    },
    {
      "cell_type": "code",
      "source": [
        "train_df = pd.read_csv('/content/drive/MyDrive/URCLASS/Section2_Project/credit card/train.csv')\n",
        "test_df = pd.read_csv('/content/drive/MyDrive/URCLASS/Section2_Project/credit card/test.csv')"
      ],
      "metadata": {
        "id": "B0bX1uH_0sBB"
      },
      "execution_count": 6,
      "outputs": []
    },
    {
      "cell_type": "code",
      "source": [
        "train_df"
      ],
      "metadata": {
        "id": "AJbbWDXRrM9W",
        "colab": {
          "base_uri": "https://localhost:8080/",
          "height": 424
        },
        "outputId": "60d52502-a74f-468c-c37a-a2b7fec67212"
      },
      "execution_count": 6,
      "outputs": [
        {
          "output_type": "execute_result",
          "data": {
            "text/plain": [
              "              ID  Gender  Age Region_Code     Occupation Channel_Code  \\\n",
              "0       NNVBBKZB  Female   73       RG268          Other           X3   \n",
              "1       IDD62UNG  Female   30       RG277       Salaried           X1   \n",
              "2       HD3DSEMC  Female   56       RG268  Self_Employed           X3   \n",
              "3       BF3NC7KV    Male   34       RG270       Salaried           X1   \n",
              "4       TEASRWXV  Female   30       RG282       Salaried           X1   \n",
              "...          ...     ...  ...         ...            ...          ...   \n",
              "245720  BPAWWXZN    Male   51       RG284  Self_Employed           X3   \n",
              "245721  HFNB7JY8    Male   27       RG268       Salaried           X1   \n",
              "245722  GEHAUCWT  Female   26       RG281       Salaried           X1   \n",
              "245723  GE7V8SAH  Female   28       RG273       Salaried           X1   \n",
              "245724  BOCZSWLJ    Male   29       RG269       Salaried           X1   \n",
              "\n",
              "        Vintage Credit_Product  Avg_Account_Balance Is_Active  Is_Lead  \n",
              "0            43             No              1045696        No        0  \n",
              "1            32             No               581988        No        0  \n",
              "2            26             No              1484315       Yes        0  \n",
              "3            19             No               470454        No        0  \n",
              "4            33             No               886787        No        0  \n",
              "...         ...            ...                  ...       ...      ...  \n",
              "245720      109            NaN              1925586        No        0  \n",
              "245721       15             No               862952       Yes        0  \n",
              "245722       13             No               670659        No        0  \n",
              "245723       31             No               407504        No        0  \n",
              "245724       21             No              1129276        No        0  \n",
              "\n",
              "[245725 rows x 11 columns]"
            ],
            "text/html": [
              "\n",
              "  <div id=\"df-9414981f-3cfc-40c3-9262-dab27ec4a8ef\">\n",
              "    <div class=\"colab-df-container\">\n",
              "      <div>\n",
              "<style scoped>\n",
              "    .dataframe tbody tr th:only-of-type {\n",
              "        vertical-align: middle;\n",
              "    }\n",
              "\n",
              "    .dataframe tbody tr th {\n",
              "        vertical-align: top;\n",
              "    }\n",
              "\n",
              "    .dataframe thead th {\n",
              "        text-align: right;\n",
              "    }\n",
              "</style>\n",
              "<table border=\"1\" class=\"dataframe\">\n",
              "  <thead>\n",
              "    <tr style=\"text-align: right;\">\n",
              "      <th></th>\n",
              "      <th>ID</th>\n",
              "      <th>Gender</th>\n",
              "      <th>Age</th>\n",
              "      <th>Region_Code</th>\n",
              "      <th>Occupation</th>\n",
              "      <th>Channel_Code</th>\n",
              "      <th>Vintage</th>\n",
              "      <th>Credit_Product</th>\n",
              "      <th>Avg_Account_Balance</th>\n",
              "      <th>Is_Active</th>\n",
              "      <th>Is_Lead</th>\n",
              "    </tr>\n",
              "  </thead>\n",
              "  <tbody>\n",
              "    <tr>\n",
              "      <th>0</th>\n",
              "      <td>NNVBBKZB</td>\n",
              "      <td>Female</td>\n",
              "      <td>73</td>\n",
              "      <td>RG268</td>\n",
              "      <td>Other</td>\n",
              "      <td>X3</td>\n",
              "      <td>43</td>\n",
              "      <td>No</td>\n",
              "      <td>1045696</td>\n",
              "      <td>No</td>\n",
              "      <td>0</td>\n",
              "    </tr>\n",
              "    <tr>\n",
              "      <th>1</th>\n",
              "      <td>IDD62UNG</td>\n",
              "      <td>Female</td>\n",
              "      <td>30</td>\n",
              "      <td>RG277</td>\n",
              "      <td>Salaried</td>\n",
              "      <td>X1</td>\n",
              "      <td>32</td>\n",
              "      <td>No</td>\n",
              "      <td>581988</td>\n",
              "      <td>No</td>\n",
              "      <td>0</td>\n",
              "    </tr>\n",
              "    <tr>\n",
              "      <th>2</th>\n",
              "      <td>HD3DSEMC</td>\n",
              "      <td>Female</td>\n",
              "      <td>56</td>\n",
              "      <td>RG268</td>\n",
              "      <td>Self_Employed</td>\n",
              "      <td>X3</td>\n",
              "      <td>26</td>\n",
              "      <td>No</td>\n",
              "      <td>1484315</td>\n",
              "      <td>Yes</td>\n",
              "      <td>0</td>\n",
              "    </tr>\n",
              "    <tr>\n",
              "      <th>3</th>\n",
              "      <td>BF3NC7KV</td>\n",
              "      <td>Male</td>\n",
              "      <td>34</td>\n",
              "      <td>RG270</td>\n",
              "      <td>Salaried</td>\n",
              "      <td>X1</td>\n",
              "      <td>19</td>\n",
              "      <td>No</td>\n",
              "      <td>470454</td>\n",
              "      <td>No</td>\n",
              "      <td>0</td>\n",
              "    </tr>\n",
              "    <tr>\n",
              "      <th>4</th>\n",
              "      <td>TEASRWXV</td>\n",
              "      <td>Female</td>\n",
              "      <td>30</td>\n",
              "      <td>RG282</td>\n",
              "      <td>Salaried</td>\n",
              "      <td>X1</td>\n",
              "      <td>33</td>\n",
              "      <td>No</td>\n",
              "      <td>886787</td>\n",
              "      <td>No</td>\n",
              "      <td>0</td>\n",
              "    </tr>\n",
              "    <tr>\n",
              "      <th>...</th>\n",
              "      <td>...</td>\n",
              "      <td>...</td>\n",
              "      <td>...</td>\n",
              "      <td>...</td>\n",
              "      <td>...</td>\n",
              "      <td>...</td>\n",
              "      <td>...</td>\n",
              "      <td>...</td>\n",
              "      <td>...</td>\n",
              "      <td>...</td>\n",
              "      <td>...</td>\n",
              "    </tr>\n",
              "    <tr>\n",
              "      <th>245720</th>\n",
              "      <td>BPAWWXZN</td>\n",
              "      <td>Male</td>\n",
              "      <td>51</td>\n",
              "      <td>RG284</td>\n",
              "      <td>Self_Employed</td>\n",
              "      <td>X3</td>\n",
              "      <td>109</td>\n",
              "      <td>NaN</td>\n",
              "      <td>1925586</td>\n",
              "      <td>No</td>\n",
              "      <td>0</td>\n",
              "    </tr>\n",
              "    <tr>\n",
              "      <th>245721</th>\n",
              "      <td>HFNB7JY8</td>\n",
              "      <td>Male</td>\n",
              "      <td>27</td>\n",
              "      <td>RG268</td>\n",
              "      <td>Salaried</td>\n",
              "      <td>X1</td>\n",
              "      <td>15</td>\n",
              "      <td>No</td>\n",
              "      <td>862952</td>\n",
              "      <td>Yes</td>\n",
              "      <td>0</td>\n",
              "    </tr>\n",
              "    <tr>\n",
              "      <th>245722</th>\n",
              "      <td>GEHAUCWT</td>\n",
              "      <td>Female</td>\n",
              "      <td>26</td>\n",
              "      <td>RG281</td>\n",
              "      <td>Salaried</td>\n",
              "      <td>X1</td>\n",
              "      <td>13</td>\n",
              "      <td>No</td>\n",
              "      <td>670659</td>\n",
              "      <td>No</td>\n",
              "      <td>0</td>\n",
              "    </tr>\n",
              "    <tr>\n",
              "      <th>245723</th>\n",
              "      <td>GE7V8SAH</td>\n",
              "      <td>Female</td>\n",
              "      <td>28</td>\n",
              "      <td>RG273</td>\n",
              "      <td>Salaried</td>\n",
              "      <td>X1</td>\n",
              "      <td>31</td>\n",
              "      <td>No</td>\n",
              "      <td>407504</td>\n",
              "      <td>No</td>\n",
              "      <td>0</td>\n",
              "    </tr>\n",
              "    <tr>\n",
              "      <th>245724</th>\n",
              "      <td>BOCZSWLJ</td>\n",
              "      <td>Male</td>\n",
              "      <td>29</td>\n",
              "      <td>RG269</td>\n",
              "      <td>Salaried</td>\n",
              "      <td>X1</td>\n",
              "      <td>21</td>\n",
              "      <td>No</td>\n",
              "      <td>1129276</td>\n",
              "      <td>No</td>\n",
              "      <td>0</td>\n",
              "    </tr>\n",
              "  </tbody>\n",
              "</table>\n",
              "<p>245725 rows × 11 columns</p>\n",
              "</div>\n",
              "      <button class=\"colab-df-convert\" onclick=\"convertToInteractive('df-9414981f-3cfc-40c3-9262-dab27ec4a8ef')\"\n",
              "              title=\"Convert this dataframe to an interactive table.\"\n",
              "              style=\"display:none;\">\n",
              "        \n",
              "  <svg xmlns=\"http://www.w3.org/2000/svg\" height=\"24px\"viewBox=\"0 0 24 24\"\n",
              "       width=\"24px\">\n",
              "    <path d=\"M0 0h24v24H0V0z\" fill=\"none\"/>\n",
              "    <path d=\"M18.56 5.44l.94 2.06.94-2.06 2.06-.94-2.06-.94-.94-2.06-.94 2.06-2.06.94zm-11 1L8.5 8.5l.94-2.06 2.06-.94-2.06-.94L8.5 2.5l-.94 2.06-2.06.94zm10 10l.94 2.06.94-2.06 2.06-.94-2.06-.94-.94-2.06-.94 2.06-2.06.94z\"/><path d=\"M17.41 7.96l-1.37-1.37c-.4-.4-.92-.59-1.43-.59-.52 0-1.04.2-1.43.59L10.3 9.45l-7.72 7.72c-.78.78-.78 2.05 0 2.83L4 21.41c.39.39.9.59 1.41.59.51 0 1.02-.2 1.41-.59l7.78-7.78 2.81-2.81c.8-.78.8-2.07 0-2.86zM5.41 20L4 18.59l7.72-7.72 1.47 1.35L5.41 20z\"/>\n",
              "  </svg>\n",
              "      </button>\n",
              "      \n",
              "  <style>\n",
              "    .colab-df-container {\n",
              "      display:flex;\n",
              "      flex-wrap:wrap;\n",
              "      gap: 12px;\n",
              "    }\n",
              "\n",
              "    .colab-df-convert {\n",
              "      background-color: #E8F0FE;\n",
              "      border: none;\n",
              "      border-radius: 50%;\n",
              "      cursor: pointer;\n",
              "      display: none;\n",
              "      fill: #1967D2;\n",
              "      height: 32px;\n",
              "      padding: 0 0 0 0;\n",
              "      width: 32px;\n",
              "    }\n",
              "\n",
              "    .colab-df-convert:hover {\n",
              "      background-color: #E2EBFA;\n",
              "      box-shadow: 0px 1px 2px rgba(60, 64, 67, 0.3), 0px 1px 3px 1px rgba(60, 64, 67, 0.15);\n",
              "      fill: #174EA6;\n",
              "    }\n",
              "\n",
              "    [theme=dark] .colab-df-convert {\n",
              "      background-color: #3B4455;\n",
              "      fill: #D2E3FC;\n",
              "    }\n",
              "\n",
              "    [theme=dark] .colab-df-convert:hover {\n",
              "      background-color: #434B5C;\n",
              "      box-shadow: 0px 1px 3px 1px rgba(0, 0, 0, 0.15);\n",
              "      filter: drop-shadow(0px 1px 2px rgba(0, 0, 0, 0.3));\n",
              "      fill: #FFFFFF;\n",
              "    }\n",
              "  </style>\n",
              "\n",
              "      <script>\n",
              "        const buttonEl =\n",
              "          document.querySelector('#df-9414981f-3cfc-40c3-9262-dab27ec4a8ef button.colab-df-convert');\n",
              "        buttonEl.style.display =\n",
              "          google.colab.kernel.accessAllowed ? 'block' : 'none';\n",
              "\n",
              "        async function convertToInteractive(key) {\n",
              "          const element = document.querySelector('#df-9414981f-3cfc-40c3-9262-dab27ec4a8ef');\n",
              "          const dataTable =\n",
              "            await google.colab.kernel.invokeFunction('convertToInteractive',\n",
              "                                                     [key], {});\n",
              "          if (!dataTable) return;\n",
              "\n",
              "          const docLinkHtml = 'Like what you see? Visit the ' +\n",
              "            '<a target=\"_blank\" href=https://colab.research.google.com/notebooks/data_table.ipynb>data table notebook</a>'\n",
              "            + ' to learn more about interactive tables.';\n",
              "          element.innerHTML = '';\n",
              "          dataTable['output_type'] = 'display_data';\n",
              "          await google.colab.output.renderOutput(dataTable, element);\n",
              "          const docLink = document.createElement('div');\n",
              "          docLink.innerHTML = docLinkHtml;\n",
              "          element.appendChild(docLink);\n",
              "        }\n",
              "      </script>\n",
              "    </div>\n",
              "  </div>\n",
              "  "
            ]
          },
          "metadata": {},
          "execution_count": 6
        }
      ]
    },
    {
      "cell_type": "code",
      "source": [
        "test_df"
      ],
      "metadata": {
        "id": "RIH0EHOJyiZL",
        "outputId": "e156de24-7d6a-492d-8021-90eb15afc8ef",
        "colab": {
          "base_uri": "https://localhost:8080/",
          "height": 424
        }
      },
      "execution_count": 11,
      "outputs": [
        {
          "output_type": "execute_result",
          "data": {
            "text/plain": [
              "        Gender  Age Region_Code Occupation Channel_Code  Vintage  \\\n",
              "0         Male   29       RG254      Other           X1       25   \n",
              "1         Male   43       RG268      Other           X2       49   \n",
              "2         Male   31       RG270   Salaried           X1       14   \n",
              "3         Male   29       RG272      Other           X1       33   \n",
              "4       Female   29       RG270      Other           X1       19   \n",
              "...        ...  ...         ...        ...          ...      ...   \n",
              "105307    Male   52       RG268   Salaried           X2       86   \n",
              "105308    Male   55       RG277      Other           X2       86   \n",
              "105309    Male   35       RG254   Salaried           X4       15   \n",
              "105310    Male   53       RG254      Other           X3       93   \n",
              "105311    Male   27       RG256   Salaried           X1       21   \n",
              "\n",
              "       Credit_Product  Avg_Account_Balance Is_Active  \n",
              "0                 Yes               742366        No  \n",
              "1                 NaN               925537        No  \n",
              "2                  No               215949        No  \n",
              "3                  No               868070        No  \n",
              "4                  No               657087        No  \n",
              "...               ...                  ...       ...  \n",
              "105307            Yes              4242558       Yes  \n",
              "105308            Yes              1159153        No  \n",
              "105309             No              1703727        No  \n",
              "105310             No               737178       Yes  \n",
              "105311             No               591565        No  \n",
              "\n",
              "[105312 rows x 9 columns]"
            ],
            "text/html": [
              "\n",
              "  <div id=\"df-85a9d250-bc3b-419b-9d61-ac4cf9e12a44\">\n",
              "    <div class=\"colab-df-container\">\n",
              "      <div>\n",
              "<style scoped>\n",
              "    .dataframe tbody tr th:only-of-type {\n",
              "        vertical-align: middle;\n",
              "    }\n",
              "\n",
              "    .dataframe tbody tr th {\n",
              "        vertical-align: top;\n",
              "    }\n",
              "\n",
              "    .dataframe thead th {\n",
              "        text-align: right;\n",
              "    }\n",
              "</style>\n",
              "<table border=\"1\" class=\"dataframe\">\n",
              "  <thead>\n",
              "    <tr style=\"text-align: right;\">\n",
              "      <th></th>\n",
              "      <th>Gender</th>\n",
              "      <th>Age</th>\n",
              "      <th>Region_Code</th>\n",
              "      <th>Occupation</th>\n",
              "      <th>Channel_Code</th>\n",
              "      <th>Vintage</th>\n",
              "      <th>Credit_Product</th>\n",
              "      <th>Avg_Account_Balance</th>\n",
              "      <th>Is_Active</th>\n",
              "    </tr>\n",
              "  </thead>\n",
              "  <tbody>\n",
              "    <tr>\n",
              "      <th>0</th>\n",
              "      <td>Male</td>\n",
              "      <td>29</td>\n",
              "      <td>RG254</td>\n",
              "      <td>Other</td>\n",
              "      <td>X1</td>\n",
              "      <td>25</td>\n",
              "      <td>Yes</td>\n",
              "      <td>742366</td>\n",
              "      <td>No</td>\n",
              "    </tr>\n",
              "    <tr>\n",
              "      <th>1</th>\n",
              "      <td>Male</td>\n",
              "      <td>43</td>\n",
              "      <td>RG268</td>\n",
              "      <td>Other</td>\n",
              "      <td>X2</td>\n",
              "      <td>49</td>\n",
              "      <td>NaN</td>\n",
              "      <td>925537</td>\n",
              "      <td>No</td>\n",
              "    </tr>\n",
              "    <tr>\n",
              "      <th>2</th>\n",
              "      <td>Male</td>\n",
              "      <td>31</td>\n",
              "      <td>RG270</td>\n",
              "      <td>Salaried</td>\n",
              "      <td>X1</td>\n",
              "      <td>14</td>\n",
              "      <td>No</td>\n",
              "      <td>215949</td>\n",
              "      <td>No</td>\n",
              "    </tr>\n",
              "    <tr>\n",
              "      <th>3</th>\n",
              "      <td>Male</td>\n",
              "      <td>29</td>\n",
              "      <td>RG272</td>\n",
              "      <td>Other</td>\n",
              "      <td>X1</td>\n",
              "      <td>33</td>\n",
              "      <td>No</td>\n",
              "      <td>868070</td>\n",
              "      <td>No</td>\n",
              "    </tr>\n",
              "    <tr>\n",
              "      <th>4</th>\n",
              "      <td>Female</td>\n",
              "      <td>29</td>\n",
              "      <td>RG270</td>\n",
              "      <td>Other</td>\n",
              "      <td>X1</td>\n",
              "      <td>19</td>\n",
              "      <td>No</td>\n",
              "      <td>657087</td>\n",
              "      <td>No</td>\n",
              "    </tr>\n",
              "    <tr>\n",
              "      <th>...</th>\n",
              "      <td>...</td>\n",
              "      <td>...</td>\n",
              "      <td>...</td>\n",
              "      <td>...</td>\n",
              "      <td>...</td>\n",
              "      <td>...</td>\n",
              "      <td>...</td>\n",
              "      <td>...</td>\n",
              "      <td>...</td>\n",
              "    </tr>\n",
              "    <tr>\n",
              "      <th>105307</th>\n",
              "      <td>Male</td>\n",
              "      <td>52</td>\n",
              "      <td>RG268</td>\n",
              "      <td>Salaried</td>\n",
              "      <td>X2</td>\n",
              "      <td>86</td>\n",
              "      <td>Yes</td>\n",
              "      <td>4242558</td>\n",
              "      <td>Yes</td>\n",
              "    </tr>\n",
              "    <tr>\n",
              "      <th>105308</th>\n",
              "      <td>Male</td>\n",
              "      <td>55</td>\n",
              "      <td>RG277</td>\n",
              "      <td>Other</td>\n",
              "      <td>X2</td>\n",
              "      <td>86</td>\n",
              "      <td>Yes</td>\n",
              "      <td>1159153</td>\n",
              "      <td>No</td>\n",
              "    </tr>\n",
              "    <tr>\n",
              "      <th>105309</th>\n",
              "      <td>Male</td>\n",
              "      <td>35</td>\n",
              "      <td>RG254</td>\n",
              "      <td>Salaried</td>\n",
              "      <td>X4</td>\n",
              "      <td>15</td>\n",
              "      <td>No</td>\n",
              "      <td>1703727</td>\n",
              "      <td>No</td>\n",
              "    </tr>\n",
              "    <tr>\n",
              "      <th>105310</th>\n",
              "      <td>Male</td>\n",
              "      <td>53</td>\n",
              "      <td>RG254</td>\n",
              "      <td>Other</td>\n",
              "      <td>X3</td>\n",
              "      <td>93</td>\n",
              "      <td>No</td>\n",
              "      <td>737178</td>\n",
              "      <td>Yes</td>\n",
              "    </tr>\n",
              "    <tr>\n",
              "      <th>105311</th>\n",
              "      <td>Male</td>\n",
              "      <td>27</td>\n",
              "      <td>RG256</td>\n",
              "      <td>Salaried</td>\n",
              "      <td>X1</td>\n",
              "      <td>21</td>\n",
              "      <td>No</td>\n",
              "      <td>591565</td>\n",
              "      <td>No</td>\n",
              "    </tr>\n",
              "  </tbody>\n",
              "</table>\n",
              "<p>105312 rows × 9 columns</p>\n",
              "</div>\n",
              "      <button class=\"colab-df-convert\" onclick=\"convertToInteractive('df-85a9d250-bc3b-419b-9d61-ac4cf9e12a44')\"\n",
              "              title=\"Convert this dataframe to an interactive table.\"\n",
              "              style=\"display:none;\">\n",
              "        \n",
              "  <svg xmlns=\"http://www.w3.org/2000/svg\" height=\"24px\"viewBox=\"0 0 24 24\"\n",
              "       width=\"24px\">\n",
              "    <path d=\"M0 0h24v24H0V0z\" fill=\"none\"/>\n",
              "    <path d=\"M18.56 5.44l.94 2.06.94-2.06 2.06-.94-2.06-.94-.94-2.06-.94 2.06-2.06.94zm-11 1L8.5 8.5l.94-2.06 2.06-.94-2.06-.94L8.5 2.5l-.94 2.06-2.06.94zm10 10l.94 2.06.94-2.06 2.06-.94-2.06-.94-.94-2.06-.94 2.06-2.06.94z\"/><path d=\"M17.41 7.96l-1.37-1.37c-.4-.4-.92-.59-1.43-.59-.52 0-1.04.2-1.43.59L10.3 9.45l-7.72 7.72c-.78.78-.78 2.05 0 2.83L4 21.41c.39.39.9.59 1.41.59.51 0 1.02-.2 1.41-.59l7.78-7.78 2.81-2.81c.8-.78.8-2.07 0-2.86zM5.41 20L4 18.59l7.72-7.72 1.47 1.35L5.41 20z\"/>\n",
              "  </svg>\n",
              "      </button>\n",
              "      \n",
              "  <style>\n",
              "    .colab-df-container {\n",
              "      display:flex;\n",
              "      flex-wrap:wrap;\n",
              "      gap: 12px;\n",
              "    }\n",
              "\n",
              "    .colab-df-convert {\n",
              "      background-color: #E8F0FE;\n",
              "      border: none;\n",
              "      border-radius: 50%;\n",
              "      cursor: pointer;\n",
              "      display: none;\n",
              "      fill: #1967D2;\n",
              "      height: 32px;\n",
              "      padding: 0 0 0 0;\n",
              "      width: 32px;\n",
              "    }\n",
              "\n",
              "    .colab-df-convert:hover {\n",
              "      background-color: #E2EBFA;\n",
              "      box-shadow: 0px 1px 2px rgba(60, 64, 67, 0.3), 0px 1px 3px 1px rgba(60, 64, 67, 0.15);\n",
              "      fill: #174EA6;\n",
              "    }\n",
              "\n",
              "    [theme=dark] .colab-df-convert {\n",
              "      background-color: #3B4455;\n",
              "      fill: #D2E3FC;\n",
              "    }\n",
              "\n",
              "    [theme=dark] .colab-df-convert:hover {\n",
              "      background-color: #434B5C;\n",
              "      box-shadow: 0px 1px 3px 1px rgba(0, 0, 0, 0.15);\n",
              "      filter: drop-shadow(0px 1px 2px rgba(0, 0, 0, 0.3));\n",
              "      fill: #FFFFFF;\n",
              "    }\n",
              "  </style>\n",
              "\n",
              "      <script>\n",
              "        const buttonEl =\n",
              "          document.querySelector('#df-85a9d250-bc3b-419b-9d61-ac4cf9e12a44 button.colab-df-convert');\n",
              "        buttonEl.style.display =\n",
              "          google.colab.kernel.accessAllowed ? 'block' : 'none';\n",
              "\n",
              "        async function convertToInteractive(key) {\n",
              "          const element = document.querySelector('#df-85a9d250-bc3b-419b-9d61-ac4cf9e12a44');\n",
              "          const dataTable =\n",
              "            await google.colab.kernel.invokeFunction('convertToInteractive',\n",
              "                                                     [key], {});\n",
              "          if (!dataTable) return;\n",
              "\n",
              "          const docLinkHtml = 'Like what you see? Visit the ' +\n",
              "            '<a target=\"_blank\" href=https://colab.research.google.com/notebooks/data_table.ipynb>data table notebook</a>'\n",
              "            + ' to learn more about interactive tables.';\n",
              "          element.innerHTML = '';\n",
              "          dataTable['output_type'] = 'display_data';\n",
              "          await google.colab.output.renderOutput(dataTable, element);\n",
              "          const docLink = document.createElement('div');\n",
              "          docLink.innerHTML = docLinkHtml;\n",
              "          element.appendChild(docLink);\n",
              "        }\n",
              "      </script>\n",
              "    </div>\n",
              "  </div>\n",
              "  "
            ]
          },
          "metadata": {},
          "execution_count": 11
        }
      ]
    },
    {
      "cell_type": "code",
      "source": [
        "# Is_Lead => 0 = No, 1 = Yes\n",
        "target = 'Is_Lead'"
      ],
      "metadata": {
        "id": "UKHwMmbq4e5R"
      },
      "execution_count": 7,
      "outputs": []
    },
    {
      "cell_type": "code",
      "source": [
        "# 타겟 데이터 범주의 비율 확인\n",
        "y_train = train_df[target]\n",
        "y_train.value_counts(normalize=True)"
      ],
      "metadata": {
        "id": "ulokb0B85KWK",
        "outputId": "811bdccb-acdb-4045-d67e-dbe34116023c",
        "colab": {
          "base_uri": "https://localhost:8080/"
        }
      },
      "execution_count": 8,
      "outputs": [
        {
          "output_type": "execute_result",
          "data": {
            "text/plain": [
              "0    0.762792\n",
              "1    0.237208\n",
              "Name: Is_Lead, dtype: float64"
            ]
          },
          "metadata": {},
          "execution_count": 8
        }
      ]
    },
    {
      "cell_type": "code",
      "source": [
        "# Target 데이터 분포 확인\n",
        "\n",
        "sns.countplot(x = y_train);\n",
        "\n",
        "# imbalanced 확인"
      ],
      "metadata": {
        "colab": {
          "base_uri": "https://localhost:8080/",
          "height": 400
        },
        "id": "jVe1BNAhc6NW",
        "outputId": "db3d6f21-1642-4f0e-a62d-9e6505ab682c"
      },
      "execution_count": 9,
      "outputs": [
        {
          "output_type": "display_data",
          "data": {
            "text/plain": [
              "<Figure size 720x432 with 1 Axes>"
            ],
            "image/png": "[encoded data removed]"
          },
          "metadata": {
            "needs_background": "light"
          }
        }
      ]
    },
    {
      "cell_type": "code",
      "source": [
        "# Credit_Product에서 결측치 확인 -> 뒤에서 처리\n",
        "train_df.isnull().sum()"
      ],
      "metadata": {
        "colab": {
          "base_uri": "https://localhost:8080/"
        },
        "id": "2dKfpf9Lxu8N",
        "outputId": "e2041c5a-11bc-4fff-bc6b-ac5da5c6acea"
      },
      "execution_count": 12,
      "outputs": [
        {
          "output_type": "execute_result",
          "data": {
            "text/plain": [
              "ID                         0\n",
              "Gender                     0\n",
              "Age                        0\n",
              "Region_Code                0\n",
              "Occupation                 0\n",
              "Channel_Code               0\n",
              "Vintage                    0\n",
              "Credit_Product         29325\n",
              "Avg_Account_Balance        0\n",
              "Is_Active                  0\n",
              "Is_Lead                    0\n",
              "dtype: int64"
            ]
          },
          "metadata": {},
          "execution_count": 12
        }
      ]
    },
    {
      "cell_type": "code",
      "source": [
        "# 불필요한 ID column 삭제\n",
        "train_df = train_df.drop(['ID'],axis=1)\n",
        "test_df = test_df.drop(['ID'], axis=1)\n",
        "\n",
        "train_df"
      ],
      "metadata": {
        "colab": {
          "base_uri": "https://localhost:8080/",
          "height": 424
        },
        "id": "RKU8uBI_3ez1",
        "outputId": "6b0503fe-df72-4270-9795-6febffc2a7d1"
      },
      "execution_count": 9,
      "outputs": [
        {
          "output_type": "execute_result",
          "data": {
            "text/plain": [
              "        Gender  Age Region_Code     Occupation Channel_Code  Vintage  \\\n",
              "0       Female   73       RG268          Other           X3       43   \n",
              "1       Female   30       RG277       Salaried           X1       32   \n",
              "2       Female   56       RG268  Self_Employed           X3       26   \n",
              "3         Male   34       RG270       Salaried           X1       19   \n",
              "4       Female   30       RG282       Salaried           X1       33   \n",
              "...        ...  ...         ...            ...          ...      ...   \n",
              "245720    Male   51       RG284  Self_Employed           X3      109   \n",
              "245721    Male   27       RG268       Salaried           X1       15   \n",
              "245722  Female   26       RG281       Salaried           X1       13   \n",
              "245723  Female   28       RG273       Salaried           X1       31   \n",
              "245724    Male   29       RG269       Salaried           X1       21   \n",
              "\n",
              "       Credit_Product  Avg_Account_Balance Is_Active  Is_Lead  \n",
              "0                  No              1045696        No        0  \n",
              "1                  No               581988        No        0  \n",
              "2                  No              1484315       Yes        0  \n",
              "3                  No               470454        No        0  \n",
              "4                  No               886787        No        0  \n",
              "...               ...                  ...       ...      ...  \n",
              "245720            NaN              1925586        No        0  \n",
              "245721             No               862952       Yes        0  \n",
              "245722             No               670659        No        0  \n",
              "245723             No               407504        No        0  \n",
              "245724             No              1129276        No        0  \n",
              "\n",
              "[245725 rows x 10 columns]"
            ],
            "text/html": [
              "\n",
              "  <div id=\"df-1f8544cf-b6c8-4b80-a1c6-6be283f814ba\">\n",
              "    <div class=\"colab-df-container\">\n",
              "      <div>\n",
              "<style scoped>\n",
              "    .dataframe tbody tr th:only-of-type {\n",
              "        vertical-align: middle;\n",
              "    }\n",
              "\n",
              "    .dataframe tbody tr th {\n",
              "        vertical-align: top;\n",
              "    }\n",
              "\n",
              "    .dataframe thead th {\n",
              "        text-align: right;\n",
              "    }\n",
              "</style>\n",
              "<table border=\"1\" class=\"dataframe\">\n",
              "  <thead>\n",
              "    <tr style=\"text-align: right;\">\n",
              "      <th></th>\n",
              "      <th>Gender</th>\n",
              "      <th>Age</th>\n",
              "      <th>Region_Code</th>\n",
              "      <th>Occupation</th>\n",
              "      <th>Channel_Code</th>\n",
              "      <th>Vintage</th>\n",
              "      <th>Credit_Product</th>\n",
              "      <th>Avg_Account_Balance</th>\n",
              "      <th>Is_Active</th>\n",
              "      <th>Is_Lead</th>\n",
              "    </tr>\n",
              "  </thead>\n",
              "  <tbody>\n",
              "    <tr>\n",
              "      <th>0</th>\n",
              "      <td>Female</td>\n",
              "      <td>73</td>\n",
              "      <td>RG268</td>\n",
              "      <td>Other</td>\n",
              "      <td>X3</td>\n",
              "      <td>43</td>\n",
              "      <td>No</td>\n",
              "      <td>1045696</td>\n",
              "      <td>No</td>\n",
              "      <td>0</td>\n",
              "    </tr>\n",
              "    <tr>\n",
              "      <th>1</th>\n",
              "      <td>Female</td>\n",
              "      <td>30</td>\n",
              "      <td>RG277</td>\n",
              "      <td>Salaried</td>\n",
              "      <td>X1</td>\n",
              "      <td>32</td>\n",
              "      <td>No</td>\n",
              "      <td>581988</td>\n",
              "      <td>No</td>\n",
              "      <td>0</td>\n",
              "    </tr>\n",
              "    <tr>\n",
              "      <th>2</th>\n",
              "      <td>Female</td>\n",
              "      <td>56</td>\n",
              "      <td>RG268</td>\n",
              "      <td>Self_Employed</td>\n",
              "      <td>X3</td>\n",
              "      <td>26</td>\n",
              "      <td>No</td>\n",
              "      <td>1484315</td>\n",
              "      <td>Yes</td>\n",
              "      <td>0</td>\n",
              "    </tr>\n",
              "    <tr>\n",
              "      <th>3</th>\n",
              "      <td>Male</td>\n",
              "      <td>34</td>\n",
              "      <td>RG270</td>\n",
              "      <td>Salaried</td>\n",
              "      <td>X1</td>\n",
              "      <td>19</td>\n",
              "      <td>No</td>\n",
              "      <td>470454</td>\n",
              "      <td>No</td>\n",
              "      <td>0</td>\n",
              "    </tr>\n",
              "    <tr>\n",
              "      <th>4</th>\n",
              "      <td>Female</td>\n",
              "      <td>30</td>\n",
              "      <td>RG282</td>\n",
              "      <td>Salaried</td>\n",
              "      <td>X1</td>\n",
              "      <td>33</td>\n",
              "      <td>No</td>\n",
              "      <td>886787</td>\n",
              "      <td>No</td>\n",
              "      <td>0</td>\n",
              "    </tr>\n",
              "    <tr>\n",
              "      <th>...</th>\n",
              "      <td>...</td>\n",
              "      <td>...</td>\n",
              "      <td>...</td>\n",
              "      <td>...</td>\n",
              "      <td>...</td>\n",
              "      <td>...</td>\n",
              "      <td>...</td>\n",
              "      <td>...</td>\n",
              "      <td>...</td>\n",
              "      <td>...</td>\n",
              "    </tr>\n",
              "    <tr>\n",
              "      <th>245720</th>\n",
              "      <td>Male</td>\n",
              "      <td>51</td>\n",
              "      <td>RG284</td>\n",
              "      <td>Self_Employed</td>\n",
              "      <td>X3</td>\n",
              "      <td>109</td>\n",
              "      <td>NaN</td>\n",
              "      <td>1925586</td>\n",
              "      <td>No</td>\n",
              "      <td>0</td>\n",
              "    </tr>\n",
              "    <tr>\n",
              "      <th>245721</th>\n",
              "      <td>Male</td>\n",
              "      <td>27</td>\n",
              "      <td>RG268</td>\n",
              "      <td>Salaried</td>\n",
              "      <td>X1</td>\n",
              "      <td>15</td>\n",
              "      <td>No</td>\n",
              "      <td>862952</td>\n",
              "      <td>Yes</td>\n",
              "      <td>0</td>\n",
              "    </tr>\n",
              "    <tr>\n",
              "      <th>245722</th>\n",
              "      <td>Female</td>\n",
              "      <td>26</td>\n",
              "      <td>RG281</td>\n",
              "      <td>Salaried</td>\n",
              "      <td>X1</td>\n",
              "      <td>13</td>\n",
              "      <td>No</td>\n",
              "      <td>670659</td>\n",
              "      <td>No</td>\n",
              "      <td>0</td>\n",
              "    </tr>\n",
              "    <tr>\n",
              "      <th>245723</th>\n",
              "      <td>Female</td>\n",
              "      <td>28</td>\n",
              "      <td>RG273</td>\n",
              "      <td>Salaried</td>\n",
              "      <td>X1</td>\n",
              "      <td>31</td>\n",
              "      <td>No</td>\n",
              "      <td>407504</td>\n",
              "      <td>No</td>\n",
              "      <td>0</td>\n",
              "    </tr>\n",
              "    <tr>\n",
              "      <th>245724</th>\n",
              "      <td>Male</td>\n",
              "      <td>29</td>\n",
              "      <td>RG269</td>\n",
              "      <td>Salaried</td>\n",
              "      <td>X1</td>\n",
              "      <td>21</td>\n",
              "      <td>No</td>\n",
              "      <td>1129276</td>\n",
              "      <td>No</td>\n",
              "      <td>0</td>\n",
              "    </tr>\n",
              "  </tbody>\n",
              "</table>\n",
              "<p>245725 rows × 10 columns</p>\n",
              "</div>\n",
              "      <button class=\"colab-df-convert\" onclick=\"convertToInteractive('df-1f8544cf-b6c8-4b80-a1c6-6be283f814ba')\"\n",
              "              title=\"Convert this dataframe to an interactive table.\"\n",
              "              style=\"display:none;\">\n",
              "        \n",
              "  <svg xmlns=\"http://www.w3.org/2000/svg\" height=\"24px\"viewBox=\"0 0 24 24\"\n",
              "       width=\"24px\">\n",
              "    <path d=\"M0 0h24v24H0V0z\" fill=\"none\"/>\n",
              "    <path d=\"M18.56 5.44l.94 2.06.94-2.06 2.06-.94-2.06-.94-.94-2.06-.94 2.06-2.06.94zm-11 1L8.5 8.5l.94-2.06 2.06-.94-2.06-.94L8.5 2.5l-.94 2.06-2.06.94zm10 10l.94 2.06.94-2.06 2.06-.94-2.06-.94-.94-2.06-.94 2.06-2.06.94z\"/><path d=\"M17.41 7.96l-1.37-1.37c-.4-.4-.92-.59-1.43-.59-.52 0-1.04.2-1.43.59L10.3 9.45l-7.72 7.72c-.78.78-.78 2.05 0 2.83L4 21.41c.39.39.9.59 1.41.59.51 0 1.02-.2 1.41-.59l7.78-7.78 2.81-2.81c.8-.78.8-2.07 0-2.86zM5.41 20L4 18.59l7.72-7.72 1.47 1.35L5.41 20z\"/>\n",
              "  </svg>\n",
              "      </button>\n",
              "      \n",
              "  <style>\n",
              "    .colab-df-container {\n",
              "      display:flex;\n",
              "      flex-wrap:wrap;\n",
              "      gap: 12px;\n",
              "    }\n",
              "\n",
              "    .colab-df-convert {\n",
              "      background-color: #E8F0FE;\n",
              "      border: none;\n",
              "      border-radius: 50%;\n",
              "      cursor: pointer;\n",
              "      display: none;\n",
              "      fill: #1967D2;\n",
              "      height: 32px;\n",
              "      padding: 0 0 0 0;\n",
              "      width: 32px;\n",
              "    }\n",
              "\n",
              "    .colab-df-convert:hover {\n",
              "      background-color: #E2EBFA;\n",
              "      box-shadow: 0px 1px 2px rgba(60, 64, 67, 0.3), 0px 1px 3px 1px rgba(60, 64, 67, 0.15);\n",
              "      fill: #174EA6;\n",
              "    }\n",
              "\n",
              "    [theme=dark] .colab-df-convert {\n",
              "      background-color: #3B4455;\n",
              "      fill: #D2E3FC;\n",
              "    }\n",
              "\n",
              "    [theme=dark] .colab-df-convert:hover {\n",
              "      background-color: #434B5C;\n",
              "      box-shadow: 0px 1px 3px 1px rgba(0, 0, 0, 0.15);\n",
              "      filter: drop-shadow(0px 1px 2px rgba(0, 0, 0, 0.3));\n",
              "      fill: #FFFFFF;\n",
              "    }\n",
              "  </style>\n",
              "\n",
              "      <script>\n",
              "        const buttonEl =\n",
              "          document.querySelector('#df-1f8544cf-b6c8-4b80-a1c6-6be283f814ba button.colab-df-convert');\n",
              "        buttonEl.style.display =\n",
              "          google.colab.kernel.accessAllowed ? 'block' : 'none';\n",
              "\n",
              "        async function convertToInteractive(key) {\n",
              "          const element = document.querySelector('#df-1f8544cf-b6c8-4b80-a1c6-6be283f814ba');\n",
              "          const dataTable =\n",
              "            await google.colab.kernel.invokeFunction('convertToInteractive',\n",
              "                                                     [key], {});\n",
              "          if (!dataTable) return;\n",
              "\n",
              "          const docLinkHtml = 'Like what you see? Visit the ' +\n",
              "            '<a target=\"_blank\" href=https://colab.research.google.com/notebooks/data_table.ipynb>data table notebook</a>'\n",
              "            + ' to learn more about interactive tables.';\n",
              "          element.innerHTML = '';\n",
              "          dataTable['output_type'] = 'display_data';\n",
              "          await google.colab.output.renderOutput(dataTable, element);\n",
              "          const docLink = document.createElement('div');\n",
              "          docLink.innerHTML = docLinkHtml;\n",
              "          element.appendChild(docLink);\n",
              "        }\n",
              "      </script>\n",
              "    </div>\n",
              "  </div>\n",
              "  "
            ]
          },
          "metadata": {},
          "execution_count": 9
        }
      ]
    },
    {
      "cell_type": "code",
      "source": [
        "# dtype 확인\n",
        "train_df.dtypes"
      ],
      "metadata": {
        "id": "ZAaK8Tj0GzDS",
        "outputId": "2468b2d6-974b-454d-8358-13fb843bd556",
        "colab": {
          "base_uri": "https://localhost:8080/"
        }
      },
      "execution_count": 14,
      "outputs": [
        {
          "output_type": "execute_result",
          "data": {
            "text/plain": [
              "Gender                 object\n",
              "Age                     int64\n",
              "Region_Code            object\n",
              "Occupation             object\n",
              "Channel_Code           object\n",
              "Vintage                 int64\n",
              "Credit_Product         object\n",
              "Avg_Account_Balance     int64\n",
              "Is_Active              object\n",
              "Is_Lead                 int64\n",
              "dtype: object"
            ]
          },
          "metadata": {},
          "execution_count": 14
        }
      ]
    },
    {
      "cell_type": "code",
      "source": [
        "train_df.describe(include='all')"
      ],
      "metadata": {
        "id": "KSzhUJImGP4H",
        "outputId": "30c6ea01-7f03-4242-9b29-fc2bd006818d",
        "colab": {
          "base_uri": "https://localhost:8080/",
          "height": 394
        }
      },
      "execution_count": 15,
      "outputs": [
        {
          "output_type": "execute_result",
          "data": {
            "text/plain": [
              "        Gender            Age Region_Code     Occupation Channel_Code  \\\n",
              "count   245725  245725.000000      245725         245725       245725   \n",
              "unique       2            NaN          35              4            4   \n",
              "top       Male            NaN       RG268  Self_Employed           X1   \n",
              "freq    134197            NaN       35934         100886       103718   \n",
              "mean       NaN      43.856307         NaN            NaN          NaN   \n",
              "std        NaN      14.828672         NaN            NaN          NaN   \n",
              "min        NaN      23.000000         NaN            NaN          NaN   \n",
              "25%        NaN      30.000000         NaN            NaN          NaN   \n",
              "50%        NaN      43.000000         NaN            NaN          NaN   \n",
              "75%        NaN      54.000000         NaN            NaN          NaN   \n",
              "max        NaN      85.000000         NaN            NaN          NaN   \n",
              "\n",
              "              Vintage Credit_Product  Avg_Account_Balance Is_Active  \\\n",
              "count   245725.000000         216400         2.457250e+05    245725   \n",
              "unique            NaN              2                  NaN         2   \n",
              "top               NaN             No                  NaN        No   \n",
              "freq              NaN         144357                  NaN    150290   \n",
              "mean        46.959141            NaN         1.128403e+06       NaN   \n",
              "std         32.353136            NaN         8.529364e+05       NaN   \n",
              "min          7.000000            NaN         2.079000e+04       NaN   \n",
              "25%         20.000000            NaN         6.043100e+05       NaN   \n",
              "50%         32.000000            NaN         8.946010e+05       NaN   \n",
              "75%         73.000000            NaN         1.366666e+06       NaN   \n",
              "max        135.000000            NaN         1.035201e+07       NaN   \n",
              "\n",
              "              Is_Lead  \n",
              "count   245725.000000  \n",
              "unique            NaN  \n",
              "top               NaN  \n",
              "freq              NaN  \n",
              "mean         0.237208  \n",
              "std          0.425372  \n",
              "min          0.000000  \n",
              "25%          0.000000  \n",
              "50%          0.000000  \n",
              "75%          0.000000  \n",
              "max          1.000000  "
            ],
            "text/html": [
              "\n",
              "  <div id=\"df-535b05fc-5c06-4fc9-bc6f-72cb9a1ad675\">\n",
              "    <div class=\"colab-df-container\">\n",
              "      <div>\n",
              "<style scoped>\n",
              "    .dataframe tbody tr th:only-of-type {\n",
              "        vertical-align: middle;\n",
              "    }\n",
              "\n",
              "    .dataframe tbody tr th {\n",
              "        vertical-align: top;\n",
              "    }\n",
              "\n",
              "    .dataframe thead th {\n",
              "        text-align: right;\n",
              "    }\n",
              "</style>\n",
              "<table border=\"1\" class=\"dataframe\">\n",
              "  <thead>\n",
              "    <tr style=\"text-align: right;\">\n",
              "      <th></th>\n",
              "      <th>Gender</th>\n",
              "      <th>Age</th>\n",
              "      <th>Region_Code</th>\n",
              "      <th>Occupation</th>\n",
              "      <th>Channel_Code</th>\n",
              "      <th>Vintage</th>\n",
              "      <th>Credit_Product</th>\n",
              "      <th>Avg_Account_Balance</th>\n",
              "      <th>Is_Active</th>\n",
              "      <th>Is_Lead</th>\n",
              "    </tr>\n",
              "  </thead>\n",
              "  <tbody>\n",
              "    <tr>\n",
              "      <th>count</th>\n",
              "      <td>245725</td>\n",
              "      <td>245725.000000</td>\n",
              "      <td>245725</td>\n",
              "      <td>245725</td>\n",
              "      <td>245725</td>\n",
              "      <td>245725.000000</td>\n",
              "      <td>216400</td>\n",
              "      <td>2.457250e+05</td>\n",
              "      <td>245725</td>\n",
              "      <td>245725.000000</td>\n",
              "    </tr>\n",
              "    <tr>\n",
              "      <th>unique</th>\n",
              "      <td>2</td>\n",
              "      <td>NaN</td>\n",
              "      <td>35</td>\n",
              "      <td>4</td>\n",
              "      <td>4</td>\n",
              "      <td>NaN</td>\n",
              "      <td>2</td>\n",
              "      <td>NaN</td>\n",
              "      <td>2</td>\n",
              "      <td>NaN</td>\n",
              "    </tr>\n",
              "    <tr>\n",
              "      <th>top</th>\n",
              "      <td>Male</td>\n",
              "      <td>NaN</td>\n",
              "      <td>RG268</td>\n",
              "      <td>Self_Employed</td>\n",
              "      <td>X1</td>\n",
              "      <td>NaN</td>\n",
              "      <td>No</td>\n",
              "      <td>NaN</td>\n",
              "      <td>No</td>\n",
              "      <td>NaN</td>\n",
              "    </tr>\n",
              "    <tr>\n",
              "      <th>freq</th>\n",
              "      <td>134197</td>\n",
              "      <td>NaN</td>\n",
              "      <td>35934</td>\n",
              "      <td>100886</td>\n",
              "      <td>103718</td>\n",
              "      <td>NaN</td>\n",
              "      <td>144357</td>\n",
              "      <td>NaN</td>\n",
              "      <td>150290</td>\n",
              "      <td>NaN</td>\n",
              "    </tr>\n",
              "    <tr>\n",
              "      <th>mean</th>\n",
              "      <td>NaN</td>\n",
              "      <td>43.856307</td>\n",
              "      <td>NaN</td>\n",
              "      <td>NaN</td>\n",
              "      <td>NaN</td>\n",
              "      <td>46.959141</td>\n",
              "      <td>NaN</td>\n",
              "      <td>1.128403e+06</td>\n",
              "      <td>NaN</td>\n",
              "      <td>0.237208</td>\n",
              "    </tr>\n",
              "    <tr>\n",
              "      <th>std</th>\n",
              "      <td>NaN</td>\n",
              "      <td>14.828672</td>\n",
              "      <td>NaN</td>\n",
              "      <td>NaN</td>\n",
              "      <td>NaN</td>\n",
              "      <td>32.353136</td>\n",
              "      <td>NaN</td>\n",
              "      <td>8.529364e+05</td>\n",
              "      <td>NaN</td>\n",
              "      <td>0.425372</td>\n",
              "    </tr>\n",
              "    <tr>\n",
              "      <th>min</th>\n",
              "      <td>NaN</td>\n",
              "      <td>23.000000</td>\n",
              "      <td>NaN</td>\n",
              "      <td>NaN</td>\n",
              "      <td>NaN</td>\n",
              "      <td>7.000000</td>\n",
              "      <td>NaN</td>\n",
              "      <td>2.079000e+04</td>\n",
              "      <td>NaN</td>\n",
              "      <td>0.000000</td>\n",
              "    </tr>\n",
              "    <tr>\n",
              "      <th>25%</th>\n",
              "      <td>NaN</td>\n",
              "      <td>30.000000</td>\n",
              "      <td>NaN</td>\n",
              "      <td>NaN</td>\n",
              "      <td>NaN</td>\n",
              "      <td>20.000000</td>\n",
              "      <td>NaN</td>\n",
              "      <td>6.043100e+05</td>\n",
              "      <td>NaN</td>\n",
              "      <td>0.000000</td>\n",
              "    </tr>\n",
              "    <tr>\n",
              "      <th>50%</th>\n",
              "      <td>NaN</td>\n",
              "      <td>43.000000</td>\n",
              "      <td>NaN</td>\n",
              "      <td>NaN</td>\n",
              "      <td>NaN</td>\n",
              "      <td>32.000000</td>\n",
              "      <td>NaN</td>\n",
              "      <td>8.946010e+05</td>\n",
              "      <td>NaN</td>\n",
              "      <td>0.000000</td>\n",
              "    </tr>\n",
              "    <tr>\n",
              "      <th>75%</th>\n",
              "      <td>NaN</td>\n",
              "      <td>54.000000</td>\n",
              "      <td>NaN</td>\n",
              "      <td>NaN</td>\n",
              "      <td>NaN</td>\n",
              "      <td>73.000000</td>\n",
              "      <td>NaN</td>\n",
              "      <td>1.366666e+06</td>\n",
              "      <td>NaN</td>\n",
              "      <td>0.000000</td>\n",
              "    </tr>\n",
              "    <tr>\n",
              "      <th>max</th>\n",
              "      <td>NaN</td>\n",
              "      <td>85.000000</td>\n",
              "      <td>NaN</td>\n",
              "      <td>NaN</td>\n",
              "      <td>NaN</td>\n",
              "      <td>135.000000</td>\n",
              "      <td>NaN</td>\n",
              "      <td>1.035201e+07</td>\n",
              "      <td>NaN</td>\n",
              "      <td>1.000000</td>\n",
              "    </tr>\n",
              "  </tbody>\n",
              "</table>\n",
              "</div>\n",
              "      <button class=\"colab-df-convert\" onclick=\"convertToInteractive('df-535b05fc-5c06-4fc9-bc6f-72cb9a1ad675')\"\n",
              "              title=\"Convert this dataframe to an interactive table.\"\n",
              "              style=\"display:none;\">\n",
              "        \n",
              "  <svg xmlns=\"http://www.w3.org/2000/svg\" height=\"24px\"viewBox=\"0 0 24 24\"\n",
              "       width=\"24px\">\n",
              "    <path d=\"M0 0h24v24H0V0z\" fill=\"none\"/>\n",
              "    <path d=\"M18.56 5.44l.94 2.06.94-2.06 2.06-.94-2.06-.94-.94-2.06-.94 2.06-2.06.94zm-11 1L8.5 8.5l.94-2.06 2.06-.94-2.06-.94L8.5 2.5l-.94 2.06-2.06.94zm10 10l.94 2.06.94-2.06 2.06-.94-2.06-.94-.94-2.06-.94 2.06-2.06.94z\"/><path d=\"M17.41 7.96l-1.37-1.37c-.4-.4-.92-.59-1.43-.59-.52 0-1.04.2-1.43.59L10.3 9.45l-7.72 7.72c-.78.78-.78 2.05 0 2.83L4 21.41c.39.39.9.59 1.41.59.51 0 1.02-.2 1.41-.59l7.78-7.78 2.81-2.81c.8-.78.8-2.07 0-2.86zM5.41 20L4 18.59l7.72-7.72 1.47 1.35L5.41 20z\"/>\n",
              "  </svg>\n",
              "      </button>\n",
              "      \n",
              "  <style>\n",
              "    .colab-df-container {\n",
              "      display:flex;\n",
              "      flex-wrap:wrap;\n",
              "      gap: 12px;\n",
              "    }\n",
              "\n",
              "    .colab-df-convert {\n",
              "      background-color: #E8F0FE;\n",
              "      border: none;\n",
              "      border-radius: 50%;\n",
              "      cursor: pointer;\n",
              "      display: none;\n",
              "      fill: #1967D2;\n",
              "      height: 32px;\n",
              "      padding: 0 0 0 0;\n",
              "      width: 32px;\n",
              "    }\n",
              "\n",
              "    .colab-df-convert:hover {\n",
              "      background-color: #E2EBFA;\n",
              "      box-shadow: 0px 1px 2px rgba(60, 64, 67, 0.3), 0px 1px 3px 1px rgba(60, 64, 67, 0.15);\n",
              "      fill: #174EA6;\n",
              "    }\n",
              "\n",
              "    [theme=dark] .colab-df-convert {\n",
              "      background-color: #3B4455;\n",
              "      fill: #D2E3FC;\n",
              "    }\n",
              "\n",
              "    [theme=dark] .colab-df-convert:hover {\n",
              "      background-color: #434B5C;\n",
              "      box-shadow: 0px 1px 3px 1px rgba(0, 0, 0, 0.15);\n",
              "      filter: drop-shadow(0px 1px 2px rgba(0, 0, 0, 0.3));\n",
              "      fill: #FFFFFF;\n",
              "    }\n",
              "  </style>\n",
              "\n",
              "      <script>\n",
              "        const buttonEl =\n",
              "          document.querySelector('#df-535b05fc-5c06-4fc9-bc6f-72cb9a1ad675 button.colab-df-convert');\n",
              "        buttonEl.style.display =\n",
              "          google.colab.kernel.accessAllowed ? 'block' : 'none';\n",
              "\n",
              "        async function convertToInteractive(key) {\n",
              "          const element = document.querySelector('#df-535b05fc-5c06-4fc9-bc6f-72cb9a1ad675');\n",
              "          const dataTable =\n",
              "            await google.colab.kernel.invokeFunction('convertToInteractive',\n",
              "                                                     [key], {});\n",
              "          if (!dataTable) return;\n",
              "\n",
              "          const docLinkHtml = 'Like what you see? Visit the ' +\n",
              "            '<a target=\"_blank\" href=https://colab.research.google.com/notebooks/data_table.ipynb>data table notebook</a>'\n",
              "            + ' to learn more about interactive tables.';\n",
              "          element.innerHTML = '';\n",
              "          dataTable['output_type'] = 'display_data';\n",
              "          await google.colab.output.renderOutput(dataTable, element);\n",
              "          const docLink = document.createElement('div');\n",
              "          docLink.innerHTML = docLinkHtml;\n",
              "          element.appendChild(docLink);\n",
              "        }\n",
              "      </script>\n",
              "    </div>\n",
              "  </div>\n",
              "  "
            ]
          },
          "metadata": {},
          "execution_count": 15
        }
      ]
    },
    {
      "cell_type": "markdown",
      "source": [
        "Region_Code의 cardinality가 35로 높은 편이다."
      ],
      "metadata": {
        "id": "5fGRnO87vHAX"
      }
    },
    {
      "cell_type": "markdown",
      "source": [
        "## Numerical Features 분포 확인\n",
        "\n",
        "Age, Vintage, Avg_Account_Balance"
      ],
      "metadata": {
        "id": "G1JZ1HTzhbAp"
      }
    },
    {
      "cell_type": "code",
      "source": [
        "# Target 특성에 따른 Age 분포\n",
        "sns.histplot(data = train_df, x = train_df['Age'], hue = \"Is_Lead\", kde = True);"
      ],
      "metadata": {
        "colab": {
          "base_uri": "https://localhost:8080/",
          "height": 400
        },
        "id": "oH_-ppvirVBf",
        "outputId": "a8c11572-0005-46cb-bd87-378702ce96fe"
      },
      "execution_count": 16,
      "outputs": [
        {
          "output_type": "display_data",
          "data": {
            "text/plain": [
              "<Figure size 720x432 with 1 Axes>"
            ],
            "image/png": "[encoded data removed]"
          },
          "metadata": {
            "needs_background": "light"
          }
        }
      ]
    },
    {
      "cell_type": "markdown",
      "source": [
        "- 전체 이용고객 중 20 중반에서 30 중반의 고객이 다수를 차지했다.\n",
        "- 그 다음으로는 40대 중반에서 50대 중반 고객의 수가 많다.\n",
        "- 40대 중반 ~ 50대 중반 고객은 다른 나이대에 비해 제안에 관심있는 비율이 높다.\n",
        "\n",
        "-> 4050 연령층의 과반수 이상이 제안에 관심있음."
      ],
      "metadata": {
        "id": "mb7_pQZ3gYzy"
      }
    },
    {
      "cell_type": "code",
      "source": [
        "# Target 특성에 따른 Vintage 분포\n",
        "sns.histplot(data = train_df, x = train_df['Vintage'], hue = \"Is_Lead\", kde = True);"
      ],
      "metadata": {
        "colab": {
          "base_uri": "https://localhost:8080/",
          "height": 400
        },
        "id": "QfYGGrZCs8DG",
        "outputId": "7c364aa9-6efb-403d-effa-8bf6d4a247ea"
      },
      "execution_count": 17,
      "outputs": [
        {
          "output_type": "display_data",
          "data": {
            "text/plain": [
              "<Figure size 720x432 with 1 Axes>"
            ],
            "image/png": "[encoded data removed]"
          },
          "metadata": {
            "needs_background": "light"
          }
        }
      ]
    },
    {
      "cell_type": "markdown",
      "source": [
        "- 대부분의 고객들의 Vintage는 10~40이 많았다.\n",
        "- 가입 7~8년 차 고객은 제안에 대부분 관심을 갖고 있다.\n",
        "- 가입 4~5년 차 고객의 제안 관심도는 가장 낮았다.\n"
      ],
      "metadata": {
        "id": "zRsnUPmDhOiC"
      }
    },
    {
      "cell_type": "code",
      "source": [
        "# Target 특성에 따른 Avg_Account_Balance 분포\n",
        "sns.histplot(data = train_df, x = train_df['Avg_Account_Balance'], kde = True, hue = 'Is_Lead', multiple = 'stack');"
      ],
      "metadata": {
        "colab": {
          "base_uri": "https://localhost:8080/",
          "height": 400
        },
        "id": "m1LVOo-VfUws",
        "outputId": "42691c15-4036-4da5-b7d7-8c26d771d4a6"
      },
      "execution_count": 18,
      "outputs": [
        {
          "output_type": "display_data",
          "data": {
            "text/plain": [
              "<Figure size 720x432 with 1 Axes>"
            ],
            "image/png": "[encoded data removed]"
          },
          "metadata": {
            "needs_background": "light"
          }
        }
      ]
    },
    {
      "cell_type": "markdown",
      "source": [
        "- Avg_Account_Balance는 제안에 관심이 있는 고객과 없는 고객이 비슷한 분포를 보였다."
      ],
      "metadata": {
        "id": "H5oTyzddh1do"
      }
    },
    {
      "cell_type": "code",
      "source": [
        "print(np.mean(train_df[train_df['Is_Lead'] == 1]['Avg_Account_Balance']))\n",
        "print(np.mean(train_df[train_df['Is_Lead'] == 0]['Avg_Account_Balance']))"
      ],
      "metadata": {
        "colab": {
          "base_uri": "https://localhost:8080/"
        },
        "id": "WXdPQyMAmqhA",
        "outputId": "17780557-c5f8-429d-db7d-0ef37e782da4"
      },
      "execution_count": 19,
      "outputs": [
        {
          "output_type": "stream",
          "name": "stdout",
          "text": [
            "1210034.0418954159\n",
            "1103018.015461195\n"
          ]
        }
      ]
    },
    {
      "cell_type": "markdown",
      "source": [
        "##Categorical Features 분포 확인\n",
        "\n",
        "Gender, Region Code, Occupation, Channel Code, Credit Product, Is_Active"
      ],
      "metadata": {
        "id": "CDBRAFHYFEry"
      }
    },
    {
      "cell_type": "code",
      "source": [
        "# Gender\n",
        "\n",
        "fig, ax = plt.subplots(1, 2, figsize=(18,7)) \n",
        "# subplot : 한 화면에서 여러 그래프를 나눠서 출력하는 기능 / plt.subplots((행 ,열, 그래프의 크기(가로, 세로)))\n",
        "train_df['Gender'].value_counts().plot.pie(autopct='%1.1f%%',ax=ax[0])\n",
        "# pd.Series.value_counts() : 유일한 값 별로 개수 세기 / .pie (explode = 두 조각간의 거리, autopct = 각 범주가 데이터에서 차지하는 비율, shadow = 그림자, startangle = pie의 시작각도)\n",
        "ax[0].set_title('Gender') # 파이 그래프 이름\n",
        "ax[0].set_ylabel('') # 파이 그래프\n",
        " \n",
        "sns.countplot('Gender', data=train_df, hue = 'Is_Lead', ax=ax[1])# countplot : 각 카테고리 값별로 데이터가 얼마나 있는지 표시 / countplot(x='column_name', data=dataframe)\n",
        "ax[1].set_title('Gender by Is_Lead')\n",
        "plt.show() # 막대 그래프"
      ],
      "metadata": {
        "colab": {
          "base_uri": "https://localhost:8080/",
          "height": 470
        },
        "id": "ZlPKKXIsFu2I",
        "outputId": "df17b0c1-7e95-448c-ff8e-bd10698c59ef"
      },
      "execution_count": 20,
      "outputs": [
        {
          "output_type": "display_data",
          "data": {
            "text/plain": [
              "<Figure size 1296x504 with 2 Axes>"
            ],
            "image/png": "[encoded data removed]"
          },
          "metadata": {
            "needs_background": "light"
          }
        }
      ]
    },
    {
      "cell_type": "code",
      "source": [
        "# Male의 Is_Lead가 1인 비율 26.51%\n",
        "train_df[train_df['Gender'] == 'Male']['Is_Lead'].value_counts(normalize=True) * 100"
      ],
      "metadata": {
        "colab": {
          "base_uri": "https://localhost:8080/"
        },
        "id": "duXrbl8N8g8Q",
        "outputId": "9524d785-1279-4d2a-8ff8-16b900100691"
      },
      "execution_count": 21,
      "outputs": [
        {
          "output_type": "execute_result",
          "data": {
            "text/plain": [
              "0    73.484504\n",
              "1    26.515496\n",
              "Name: Is_Lead, dtype: float64"
            ]
          },
          "metadata": {},
          "execution_count": 21
        }
      ]
    },
    {
      "cell_type": "code",
      "source": [
        "# Female의 Is_Lead가 1인 비율 20.35%\n",
        "train_df[train_df['Gender'] == 'Female']['Is_Lead'].value_counts(normalize=True) * 100"
      ],
      "metadata": {
        "colab": {
          "base_uri": "https://localhost:8080/"
        },
        "id": "GTgmCClE8RFS",
        "outputId": "f3933f31-29f2-40e9-ba92-1b1c405beb9a"
      },
      "execution_count": 22,
      "outputs": [
        {
          "output_type": "execute_result",
          "data": {
            "text/plain": [
              "0    79.641884\n",
              "1    20.358116\n",
              "Name: Is_Lead, dtype: float64"
            ]
          },
          "metadata": {},
          "execution_count": 22
        }
      ]
    },
    {
      "cell_type": "markdown",
      "source": [
        "- 남성의 제안 관심 비율 26.51%\n",
        "\n",
        "- 여성의 제안 관심 비율 20.35%\n",
        "\n",
        "성별에 따른 제안 관심은 큰 차이가 없다."
      ],
      "metadata": {
        "id": "oARpndG07-Mx"
      }
    },
    {
      "cell_type": "code",
      "source": [
        "# Region_Code\n",
        "\n",
        "plt.figure(figsize = (30,8))\n",
        "sns.countplot('Region_Code', data=train_df, hue = 'Is_Lead')# countplot : 각 카테고리 값별로 데이터가 얼마나 있는지 표시 / countplot(x='column_name', data=dataframe)\n",
        "ax[0].set_title('Region_Code by Is_Lead')\n",
        "plt.show() # 막대 그래프"
      ],
      "metadata": {
        "colab": {
          "base_uri": "https://localhost:8080/",
          "height": 508
        },
        "id": "yoc87ff_SfrT",
        "outputId": "a370b629-d13f-42f1-da06-5942543873e3"
      },
      "execution_count": 23,
      "outputs": [
        {
          "output_type": "display_data",
          "data": {
            "text/plain": [
              "<Figure size 2160x576 with 1 Axes>"
            ],
            "image/png": "[encoded data removed]"
          },
          "metadata": {
            "needs_background": "light"
          }
        }
      ]
    },
    {
      "cell_type": "code",
      "source": [
        "train_df[train_df['Region_Code'] == 'RG268']['Is_Lead'].value_counts(normalize=True) * 100"
      ],
      "metadata": {
        "colab": {
          "base_uri": "https://localhost:8080/"
        },
        "id": "wHL97WNTOS6g",
        "outputId": "dc5d4341-36d1-4a32-b534-863344c7877e"
      },
      "execution_count": 24,
      "outputs": [
        {
          "output_type": "execute_result",
          "data": {
            "text/plain": [
              "0    70.020037\n",
              "1    29.979963\n",
              "Name: Is_Lead, dtype: float64"
            ]
          },
          "metadata": {},
          "execution_count": 24
        }
      ]
    },
    {
      "cell_type": "code",
      "source": [
        "train_df[train_df['Region_Code'] == 'RG283']['Is_Lead'].value_counts(normalize=True) * 100"
      ],
      "metadata": {
        "colab": {
          "base_uri": "https://localhost:8080/"
        },
        "id": "krb-QLn1ObEF",
        "outputId": "18b893f6-642d-47bd-fd05-0d82078c1523"
      },
      "execution_count": 25,
      "outputs": [
        {
          "output_type": "execute_result",
          "data": {
            "text/plain": [
              "0    69.795349\n",
              "1    30.204651\n",
              "Name: Is_Lead, dtype: float64"
            ]
          },
          "metadata": {},
          "execution_count": 25
        }
      ]
    },
    {
      "cell_type": "code",
      "source": [
        "train_df[train_df['Region_Code'] == 'RG284']['Is_Lead'].value_counts(normalize=True) * 100"
      ],
      "metadata": {
        "colab": {
          "base_uri": "https://localhost:8080/"
        },
        "id": "ifhcfTdgOjCG",
        "outputId": "9951d461-80d9-4032-89d6-6bc389bd15e2"
      },
      "execution_count": 26,
      "outputs": [
        {
          "output_type": "execute_result",
          "data": {
            "text/plain": [
              "0    69.89648\n",
              "1    30.10352\n",
              "Name: Is_Lead, dtype: float64"
            ]
          },
          "metadata": {},
          "execution_count": 26
        }
      ]
    },
    {
      "cell_type": "code",
      "source": [
        "train_df.groupby(['Region_Code', 'Is_Lead']).size().unstack(fill_value=0)"
      ],
      "metadata": {
        "colab": {
          "base_uri": "https://localhost:8080/",
          "height": 1000
        },
        "id": "Zu_9QTxRX8QE",
        "outputId": "d6df0c4b-a1d8-4cd5-bb0b-ba0d952cc738"
      },
      "execution_count": 27,
      "outputs": [
        {
          "output_type": "execute_result",
          "data": {
            "text/plain": [
              "Is_Lead          0      1\n",
              "Region_Code              \n",
              "RG250         2103    393\n",
              "RG251         4569   1381\n",
              "RG252         3694    592\n",
              "RG253         1377    481\n",
              "RG254        21127   5713\n",
              "RG255         1549    469\n",
              "RG256         2446    401\n",
              "RG257         4931   1170\n",
              "RG258         1521    430\n",
              "RG259         2085    501\n",
              "RG260         2516    594\n",
              "RG261         6351   1282\n",
              "RG262         1465    323\n",
              "RG263         2869    818\n",
              "RG264         2410    383\n",
              "RG265         1146    400\n",
              "RG266         1358    220\n",
              "RG267         1274    223\n",
              "RG268        25161  10773\n",
              "RG269         6120   1743\n",
              "RG270         6606   1114\n",
              "RG271         1281    261\n",
              "RG272         4097   1155\n",
              "RG273         3428   1069\n",
              "RG274         4414    872\n",
              "RG275         2702    543\n",
              "RG276         1996    768\n",
              "RG277         9851   2975\n",
              "RG278         1422    400\n",
              "RG279         3079    897\n",
              "RG280         9766   3009\n",
              "RG281         3979   1114\n",
              "RG282         4709   1120\n",
              "RG283        20531   8885\n",
              "RG284        13504   5816"
            ],
            "text/html": [
              "\n",
              "  <div id=\"df-5c8b5d99-9050-4c1f-a547-3e56069dd841\">\n",
              "    <div class=\"colab-df-container\">\n",
              "      <div>\n",
              "<style scoped>\n",
              "    .dataframe tbody tr th:only-of-type {\n",
              "        vertical-align: middle;\n",
              "    }\n",
              "\n",
              "    .dataframe tbody tr th {\n",
              "        vertical-align: top;\n",
              "    }\n",
              "\n",
              "    .dataframe thead th {\n",
              "        text-align: right;\n",
              "    }\n",
              "</style>\n",
              "<table border=\"1\" class=\"dataframe\">\n",
              "  <thead>\n",
              "    <tr style=\"text-align: right;\">\n",
              "      <th>Is_Lead</th>\n",
              "      <th>0</th>\n",
              "      <th>1</th>\n",
              "    </tr>\n",
              "    <tr>\n",
              "      <th>Region_Code</th>\n",
              "      <th></th>\n",
              "      <th></th>\n",
              "    </tr>\n",
              "  </thead>\n",
              "  <tbody>\n",
              "    <tr>\n",
              "      <th>RG250</th>\n",
              "      <td>2103</td>\n",
              "      <td>393</td>\n",
              "    </tr>\n",
              "    <tr>\n",
              "      <th>RG251</th>\n",
              "      <td>4569</td>\n",
              "      <td>1381</td>\n",
              "    </tr>\n",
              "    <tr>\n",
              "      <th>RG252</th>\n",
              "      <td>3694</td>\n",
              "      <td>592</td>\n",
              "    </tr>\n",
              "    <tr>\n",
              "      <th>RG253</th>\n",
              "      <td>1377</td>\n",
              "      <td>481</td>\n",
              "    </tr>\n",
              "    <tr>\n",
              "      <th>RG254</th>\n",
              "      <td>21127</td>\n",
              "      <td>5713</td>\n",
              "    </tr>\n",
              "    <tr>\n",
              "      <th>RG255</th>\n",
              "      <td>1549</td>\n",
              "      <td>469</td>\n",
              "    </tr>\n",
              "    <tr>\n",
              "      <th>RG256</th>\n",
              "      <td>2446</td>\n",
              "      <td>401</td>\n",
              "    </tr>\n",
              "    <tr>\n",
              "      <th>RG257</th>\n",
              "      <td>4931</td>\n",
              "      <td>1170</td>\n",
              "    </tr>\n",
              "    <tr>\n",
              "      <th>RG258</th>\n",
              "      <td>1521</td>\n",
              "      <td>430</td>\n",
              "    </tr>\n",
              "    <tr>\n",
              "      <th>RG259</th>\n",
              "      <td>2085</td>\n",
              "      <td>501</td>\n",
              "    </tr>\n",
              "    <tr>\n",
              "      <th>RG260</th>\n",
              "      <td>2516</td>\n",
              "      <td>594</td>\n",
              "    </tr>\n",
              "    <tr>\n",
              "      <th>RG261</th>\n",
              "      <td>6351</td>\n",
              "      <td>1282</td>\n",
              "    </tr>\n",
              "    <tr>\n",
              "      <th>RG262</th>\n",
              "      <td>1465</td>\n",
              "      <td>323</td>\n",
              "    </tr>\n",
              "    <tr>\n",
              "      <th>RG263</th>\n",
              "      <td>2869</td>\n",
              "      <td>818</td>\n",
              "    </tr>\n",
              "    <tr>\n",
              "      <th>RG264</th>\n",
              "      <td>2410</td>\n",
              "      <td>383</td>\n",
              "    </tr>\n",
              "    <tr>\n",
              "      <th>RG265</th>\n",
              "      <td>1146</td>\n",
              "      <td>400</td>\n",
              "    </tr>\n",
              "    <tr>\n",
              "      <th>RG266</th>\n",
              "      <td>1358</td>\n",
              "      <td>220</td>\n",
              "    </tr>\n",
              "    <tr>\n",
              "      <th>RG267</th>\n",
              "      <td>1274</td>\n",
              "      <td>223</td>\n",
              "    </tr>\n",
              "    <tr>\n",
              "      <th>RG268</th>\n",
              "      <td>25161</td>\n",
              "      <td>10773</td>\n",
              "    </tr>\n",
              "    <tr>\n",
              "      <th>RG269</th>\n",
              "      <td>6120</td>\n",
              "      <td>1743</td>\n",
              "    </tr>\n",
              "    <tr>\n",
              "      <th>RG270</th>\n",
              "      <td>6606</td>\n",
              "      <td>1114</td>\n",
              "    </tr>\n",
              "    <tr>\n",
              "      <th>RG271</th>\n",
              "      <td>1281</td>\n",
              "      <td>261</td>\n",
              "    </tr>\n",
              "    <tr>\n",
              "      <th>RG272</th>\n",
              "      <td>4097</td>\n",
              "      <td>1155</td>\n",
              "    </tr>\n",
              "    <tr>\n",
              "      <th>RG273</th>\n",
              "      <td>3428</td>\n",
              "      <td>1069</td>\n",
              "    </tr>\n",
              "    <tr>\n",
              "      <th>RG274</th>\n",
              "      <td>4414</td>\n",
              "      <td>872</td>\n",
              "    </tr>\n",
              "    <tr>\n",
              "      <th>RG275</th>\n",
              "      <td>2702</td>\n",
              "      <td>543</td>\n",
              "    </tr>\n",
              "    <tr>\n",
              "      <th>RG276</th>\n",
              "      <td>1996</td>\n",
              "      <td>768</td>\n",
              "    </tr>\n",
              "    <tr>\n",
              "      <th>RG277</th>\n",
              "      <td>9851</td>\n",
              "      <td>2975</td>\n",
              "    </tr>\n",
              "    <tr>\n",
              "      <th>RG278</th>\n",
              "      <td>1422</td>\n",
              "      <td>400</td>\n",
              "    </tr>\n",
              "    <tr>\n",
              "      <th>RG279</th>\n",
              "      <td>3079</td>\n",
              "      <td>897</td>\n",
              "    </tr>\n",
              "    <tr>\n",
              "      <th>RG280</th>\n",
              "      <td>9766</td>\n",
              "      <td>3009</td>\n",
              "    </tr>\n",
              "    <tr>\n",
              "      <th>RG281</th>\n",
              "      <td>3979</td>\n",
              "      <td>1114</td>\n",
              "    </tr>\n",
              "    <tr>\n",
              "      <th>RG282</th>\n",
              "      <td>4709</td>\n",
              "      <td>1120</td>\n",
              "    </tr>\n",
              "    <tr>\n",
              "      <th>RG283</th>\n",
              "      <td>20531</td>\n",
              "      <td>8885</td>\n",
              "    </tr>\n",
              "    <tr>\n",
              "      <th>RG284</th>\n",
              "      <td>13504</td>\n",
              "      <td>5816</td>\n",
              "    </tr>\n",
              "  </tbody>\n",
              "</table>\n",
              "</div>\n",
              "      <button class=\"colab-df-convert\" onclick=\"convertToInteractive('df-5c8b5d99-9050-4c1f-a547-3e56069dd841')\"\n",
              "              title=\"Convert this dataframe to an interactive table.\"\n",
              "              style=\"display:none;\">\n",
              "        \n",
              "  <svg xmlns=\"http://www.w3.org/2000/svg\" height=\"24px\"viewBox=\"0 0 24 24\"\n",
              "       width=\"24px\">\n",
              "    <path d=\"M0 0h24v24H0V0z\" fill=\"none\"/>\n",
              "    <path d=\"M18.56 5.44l.94 2.06.94-2.06 2.06-.94-2.06-.94-.94-2.06-.94 2.06-2.06.94zm-11 1L8.5 8.5l.94-2.06 2.06-.94-2.06-.94L8.5 2.5l-.94 2.06-2.06.94zm10 10l.94 2.06.94-2.06 2.06-.94-2.06-.94-.94-2.06-.94 2.06-2.06.94z\"/><path d=\"M17.41 7.96l-1.37-1.37c-.4-.4-.92-.59-1.43-.59-.52 0-1.04.2-1.43.59L10.3 9.45l-7.72 7.72c-.78.78-.78 2.05 0 2.83L4 21.41c.39.39.9.59 1.41.59.51 0 1.02-.2 1.41-.59l7.78-7.78 2.81-2.81c.8-.78.8-2.07 0-2.86zM5.41 20L4 18.59l7.72-7.72 1.47 1.35L5.41 20z\"/>\n",
              "  </svg>\n",
              "      </button>\n",
              "      \n",
              "  <style>\n",
              "    .colab-df-container {\n",
              "      display:flex;\n",
              "      flex-wrap:wrap;\n",
              "      gap: 12px;\n",
              "    }\n",
              "\n",
              "    .colab-df-convert {\n",
              "      background-color: #E8F0FE;\n",
              "      border: none;\n",
              "      border-radius: 50%;\n",
              "      cursor: pointer;\n",
              "      display: none;\n",
              "      fill: #1967D2;\n",
              "      height: 32px;\n",
              "      padding: 0 0 0 0;\n",
              "      width: 32px;\n",
              "    }\n",
              "\n",
              "    .colab-df-convert:hover {\n",
              "      background-color: #E2EBFA;\n",
              "      box-shadow: 0px 1px 2px rgba(60, 64, 67, 0.3), 0px 1px 3px 1px rgba(60, 64, 67, 0.15);\n",
              "      fill: #174EA6;\n",
              "    }\n",
              "\n",
              "    [theme=dark] .colab-df-convert {\n",
              "      background-color: #3B4455;\n",
              "      fill: #D2E3FC;\n",
              "    }\n",
              "\n",
              "    [theme=dark] .colab-df-convert:hover {\n",
              "      background-color: #434B5C;\n",
              "      box-shadow: 0px 1px 3px 1px rgba(0, 0, 0, 0.15);\n",
              "      filter: drop-shadow(0px 1px 2px rgba(0, 0, 0, 0.3));\n",
              "      fill: #FFFFFF;\n",
              "    }\n",
              "  </style>\n",
              "\n",
              "      <script>\n",
              "        const buttonEl =\n",
              "          document.querySelector('#df-5c8b5d99-9050-4c1f-a547-3e56069dd841 button.colab-df-convert');\n",
              "        buttonEl.style.display =\n",
              "          google.colab.kernel.accessAllowed ? 'block' : 'none';\n",
              "\n",
              "        async function convertToInteractive(key) {\n",
              "          const element = document.querySelector('#df-5c8b5d99-9050-4c1f-a547-3e56069dd841');\n",
              "          const dataTable =\n",
              "            await google.colab.kernel.invokeFunction('convertToInteractive',\n",
              "                                                     [key], {});\n",
              "          if (!dataTable) return;\n",
              "\n",
              "          const docLinkHtml = 'Like what you see? Visit the ' +\n",
              "            '<a target=\"_blank\" href=https://colab.research.google.com/notebooks/data_table.ipynb>data table notebook</a>'\n",
              "            + ' to learn more about interactive tables.';\n",
              "          element.innerHTML = '';\n",
              "          dataTable['output_type'] = 'display_data';\n",
              "          await google.colab.output.renderOutput(dataTable, element);\n",
              "          const docLink = document.createElement('div');\n",
              "          docLink.innerHTML = docLinkHtml;\n",
              "          element.appendChild(docLink);\n",
              "        }\n",
              "      </script>\n",
              "    </div>\n",
              "  </div>\n",
              "  "
            ]
          },
          "metadata": {},
          "execution_count": 27
        }
      ]
    },
    {
      "cell_type": "code",
      "source": [
        "region_groups = train_df.groupby('Region_Code')\n",
        "\n",
        "region_groups.mean()['Is_Lead'].sort_values(ascending=False)"
      ],
      "metadata": {
        "colab": {
          "base_uri": "https://localhost:8080/"
        },
        "id": "QNSv33rjX1Gt",
        "outputId": "326ebeb6-8ad9-4bc2-a8a4-ffb74a131930"
      },
      "execution_count": 28,
      "outputs": [
        {
          "output_type": "execute_result",
          "data": {
            "text/plain": [
              "Region_Code\n",
              "RG283    0.302047\n",
              "RG284    0.301035\n",
              "RG268    0.299800\n",
              "RG276    0.277858\n",
              "RG253    0.258881\n",
              "RG265    0.258732\n",
              "RG273    0.237714\n",
              "RG280    0.235538\n",
              "RG255    0.232408\n",
              "RG251    0.232101\n",
              "RG277    0.231951\n",
              "RG279    0.225604\n",
              "RG263    0.221861\n",
              "RG269    0.221671\n",
              "RG258    0.220400\n",
              "RG272    0.219916\n",
              "RG278    0.219539\n",
              "RG281    0.218732\n",
              "RG254    0.212854\n",
              "RG259    0.193735\n",
              "RG282    0.192143\n",
              "RG257    0.191772\n",
              "RG260    0.190997\n",
              "RG262    0.180649\n",
              "RG271    0.169261\n",
              "RG261    0.167955\n",
              "RG275    0.167334\n",
              "RG274    0.164964\n",
              "RG250    0.157452\n",
              "RG267    0.148965\n",
              "RG270    0.144301\n",
              "RG256    0.140850\n",
              "RG266    0.139417\n",
              "RG252    0.138124\n",
              "RG264    0.137129\n",
              "Name: Is_Lead, dtype: float64"
            ]
          },
          "metadata": {},
          "execution_count": 28
        }
      ]
    },
    {
      "cell_type": "code",
      "source": [
        "region_groups.mean()['Is_Lead'].sort_values(ascending=False).plot.bar();"
      ],
      "metadata": {
        "colab": {
          "base_uri": "https://localhost:8080/",
          "height": 423
        },
        "id": "V7FArSYhj5zs",
        "outputId": "f3834b30-6c09-4692-a092-00642d157f33"
      },
      "execution_count": 29,
      "outputs": [
        {
          "output_type": "display_data",
          "data": {
            "text/plain": [
              "<Figure size 720x432 with 1 Axes>"
            ],
            "image/png": "[encoded data removed]"
          },
          "metadata": {
            "needs_background": "light"
          }
        }
      ]
    },
    {
      "cell_type": "markdown",
      "source": [
        "- Region Code 중 Is_Lead가 '1'인 고객 비율이 높은 곳은 다른 곳과 어떤 차이가 있는지 확인해봐야한다.\n",
        "- High cardinality를 띄기 때문에 인코딩 시 주의할 것\n"
      ],
      "metadata": {
        "id": "SCCYSelF_Sjd"
      }
    },
    {
      "cell_type": "code",
      "source": [
        "# Occupation\n",
        "\n",
        "plt.subplots(figsize= (15, 7))\n",
        "sns.countplot(x = 'Occupation', hue='Is_Lead', data=train_df);"
      ],
      "metadata": {
        "colab": {
          "base_uri": "https://localhost:8080/",
          "height": 455
        },
        "id": "mt6sq6iIiTnz",
        "outputId": "1e6d2da9-714e-458c-8117-8db0a72bd74c"
      },
      "execution_count": 30,
      "outputs": [
        {
          "output_type": "display_data",
          "data": {
            "text/plain": [
              "<Figure size 1080x504 with 1 Axes>"
            ],
            "image/png": "[encoded data removed]"
          },
          "metadata": {
            "needs_background": "light"
          }
        }
      ]
    },
    {
      "cell_type": "code",
      "source": [
        "# Other \n",
        "train_df[train_df['Occupation'] == 'Other']['Is_Lead'].value_counts(normalize=True) * 100"
      ],
      "metadata": {
        "colab": {
          "base_uri": "https://localhost:8080/"
        },
        "id": "Z1qb6buB_0_h",
        "outputId": "be51a510-8607-4c40-853d-f388ad11cdc6"
      },
      "execution_count": 31,
      "outputs": [
        {
          "output_type": "execute_result",
          "data": {
            "text/plain": [
              "0    75.504824\n",
              "1    24.495176\n",
              "Name: Is_Lead, dtype: float64"
            ]
          },
          "metadata": {},
          "execution_count": 31
        }
      ]
    },
    {
      "cell_type": "code",
      "source": [
        "# Salaried\n",
        "train_df[train_df['Occupation'] == 'Salaried']['Is_Lead'].value_counts(normalize=True) * 100"
      ],
      "metadata": {
        "colab": {
          "base_uri": "https://localhost:8080/"
        },
        "id": "HDxF8NCE_8PF",
        "outputId": "41d94b4b-7b10-4034-d769-52316943024f"
      },
      "execution_count": 32,
      "outputs": [
        {
          "output_type": "execute_result",
          "data": {
            "text/plain": [
              "0    84.033112\n",
              "1    15.966888\n",
              "Name: Is_Lead, dtype: float64"
            ]
          },
          "metadata": {},
          "execution_count": 32
        }
      ]
    },
    {
      "cell_type": "code",
      "source": [
        "# Self_Employed\n",
        "train_df[train_df['Occupation'] == 'Self_Employed']['Is_Lead'].value_counts(normalize=True) * 100"
      ],
      "metadata": {
        "colab": {
          "base_uri": "https://localhost:8080/"
        },
        "id": "7UQmcC4fAAJ4",
        "outputId": "ac962165-a9aa-4919-9887-505c30325939"
      },
      "execution_count": 33,
      "outputs": [
        {
          "output_type": "execute_result",
          "data": {
            "text/plain": [
              "0    72.403505\n",
              "1    27.596495\n",
              "Name: Is_Lead, dtype: float64"
            ]
          },
          "metadata": {},
          "execution_count": 33
        }
      ]
    },
    {
      "cell_type": "code",
      "source": [
        "# Entrepreneur\n",
        "train_df[train_df['Occupation'] == 'Entrepreneur']['Is_Lead'].value_counts(normalize=True) * 100"
      ],
      "metadata": {
        "colab": {
          "base_uri": "https://localhost:8080/"
        },
        "id": "13wR2Q6UAFba",
        "outputId": "f7bd0bd0-9842-4899-e6e8-e0f10087aa26"
      },
      "execution_count": 34,
      "outputs": [
        {
          "output_type": "execute_result",
          "data": {
            "text/plain": [
              "1    66.066742\n",
              "0    33.933258\n",
              "Name: Is_Lead, dtype: float64"
            ]
          },
          "metadata": {},
          "execution_count": 34
        }
      ]
    },
    {
      "cell_type": "markdown",
      "source": [
        " Occupation 중\n",
        "\n",
        " - 'Other'의 제안 관심 비율 24.49%\n",
        "\n",
        " - 'Salaried'의 제안 관심 비율 15.96%\n",
        "\n",
        " - 'Self_Employed'의 제안 관심 비율 27.59%\n",
        "\n",
        " - 'Entrepreneur'의 제안 관심 비율 66.06%\n",
        "\n",
        "\n",
        " Entrepreneur의 66%가 제안에 관심이 많다. 하지만 절대 수가 적기 때문에 전체 비율에서 미치는 영향은 낮다.\n",
        " 그 다음으로는 Self_Employed와 Other가 비슷한 비율을 보였고, Salaried의 관심 비율은 낮았다.\n",
        "\n",
        " 사업가, 자영업자가 관심이 높은 제안이다."
      ],
      "metadata": {
        "id": "r_FkBj_WL6zD"
      }
    },
    {
      "cell_type": "code",
      "source": [
        "# Channel_Code\n",
        "\n",
        "plt.subplots(figsize= (15, 7))\n",
        "sns.countplot(x = 'Channel_Code', hue='Is_Lead', data=train_df);"
      ],
      "metadata": {
        "id": "6shWP9AOjO3r",
        "colab": {
          "base_uri": "https://localhost:8080/",
          "height": 454
        },
        "outputId": "c9243e09-ac37-4cd1-ce7f-c6b85b7aea4c"
      },
      "execution_count": 35,
      "outputs": [
        {
          "output_type": "display_data",
          "data": {
            "text/plain": [
              "<Figure size 1080x504 with 1 Axes>"
            ],
            "image/png": "[encoded data removed]"
          },
          "metadata": {
            "needs_background": "light"
          }
        }
      ]
    },
    {
      "cell_type": "code",
      "source": [
        "train_df[train_df['Channel_Code'] == 'X1']['Is_Lead'].value_counts(normalize=True) * 100"
      ],
      "metadata": {
        "colab": {
          "base_uri": "https://localhost:8080/"
        },
        "id": "cNUOwZ3g-DXV",
        "outputId": "529557e8-dca5-4d1b-c527-7cb9c5ed3770"
      },
      "execution_count": 36,
      "outputs": [
        {
          "output_type": "execute_result",
          "data": {
            "text/plain": [
              "0    90.857903\n",
              "1     9.142097\n",
              "Name: Is_Lead, dtype: float64"
            ]
          },
          "metadata": {},
          "execution_count": 36
        }
      ]
    },
    {
      "cell_type": "code",
      "source": [
        "train_df[train_df['Channel_Code'] == 'X2']['Is_Lead'].value_counts(normalize=True) * 100"
      ],
      "metadata": {
        "colab": {
          "base_uri": "https://localhost:8080/"
        },
        "id": "_WfVm1Sn-O4o",
        "outputId": "7fb88348-537a-4088-fc87-49a16caaf0db"
      },
      "execution_count": 37,
      "outputs": [
        {
          "output_type": "execute_result",
          "data": {
            "text/plain": [
              "0    67.210525\n",
              "1    32.789475\n",
              "Name: Is_Lead, dtype: float64"
            ]
          },
          "metadata": {},
          "execution_count": 37
        }
      ]
    },
    {
      "cell_type": "code",
      "source": [
        "train_df[train_df['Channel_Code'] == 'X3']['Is_Lead'].value_counts(normalize=True) * 100"
      ],
      "metadata": {
        "colab": {
          "base_uri": "https://localhost:8080/"
        },
        "id": "jin4wdxn-XFG",
        "outputId": "6737bc04-c4be-4dd4-c5fe-6a096e9f18fe"
      },
      "execution_count": 38,
      "outputs": [
        {
          "output_type": "execute_result",
          "data": {
            "text/plain": [
              "0    63.297532\n",
              "1    36.702468\n",
              "Name: Is_Lead, dtype: float64"
            ]
          },
          "metadata": {},
          "execution_count": 38
        }
      ]
    },
    {
      "cell_type": "code",
      "source": [
        "train_df[train_df['Channel_Code'] == 'X4']['Is_Lead'].value_counts(normalize=True) * 100"
      ],
      "metadata": {
        "colab": {
          "base_uri": "https://localhost:8080/"
        },
        "id": "X5Y6LKT--Zp0",
        "outputId": "e4ce3823-0690-4205-e20d-f574c8bfbc97"
      },
      "execution_count": 39,
      "outputs": [
        {
          "output_type": "execute_result",
          "data": {
            "text/plain": [
              "0    75.219968\n",
              "1    24.780032\n",
              "Name: Is_Lead, dtype: float64"
            ]
          },
          "metadata": {},
          "execution_count": 39
        }
      ]
    },
    {
      "cell_type": "markdown",
      "source": [
        " - X2, X3의 제안 관심 비율은 각각 32.78%, 36,70%로 나왔다.\n",
        " - X1의 관심 비율이 낮은 이유에 대해서 확인해봐야한다. "
      ],
      "metadata": {
        "id": "vynj6dAakS-L"
      }
    },
    {
      "cell_type": "code",
      "source": [
        "# Credit_Product\n",
        "sns.countplot('Credit_Product', data=train_df, hue = 'Is_Lead');"
      ],
      "metadata": {
        "colab": {
          "base_uri": "https://localhost:8080/",
          "height": 403
        },
        "id": "xBLG7eQK1xki",
        "outputId": "0890a75e-2e62-4006-f74a-ec1c16331ccf"
      },
      "execution_count": 40,
      "outputs": [
        {
          "output_type": "display_data",
          "data": {
            "text/plain": [
              "<Figure size 720x432 with 1 Axes>"
            ],
            "image/png": "[encoded data removed]"
          },
          "metadata": {
            "needs_background": "light"
          }
        }
      ]
    },
    {
      "cell_type": "code",
      "source": [
        "train_df[train_df['Credit_Product'] == 'Yes']['Is_Lead'].value_counts(normalize=True) * 100"
      ],
      "metadata": {
        "colab": {
          "base_uri": "https://localhost:8080/"
        },
        "id": "Cl1tG8bW-wP0",
        "outputId": "c56f2593-b536-41af-f7dc-b7177f1b4f80"
      },
      "execution_count": 41,
      "outputs": [
        {
          "output_type": "execute_result",
          "data": {
            "text/plain": [
              "0    68.504921\n",
              "1    31.495079\n",
              "Name: Is_Lead, dtype: float64"
            ]
          },
          "metadata": {},
          "execution_count": 41
        }
      ]
    },
    {
      "cell_type": "code",
      "source": [
        "train_df[train_df['Credit_Product'] == 'No']['Is_Lead'].value_counts(normalize=True) * 100"
      ],
      "metadata": {
        "colab": {
          "base_uri": "https://localhost:8080/"
        },
        "id": "Xf9O5xxz-3Zd",
        "outputId": "5c4a7a34-2f04-41ca-863f-9648cb92ed04"
      },
      "execution_count": 42,
      "outputs": [
        {
          "output_type": "execute_result",
          "data": {
            "text/plain": [
              "0    92.64116\n",
              "1     7.35884\n",
              "Name: Is_Lead, dtype: float64"
            ]
          },
          "metadata": {},
          "execution_count": 42
        }
      ]
    },
    {
      "cell_type": "markdown",
      "source": [
        "* 이용 중인 'Credit_Product'가 있는 고객의 제안 관심 비율은 31.49%\n",
        "* 이용 중인 'Credit_Product'가 없는 고객의 제안 관심 비율은 7.35%"
      ],
      "metadata": {
        "id": "yQvIExYLlSQd"
      }
    },
    {
      "cell_type": "code",
      "source": [
        "# Is_Active\n",
        "sns.countplot('Is_Active', data=train_df, hue = 'Is_Lead');"
      ],
      "metadata": {
        "colab": {
          "base_uri": "https://localhost:8080/",
          "height": 400
        },
        "id": "9f6C2euy2T2V",
        "outputId": "7aad368b-a6ab-4756-d392-282306d5a7ef"
      },
      "execution_count": 43,
      "outputs": [
        {
          "output_type": "display_data",
          "data": {
            "text/plain": [
              "<Figure size 720x432 with 1 Axes>"
            ],
            "image/png": "[encoded data removed]"
          },
          "metadata": {
            "needs_background": "light"
          }
        }
      ]
    },
    {
      "cell_type": "code",
      "source": [
        "train_df[train_df['Is_Active'] == 'Yes']['Is_Lead'].value_counts(normalize=True) * 100"
      ],
      "metadata": {
        "colab": {
          "base_uri": "https://localhost:8080/"
        },
        "id": "pwH5O5gj_jIs",
        "outputId": "e172585b-eb37-4f45-b340-02c60cfc8eee"
      },
      "execution_count": 44,
      "outputs": [
        {
          "output_type": "execute_result",
          "data": {
            "text/plain": [
              "0    71.703254\n",
              "1    28.296746\n",
              "Name: Is_Lead, dtype: float64"
            ]
          },
          "metadata": {},
          "execution_count": 44
        }
      ]
    },
    {
      "cell_type": "code",
      "source": [
        "train_df[train_df['Is_Active'] == 'No']['Is_Lead'].value_counts(normalize=True) * 100"
      ],
      "metadata": {
        "colab": {
          "base_uri": "https://localhost:8080/"
        },
        "id": "a-HtAWK5_rvn",
        "outputId": "5df33ca2-c22f-4607-d5fd-89e4d64e4858"
      },
      "execution_count": 45,
      "outputs": [
        {
          "output_type": "execute_result",
          "data": {
            "text/plain": [
              "0    79.184909\n",
              "1    20.815091\n",
              "Name: Is_Lead, dtype: float64"
            ]
          },
          "metadata": {},
          "execution_count": 45
        }
      ]
    },
    {
      "cell_type": "markdown",
      "source": [
        "* 'Is_Active'가 Yes인 고객 중 제안 관심 비율은 28.29%\n",
        "* 'Is_Active'가 No인 고객 중 제안 관심 비율은 20.81%"
      ],
      "metadata": {
        "id": "LeDEQBRl6zRf"
      }
    },
    {
      "cell_type": "markdown",
      "source": [
        "### 범주형 데이터인 Credit_Product의 결측치 처리"
      ],
      "metadata": {
        "id": "IGU9D0Jx8x2x"
      }
    },
    {
      "cell_type": "code",
      "source": [
        "# https://www.analyticsvidhya.com/blog/2021/04/how-to-handle-missing-values-of-categorical-variables/ \n",
        "# 결측값을 가장 빈번한 값으로 대체하여 진행\n",
        "train_df['Credit_Product'].value_counts()"
      ],
      "metadata": {
        "id": "GAq2y0YW8xlh",
        "outputId": "c066d930-62b1-43a9-fe63-e9b1416ad2aa",
        "colab": {
          "base_uri": "https://localhost:8080/"
        }
      },
      "execution_count": 46,
      "outputs": [
        {
          "output_type": "execute_result",
          "data": {
            "text/plain": [
              "No     144357\n",
              "Yes     72043\n",
              "Name: Credit_Product, dtype: int64"
            ]
          },
          "metadata": {},
          "execution_count": 46
        }
      ]
    },
    {
      "cell_type": "code",
      "source": [
        "train_df = train_df.fillna(train_df.mode().iloc[0])\n",
        "train_df['Credit_Product'].value_counts()"
      ],
      "metadata": {
        "id": "1tAlL2aT9QV6",
        "outputId": "6e81cc61-360b-4eec-b61b-a796c38db93c",
        "colab": {
          "base_uri": "https://localhost:8080/"
        }
      },
      "execution_count": 10,
      "outputs": [
        {
          "output_type": "execute_result",
          "data": {
            "text/plain": [
              "No     173682\n",
              "Yes     72043\n",
              "Name: Credit_Product, dtype: int64"
            ]
          },
          "metadata": {},
          "execution_count": 10
        }
      ]
    },
    {
      "cell_type": "markdown",
      "source": [
        "cardinality가 높은 Region_Code feature를 삭제하고 진행하거나 LGBM 모델 사용용"
      ],
      "metadata": {
        "id": "Cr5Y9QNsJdXc"
      }
    },
    {
      "cell_type": "markdown",
      "source": [
        "### train_df를 train, validation 데이터로 나누기기"
      ],
      "metadata": {
        "id": "I0xrcC9m4wNd"
      }
    },
    {
      "cell_type": "code",
      "source": [
        "# stratify => 계층적 데이터 추출 옵션 (분류 모델에서 추천!) 여러 층으로 분할후 각 층별로 렌덤 데이터 추출, 원래 데이터의 분포와 유사하게 데이터 추출\n",
        "train, val = train_test_split(train_df, train_size=0.80, test_size=0.20,\n",
        "                              stratify = train_df['Is_Lead'], random_state=42)"
      ],
      "metadata": {
        "id": "TF6Fv7SY0nRs"
      },
      "execution_count": 11,
      "outputs": []
    },
    {
      "cell_type": "code",
      "source": [
        "train.shape, val.shape"
      ],
      "metadata": {
        "id": "9RrvwKPVuldS",
        "outputId": "c086859b-50e4-4acf-e363-1038cfdd1b2c",
        "colab": {
          "base_uri": "https://localhost:8080/"
        }
      },
      "execution_count": 12,
      "outputs": [
        {
          "output_type": "execute_result",
          "data": {
            "text/plain": [
              "((196580, 10), (49145, 10))"
            ]
          },
          "metadata": {},
          "execution_count": 12
        }
      ]
    },
    {
      "cell_type": "code",
      "source": [
        "# 데이터에서 타겟과 특성 분리\n",
        "features = train.drop(columns=[target]).columns\n",
        "\n",
        "# train/val/test 데이터를 특성과 타겟으로 분리\n",
        "\n",
        "X_train = train[features]\n",
        "y_train = train[target]\n",
        "X_val = val[features]\n",
        "y_val = val[target]\n",
        "X_test = test_df[features]"
      ],
      "metadata": {
        "id": "sKkijjfO1INC"
      },
      "execution_count": 13,
      "outputs": []
    },
    {
      "cell_type": "code",
      "source": [
        "# 분류문제의 기준모델 \n",
        "from sklearn.metrics import accuracy_score\n",
        "\n",
        "major = y_train.mode()[0]\n",
        "\n",
        "# 타겟 샘플 수 만큼 0이 담긴 리스트를 만들어 기준모델로 예측\n",
        "pred = [major] * len(y_train)\n",
        "val_pred = [major] * len(y_val)\n",
        "\n",
        "print(\"training_accuracy_score: \", accuracy_score(y_train, pred))\n",
        "print(\"validation_accuracy_score: \", accuracy_score(y_val, val_pred))"
      ],
      "metadata": {
        "id": "kk-zzlBb5nNx",
        "outputId": "efa14707-e56a-4307-9043-6c61d0c08c72",
        "colab": {
          "base_uri": "https://localhost:8080/"
        }
      },
      "execution_count": 14,
      "outputs": [
        {
          "output_type": "stream",
          "name": "stdout",
          "text": [
            "training_accuracy_score:  0.7627937735273171\n",
            "validation_accuracy_score:  0.7627835995523451\n"
          ]
        }
      ]
    },
    {
      "cell_type": "markdown",
      "source": [
        "# ML Model Test"
      ],
      "metadata": {
        "id": "5hwfzO0TPAeE"
      }
    },
    {
      "cell_type": "markdown",
      "source": [
        "## 파이프라인"
      ],
      "metadata": {
        "id": "tD11P0WA3Pwy"
      }
    },
    {
      "cell_type": "code",
      "source": [
        "lr = make_pipeline(\n",
        "    OneHotEncoder(),\n",
        "    StandardScaler(),\n",
        "    LogisticRegression(n_jobs=-1)\n",
        ")\n",
        "\n",
        "lr.fit(X_train, y_train)\n",
        "\n",
        "print('검증세트 정확도', lr.score(X_val, y_val))\n",
        "\n",
        "y_pred = lr.predict(X_test)"
      ],
      "metadata": {
        "id": "sZ2BY81U4-Q_",
        "outputId": "9e042c7a-bbab-467b-d0de-8a6989294f50",
        "colab": {
          "base_uri": "https://localhost:8080/"
        }
      },
      "execution_count": 20,
      "outputs": [
        {
          "output_type": "stream",
          "name": "stdout",
          "text": [
            "검증세트 정확도 0.7760504629158612\n"
          ]
        }
      ]
    },
    {
      "cell_type": "code",
      "source": [
        "model_lr = lr.named_steps['logisticregression']\n",
        "enc = lr.named_steps['onehotencoder']\n",
        "encoded_columns = enc.transform(X_val).columns\n",
        "coefficients = pd.Series(model_lr.coef_[0], encoded_columns)\n",
        "plt.figure(figsize=(10,30))\n",
        "coefficients.sort_values().plot.barh();"
      ],
      "metadata": {
        "id": "E57xhbnF3ip5",
        "outputId": "04501011-4133-4670-9512-602165bd9a9e",
        "colab": {
          "base_uri": "https://localhost:8080/",
          "height": 1000
        }
      },
      "execution_count": 21,
      "outputs": [
        {
          "output_type": "display_data",
          "data": {
            "text/plain": [
              "<Figure size 720x2160 with 1 Axes>"
            ],
            "image/png": "[encoded data removed]"
          },
          "metadata": {
            "needs_background": "light"
          }
        }
      ]
    },
    {
      "cell_type": "markdown",
      "source": [
        "### Categorical data 상관 관계 확인"
      ],
      "metadata": {
        "id": "R2FEDkiUHtmb"
      }
    },
    {
      "cell_type": "markdown",
      "source": [
        "# 상관관계 파악 및 핵심 feature 파악\n",
        "\n",
        "Numerical features 간 상관관계"
      ],
      "metadata": {
        "id": "mLuqWkho8peK"
      }
    },
    {
      "cell_type": "code",
      "source": [
        "# Numerical features 간 상관관계 heatmap\n",
        "\n",
        "corr = train.corr()\n",
        "\n",
        "mask=np.zeros_like(corr,dtype=np.bool)\n",
        "mask[np.triu_indices_from(mask)]=True\n",
        "plt.title('Numerical features correlation')\n",
        "sns.heatmap(corr,mask=mask, annot=True);"
      ],
      "metadata": {
        "colab": {
          "base_uri": "https://localhost:8080/",
          "height": 399
        },
        "id": "kDNgEHS7yZb4",
        "outputId": "e73b58b8-ecf2-496f-e6d1-fa563d34fc0d"
      },
      "execution_count": 15,
      "outputs": [
        {
          "output_type": "display_data",
          "data": {
            "text/plain": [
              "<Figure size 720x432 with 2 Axes>"
            ],
            "image/png": "[encoded data removed]"
          },
          "metadata": {
            "needs_background": "light"
          }
        }
      ]
    },
    {
      "cell_type": "markdown",
      "source": [
        "Target feature 와의 상관관계"
      ],
      "metadata": {
        "id": "og0yEIYd0oMG"
      }
    },
    {
      "cell_type": "code",
      "source": [
        "plt.figure(figsize = (40,6))\n",
        "sns.countplot(x = target_Vintage);"
      ],
      "metadata": {
        "colab": {
          "base_uri": "https://localhost:8080/",
          "height": 209
        },
        "id": "IybwsIaBj7t0",
        "outputId": "8d5809ef-0200-4c88-fd68-b39743f87e05"
      },
      "execution_count": null,
      "outputs": [
        {
          "output_type": "error",
          "ename": "NameError",
          "evalue": "ignored",
          "traceback": [
            "\u001b[0;31m---------------------------------------------------------------------------\u001b[0m",
            "\u001b[0;31mNameError\u001b[0m                                 Traceback (most recent call last)",
            "\u001b[0;32m<ipython-input-48-651de9f5f2cb>\u001b[0m in \u001b[0;36m<module>\u001b[0;34m\u001b[0m\n\u001b[1;32m      1\u001b[0m \u001b[0mplt\u001b[0m\u001b[0;34m.\u001b[0m\u001b[0mfigure\u001b[0m\u001b[0;34m(\u001b[0m\u001b[0mfigsize\u001b[0m \u001b[0;34m=\u001b[0m \u001b[0;34m(\u001b[0m\u001b[0;36m40\u001b[0m\u001b[0;34m,\u001b[0m\u001b[0;36m6\u001b[0m\u001b[0;34m)\u001b[0m\u001b[0;34m)\u001b[0m\u001b[0;34m\u001b[0m\u001b[0;34m\u001b[0m\u001b[0m\n\u001b[0;32m----> 2\u001b[0;31m \u001b[0msns\u001b[0m\u001b[0;34m.\u001b[0m\u001b[0mcountplot\u001b[0m\u001b[0;34m(\u001b[0m\u001b[0mx\u001b[0m \u001b[0;34m=\u001b[0m \u001b[0mtarget_Vintage\u001b[0m\u001b[0;34m)\u001b[0m\u001b[0;34m;\u001b[0m\u001b[0;34m\u001b[0m\u001b[0;34m\u001b[0m\u001b[0m\n\u001b[0m",
            "\u001b[0;31mNameError\u001b[0m: name 'target_Vintage' is not defined"
          ]
        },
        {
          "output_type": "display_data",
          "data": {
            "text/plain": [
              "<Figure size 2880x432 with 0 Axes>"
            ]
          },
          "metadata": {}
        }
      ]
    },
    {
      "cell_type": "code",
      "source": [
        "non_target_Vintage = df[df['Is_Lead'] == 0]['Vintage']\n",
        "non_target_Vintage"
      ],
      "metadata": {
        "colab": {
          "base_uri": "https://localhost:8080/"
        },
        "id": "VV4aqORytbZe",
        "outputId": "c9350e48-dff1-4ab1-cef0-09d12863ae31"
      },
      "execution_count": null,
      "outputs": [
        {
          "output_type": "execute_result",
          "data": {
            "text/plain": [
              "0         43\n",
              "1         32\n",
              "2         26\n",
              "3         19\n",
              "4         33\n",
              "          ..\n",
              "245719    13\n",
              "245721    15\n",
              "245722    13\n",
              "245723    31\n",
              "245724    21\n",
              "Name: Vintage, Length: 183087, dtype: int64"
            ]
          },
          "metadata": {},
          "execution_count": 13
        }
      ]
    },
    {
      "cell_type": "code",
      "source": [
        "plt.figure(figsize = (40,6))\n",
        "sns.countplot(x= non_target_Vintage);"
      ],
      "metadata": {
        "id": "W6ysw_zAlUab"
      },
      "execution_count": null,
      "outputs": []
    },
    {
      "cell_type": "code",
      "source": [
        "bins = np.linspace(df.Vintage.min(), df.Vintage.max(), 35)\n",
        "plot1 = sns.FacetGrid(df, col = \"Is_Lead\", palette = 'Set1', col_wrap=2, size = 7)\n",
        "plot1.map(plt.hist, 'Vintage', bins=bins, ec='k')\n",
        "\n",
        "plot1.add_legend()\n",
        "plt.show();"
      ],
      "metadata": {
        "id": "YvhzIaoK_C3r"
      },
      "execution_count": null,
      "outputs": []
    },
    {
      "cell_type": "code",
      "source": [
        "# 두 그룹의 비율이 큰 차이가 나지 않기 때문에 그룹의 분산이 차이가 나지 않는다고 판단.\n",
        "print(np.var(target_Vintage))\n",
        "\n",
        "print(np.var(non_target_Vintage))"
      ],
      "metadata": {
        "colab": {
          "base_uri": "https://localhost:8080/"
        },
        "id": "qBRel3XgrHjB",
        "outputId": "de744048-5098-4684-8a1e-b186ab687d09"
      },
      "execution_count": null,
      "outputs": [
        {
          "output_type": "stream",
          "name": "stdout",
          "text": [
            "1193.689012866215\n",
            "878.2364622836806\n"
          ]
        }
      ]
    },
    {
      "cell_type": "code",
      "source": [
        "stats.ttest_ind(target_Vintage, non_target_Vintage)"
      ],
      "metadata": {
        "colab": {
          "base_uri": "https://localhost:8080/"
        },
        "id": "puwDXLjctfmQ",
        "outputId": "44e58a0e-5322-4b04-862a-9262ff0983b7"
      },
      "execution_count": null,
      "outputs": [
        {
          "output_type": "execute_result",
          "data": {
            "text/plain": [
              "Ttest_indResult(statistic=106.79317277167486, pvalue=0.0)"
            ]
          },
          "metadata": {},
          "execution_count": 17
        }
      ]
    },
    {
      "cell_type": "markdown",
      "source": [
        "H0 => µ1 = µ2\n",
        "\n",
        "귀무가설 : 관심있는 고객들의 평균 Vintag는 관심없는 고객의 평균 Vintage와 차이가 없을 것이다.\n",
        "\n",
        "HA => µ1 ≠µ2 \n",
        "\n",
        "대안가설 : 관심있는 고객들의 평균 Vintage가 관심없는 고객의 평균 Vintage보다 유의미하게 높을 것이다.\n",
        "\n",
        "신뢰도 95%\n",
        "\n",
        "p-value가 0.05보다 낮기 때문에 귀무가설을 기각하고 대안가설을 채택한다."
      ],
      "metadata": {
        "id": "7juR34fXr_Sc"
      }
    },
    {
      "cell_type": "markdown",
      "source": [
        "-----\n",
        "가설2\n",
        "\n",
        "관심있는 고객들의 평균 'Avg_Account_Balance'가 관심없는 고객들의 평균  'Avg_Account_Balance'보다 유의미하게 낮을 것이다."
      ],
      "metadata": {
        "id": "KgDku5Nw66lk"
      }
    },
    {
      "cell_type": "code",
      "source": [
        "target_AAB = df[df['Is_Lead'] == 1]['Avg_Account_Balance']\n",
        "target_AAB"
      ],
      "metadata": {
        "colab": {
          "base_uri": "https://localhost:8080/"
        },
        "id": "SVh3UKvK65mq",
        "outputId": "64f41594-e6fd-4e74-9de4-03db72cafafa"
      },
      "execution_count": null,
      "outputs": [
        {
          "output_type": "execute_result",
          "data": {
            "text/plain": [
              "16        2282502\n",
              "17        2384692\n",
              "20        1001650\n",
              "29        1056910\n",
              "34        1684182\n",
              "           ...   \n",
              "245690     766548\n",
              "245693    1122023\n",
              "245697     551203\n",
              "245709     608110\n",
              "245713     898170\n",
              "Name: Avg_Account_Balance, Length: 33313, dtype: int64"
            ]
          },
          "metadata": {},
          "execution_count": 18
        }
      ]
    },
    {
      "cell_type": "code",
      "source": [
        "non_target_AAB = df[df['Is_Lead'] == 0]['Avg_Account_Balance']\n",
        "non_target_AAB"
      ],
      "metadata": {
        "colab": {
          "base_uri": "https://localhost:8080/"
        },
        "id": "MAVaR_jb7T-k",
        "outputId": "f88e2cf5-62d8-414c-f87c-26d07ae1a354"
      },
      "execution_count": null,
      "outputs": [
        {
          "output_type": "execute_result",
          "data": {
            "text/plain": [
              "0         1045696\n",
              "1          581988\n",
              "2         1484315\n",
              "3          470454\n",
              "4          886787\n",
              "           ...   \n",
              "245719     354665\n",
              "245721     862952\n",
              "245722     670659\n",
              "245723     407504\n",
              "245724    1129276\n",
              "Name: Avg_Account_Balance, Length: 183087, dtype: int64"
            ]
          },
          "metadata": {},
          "execution_count": 19
        }
      ]
    },
    {
      "cell_type": "code",
      "source": [
        "bins2 = np.linspace(df.Avg_Account_Balance.min(), df.Avg_Account_Balance.max(), 100)\n",
        "plot2 = sns.FacetGrid(df, col = \"Is_Lead\", palette = 'Set1', col_wrap=2, size = 7)\n",
        "plot2.map(plt.hist, 'Avg_Account_Balance', bins=bins2, ec='k')\n",
        "\n",
        "plot2.add_legend()\n",
        "plt.show();"
      ],
      "metadata": {
        "id": "v7zcHoQ4KW5Y"
      },
      "execution_count": null,
      "outputs": []
    },
    {
      "cell_type": "code",
      "source": [
        "df['Avg_Account_Balance_log10'] = np.log10(df['Avg_Account_Balance'])\n",
        "\n",
        "sns.histplot(df['Avg_Account_Balance_log10'], kde = True);\n",
        "sns.histplot(df[df['Is_Lead'] == 1]['Avg_Account_Balance_log10'], kde = True, color=\"red\");\n",
        "sns.histplot(df[df['Is_Lead'] == 0]['Avg_Account_Balance_log10'], kde = True, color=\"green\");"
      ],
      "metadata": {
        "id": "xyioaOCOm-Hz"
      },
      "execution_count": null,
      "outputs": []
    },
    {
      "cell_type": "code",
      "source": [
        "print(np.var(target_AAB))\n",
        "\n",
        "print(np.var(non_target_AAB))"
      ],
      "metadata": {
        "colab": {
          "base_uri": "https://localhost:8080/"
        },
        "id": "ti1KQVwetHe6",
        "outputId": "70d2b22d-6c4b-420e-cd62-f3e49232b451"
      },
      "execution_count": null,
      "outputs": [
        {
          "output_type": "stream",
          "name": "stdout",
          "text": [
            "753058638202.9728\n",
            "715425557057.6074\n"
          ]
        }
      ]
    },
    {
      "cell_type": "code",
      "source": [
        "stats.ttest_ind(target_AAB, non_target_AAB)"
      ],
      "metadata": {
        "colab": {
          "base_uri": "https://localhost:8080/"
        },
        "id": "vmHUL_o37aHy",
        "outputId": "c5df07f4-0b45-4d7d-c77b-80fff46a6e8f"
      },
      "execution_count": null,
      "outputs": [
        {
          "output_type": "execute_result",
          "data": {
            "text/plain": [
              "Ttest_indResult(statistic=19.803560224508875, pvalue=3.3154586350694674e-87)"
            ]
          },
          "metadata": {},
          "execution_count": 23
        }
      ]
    },
    {
      "cell_type": "markdown",
      "source": [
        "H0 => µ1 = µ2\n",
        "\n",
        "귀무가설 : 관심있는 고객들의 평균 Avg_Account_Balance는 관심없는 고객의 평균 Avg_Account_Balance와 차이가 없을 것이다.\n",
        "\n",
        "HA => µ1 ≠µ2 \n",
        "\n",
        "대안가설 : 관심있는 고객들의 평균 Avg_Account_Balance가 관심없는 고객의 평균 Avg_Account_Balance보다 유의미하게 높을 것이다.\n",
        "\n",
        "신뢰도 95%\n",
        "\n",
        "p-value가 0.05보다 낮기 때문에 귀무가설을 기각하고 대안가설을 채택한다."
      ],
      "metadata": {
        "id": "3HcW9NCZ7Ou_"
      }
    },
    {
      "cell_type": "markdown",
      "source": [
        "가설 3\n",
        "\n",
        "특정 'Occupation'이 추천 신용카드에 관심있을 가능성이 유의미하게 높을 것이다."
      ],
      "metadata": {
        "id": "zi3T2T9Q7uEq"
      }
    },
    {
      "cell_type": "code",
      "source": [
        "target_customers[target_customers['Occupation'] == 'Other']"
      ],
      "metadata": {
        "colab": {
          "base_uri": "https://localhost:8080/",
          "height": 487
        },
        "id": "t_Fo3wbbhDUV",
        "outputId": "11758c0e-97f9-44de-ea6b-33f456bd0c17"
      },
      "execution_count": null,
      "outputs": [
        {
          "output_type": "execute_result",
          "data": {
            "text/plain": [
              "              ID  Gender  Age Region_Code Occupation Channel_Code  Vintage  \\\n",
              "16      CNGSPYWS  Female   46       RG268      Other           X3       97   \n",
              "17      VH7NBNNQ  Female   59       RG283      Other           X3       15   \n",
              "34      FXPTJYP7    Male   67       RG268      Other           X1       87   \n",
              "53      JLHDNBUG    Male   60       RG268      Other           X3      104   \n",
              "212     COJX7JA2    Male   50       RG254      Other           X3       45   \n",
              "...          ...     ...  ...         ...        ...          ...      ...   \n",
              "245538  GXCOCBZG    Male   56       RG283      Other           X3       14   \n",
              "245594  FQNSJGQT  Female   54       RG268      Other           X1       87   \n",
              "245622  XCAGPM7X    Male   67       RG277      Other           X3      110   \n",
              "245637  NNVMXGU7    Male   69       RG268      Other           X2       33   \n",
              "245693  NUTSCAQY  Female   52       RG273      Other           X3       74   \n",
              "\n",
              "       Credit_Product  Avg_Account_Balance Is_Active  Is_Lead  \n",
              "16                Yes              2282502        No        1  \n",
              "17                Yes              2384692        No        1  \n",
              "34                Yes              1684182        No        1  \n",
              "53                Yes              1681503        No        1  \n",
              "212                No              2019160       Yes        1  \n",
              "...               ...                  ...       ...      ...  \n",
              "245538            Yes              1251963        No        1  \n",
              "245594             No              1338017        No        1  \n",
              "245622            Yes               603838        No        1  \n",
              "245637            Yes               529781        No        1  \n",
              "245693            Yes              1122023       Yes        1  \n",
              "\n",
              "[9416 rows x 11 columns]"
            ],
            "text/html": [
              "\n",
              "  <div id=\"df-3e56b525-1f07-4cae-b319-e142f907c209\">\n",
              "    <div class=\"colab-df-container\">\n",
              "      <div>\n",
              "<style scoped>\n",
              "    .dataframe tbody tr th:only-of-type {\n",
              "        vertical-align: middle;\n",
              "    }\n",
              "\n",
              "    .dataframe tbody tr th {\n",
              "        vertical-align: top;\n",
              "    }\n",
              "\n",
              "    .dataframe thead th {\n",
              "        text-align: right;\n",
              "    }\n",
              "</style>\n",
              "<table border=\"1\" class=\"dataframe\">\n",
              "  <thead>\n",
              "    <tr style=\"text-align: right;\">\n",
              "      <th></th>\n",
              "      <th>ID</th>\n",
              "      <th>Gender</th>\n",
              "      <th>Age</th>\n",
              "      <th>Region_Code</th>\n",
              "      <th>Occupation</th>\n",
              "      <th>Channel_Code</th>\n",
              "      <th>Vintage</th>\n",
              "      <th>Credit_Product</th>\n",
              "      <th>Avg_Account_Balance</th>\n",
              "      <th>Is_Active</th>\n",
              "      <th>Is_Lead</th>\n",
              "    </tr>\n",
              "  </thead>\n",
              "  <tbody>\n",
              "    <tr>\n",
              "      <th>16</th>\n",
              "      <td>CNGSPYWS</td>\n",
              "      <td>Female</td>\n",
              "      <td>46</td>\n",
              "      <td>RG268</td>\n",
              "      <td>Other</td>\n",
              "      <td>X3</td>\n",
              "      <td>97</td>\n",
              "      <td>Yes</td>\n",
              "      <td>2282502</td>\n",
              "      <td>No</td>\n",
              "      <td>1</td>\n",
              "    </tr>\n",
              "    <tr>\n",
              "      <th>17</th>\n",
              "      <td>VH7NBNNQ</td>\n",
              "      <td>Female</td>\n",
              "      <td>59</td>\n",
              "      <td>RG283</td>\n",
              "      <td>Other</td>\n",
              "      <td>X3</td>\n",
              "      <td>15</td>\n",
              "      <td>Yes</td>\n",
              "      <td>2384692</td>\n",
              "      <td>No</td>\n",
              "      <td>1</td>\n",
              "    </tr>\n",
              "    <tr>\n",
              "      <th>34</th>\n",
              "      <td>FXPTJYP7</td>\n",
              "      <td>Male</td>\n",
              "      <td>67</td>\n",
              "      <td>RG268</td>\n",
              "      <td>Other</td>\n",
              "      <td>X1</td>\n",
              "      <td>87</td>\n",
              "      <td>Yes</td>\n",
              "      <td>1684182</td>\n",
              "      <td>No</td>\n",
              "      <td>1</td>\n",
              "    </tr>\n",
              "    <tr>\n",
              "      <th>53</th>\n",
              "      <td>JLHDNBUG</td>\n",
              "      <td>Male</td>\n",
              "      <td>60</td>\n",
              "      <td>RG268</td>\n",
              "      <td>Other</td>\n",
              "      <td>X3</td>\n",
              "      <td>104</td>\n",
              "      <td>Yes</td>\n",
              "      <td>1681503</td>\n",
              "      <td>No</td>\n",
              "      <td>1</td>\n",
              "    </tr>\n",
              "    <tr>\n",
              "      <th>212</th>\n",
              "      <td>COJX7JA2</td>\n",
              "      <td>Male</td>\n",
              "      <td>50</td>\n",
              "      <td>RG254</td>\n",
              "      <td>Other</td>\n",
              "      <td>X3</td>\n",
              "      <td>45</td>\n",
              "      <td>No</td>\n",
              "      <td>2019160</td>\n",
              "      <td>Yes</td>\n",
              "      <td>1</td>\n",
              "    </tr>\n",
              "    <tr>\n",
              "      <th>...</th>\n",
              "      <td>...</td>\n",
              "      <td>...</td>\n",
              "      <td>...</td>\n",
              "      <td>...</td>\n",
              "      <td>...</td>\n",
              "      <td>...</td>\n",
              "      <td>...</td>\n",
              "      <td>...</td>\n",
              "      <td>...</td>\n",
              "      <td>...</td>\n",
              "      <td>...</td>\n",
              "    </tr>\n",
              "    <tr>\n",
              "      <th>245538</th>\n",
              "      <td>GXCOCBZG</td>\n",
              "      <td>Male</td>\n",
              "      <td>56</td>\n",
              "      <td>RG283</td>\n",
              "      <td>Other</td>\n",
              "      <td>X3</td>\n",
              "      <td>14</td>\n",
              "      <td>Yes</td>\n",
              "      <td>1251963</td>\n",
              "      <td>No</td>\n",
              "      <td>1</td>\n",
              "    </tr>\n",
              "    <tr>\n",
              "      <th>245594</th>\n",
              "      <td>FQNSJGQT</td>\n",
              "      <td>Female</td>\n",
              "      <td>54</td>\n",
              "      <td>RG268</td>\n",
              "      <td>Other</td>\n",
              "      <td>X1</td>\n",
              "      <td>87</td>\n",
              "      <td>No</td>\n",
              "      <td>1338017</td>\n",
              "      <td>No</td>\n",
              "      <td>1</td>\n",
              "    </tr>\n",
              "    <tr>\n",
              "      <th>245622</th>\n",
              "      <td>XCAGPM7X</td>\n",
              "      <td>Male</td>\n",
              "      <td>67</td>\n",
              "      <td>RG277</td>\n",
              "      <td>Other</td>\n",
              "      <td>X3</td>\n",
              "      <td>110</td>\n",
              "      <td>Yes</td>\n",
              "      <td>603838</td>\n",
              "      <td>No</td>\n",
              "      <td>1</td>\n",
              "    </tr>\n",
              "    <tr>\n",
              "      <th>245637</th>\n",
              "      <td>NNVMXGU7</td>\n",
              "      <td>Male</td>\n",
              "      <td>69</td>\n",
              "      <td>RG268</td>\n",
              "      <td>Other</td>\n",
              "      <td>X2</td>\n",
              "      <td>33</td>\n",
              "      <td>Yes</td>\n",
              "      <td>529781</td>\n",
              "      <td>No</td>\n",
              "      <td>1</td>\n",
              "    </tr>\n",
              "    <tr>\n",
              "      <th>245693</th>\n",
              "      <td>NUTSCAQY</td>\n",
              "      <td>Female</td>\n",
              "      <td>52</td>\n",
              "      <td>RG273</td>\n",
              "      <td>Other</td>\n",
              "      <td>X3</td>\n",
              "      <td>74</td>\n",
              "      <td>Yes</td>\n",
              "      <td>1122023</td>\n",
              "      <td>Yes</td>\n",
              "      <td>1</td>\n",
              "    </tr>\n",
              "  </tbody>\n",
              "</table>\n",
              "<p>9416 rows × 11 columns</p>\n",
              "</div>\n",
              "      <button class=\"colab-df-convert\" onclick=\"convertToInteractive('df-3e56b525-1f07-4cae-b319-e142f907c209')\"\n",
              "              title=\"Convert this dataframe to an interactive table.\"\n",
              "              style=\"display:none;\">\n",
              "        \n",
              "  <svg xmlns=\"http://www.w3.org/2000/svg\" height=\"24px\"viewBox=\"0 0 24 24\"\n",
              "       width=\"24px\">\n",
              "    <path d=\"M0 0h24v24H0V0z\" fill=\"none\"/>\n",
              "    <path d=\"M18.56 5.44l.94 2.06.94-2.06 2.06-.94-2.06-.94-.94-2.06-.94 2.06-2.06.94zm-11 1L8.5 8.5l.94-2.06 2.06-.94-2.06-.94L8.5 2.5l-.94 2.06-2.06.94zm10 10l.94 2.06.94-2.06 2.06-.94-2.06-.94-.94-2.06-.94 2.06-2.06.94z\"/><path d=\"M17.41 7.96l-1.37-1.37c-.4-.4-.92-.59-1.43-.59-.52 0-1.04.2-1.43.59L10.3 9.45l-7.72 7.72c-.78.78-.78 2.05 0 2.83L4 21.41c.39.39.9.59 1.41.59.51 0 1.02-.2 1.41-.59l7.78-7.78 2.81-2.81c.8-.78.8-2.07 0-2.86zM5.41 20L4 18.59l7.72-7.72 1.47 1.35L5.41 20z\"/>\n",
              "  </svg>\n",
              "      </button>\n",
              "      \n",
              "  <style>\n",
              "    .colab-df-container {\n",
              "      display:flex;\n",
              "      flex-wrap:wrap;\n",
              "      gap: 12px;\n",
              "    }\n",
              "\n",
              "    .colab-df-convert {\n",
              "      background-color: #E8F0FE;\n",
              "      border: none;\n",
              "      border-radius: 50%;\n",
              "      cursor: pointer;\n",
              "      display: none;\n",
              "      fill: #1967D2;\n",
              "      height: 32px;\n",
              "      padding: 0 0 0 0;\n",
              "      width: 32px;\n",
              "    }\n",
              "\n",
              "    .colab-df-convert:hover {\n",
              "      background-color: #E2EBFA;\n",
              "      box-shadow: 0px 1px 2px rgba(60, 64, 67, 0.3), 0px 1px 3px 1px rgba(60, 64, 67, 0.15);\n",
              "      fill: #174EA6;\n",
              "    }\n",
              "\n",
              "    [theme=dark] .colab-df-convert {\n",
              "      background-color: #3B4455;\n",
              "      fill: #D2E3FC;\n",
              "    }\n",
              "\n",
              "    [theme=dark] .colab-df-convert:hover {\n",
              "      background-color: #434B5C;\n",
              "      box-shadow: 0px 1px 3px 1px rgba(0, 0, 0, 0.15);\n",
              "      filter: drop-shadow(0px 1px 2px rgba(0, 0, 0, 0.3));\n",
              "      fill: #FFFFFF;\n",
              "    }\n",
              "  </style>\n",
              "\n",
              "      <script>\n",
              "        const buttonEl =\n",
              "          document.querySelector('#df-3e56b525-1f07-4cae-b319-e142f907c209 button.colab-df-convert');\n",
              "        buttonEl.style.display =\n",
              "          google.colab.kernel.accessAllowed ? 'block' : 'none';\n",
              "\n",
              "        async function convertToInteractive(key) {\n",
              "          const element = document.querySelector('#df-3e56b525-1f07-4cae-b319-e142f907c209');\n",
              "          const dataTable =\n",
              "            await google.colab.kernel.invokeFunction('convertToInteractive',\n",
              "                                                     [key], {});\n",
              "          if (!dataTable) return;\n",
              "\n",
              "          const docLinkHtml = 'Like what you see? Visit the ' +\n",
              "            '<a target=\"_blank\" href=https://colab.research.google.com/notebooks/data_table.ipynb>data table notebook</a>'\n",
              "            + ' to learn more about interactive tables.';\n",
              "          element.innerHTML = '';\n",
              "          dataTable['output_type'] = 'display_data';\n",
              "          await google.colab.output.renderOutput(dataTable, element);\n",
              "          const docLink = document.createElement('div');\n",
              "          docLink.innerHTML = docLinkHtml;\n",
              "          element.appendChild(docLink);\n",
              "        }\n",
              "      </script>\n",
              "    </div>\n",
              "  </div>\n",
              "  "
            ]
          },
          "metadata": {},
          "execution_count": 44
        }
      ]
    },
    {
      "cell_type": "code",
      "source": [
        "target_Occupation = df[df['Is_Lead'] == 1]['Occupation']\n",
        "target_Occupation"
      ],
      "metadata": {
        "colab": {
          "base_uri": "https://localhost:8080/"
        },
        "id": "GqE4ZUlidsQe",
        "outputId": "c3f5e72e-c407-42a6-cd5e-965431798873"
      },
      "execution_count": null,
      "outputs": [
        {
          "output_type": "execute_result",
          "data": {
            "text/plain": [
              "16                Other\n",
              "17                Other\n",
              "20        Self_Employed\n",
              "29        Self_Employed\n",
              "34                Other\n",
              "              ...      \n",
              "245690    Self_Employed\n",
              "245693            Other\n",
              "245697         Salaried\n",
              "245709    Self_Employed\n",
              "245713    Self_Employed\n",
              "Name: Occupation, Length: 33313, dtype: object"
            ]
          },
          "metadata": {},
          "execution_count": 35
        }
      ]
    },
    {
      "cell_type": "code",
      "source": [
        "non_tareget_Occupation = df[df['Is_Lead'] == 0]['Occupation']\n",
        "non_tareget_Occupation"
      ],
      "metadata": {
        "colab": {
          "base_uri": "https://localhost:8080/"
        },
        "id": "Q5ivq-ixemG2",
        "outputId": "8095c44b-5210-4496-ffa7-17afa2c47d74"
      },
      "execution_count": null,
      "outputs": [
        {
          "output_type": "execute_result",
          "data": {
            "text/plain": [
              "0                 Other\n",
              "1              Salaried\n",
              "2         Self_Employed\n",
              "3              Salaried\n",
              "4              Salaried\n",
              "              ...      \n",
              "245719         Salaried\n",
              "245721         Salaried\n",
              "245722         Salaried\n",
              "245723         Salaried\n",
              "245724         Salaried\n",
              "Name: Occupation, Length: 183087, dtype: object"
            ]
          },
          "metadata": {},
          "execution_count": 37
        }
      ]
    },
    {
      "cell_type": "code",
      "source": [
        "plt.subplots(figsize= (15, 7))\n",
        "sns.countplot(x = 'Occupation', hue='Is_Lead', data=df);"
      ],
      "metadata": {
        "id": "dyA6HqpL7tXw"
      },
      "execution_count": null,
      "outputs": []
    },
    {
      "cell_type": "code",
      "source": [],
      "metadata": {
        "colab": {
          "base_uri": "https://localhost:8080/"
        },
        "id": "Lim7npFWdp_l",
        "outputId": "214f79ef-f7ea-46c6-a3aa-2b29284b34e6"
      },
      "execution_count": null,
      "outputs": [
        {
          "output_type": "execute_result",
          "data": {
            "text/plain": [
              "16            Other\n",
              "17            Other\n",
              "20    Self_Employed\n",
              "29    Self_Employed\n",
              "34            Other\n",
              "Name: Occupation, dtype: object"
            ]
          },
          "metadata": {},
          "execution_count": 40
        }
      ]
    }
  ]
}